{
 "metadata": {
  "language_info": {
   "codemirror_mode": {
    "name": "ipython",
    "version": 3
   },
   "file_extension": ".py",
   "mimetype": "text/x-python",
   "name": "python",
   "nbconvert_exporter": "python",
   "pygments_lexer": "ipython3",
   "version": "3.8.5-final"
  },
  "orig_nbformat": 2,
  "kernelspec": {
   "name": "python3",
   "display_name": "Python 3",
   "language": "python"
  }
 },
 "nbformat": 4,
 "nbformat_minor": 2,
 "cells": [
  {
   "cell_type": "code",
   "execution_count": 1,
   "metadata": {},
   "outputs": [
    {
     "output_type": "stream",
     "name": "stdout",
     "text": [
      "['Do', \"n't\", 'be', 'fooled', 'by', 'the', 'dark', 'sounding', 'name', ',', 'Mr.', 'Jone', \"'s\", 'Orphanage', 'is', 'as', 'cheery', 'as', 'cheery', 'goes', 'for', 'a', 'pastry', 'shop', '.']\n"
     ]
    }
   ],
   "source": [
    "from nltk.tokenize import word_tokenize  \n",
    "print(word_tokenize(\"Don't be fooled by the dark sounding name, Mr. Jone's Orphanage is as cheery as cheery goes for a pastry shop.\"))  "
   ]
  },
  {
   "cell_type": "code",
   "execution_count": 6,
   "metadata": {},
   "outputs": [
    {
     "output_type": "stream",
     "name": "stdout",
     "text": [
      "['Definition', '(', '정의', '),', 'Classification', '(', '분류', '),', 'Displacemet', '(', '배기량', '),', 'Management', 'system', '(', '관리제도', '),', 'Electric', 'Motorcycle', '(', '전기', '이륜자동차', '),', 'Motor', '(', '전동기', '),', 'Korea', 'Motor', 'Vehicle', 'safety', 'standards', '(', '자동차', '안전기준에', '관한', '규칙', ')']\n"
     ]
    }
   ],
   "source": [
    "from nltk.tokenize import WordPunctTokenizer  \n",
    "print(WordPunctTokenizer().tokenize(\"Definition(정의),Classification(분류),Displacemet(배기량),Management system(관리제도),Electric Motorcycle(전기 이륜자동차),Motor(전동기),Korea Motor Vehicle safety standards(자동차 안전기준에 관한 규칙)\"))"
   ]
  },
  {
   "cell_type": "code",
   "execution_count": 7,
   "metadata": {},
   "outputs": [
    {
     "output_type": "stream",
     "name": "stdout",
     "text": [
      "['definition', '정의', 'classification', '분류', 'displacemet', '배기량', 'management', 'system', '관리제도', 'electric', 'motorcycle', '전기', '이륜자동차', 'motor', '전동기', 'korea', 'motor', 'vehicle', 'safety', 'standards', '자동차', '안전기준에', '관한', '규칙']\n"
     ]
    }
   ],
   "source": [
    "from tensorflow.keras.preprocessing.text import text_to_word_sequence\n",
    "print(text_to_word_sequence(\"Definition(정의),Classification(분류),Displacemet(배기량),Management system(관리제도),Electric Motorcycle(전기 이륜자동차),Motor(전동기),Korea Motor Vehicle safety standards(자동차 안전기준에 관한 규칙)\"))"
   ]
  },
  {
   "cell_type": "code",
   "execution_count": 7,
   "metadata": {},
   "outputs": [
    {
     "output_type": "stream",
     "name": "stdout",
     "text": [
      "['Do', \"n't\", 'be', 'fooled', 'by', 'the', 'dark', 'sounding', 'name', ',', 'Mr.', 'Jone', \"'s\", 'Orphanage', 'is', 'as', 'cheery', 'as', 'cheery', 'goes', 'for', 'a', 'pastry', 'shop', '.']\n"
     ]
    }
   ],
   "source": [
    "from nltk.tokenize import TreebankWordTokenizer\n",
    "tokenizer=TreebankWordTokenizer()\n",
    "text=\"Don't be fooled by the dark sounding name, Mr. Jone's Orphanage is as cheery as cheery goes for a pastry shop.\"\n",
    "print(tokenizer.tokenize(text))"
   ]
  },
  {
   "cell_type": "code",
   "execution_count": 1,
   "metadata": {},
   "outputs": [
    {
     "output_type": "stream",
     "name": "stdout",
     "text": [
      "['\"Definition(정의),Classification(분류),Displacemet(배기량),Management system(관리제도),Electric Motorcycle(전기 이륜자동차),Motor(전동기),Korea Motor Vehicle safety standards(자동차 안전기준에 관한 규칙)\"']\n"
     ]
    }
   ],
   "source": [
    "import kss\n",
    "text='\"Definition(정의),Classification(분류),Displacemet(배기량),Management system(관리제도),Electric Motorcycle(전기 이륜자동차),Motor(전동기),Korea Motor Vehicle safety standards(자동차 안전기준에 관한 규칙)\"'\n",
    "print(kss.split_sentences(text))"
   ]
  },
  {
   "cell_type": "code",
   "execution_count": 2,
   "metadata": {},
   "outputs": [
    {
     "output_type": "stream",
     "name": "stdout",
     "text": [
      "['Definition', '(', '정의', '),', 'Classification', '(', '분류', '),', 'Displacemet', '(', '배기량', '),', 'Management', 'system', '(', '관리제', '도', '),', 'Electric', 'Motorcycle', '(', '전기', '이륜자동차', '),', 'Motor', '(', '전동기', '),', 'Korea', 'Motor', 'Vehicle', 'safety', 'standards', '(', '자동차', '안전', '기준', '에', '관', '한', '규칙', ')']\n"
     ]
    }
   ],
   "source": [
    "from konlpy.tag import Okt  \n",
    "okt=Okt()  \n",
    "print(okt.morphs(\"Definition(정의),Classification(분류),Displacemet(배기량),Management system(관리제도),Electric Motorcycle(전기 이륜자동차),Motor(전동기),Korea Motor Vehicle safety standards(자동차 안전기준에 관한 규칙)\"))"
   ]
  },
  {
   "cell_type": "code",
   "execution_count": 3,
   "metadata": {},
   "outputs": [
    {
     "output_type": "stream",
     "name": "stdout",
     "text": [
      "[('Definition', 'Alpha'), ('(', 'Punctuation'), ('정의', 'Noun'), ('),', 'Punctuation'), ('Classification', 'Alpha'), ('(', 'Punctuation'), ('분류', 'Noun'), ('),', 'Punctuation'), ('Displacemet', 'Alpha'), ('(', 'Punctuation'), ('배기량', 'Noun'), ('),', 'Punctuation'), ('Management', 'Alpha'), ('system', 'Alpha'), ('(', 'Punctuation'), ('관리제', 'Noun'), ('도', 'Josa'), ('),', 'Punctuation'), ('Electric', 'Alpha'), ('Motorcycle', 'Alpha'), ('(', 'Punctuation'), ('전기', 'Noun'), ('이륜자동차', 'Noun'), ('),', 'Punctuation'), ('Motor', 'Alpha'), ('(', 'Punctuation'), ('전동기', 'Noun'), ('),', 'Punctuation'), ('Korea', 'Alpha'), ('Motor', 'Alpha'), ('Vehicle', 'Alpha'), ('safety', 'Alpha'), ('standards', 'Alpha'), ('(', 'Punctuation'), ('자동차', 'Noun'), ('안전', 'Noun'), ('기준', 'Noun'), ('에', 'Josa'), ('관', 'Noun'), ('한', 'Josa'), ('규칙', 'Noun'), (')', 'Punctuation')]\n"
     ]
    }
   ],
   "source": [
    "print(okt.pos(\"Definition(정의),Classification(분류),Displacemet(배기량),Management system(관리제도),Electric Motorcycle(전기 이륜자동차),Motor(전동기),Korea Motor Vehicle safety standards(자동차 안전기준에 관한 규칙)\"))  "
   ]
  },
  {
   "cell_type": "code",
   "execution_count": 3,
   "metadata": {},
   "outputs": [
    {
     "output_type": "stream",
     "name": "stdout",
     "text": [
      "['Definition', '(', '정의', ')', ',', 'Classification', '(', '분류', ')', ',', 'Displacemet', '(', '배', '기량', ')', ',', 'Management', 'system', '(', '관리', '제도', ')', ',', 'Electric', 'Motorcycle', '(', '전기', '이륜', '자동차', ')', ',', 'Motor', '(', '전동기', ')', ',', 'Korea', 'Motor', 'Vehicle', 'safety', 'standards', '(', '자동차', '안전', '기준', '에', '관하', 'ㄴ', '규칙', ')']\n"
     ]
    }
   ],
   "source": [
    "from konlpy.tag import Kkma  \n",
    "kkma=Kkma()  \n",
    "print(kkma.morphs(\"Definition(정의),Classification(분류),Displacemet(배기량),Management system(관리제도),Electric Motorcycle(전기 이륜자동차),Motor(전동기),Korea Motor Vehicle safety standards(자동차 안전기준에 관한 규칙)\"))"
   ]
  },
  {
   "cell_type": "code",
   "execution_count": 5,
   "metadata": {},
   "outputs": [
    {
     "output_type": "stream",
     "name": "stdout",
     "text": [
      "[('Definition', 'OL'), ('(', 'SS'), ('정의', 'NNG'), (')', 'SS'), (',', 'SP'), ('Classification', 'OL'), ('(', 'SS'), ('분류', 'NNG'), (')', 'SS'), (',', 'SP'), ('Displacemet', 'OL'), ('(', 'SS'), ('배', 'NNG'), ('기량', 'NNG'), (')', 'SS'), (',', 'SP'), ('Management', 'OL'), ('system', 'OL'), ('(', 'SS'), ('관리', 'NNG'), ('제도', 'NNG'), (')', 'SS'), (',', 'SP'), ('Electric', 'OL'), ('Motorcycle', 'OL'), ('(', 'SS'), ('전기', 'NNG'), ('이륜', 'NNG'), ('자동차', 'NNG'), (')', 'SS'), (',', 'SP'), ('Motor', 'OL'), ('(', 'SS'), ('전동기', 'NNG'), (')', 'SS'), (',', 'SP'), ('Korea', 'OL'), ('Motor', 'OL'), ('Vehicle', 'OL'), ('safety', 'OL'), ('standards', 'OL'), ('(', 'SS'), ('자동차', 'NNG'), ('안전', 'NNG'), ('기준', 'NNG'), ('에', 'JKM'), ('관하', 'VV'), ('ㄴ', 'ETD'), ('규칙', 'NNG'), (')', 'SS')]\n"
     ]
    }
   ],
   "source": [
    "print(kkma.pos(\"Definition(정의),Classification(분류),Displacemet(배기량),Management system(관리제도),Electric Motorcycle(전기 이륜자동차),Motor(전동기),Korea Motor Vehicle safety standards(자동차 안전기준에 관한 규칙)\"))  "
   ]
  },
  {
   "cell_type": "code",
   "execution_count": 1,
   "metadata": {},
   "outputs": [],
   "source": [
    "import MeCab\n",
    "m = MeCab.Tagger()"
   ]
  },
  {
   "cell_type": "code",
   "execution_count": 7,
   "metadata": {},
   "outputs": [
    {
     "output_type": "execute_result",
     "data": {
      "text/plain": [
       "'Definition\\tSL,*,*,*,*,*,*,*'"
      ]
     },
     "metadata": {},
     "execution_count": 7
    }
   ],
   "source": [
    "result = m.parse(\"Definition(정의),Classification(분류),Displacemet(배기량),Management system(관리제도),Electric Motorcycle(전기 이륜자동차),Motor(전동기),Korea Motor Vehicle safety standards(자동차 안전기준에 관한 규칙)\")\n",
    "\n",
    "result.split(\"\\n\")[0]"
   ]
  },
  {
   "cell_type": "code",
   "execution_count": 10,
   "metadata": {},
   "outputs": [],
   "source": []
  },
  {
   "cell_type": "code",
   "execution_count": 11,
   "metadata": {},
   "outputs": [],
   "source": []
  },
  {
   "cell_type": "code",
   "execution_count": 2,
   "metadata": {},
   "outputs": [
    {
     "output_type": "execute_result",
     "data": {
      "text/plain": [
       "'definition 정의  classification 분류  displacemet 배기량  management system 관리제도  electric motorcycle 전기 이륜자동차  motor 전동기  korea motor vehicle safety standards 자동차 안전기준에 관한 규칙 '"
      ]
     },
     "metadata": {},
     "execution_count": 2
    }
   ],
   "source": [
    "subjects = \"Definition(정의),Classification(분류),Displacemet(배기량),Management system(관리제도),Electric Motorcycle(전기 이륜자동차),Motor(전동기),Korea Motor Vehicle safety standards(자동차 안전기준에 관한 규칙)\"\n",
    "\n",
    "subjects = subjects.replace(\"(\", \" \").replace(\")\", \" \").replace(\",\", \" \").lower()\n",
    "subjects"
   ]
  },
  {
   "cell_type": "code",
   "execution_count": 10,
   "metadata": {},
   "outputs": [
    {
     "output_type": "execute_result",
     "data": {
      "text/plain": [
       "['정',\n",
       " '의',\n",
       " '분',\n",
       " '류',\n",
       " '배',\n",
       " '기',\n",
       " '량',\n",
       " '관',\n",
       " '리',\n",
       " '제',\n",
       " '도',\n",
       " '전',\n",
       " '기',\n",
       " '이',\n",
       " '륜',\n",
       " '자',\n",
       " '동',\n",
       " '차',\n",
       " '전',\n",
       " '동',\n",
       " '기',\n",
       " '자',\n",
       " '동',\n",
       " '차',\n",
       " '안',\n",
       " '전',\n",
       " '기',\n",
       " '준',\n",
       " '에',\n",
       " '관',\n",
       " '한',\n",
       " '규',\n",
       " '칙']"
      ]
     },
     "metadata": {},
     "execution_count": 10
    }
   ],
   "source": [
    "import regex\n",
    "\n",
    "regex.findall(r'[\\p{Hangul}]', subjects)"
   ]
  },
  {
   "cell_type": "code",
   "execution_count": 19,
   "metadata": {},
   "outputs": [
    {
     "output_type": "execute_result",
     "data": {
      "text/plain": [
       "[('definition', 'F'),\n",
       " ('정', 'N'),\n",
       " ('의', 'J'),\n",
       " ('classification', 'F'),\n",
       " ('분류', 'N'),\n",
       " ('displacemet', 'F'),\n",
       " ('배기량', 'N'),\n",
       " ('management', 'F'),\n",
       " ('system', 'F'),\n",
       " ('관리제도', 'N'),\n",
       " ('electric', 'F'),\n",
       " ('motorcycle', 'F'),\n",
       " ('전기', 'N'),\n",
       " ('이륜자동차', 'N'),\n",
       " ('motor', 'F'),\n",
       " ('전동기', 'N'),\n",
       " ('korea', 'F'),\n",
       " ('motor', 'F'),\n",
       " ('vehicle', 'F'),\n",
       " ('safety', 'F'),\n",
       " ('standards', 'F'),\n",
       " ('자동차', 'N'),\n",
       " ('안전기준', 'N'),\n",
       " ('에', 'J'),\n",
       " ('관하', 'P'),\n",
       " ('ㄴ', 'E'),\n",
       " ('규칙', 'N')]"
      ]
     },
     "metadata": {},
     "execution_count": 19
    }
   ],
   "source": [
    "from konlpy.tag import Hannanum  \n",
    "han = Hannanum()\n",
    "#han.morphs(subjects)\n",
    "han.pos(subjects)"
   ]
  },
  {
   "cell_type": "code",
   "execution_count": 23,
   "metadata": {},
   "outputs": [
    {
     "output_type": "execute_result",
     "data": {
      "text/plain": [
       "[('환경', 'NNG'),\n",
       " ('문제', 'NNG'),\n",
       " ('에', 'JKM'),\n",
       " ('따르', 'VV'),\n",
       " ('ㄴ', 'ETD'),\n",
       " ('배기가스', 'NNG'),\n",
       " ('배출', 'NNG'),\n",
       " ('저감', 'NNG'),\n",
       " ('및', 'MAG'),\n",
       " ('자원', 'NNG'),\n",
       " ('고갈', 'NNG'),\n",
       " ('에', 'JKM'),\n",
       " ('따르', 'VV'),\n",
       " ('ㄴ', 'ETD'),\n",
       " ('대안', 'NNG'),\n",
       " ('으로', 'JKM'),\n",
       " ('향후', 'NNG'),\n",
       " ('수소', 'NNG'),\n",
       " ('연료', 'NNG'),\n",
       " ('전지', 'NNG'),\n",
       " ('자동차', 'NNG'),\n",
       " ('의', 'JKG'),\n",
       " ('본격적', 'NNG'),\n",
       " ('이', 'VCP'),\n",
       " ('ㄴ', 'ETD'),\n",
       " ('시장', 'NNG'),\n",
       " ('진입', 'NNG'),\n",
       " ('이', 'JKS'),\n",
       " ('예상', 'NNG'),\n",
       " ('되', 'XSV'),\n",
       " ('고', 'ECE'),\n",
       " ('있', 'VXV'),\n",
       " ('다', 'EFN'),\n",
       " ('.', 'SF')]"
      ]
     },
     "metadata": {},
     "execution_count": 23
    }
   ],
   "source": [
    "from konlpy.tag import Kkma  \n",
    "\n",
    "text = \"환경문제에 따른 배기가스 배출저감 및 자원고갈에 따른 대안으로 향후 수소 연료전지 자동차의 본격적인 시장진입이 예상되고 있다.\"\n",
    "\n",
    "kkma=Kkma() \n",
    "kkma.pos(text)\n"
   ]
  },
  {
   "cell_type": "code",
   "execution_count": 15,
   "metadata": {},
   "outputs": [],
   "source": [
    "from pykospacing import spacing"
   ]
  },
  {
   "cell_type": "code",
   "execution_count": 16,
   "metadata": {},
   "outputs": [],
   "source": [
    "abstracts = spacing(\"환경문제에 따른 배기가스 배출저감 및 자원고갈에 따른 대안으로 향후 수소 연료전지 자동차의 본격적인 시장진입이 예상되고 있다. 자동차 제작사 및 세계 각국의 정부 등은 수소 연료 전지 자동차가 기존의 내연기관 자동차와 동등 이상의 안전성을 확보할 수 있는 부품기술, 자동차 제작기술 및 이와 관련된 안전기준을 개발하기 위하여 많은 노력을 기울이고 있다. 독일과 미국은 이미 수소 연료전지 자동차에 관한 안전기준을 제정한 일본과 협력하여 세계기술기준(GTR)을 제정하고자 시도하고 있으며, 우리나라도 이러한 주변 상황에 대응하기 위하여 수소ㆍ연료전지 자동차의 안전성 평가기술 개발에 관한 5개년 연구 과제를 2007년말부터 착수하였다. 이 연구는 수소 연료전지 자동차에 관한 제도 및 정책 연구, 수소 안전성 기술, 수소 연료전지 자동차 운행 안전성 기술 및 전기 안전성 기술에 관한 연구를 망라하고 있으며, 안전기준 및 안전성 평가기술을 개발하여 수소 연료전지 자동차관리정책에 반영하는 것을 목표로 하고 있다. 수소 연료전지 자동차 및 수소저장탱크를 포함한 연료시스템의 충돌 및 화재안전성에 관한 평가방법 및 안전기준 등을 도출하기 위해서는 정면/측면/후면충돌 및 전복 등과 같은 다양한 환경에서 실차시험을 수행하고, 이로부터 도출된 실제 결과를 반영하여야 할 것이지만, 수소 연료전지 자동차를 제작하는 비용이 매우 고가이므로 충돌시험으로부터 구할 수 있는 실제 데이터는 상대적으로 많은 제한이 있을 것으로 예상되고 있다. 이러한 점을 극복할 수 있도록 충분한 검토가 이루어져야 하며, 이에 따른 방안도 수립될 수 있어야 할 것으로 판단된다.\")"
   ]
  },
  {
   "cell_type": "code",
   "execution_count": 18,
   "metadata": {},
   "outputs": [
    {
     "output_type": "stream",
     "name": "stdout",
     "text": [
      "6\n<class 'list'>\n-환경문제에 따른 배기가스 배출 저감 및 자원 고갈에 따른 대안으로 향후 수소 연료전지 자동차의 본격적인 시장 진입이 예상되고 있다.\n-자동차 제작사 및 세계 각국의 정부 등은 수소 연료 전지 자동차가 기존의 내 연기관 자동차와 동 등 이상의 안전성을 확보할 수 있는 부품 기술, 자동차 제작 기술 및 이와 관련된 안전 기준을 개발하기 위하여 많은 노력을 기울이고 있다.\n-독일과 미국은 이미 수소 연료전지 자동차에 관한 안전 기준을 제정한 일본과 협력하여 세계기술기준(GTR)을 제정하고자 시도 하고 있으며, 우리나라도 이러한 주변 상황에 대응하기 위하여 수소ㆍ 연료전지 자동차의 안전성 평가기술 개발에 관한 5개년 연구 과제를 2007년 말부터 착수하였다.\n-이 연구는 수소 연료전지 자동차에 관한 제도 및 정책 연구, 수소 안전성  기술, 수소 연료전지 자동차 운행 안전성 기술 및 전기 안전성 기술에 관한 연구를 망라하고 있으며, 안전 기준 및 안전성 평가기술을 개발하여 수소 연료전지 자동차관리 정책에 반영하는 것을 목표로 하고 있다.\n-수소 연료전지 자동차 및 수소저장탱크를 포함한 연료시스템의 충돌 및 화재안전성에 관한 평가 방법 및 안전기준 등을 도 출하기 위해서는 정면/측면/후면 충돌  및 전복 등과 같은 다양한 환경에서 실차시험을 수행하고, 이로부터 도출된 실제 결과를 반영하여야 할 것이지만, 수소 연료전지 자동차를 제작하는 비용이 매우 고가이므로 충돌 시험으로부터 구할 수 있는 실제 데이터는 상대적으로 많은 제한이 있을 것으로 예상되고 있다.\n-이러한 점을 극복할 수 있도록 충분한 검토가 이루어져야 하며, 이에 따른 방안도 수립될 수  있어야 할 것으로 판단된다.\n"
     ]
    }
   ],
   "source": [
    "import kss\n",
    "sentences = kss.split_sentences(abstracts)\n",
    "\n",
    "print(len(sentences))\n",
    "print(type(sentences))\n",
    "\n",
    "for sentence in sentences:\n",
    "    print(\"-\" + sentence)"
   ]
  },
  {
   "cell_type": "code",
   "execution_count": 11,
   "metadata": {},
   "outputs": [],
   "source": [
    "#초록이 없는 경우 제모으로 대체#https://cleancode-ws.tistory.com/97\n",
    "#https://github.com/Pusnow/mecab-ko-dic-msvc/blob/master/user-dic/README.md\n",
    "import MeCab\n",
    "m = MeCab.Tagger()\n",
    "\n",
    "out = m.parse(\"Definition(정의),Classification(분류),Displacemet(배기량),Management system(관리제도),Electric Motorcycle(전기 이륜자동차),Motor(전동기),Korea Motor Vehicle safety standards(자동차 안전기준에 관한 규칙)\")"
   ]
  },
  {
   "cell_type": "code",
   "execution_count": null,
   "metadata": {},
   "outputs": [],
   "source": [
    "import jpype\n",
    "\n",
    "# User parameters\n",
    "model_path='./analizer/models'\n",
    "library_directory = './analizer/libs'\n",
    "max_memory=1024\n",
    "\n",
    "# Library paths\n",
    "libraries = [\n",
    "    '{}/jhannanum.jar',\n",
    "]\n",
    "\n",
    "# classs path and jvm path\n",
    "classpath = os.pathsep.join([lib.format(library_directory) for lib in libraries])\n",
    "jvmpath = jpype.getDefaultJVMPath()\n",
    "\n",
    "# Running JVM\n",
    "jpype.startJVM(\n",
    "    jvmpath,\n",
    "    '-Djava.class.path=%s' % classpath,\n",
    "    '-Dfile.encoding=UTF8',\n",
    "    '-ea', '-Xmx{}m'.format(max_memory)\n",
    ")"
   ]
  }
 ]
}