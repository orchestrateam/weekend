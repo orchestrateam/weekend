{
 "metadata": {
  "language_info": {
   "codemirror_mode": {
    "name": "ipython",
    "version": 3
   },
   "file_extension": ".py",
   "mimetype": "text/x-python",
   "name": "python",
   "nbconvert_exporter": "python",
   "pygments_lexer": "ipython3",
   "version": "3.8.5-final"
  },
  "orig_nbformat": 2,
  "kernelspec": {
   "name": "python3",
   "display_name": "Python 3",
   "language": "python"
  }
 },
 "nbformat": 4,
 "nbformat_minor": 2,
 "cells": [
  {
   "source": [
    "### 0. 필요한 라이브러리 Import"
   ],
   "cell_type": "markdown",
   "metadata": {}
  },
  {
   "cell_type": "code",
   "execution_count": 1,
   "metadata": {},
   "outputs": [],
   "source": [
    "import os\n",
    "import pandas as pd\n",
    "import pandas_profiling\n",
    "import matplotlib\n",
    "import matplotlib.pyplot as plt\n",
    "import numpy as np\n",
    "from gensim.models.word2vec import Word2Vec\n",
    "import nltk\n",
    "\n",
    "from sklearn.feature_extraction.text import TfidfVectorizer, CountVectorizer\n",
    "from sklearn.metrics.pairwise import linear_kernel, cosine_similarity\n",
    "\n",
    "import kss\n",
    "#from konlpy.tag import Kkma  \n",
    "from konlpy.tag import Twitter\n",
    "from eunjeon import Mecab\n",
    "from konlpy.tag import Okt\n",
    "\n",
    "# %appdata%\\nltk_data\\corpora\\stopwords\n",
    "# korean 파일을 생성하여 복사함\n",
    "from nltk.corpus import stopwords \n",
    "from nltk.tokenize import word_tokenize \n",
    "\n",
    "np.random.seed(42)\n",
    "\n",
    "twitter = Twitter()\n",
    "#kkma = Kkma()\n",
    "mecab = Mecab('/usr/local/etc/mecabrc')\n",
    "okt = Okt()\n",
    "\n",
    "\n",
    "# 한글출력\n",
    "matplotlib.rc('font', family='AppleGothic')  # MacOS\n",
    "#matplotlib.rc('font', family='Malgun Gothic')  # Windows\n",
    "plt.rcParams['axes.unicode_minus'] = False"
   ]
  },
  {
   "source": [
    "### 1. 통합된 원본 데이터 파일을 읽어온다"
   ],
   "cell_type": "markdown",
   "metadata": {}
  },
  {
   "cell_type": "code",
   "execution_count": 2,
   "metadata": {},
   "outputs": [
    {
     "output_type": "stream",
     "name": "stdout",
     "text": [
      "(50568, 21)\n",
      "<class 'pandas.core.frame.DataFrame'>\n",
      "RangeIndex: 50568 entries, 0 to 50567\n",
      "Data columns (total 21 columns):\n",
      " #   Column                          Non-Null Count  Dtype  \n",
      "---  ------                          --------------  -----  \n",
      " 0   제목                              50568 non-null  object \n",
      " 1   저자                              50568 non-null  object \n",
      " 2   발행기관                            50568 non-null  object \n",
      " 3   학술지명                            50568 non-null  object \n",
      " 4   권호사항                            50568 non-null  object \n",
      " 5   발행연도                            50568 non-null  int64  \n",
      " 6   작성언어                            50568 non-null  object \n",
      " 7   주제어                             26933 non-null  object \n",
      " 8   KDC                             11761 non-null  float64\n",
      " 9   등재정보                            13083 non-null  object \n",
      " 10  자료형태                            50568 non-null  object \n",
      " 11  발행기관 URL                        22715 non-null  object \n",
      " 12  수록면                             50568 non-null  object \n",
      " 13  KCI 피인용횟수                       9042 non-null   float64\n",
      " 14  비고                              0 non-null      float64\n",
      " 15  중단사유                            180 non-null    object \n",
      " 16  제공처                             50453 non-null  object \n",
      " 17  소장기관                            10783 non-null  object \n",
      " 18  국문 초록 (Abstract)                10447 non-null  object \n",
      " 19  다국어 초록 (Multilingual Abstract)  25062 non-null  object \n",
      " 20  목차                              28402 non-null  object \n",
      "dtypes: float64(3), int64(1), object(17)\n",
      "memory usage: 8.1+ MB\n",
      "None\n"
     ]
    }
   ],
   "source": [
    "\n",
    "ROOT_DIR = path.dirname(__file__) if \"__file__\" in locals() else os.getcwd()\n",
    "dataset = pd.read_csv(os.path.join(ROOT_DIR, \"dataset/one.csv\"))\n",
    "\n",
    "print(dataset.shape)\n",
    "print(dataset.info())"
   ]
  },
  {
   "cell_type": "code",
   "execution_count": 3,
   "metadata": {},
   "outputs": [
    {
     "output_type": "execute_result",
     "data": {
      "text/plain": [
       "                                                  제목  \\\n",
       "0                       전기 이륜자동차 분류기준 현황 : 자동차관리법 중심   \n",
       "1             자동차 사회의 환경과 에너지 문제 = 자동차 엔진 기술의 역사적 동향   \n",
       "2  수소 연료전지 자동차의 충돌 및 화재안전성 관련 연구동향 = Trends on Cr...   \n",
       "3  차세대 자동차 개발의 Plastic Hood 설계 및 CAE해석 = Plastic ...   \n",
       "4  자동차 산업의 역사와 급변하는 기술에 대응한 교육의 바람직한 방향에 관한 연구 = ...   \n",
       "\n",
       "                                                  저자      발행기관  \\\n",
       "0                                                정윤재  한국자동차공학회   \n",
       "1                                  김영길(Yong Kil Kim)  한국자동차공학회   \n",
       "2  임재문(Jae Moon Lim),장형진(Hyung Jin Chang),김규현(Gyu...  한국자동차공학회   \n",
       "3  황태원(Taewon Hwang),최치훈(Chihoon Choi),박상선(Sangsu...  한국자동차공학회   \n",
       "4                                황경수(Kyungsoo Whang)  한국자동차공학회   \n",
       "\n",
       "                     학술지명                     권호사항  발행연도    작성언어  \\\n",
       "0       한국자동차공학회 Workshop   Vol.2011No.9[2011]\\r\\n  2011  Korean   \n",
       "1     한국자동차공학회 학술대회 및 전시회  Vol.2014No.11[2014]\\r\\n  2014  Korean   \n",
       "2  한국자동차공학회 춘 추계 학술대회 논문집      Vol.-No.-[2008]\\r\\n  2008  Korean   \n",
       "3  한국자동차공학회 춘 추계 학술대회 논문집      Vol.-No.-[2006]\\r\\n  2006  Korean   \n",
       "4       한국자동차공학회 Workshop   Vol.2001No.-[2001]\\r\\n  2001  Korean   \n",
       "\n",
       "                                                 주제어    KDC 등재정보  ...  \\\n",
       "0                                                NaN  556.0  NaN  ...   \n",
       "1  Internal Combustion Engine(내연기관),Energy (에너지),...    NaN  NaN  ...   \n",
       "2  Hydrogen Fuel Cell Vehicle(수소 연료전지 자동차),Crash ...    NaN  NaN  ...   \n",
       "3  HOOD(본넷트),Distance(이동량),LS-DYNA(구조해석),MOLDFLOW...    NaN  NaN  ...   \n",
       "4                                                NaN    NaN  NaN  ...   \n",
       "\n",
       "              발행기관 URL        수록면 KCI 피인용횟수  비고  중단사유     제공처 소장기관  \\\n",
       "0  http://www.ksae.org       1-14       NaN NaN   NaN   DBpia  NaN   \n",
       "1                  NaN  1477-1477       NaN NaN   NaN   DBpia  NaN   \n",
       "2  http://www.ksae.org  1253-1258       NaN NaN   NaN   DBpia  NaN   \n",
       "3  http://www.ksae.org  2032-2032       NaN NaN   NaN   DBpia  NaN   \n",
       "4  http://www.ksae.org      70-80       NaN NaN   NaN   DBpia  NaN   \n",
       "\n",
       "                                    국문 초록 (Abstract)  \\\n",
       "0                                                NaN   \n",
       "1                                                NaN   \n",
       "2  환경문제에 따른 배기가스 배출저감 및 자원고갈에 따른 대안으로 향후 수소 연료전지 ...   \n",
       "3  현재 생활 필수품 중의 하나인 자동차논 많은 변화를 보이고 있다. 발전사를 살펴보면...   \n",
       "4  오늘날 급속히 변화하고 있는 자동차 기술에 대응한 자동차 기술교육의 방법을 모색하여...   \n",
       "\n",
       "                      다국어 초록 (Multilingual Abstract)  \\\n",
       "0                                                NaN   \n",
       "1                                                NaN   \n",
       "2  The researches on the crash and the fire safet...   \n",
       "3                                                NaN   \n",
       "4                                                NaN   \n",
       "\n",
       "                                                  목차  \n",
       "0                                                NaN  \n",
       "1                                                NaN  \n",
       "2  Abstract\\n1. 서론\\n2. 수소의 특성\\n3. 충돌 및 화재안전성 관련 연...  \n",
       "3                                                NaN  \n",
       "4  초록<br/>\\n1.서론<br/>\\n2.국내 자동차기술교육의 역사<br/>\\n3.민...  \n",
       "\n",
       "[5 rows x 21 columns]"
      ],
      "text/html": "<div>\n<style scoped>\n    .dataframe tbody tr th:only-of-type {\n        vertical-align: middle;\n    }\n\n    .dataframe tbody tr th {\n        vertical-align: top;\n    }\n\n    .dataframe thead th {\n        text-align: right;\n    }\n</style>\n<table border=\"1\" class=\"dataframe\">\n  <thead>\n    <tr style=\"text-align: right;\">\n      <th></th>\n      <th>제목</th>\n      <th>저자</th>\n      <th>발행기관</th>\n      <th>학술지명</th>\n      <th>권호사항</th>\n      <th>발행연도</th>\n      <th>작성언어</th>\n      <th>주제어</th>\n      <th>KDC</th>\n      <th>등재정보</th>\n      <th>...</th>\n      <th>발행기관 URL</th>\n      <th>수록면</th>\n      <th>KCI 피인용횟수</th>\n      <th>비고</th>\n      <th>중단사유</th>\n      <th>제공처</th>\n      <th>소장기관</th>\n      <th>국문 초록 (Abstract)</th>\n      <th>다국어 초록 (Multilingual Abstract)</th>\n      <th>목차</th>\n    </tr>\n  </thead>\n  <tbody>\n    <tr>\n      <th>0</th>\n      <td>전기 이륜자동차 분류기준 현황 : 자동차관리법 중심</td>\n      <td>정윤재</td>\n      <td>한국자동차공학회</td>\n      <td>한국자동차공학회 Workshop</td>\n      <td>Vol.2011No.9[2011]\\r\\n</td>\n      <td>2011</td>\n      <td>Korean</td>\n      <td>NaN</td>\n      <td>556.0</td>\n      <td>NaN</td>\n      <td>...</td>\n      <td>http://www.ksae.org</td>\n      <td>1-14</td>\n      <td>NaN</td>\n      <td>NaN</td>\n      <td>NaN</td>\n      <td>DBpia</td>\n      <td>NaN</td>\n      <td>NaN</td>\n      <td>NaN</td>\n      <td>NaN</td>\n    </tr>\n    <tr>\n      <th>1</th>\n      <td>자동차 사회의 환경과 에너지 문제 = 자동차 엔진 기술의 역사적 동향</td>\n      <td>김영길(Yong Kil Kim)</td>\n      <td>한국자동차공학회</td>\n      <td>한국자동차공학회 학술대회 및 전시회</td>\n      <td>Vol.2014No.11[2014]\\r\\n</td>\n      <td>2014</td>\n      <td>Korean</td>\n      <td>Internal Combustion Engine(내연기관),Energy (에너지),...</td>\n      <td>NaN</td>\n      <td>NaN</td>\n      <td>...</td>\n      <td>NaN</td>\n      <td>1477-1477</td>\n      <td>NaN</td>\n      <td>NaN</td>\n      <td>NaN</td>\n      <td>DBpia</td>\n      <td>NaN</td>\n      <td>NaN</td>\n      <td>NaN</td>\n      <td>NaN</td>\n    </tr>\n    <tr>\n      <th>2</th>\n      <td>수소 연료전지 자동차의 충돌 및 화재안전성 관련 연구동향 = Trends on Cr...</td>\n      <td>임재문(Jae Moon Lim),장형진(Hyung Jin Chang),김규현(Gyu...</td>\n      <td>한국자동차공학회</td>\n      <td>한국자동차공학회 춘 추계 학술대회 논문집</td>\n      <td>Vol.-No.-[2008]\\r\\n</td>\n      <td>2008</td>\n      <td>Korean</td>\n      <td>Hydrogen Fuel Cell Vehicle(수소 연료전지 자동차),Crash ...</td>\n      <td>NaN</td>\n      <td>NaN</td>\n      <td>...</td>\n      <td>http://www.ksae.org</td>\n      <td>1253-1258</td>\n      <td>NaN</td>\n      <td>NaN</td>\n      <td>NaN</td>\n      <td>DBpia</td>\n      <td>NaN</td>\n      <td>환경문제에 따른 배기가스 배출저감 및 자원고갈에 따른 대안으로 향후 수소 연료전지 ...</td>\n      <td>The researches on the crash and the fire safet...</td>\n      <td>Abstract\\n1. 서론\\n2. 수소의 특성\\n3. 충돌 및 화재안전성 관련 연...</td>\n    </tr>\n    <tr>\n      <th>3</th>\n      <td>차세대 자동차 개발의 Plastic Hood 설계 및 CAE해석 = Plastic ...</td>\n      <td>황태원(Taewon Hwang),최치훈(Chihoon Choi),박상선(Sangsu...</td>\n      <td>한국자동차공학회</td>\n      <td>한국자동차공학회 춘 추계 학술대회 논문집</td>\n      <td>Vol.-No.-[2006]\\r\\n</td>\n      <td>2006</td>\n      <td>Korean</td>\n      <td>HOOD(본넷트),Distance(이동량),LS-DYNA(구조해석),MOLDFLOW...</td>\n      <td>NaN</td>\n      <td>NaN</td>\n      <td>...</td>\n      <td>http://www.ksae.org</td>\n      <td>2032-2032</td>\n      <td>NaN</td>\n      <td>NaN</td>\n      <td>NaN</td>\n      <td>DBpia</td>\n      <td>NaN</td>\n      <td>현재 생활 필수품 중의 하나인 자동차논 많은 변화를 보이고 있다. 발전사를 살펴보면...</td>\n      <td>NaN</td>\n      <td>NaN</td>\n    </tr>\n    <tr>\n      <th>4</th>\n      <td>자동차 산업의 역사와 급변하는 기술에 대응한 교육의 바람직한 방향에 관한 연구 = ...</td>\n      <td>황경수(Kyungsoo Whang)</td>\n      <td>한국자동차공학회</td>\n      <td>한국자동차공학회 Workshop</td>\n      <td>Vol.2001No.-[2001]\\r\\n</td>\n      <td>2001</td>\n      <td>Korean</td>\n      <td>NaN</td>\n      <td>NaN</td>\n      <td>NaN</td>\n      <td>...</td>\n      <td>http://www.ksae.org</td>\n      <td>70-80</td>\n      <td>NaN</td>\n      <td>NaN</td>\n      <td>NaN</td>\n      <td>DBpia</td>\n      <td>NaN</td>\n      <td>오늘날 급속히 변화하고 있는 자동차 기술에 대응한 자동차 기술교육의 방법을 모색하여...</td>\n      <td>NaN</td>\n      <td>초록&lt;br/&gt;\\n1.서론&lt;br/&gt;\\n2.국내 자동차기술교육의 역사&lt;br/&gt;\\n3.민...</td>\n    </tr>\n  </tbody>\n</table>\n<p>5 rows × 21 columns</p>\n</div>"
     },
     "metadata": {},
     "execution_count": 3
    }
   ],
   "source": [
    "dataset.head()"
   ]
  },
  {
   "cell_type": "code",
   "execution_count": 4,
   "metadata": {},
   "outputs": [],
   "source": [
    "#word2vec 실습 - 대상 초록\n",
    "train_data = dataset.loc[:, \"국문 초록 (Abstract)\"]"
   ]
  },
  {
   "cell_type": "code",
   "execution_count": 5,
   "metadata": {},
   "outputs": [
    {
     "output_type": "stream",
     "name": "stdout",
     "text": [
      "True\n50568\n"
     ]
    }
   ],
   "source": [
    "print(train_data.isnull().values.any())\n",
    "print(len(train_data))"
   ]
  },
  {
   "cell_type": "code",
   "execution_count": 6,
   "metadata": {},
   "outputs": [],
   "source": [
    "train_data = train_data.dropna(how= 'any')"
   ]
  },
  {
   "cell_type": "code",
   "execution_count": 7,
   "metadata": {},
   "outputs": [],
   "source": [
    "#한글외 모두 제거\n",
    "train_data = train_data.str.replace(\"[^ㄱ-ㅎㅏ-ㅣ가-힣] \", \"\")"
   ]
  },
  {
   "cell_type": "code",
   "execution_count": 8,
   "metadata": {},
   "outputs": [
    {
     "output_type": "execute_result",
     "data": {
      "text/plain": [
       "2    환경문제에 따른 배기가스 배출저감 및 자원고갈에 따른 대안으로 향후 수소 연료전지 ...\n",
       "3    현재 생활 필수품 중의 하나인 자동차논 많은 변화를 보이고 있다발전사를 살펴보면 무...\n",
       "4    오늘날 급속히 변화하고 있는 자동차 기술에 대응한 자동차 기술교육의 방법을 모색하여...\n",
       "5    미래형 자동차 기술개발의 목표는 운전자의 안전과 편의성을 극대화 하는 지능형 자동차...\n",
       "6    날로 심각해지는 공기오염과 화석연료의 한계성에 비추어 볼때 전기자동차의 개발은 필연...\n",
       "Name: 국문 초록 (Abstract), dtype: object"
      ]
     },
     "metadata": {},
     "execution_count": 8
    }
   ],
   "source": [
    "train_data[:5]"
   ]
  },
  {
   "cell_type": "code",
   "execution_count": 9,
   "metadata": {},
   "outputs": [
    {
     "output_type": "stream",
     "name": "stderr",
     "text": [
      "[nltk_data] Downloading package stopwords to\n",
      "[nltk_data]     /Users/mingyeseon/nltk_data...\n",
      "[nltk_data]   Unzipping corpora/stopwords.zip.\n"
     ]
    },
    {
     "output_type": "execute_result",
     "data": {
      "text/plain": [
       "True"
      ]
     },
     "metadata": {},
     "execution_count": 9
    }
   ],
   "source": [
    "nltk.download('stopwords')"
   ]
  },
  {
   "cell_type": "code",
   "execution_count": 10,
   "metadata": {},
   "outputs": [],
   "source": [
    "stop_words_kor = stopwords.words('korean')"
   ]
  },
  {
   "cell_type": "code",
   "execution_count": 11,
   "metadata": {},
   "outputs": [],
   "source": [
    "tokenized_data = []\n",
    "for abstract in train_data :\n",
    "    temp_X = mecab.morphs(abstract)\n",
    "    temp_X = [word for word in temp_X if not word in stop_words_kor]\n",
    "    tokenized_data.append(temp_X)"
   ]
  },
  {
   "cell_type": "code",
   "execution_count": 12,
   "metadata": {},
   "outputs": [
    {
     "output_type": "stream",
     "name": "stdout",
     "text": [
      "초록의 최대 길이: 6352\n초록의 평균 길이: 209.612424619508\n"
     ]
    },
    {
     "output_type": "display_data",
     "data": {
      "text/plain": "<Figure size 432x288 with 1 Axes>",
      "image/svg+xml": "<?xml version=\"1.0\" encoding=\"utf-8\" standalone=\"no\"?>\n<!DOCTYPE svg PUBLIC \"-//W3C//DTD SVG 1.1//EN\"\n  \"http://www.w3.org/Graphics/SVG/1.1/DTD/svg11.dtd\">\n<!-- Created with matplotlib (https://matplotlib.org/) -->\n<svg height=\"261.961875pt\" version=\"1.1\" viewBox=\"0 0 396.960938 261.961875\" width=\"396.960938pt\" xmlns=\"http://www.w3.org/2000/svg\" xmlns:xlink=\"http://www.w3.org/1999/xlink\">\n <metadata>\n  <rdf:RDF xmlns:cc=\"http://creativecommons.org/ns#\" xmlns:dc=\"http://purl.org/dc/elements/1.1/\" xmlns:rdf=\"http://www.w3.org/1999/02/22-rdf-syntax-ns#\">\n   <cc:Work>\n    <dc:type rdf:resource=\"http://purl.org/dc/dcmitype/StillImage\"/>\n    <dc:date>2021-01-02T16:39:03.670404</dc:date>\n    <dc:format>image/svg+xml</dc:format>\n    <dc:creator>\n     <cc:Agent>\n      <dc:title>Matplotlib v3.3.2, https://matplotlib.org/</dc:title>\n     </cc:Agent>\n    </dc:creator>\n   </cc:Work>\n  </rdf:RDF>\n </metadata>\n <defs>\n  <style type=\"text/css\">*{stroke-linecap:butt;stroke-linejoin:round;}</style>\n </defs>\n <g id=\"figure_1\">\n  <g id=\"patch_1\">\n   <path d=\"M -0 261.961875 \nL 396.960938 261.961875 \nL 396.960938 0 \nL -0 0 \nz\n\" style=\"fill:none;\"/>\n  </g>\n  <g id=\"axes_1\">\n   <g id=\"patch_2\">\n    <path d=\"M 54.960938 224.64 \nL 389.760938 224.64 \nL 389.760938 7.2 \nL 54.960938 7.2 \nz\n\" style=\"fill:#ffffff;\"/>\n   </g>\n   <g id=\"patch_3\">\n    <path clip-path=\"url(#p7fb366adfb)\" d=\"M 70.179119 224.64 \nL 76.266392 224.64 \nL 76.266392 103.42004 \nL 70.179119 103.42004 \nz\n\" style=\"fill:#1f77b4;\"/>\n   </g>\n   <g id=\"patch_4\">\n    <path clip-path=\"url(#p7fb366adfb)\" d=\"M 76.266392 224.64 \nL 82.353665 224.64 \nL 82.353665 17.554286 \nL 76.266392 17.554286 \nz\n\" style=\"fill:#1f77b4;\"/>\n   </g>\n   <g id=\"patch_5\">\n    <path clip-path=\"url(#p7fb366adfb)\" d=\"M 82.353665 224.64 \nL 88.440938 224.64 \nL 88.440938 177.849948 \nL 82.353665 177.849948 \nz\n\" style=\"fill:#1f77b4;\"/>\n   </g>\n   <g id=\"patch_6\">\n    <path clip-path=\"url(#p7fb366adfb)\" d=\"M 88.440938 224.64 \nL 94.52821 224.64 \nL 94.52821 209.598956 \nL 88.440938 209.598956 \nz\n\" style=\"fill:#1f77b4;\"/>\n   </g>\n   <g id=\"patch_7\">\n    <path clip-path=\"url(#p7fb366adfb)\" d=\"M 94.52821 224.64 \nL 100.615483 224.64 \nL 100.615483 219.251585 \nL 94.52821 219.251585 \nz\n\" style=\"fill:#1f77b4;\"/>\n   </g>\n   <g id=\"patch_8\">\n    <path clip-path=\"url(#p7fb366adfb)\" d=\"M 100.615483 224.64 \nL 106.702756 224.64 \nL 106.702756 222.159003 \nL 100.615483 222.159003 \nz\n\" style=\"fill:#1f77b4;\"/>\n   </g>\n   <g id=\"patch_9\">\n    <path clip-path=\"url(#p7fb366adfb)\" d=\"M 106.702756 224.64 \nL 112.790028 224.64 \nL 112.790028 223.050611 \nL 106.702756 223.050611 \nz\n\" style=\"fill:#1f77b4;\"/>\n   </g>\n   <g id=\"patch_10\">\n    <path clip-path=\"url(#p7fb366adfb)\" d=\"M 112.790028 224.64 \nL 118.877301 224.64 \nL 118.877301 223.632095 \nL 112.790028 223.632095 \nz\n\" style=\"fill:#1f77b4;\"/>\n   </g>\n   <g id=\"patch_11\">\n    <path clip-path=\"url(#p7fb366adfb)\" d=\"M 118.877301 224.64 \nL 124.964574 224.64 \nL 124.964574 224.019751 \nL 118.877301 224.019751 \nz\n\" style=\"fill:#1f77b4;\"/>\n   </g>\n   <g id=\"patch_12\">\n    <path clip-path=\"url(#p7fb366adfb)\" d=\"M 124.964574 224.64 \nL 131.051847 224.64 \nL 131.051847 223.980985 \nL 124.964574 223.980985 \nz\n\" style=\"fill:#1f77b4;\"/>\n   </g>\n   <g id=\"patch_13\">\n    <path clip-path=\"url(#p7fb366adfb)\" d=\"M 131.051847 224.64 \nL 137.139119 224.64 \nL 137.139119 224.174813 \nL 131.051847 224.174813 \nz\n\" style=\"fill:#1f77b4;\"/>\n   </g>\n   <g id=\"patch_14\">\n    <path clip-path=\"url(#p7fb366adfb)\" d=\"M 137.139119 224.64 \nL 143.226392 224.64 \nL 143.226392 224.213579 \nL 137.139119 224.213579 \nz\n\" style=\"fill:#1f77b4;\"/>\n   </g>\n   <g id=\"patch_15\">\n    <path clip-path=\"url(#p7fb366adfb)\" d=\"M 143.226392 224.64 \nL 149.313665 224.64 \nL 149.313665 224.329875 \nL 143.226392 224.329875 \nz\n\" style=\"fill:#1f77b4;\"/>\n   </g>\n   <g id=\"patch_16\">\n    <path clip-path=\"url(#p7fb366adfb)\" d=\"M 149.313665 224.64 \nL 155.400938 224.64 \nL 155.400938 224.523703 \nL 149.313665 224.523703 \nz\n\" style=\"fill:#1f77b4;\"/>\n   </g>\n   <g id=\"patch_17\">\n    <path clip-path=\"url(#p7fb366adfb)\" d=\"M 155.400938 224.64 \nL 161.48821 224.64 \nL 161.48821 224.484938 \nL 155.400938 224.484938 \nz\n\" style=\"fill:#1f77b4;\"/>\n   </g>\n   <g id=\"patch_18\">\n    <path clip-path=\"url(#p7fb366adfb)\" d=\"M 161.48821 224.64 \nL 167.575483 224.64 \nL 167.575483 224.252344 \nL 161.48821 224.252344 \nz\n\" style=\"fill:#1f77b4;\"/>\n   </g>\n   <g id=\"patch_19\">\n    <path clip-path=\"url(#p7fb366adfb)\" d=\"M 167.575483 224.64 \nL 173.662756 224.64 \nL 173.662756 224.407407 \nL 167.575483 224.407407 \nz\n\" style=\"fill:#1f77b4;\"/>\n   </g>\n   <g id=\"patch_20\">\n    <path clip-path=\"url(#p7fb366adfb)\" d=\"M 173.662756 224.64 \nL 179.750028 224.64 \nL 179.750028 224.523703 \nL 173.662756 224.523703 \nz\n\" style=\"fill:#1f77b4;\"/>\n   </g>\n   <g id=\"patch_21\">\n    <path clip-path=\"url(#p7fb366adfb)\" d=\"M 179.750028 224.64 \nL 185.837301 224.64 \nL 185.837301 224.446172 \nL 179.750028 224.446172 \nz\n\" style=\"fill:#1f77b4;\"/>\n   </g>\n   <g id=\"patch_22\">\n    <path clip-path=\"url(#p7fb366adfb)\" d=\"M 185.837301 224.64 \nL 191.924574 224.64 \nL 191.924574 224.484938 \nL 185.837301 224.484938 \nz\n\" style=\"fill:#1f77b4;\"/>\n   </g>\n   <g id=\"patch_23\">\n    <path clip-path=\"url(#p7fb366adfb)\" d=\"M 191.924574 224.64 \nL 198.011847 224.64 \nL 198.011847 224.562469 \nL 191.924574 224.562469 \nz\n\" style=\"fill:#1f77b4;\"/>\n   </g>\n   <g id=\"patch_24\">\n    <path clip-path=\"url(#p7fb366adfb)\" d=\"M 198.011847 224.64 \nL 204.099119 224.64 \nL 204.099119 224.64 \nL 198.011847 224.64 \nz\n\" style=\"fill:#1f77b4;\"/>\n   </g>\n   <g id=\"patch_25\">\n    <path clip-path=\"url(#p7fb366adfb)\" d=\"M 204.099119 224.64 \nL 210.186392 224.64 \nL 210.186392 224.601234 \nL 204.099119 224.601234 \nz\n\" style=\"fill:#1f77b4;\"/>\n   </g>\n   <g id=\"patch_26\">\n    <path clip-path=\"url(#p7fb366adfb)\" d=\"M 210.186392 224.64 \nL 216.273665 224.64 \nL 216.273665 224.601234 \nL 210.186392 224.601234 \nz\n\" style=\"fill:#1f77b4;\"/>\n   </g>\n   <g id=\"patch_27\">\n    <path clip-path=\"url(#p7fb366adfb)\" d=\"M 216.273665 224.64 \nL 222.360938 224.64 \nL 222.360938 224.64 \nL 216.273665 224.64 \nz\n\" style=\"fill:#1f77b4;\"/>\n   </g>\n   <g id=\"patch_28\">\n    <path clip-path=\"url(#p7fb366adfb)\" d=\"M 222.360938 224.64 \nL 228.44821 224.64 \nL 228.44821 224.64 \nL 222.360938 224.64 \nz\n\" style=\"fill:#1f77b4;\"/>\n   </g>\n   <g id=\"patch_29\">\n    <path clip-path=\"url(#p7fb366adfb)\" d=\"M 228.44821 224.64 \nL 234.535483 224.64 \nL 234.535483 224.601234 \nL 228.44821 224.601234 \nz\n\" style=\"fill:#1f77b4;\"/>\n   </g>\n   <g id=\"patch_30\">\n    <path clip-path=\"url(#p7fb366adfb)\" d=\"M 234.535483 224.64 \nL 240.622756 224.64 \nL 240.622756 224.601234 \nL 234.535483 224.601234 \nz\n\" style=\"fill:#1f77b4;\"/>\n   </g>\n   <g id=\"patch_31\">\n    <path clip-path=\"url(#p7fb366adfb)\" d=\"M 240.622756 224.64 \nL 246.710028 224.64 \nL 246.710028 224.64 \nL 240.622756 224.64 \nz\n\" style=\"fill:#1f77b4;\"/>\n   </g>\n   <g id=\"patch_32\">\n    <path clip-path=\"url(#p7fb366adfb)\" d=\"M 246.710028 224.64 \nL 252.797301 224.64 \nL 252.797301 224.64 \nL 246.710028 224.64 \nz\n\" style=\"fill:#1f77b4;\"/>\n   </g>\n   <g id=\"patch_33\">\n    <path clip-path=\"url(#p7fb366adfb)\" d=\"M 252.797301 224.64 \nL 258.884574 224.64 \nL 258.884574 224.601234 \nL 252.797301 224.601234 \nz\n\" style=\"fill:#1f77b4;\"/>\n   </g>\n   <g id=\"patch_34\">\n    <path clip-path=\"url(#p7fb366adfb)\" d=\"M 258.884574 224.64 \nL 264.971847 224.64 \nL 264.971847 224.64 \nL 258.884574 224.64 \nz\n\" style=\"fill:#1f77b4;\"/>\n   </g>\n   <g id=\"patch_35\">\n    <path clip-path=\"url(#p7fb366adfb)\" d=\"M 264.971847 224.64 \nL 271.059119 224.64 \nL 271.059119 224.64 \nL 264.971847 224.64 \nz\n\" style=\"fill:#1f77b4;\"/>\n   </g>\n   <g id=\"patch_36\">\n    <path clip-path=\"url(#p7fb366adfb)\" d=\"M 271.059119 224.64 \nL 277.146392 224.64 \nL 277.146392 224.601234 \nL 271.059119 224.601234 \nz\n\" style=\"fill:#1f77b4;\"/>\n   </g>\n   <g id=\"patch_37\">\n    <path clip-path=\"url(#p7fb366adfb)\" d=\"M 277.146392 224.64 \nL 283.233665 224.64 \nL 283.233665 224.64 \nL 277.146392 224.64 \nz\n\" style=\"fill:#1f77b4;\"/>\n   </g>\n   <g id=\"patch_38\">\n    <path clip-path=\"url(#p7fb366adfb)\" d=\"M 283.233665 224.64 \nL 289.320938 224.64 \nL 289.320938 224.64 \nL 283.233665 224.64 \nz\n\" style=\"fill:#1f77b4;\"/>\n   </g>\n   <g id=\"patch_39\">\n    <path clip-path=\"url(#p7fb366adfb)\" d=\"M 289.320938 224.64 \nL 295.40821 224.64 \nL 295.40821 224.601234 \nL 289.320938 224.601234 \nz\n\" style=\"fill:#1f77b4;\"/>\n   </g>\n   <g id=\"patch_40\">\n    <path clip-path=\"url(#p7fb366adfb)\" d=\"M 295.40821 224.64 \nL 301.495483 224.64 \nL 301.495483 224.601234 \nL 295.40821 224.601234 \nz\n\" style=\"fill:#1f77b4;\"/>\n   </g>\n   <g id=\"patch_41\">\n    <path clip-path=\"url(#p7fb366adfb)\" d=\"M 301.495483 224.64 \nL 307.582756 224.64 \nL 307.582756 224.64 \nL 301.495483 224.64 \nz\n\" style=\"fill:#1f77b4;\"/>\n   </g>\n   <g id=\"patch_42\">\n    <path clip-path=\"url(#p7fb366adfb)\" d=\"M 307.582756 224.64 \nL 313.670028 224.64 \nL 313.670028 224.64 \nL 307.582756 224.64 \nz\n\" style=\"fill:#1f77b4;\"/>\n   </g>\n   <g id=\"patch_43\">\n    <path clip-path=\"url(#p7fb366adfb)\" d=\"M 313.670028 224.64 \nL 319.757301 224.64 \nL 319.757301 224.64 \nL 313.670028 224.64 \nz\n\" style=\"fill:#1f77b4;\"/>\n   </g>\n   <g id=\"patch_44\">\n    <path clip-path=\"url(#p7fb366adfb)\" d=\"M 319.757301 224.64 \nL 325.844574 224.64 \nL 325.844574 224.64 \nL 319.757301 224.64 \nz\n\" style=\"fill:#1f77b4;\"/>\n   </g>\n   <g id=\"patch_45\">\n    <path clip-path=\"url(#p7fb366adfb)\" d=\"M 325.844574 224.64 \nL 331.931847 224.64 \nL 331.931847 224.64 \nL 325.844574 224.64 \nz\n\" style=\"fill:#1f77b4;\"/>\n   </g>\n   <g id=\"patch_46\">\n    <path clip-path=\"url(#p7fb366adfb)\" d=\"M 331.931847 224.64 \nL 338.019119 224.64 \nL 338.019119 224.601234 \nL 331.931847 224.601234 \nz\n\" style=\"fill:#1f77b4;\"/>\n   </g>\n   <g id=\"patch_47\">\n    <path clip-path=\"url(#p7fb366adfb)\" d=\"M 338.019119 224.64 \nL 344.106392 224.64 \nL 344.106392 224.64 \nL 338.019119 224.64 \nz\n\" style=\"fill:#1f77b4;\"/>\n   </g>\n   <g id=\"patch_48\">\n    <path clip-path=\"url(#p7fb366adfb)\" d=\"M 344.106392 224.64 \nL 350.193665 224.64 \nL 350.193665 224.64 \nL 344.106392 224.64 \nz\n\" style=\"fill:#1f77b4;\"/>\n   </g>\n   <g id=\"patch_49\">\n    <path clip-path=\"url(#p7fb366adfb)\" d=\"M 350.193665 224.64 \nL 356.280938 224.64 \nL 356.280938 224.601234 \nL 350.193665 224.601234 \nz\n\" style=\"fill:#1f77b4;\"/>\n   </g>\n   <g id=\"patch_50\">\n    <path clip-path=\"url(#p7fb366adfb)\" d=\"M 356.280938 224.64 \nL 362.36821 224.64 \nL 362.36821 224.601234 \nL 356.280938 224.601234 \nz\n\" style=\"fill:#1f77b4;\"/>\n   </g>\n   <g id=\"patch_51\">\n    <path clip-path=\"url(#p7fb366adfb)\" d=\"M 362.36821 224.64 \nL 368.455483 224.64 \nL 368.455483 224.64 \nL 362.36821 224.64 \nz\n\" style=\"fill:#1f77b4;\"/>\n   </g>\n   <g id=\"patch_52\">\n    <path clip-path=\"url(#p7fb366adfb)\" d=\"M 368.455483 224.64 \nL 374.542756 224.64 \nL 374.542756 224.601234 \nL 368.455483 224.601234 \nz\n\" style=\"fill:#1f77b4;\"/>\n   </g>\n   <g id=\"matplotlib.axis_1\">\n    <g id=\"xtick_1\">\n     <g id=\"line2d_1\">\n      <defs>\n       <path d=\"M 0 0 \nL 0 3.5 \n\" id=\"m090547270a\" style=\"stroke:#000000;stroke-width:0.8;\"/>\n      </defs>\n      <g>\n       <use style=\"stroke:#000000;stroke-width:0.8;\" x=\"70.083257\" xlink:href=\"#m090547270a\" y=\"224.64\"/>\n      </g>\n     </g>\n     <g id=\"text_1\">\n      <!-- 0 -->\n      <g transform=\"translate(66.683257 239.480625)scale(0.1 -0.1)\">\n       <defs>\n        <path d=\"M 34.796875 -1.296875 \nQ 22.09375 -1.296875 14.59375 9 \nQ 7.203125 19.203125 7.203125 37.296875 \nQ 7.203125 55.5 15.203125 65.90625 \nQ 22.703125 75.90625 34.703125 75.90625 \nQ 47.296875 75.90625 54.40625 65.203125 \nQ 61.796875 54.59375 61.796875 37.40625 \nQ 61.796875 19.5 54.09375 9.09375 \nQ 46.5 -1.296875 34.796875 -1.296875 \nz\nM 34 5.40625 \nQ 44.703125 5.40625 50 15.5 \nQ 54.09375 24 54.09375 37.5 \nQ 54.09375 51.796875 49.40625 60.296875 \nQ 44.09375 69.203125 34.59375 69.203125 \nQ 24.59375 69.203125 19.5 59.703125 \nQ 15 51.296875 15 37.09375 \nQ 15 23.09375 19.5 14.703125 \nQ 24.59375 5.40625 34 5.40625 \nz\n\" id=\"AppleGothic-48\"/>\n       </defs>\n       <use xlink:href=\"#AppleGothic-48\"/>\n      </g>\n     </g>\n    </g>\n    <g id=\"xtick_2\">\n     <g id=\"line2d_2\">\n      <g>\n       <use style=\"stroke:#000000;stroke-width:0.8;\" x=\"118.014538\" xlink:href=\"#m090547270a\" y=\"224.64\"/>\n      </g>\n     </g>\n     <g id=\"text_2\">\n      <!-- 1000 -->\n      <g transform=\"translate(104.414538 239.480625)scale(0.1 -0.1)\">\n       <defs>\n        <path d=\"M 36.59375 74.59375 \nL 43 74.59375 \nL 43 0 \nL 35.703125 0 \nL 35.703125 55.09375 \nL 18.09375 55.09375 \nL 18.09375 60.703125 \nL 22.09375 60.703125 \nQ 31.09375 60.703125 34.59375 65.703125 \nQ 36.59375 68.90625 36.59375 74.59375 \nz\n\" id=\"AppleGothic-49\"/>\n       </defs>\n       <use xlink:href=\"#AppleGothic-49\"/>\n       <use x=\"67.999985\" xlink:href=\"#AppleGothic-48\"/>\n       <use x=\"135.999969\" xlink:href=\"#AppleGothic-48\"/>\n       <use x=\"203.999954\" xlink:href=\"#AppleGothic-48\"/>\n      </g>\n     </g>\n    </g>\n    <g id=\"xtick_3\">\n     <g id=\"line2d_3\">\n      <g>\n       <use style=\"stroke:#000000;stroke-width:0.8;\" x=\"165.945819\" xlink:href=\"#m090547270a\" y=\"224.64\"/>\n      </g>\n     </g>\n     <g id=\"text_3\">\n      <!-- 2000 -->\n      <g transform=\"translate(152.345819 239.480625)scale(0.1 -0.1)\">\n       <defs>\n        <path d=\"M 17.203125 6.703125 \nL 61.59375 6.703125 \nL 61.59375 0 \nL 10.203125 0 \nL 10.203125 3.203125 \nQ 10.203125 15.90625 21 26 \nQ 26.09375 29.59375 31.09375 33.1875 \nQ 36.09375 36.796875 41.203125 40.5 \nQ 52.09375 48.40625 52.09375 56.203125 \nQ 52.09375 62.40625 47.09375 65.90625 \nQ 44.796875 67.59375 42.09375 68.390625 \nQ 39.40625 69.203125 36.203125 69.203125 \nQ 31.5 69.203125 27.203125 68 \nQ 20.703125 66 13.796875 61.09375 \nL 13.796875 69.296875 \nQ 20.703125 72.796875 26.046875 74.34375 \nQ 31.40625 75.90625 36.203125 75.90625 \nQ 46.296875 75.90625 53.203125 70.703125 \nQ 60 65.59375 60 56.59375 \nQ 60 46.796875 49.5 38.09375 \nQ 44.5 34.59375 39.546875 31.25 \nQ 34.59375 27.90625 29.59375 24.40625 \nQ 18.40625 16 17.203125 6.703125 \nz\n\" id=\"AppleGothic-50\"/>\n       </defs>\n       <use xlink:href=\"#AppleGothic-50\"/>\n       <use x=\"67.999985\" xlink:href=\"#AppleGothic-48\"/>\n       <use x=\"135.999969\" xlink:href=\"#AppleGothic-48\"/>\n       <use x=\"203.999954\" xlink:href=\"#AppleGothic-48\"/>\n      </g>\n     </g>\n    </g>\n    <g id=\"xtick_4\">\n     <g id=\"line2d_4\">\n      <g>\n       <use style=\"stroke:#000000;stroke-width:0.8;\" x=\"213.877101\" xlink:href=\"#m090547270a\" y=\"224.64\"/>\n      </g>\n     </g>\n     <g id=\"text_4\">\n      <!-- 3000 -->\n      <g transform=\"translate(200.277101 239.480625)scale(0.1 -0.1)\">\n       <defs>\n        <path d=\"M 8.59375 5.203125 \nL 8.59375 13.59375 \nQ 13.796875 9.703125 19.296875 7.546875 \nQ 24.796875 5.40625 30.796875 5.40625 \nQ 39.40625 5.40625 44.703125 10.40625 \nQ 50.296875 15.5 50.296875 22.203125 \nQ 50.296875 29.203125 44.40625 32.796875 \nQ 39.296875 36 30.703125 36 \nL 15.5 36 \nL 15.5 42.203125 \nL 25.90625 42.203125 \nQ 35.90625 42.203125 41.59375 45.75 \nQ 47.296875 49.296875 47.296875 56 \nQ 47.296875 61.5 43 65.203125 \nQ 38.40625 69.203125 30.90625 69.203125 \nQ 27.90625 69.203125 24.953125 68.640625 \nQ 22 68.09375 19.09375 66.90625 \nQ 13.90625 64.703125 8.296875 60.5 \nL 8.296875 69.09375 \nQ 11.5 70.796875 14.25 72 \nQ 17 73.203125 19.59375 74 \nQ 25.40625 75.90625 31.59375 75.90625 \nQ 41.40625 75.90625 47.90625 70.796875 \nQ 54.5 65.796875 54.5 56.90625 \nQ 54.5 49.5 49.5 44.703125 \nQ 46.5 41.796875 41.296875 39.90625 \nQ 44.90625 39.40625 47.703125 38.25 \nQ 50.5 37.09375 52.59375 35.40625 \nQ 58.09375 30.796875 58.09375 22.40625 \nQ 58.09375 12.703125 50.296875 5.703125 \nQ 42.40625 -1.296875 30.703125 -1.296875 \nQ 24.203125 -1.296875 17.59375 1.09375 \nQ 16 1.59375 13.75 2.59375 \nQ 11.5 3.59375 8.59375 5.203125 \nz\n\" id=\"AppleGothic-51\"/>\n       </defs>\n       <use xlink:href=\"#AppleGothic-51\"/>\n       <use x=\"67.999985\" xlink:href=\"#AppleGothic-48\"/>\n       <use x=\"135.999969\" xlink:href=\"#AppleGothic-48\"/>\n       <use x=\"203.999954\" xlink:href=\"#AppleGothic-48\"/>\n      </g>\n     </g>\n    </g>\n    <g id=\"xtick_5\">\n     <g id=\"line2d_5\">\n      <g>\n       <use style=\"stroke:#000000;stroke-width:0.8;\" x=\"261.808382\" xlink:href=\"#m090547270a\" y=\"224.64\"/>\n      </g>\n     </g>\n     <g id=\"text_5\">\n      <!-- 4000 -->\n      <g transform=\"translate(248.208382 239.480625)scale(0.1 -0.1)\">\n       <defs>\n        <path d=\"M 41.59375 74.59375 \nL 48.90625 74.59375 \nL 48.90625 28.296875 \nL 62.5 28.296875 \nL 62.5 21.59375 \nL 48.90625 21.59375 \nL 48.90625 0 \nL 41.59375 0 \nL 41.59375 21.59375 \nL 5.5 21.59375 \nL 5.5 28.296875 \nz\nM 41.59375 28.296875 \nL 41.59375 65.09375 \nL 13.09375 28.296875 \nz\n\" id=\"AppleGothic-52\"/>\n       </defs>\n       <use xlink:href=\"#AppleGothic-52\"/>\n       <use x=\"67.999985\" xlink:href=\"#AppleGothic-48\"/>\n       <use x=\"135.999969\" xlink:href=\"#AppleGothic-48\"/>\n       <use x=\"203.999954\" xlink:href=\"#AppleGothic-48\"/>\n      </g>\n     </g>\n    </g>\n    <g id=\"xtick_6\">\n     <g id=\"line2d_6\">\n      <g>\n       <use style=\"stroke:#000000;stroke-width:0.8;\" x=\"309.739663\" xlink:href=\"#m090547270a\" y=\"224.64\"/>\n      </g>\n     </g>\n     <g id=\"text_6\">\n      <!-- 5000 -->\n      <g transform=\"translate(296.139663 239.480625)scale(0.1 -0.1)\">\n       <defs>\n        <path d=\"M 9.703125 74.5 \nL 54.5 74.5 \nL 54.5 67.796875 \nL 17 67.796875 \nL 17 42.296875 \nQ 18.5 43.296875 20.203125 44.046875 \nQ 21.90625 44.796875 23.59375 45.5 \nQ 29.09375 47.5 35.296875 47.5 \nQ 46.703125 47.5 53.5 40.703125 \nQ 59.796875 34.40625 59.796875 24.703125 \nQ 59.796875 13.59375 51.5 6.203125 \nQ 43.203125 -1.296875 31.40625 -1.296875 \nQ 25.796875 -1.296875 19.5 0.703125 \nQ 18.09375 1.203125 15.640625 2.140625 \nQ 13.203125 3.09375 9.703125 4.703125 \nL 9.703125 13.09375 \nQ 14.5 10 18.796875 8.203125 \nQ 22 6.796875 25.203125 6.09375 \nQ 28.40625 5.40625 31.40625 5.40625 \nQ 39.5 5.40625 45.40625 10.40625 \nQ 51.90625 15.796875 51.90625 24 \nQ 51.90625 31.09375 47.203125 35.796875 \nQ 42.203125 40.796875 33.5 40.796875 \nQ 29 40.796875 24.796875 39.5 \nQ 20.59375 38.203125 17 35.5 \nL 9.703125 35.5 \nz\n\" id=\"AppleGothic-53\"/>\n       </defs>\n       <use xlink:href=\"#AppleGothic-53\"/>\n       <use x=\"67.999985\" xlink:href=\"#AppleGothic-48\"/>\n       <use x=\"135.999969\" xlink:href=\"#AppleGothic-48\"/>\n       <use x=\"203.999954\" xlink:href=\"#AppleGothic-48\"/>\n      </g>\n     </g>\n    </g>\n    <g id=\"xtick_7\">\n     <g id=\"line2d_7\">\n      <g>\n       <use style=\"stroke:#000000;stroke-width:0.8;\" x=\"357.670945\" xlink:href=\"#m090547270a\" y=\"224.64\"/>\n      </g>\n     </g>\n     <g id=\"text_7\">\n      <!-- 6000 -->\n      <g transform=\"translate(344.070945 239.480625)scale(0.1 -0.1)\">\n       <defs>\n        <path d=\"M 57.796875 71.203125 \nL 57.796875 62.703125 \nQ 56 64.09375 54.296875 65.046875 \nQ 52.59375 66 50.90625 66.796875 \nQ 48.203125 68.09375 45.59375 68.640625 \nQ 43 69.203125 40.40625 69.203125 \nQ 38.59375 69.203125 36.75 68.890625 \nQ 34.90625 68.59375 33.09375 67.796875 \nQ 26.09375 64.90625 21.796875 58.40625 \nQ 15.796875 49.203125 15.796875 34.203125 \nQ 20.5 38.90625 24.5 41.5 \nQ 31.59375 45.796875 39.59375 45.796875 \nQ 49.40625 45.796875 56 40.09375 \nQ 63.09375 33.796875 63.09375 23.296875 \nQ 63.09375 12.59375 55.59375 5.59375 \nQ 48.09375 -1.296875 37.40625 -1.296875 \nQ 26.09375 -1.296875 17.90625 7.09375 \nQ 8.09375 17 8.09375 35.203125 \nQ 8.09375 53.296875 17.5 64.59375 \nQ 26.796875 75.90625 40.703125 75.90625 \nQ 45.90625 75.90625 50.40625 74.40625 \nQ 51.703125 73.90625 53.546875 73.15625 \nQ 55.40625 72.40625 57.796875 71.203125 \nz\nM 16.59375 26.59375 \nQ 18 18 23.40625 12 \nQ 29.40625 5.40625 37.796875 5.40625 \nQ 45.296875 5.40625 50.203125 10.296875 \nQ 55.296875 15.203125 55.296875 22.796875 \nQ 55.296875 30 50.40625 34.59375 \nQ 45.59375 39.09375 39 39.09375 \nQ 31.09375 39.09375 24.09375 34 \nQ 22.09375 32.5 20.1875 30.703125 \nQ 18.296875 28.90625 16.59375 26.59375 \nz\n\" id=\"AppleGothic-54\"/>\n       </defs>\n       <use xlink:href=\"#AppleGothic-54\"/>\n       <use x=\"67.999985\" xlink:href=\"#AppleGothic-48\"/>\n       <use x=\"135.999969\" xlink:href=\"#AppleGothic-48\"/>\n       <use x=\"203.999954\" xlink:href=\"#AppleGothic-48\"/>\n      </g>\n     </g>\n    </g>\n    <g id=\"text_8\">\n     <!-- 초록의 길이 -->\n     <g transform=\"translate(195.760938 253.041562)scale(0.1 -0.1)\">\n      <defs>\n       <path d=\"M 94.203125 5.09375 \nQ 92.5 5.203125 91.046875 5.203125 \nQ 89.59375 5.203125 88.203125 5.203125 \nQ 77.90625 5.40625 68.25 5.546875 \nQ 58.59375 5.703125 49.40625 5.703125 \nQ 41.90625 5.703125 34.34375 5.59375 \nQ 26.796875 5.5 19.296875 5.296875 \nQ 16.59375 5.203125 13.25 5.09375 \nQ 9.90625 5 5.90625 4.796875 \nL 5.90625 11.59375 \nQ 8.5 11.5 11.390625 11.390625 \nQ 14.296875 11.296875 17.140625 11.25 \nQ 20 11.203125 22.640625 11.203125 \nQ 25.296875 11.203125 27.40625 11.203125 \nL 45.703125 11.296875 \nL 45.90625 20.40625 \nL 45.703125 32.203125 \nL 47.90625 32.203125 \nQ 50.90625 32.203125 52.5 31.953125 \nQ 54.09375 31.703125 54.09375 30.59375 \nQ 54.09375 30 53.546875 28.75 \nQ 53 27.5 53 27.203125 \nL 52.796875 19.59375 \nL 53 11.296875 \nL 73.5 11.296875 \nL 94.203125 11.796875 \nz\nM 85.90625 37.5 \nQ 85.703125 37.09375 85.703125 37.09375 \nQ 85.5 36.90625 85.453125 36.703125 \nQ 85.40625 36.5 85.203125 36.296875 \nQ 84.5 35.703125 83.09375 33.703125 \nQ 82.90625 33.296875 82.546875 32.84375 \nQ 82.203125 32.40625 81.703125 31.703125 \nQ 79.796875 32 78 32.296875 \nQ 73.5 33.296875 69.25 35 \nQ 65 36.703125 61.09375 39.296875 \nQ 55.59375 42.703125 52.296875 46.40625 \nQ 51.796875 47.09375 51.140625 47.84375 \nQ 50.5 48.59375 49.796875 49.703125 \nQ 49.203125 48.296875 48.59375 47.703125 \nQ 45.296875 42.59375 37.796875 37.90625 \nQ 35.203125 36.09375 31.953125 34.6875 \nQ 28.703125 33.296875 24.796875 32.203125 \nQ 23.5 31.796875 21.953125 31.5 \nQ 20.40625 31.203125 18.40625 30.796875 \nQ 17.90625 31.296875 17.5 31.6875 \nQ 17.09375 32.09375 16.796875 32.40625 \nQ 15 34.296875 14.40625 34.796875 \nQ 13.296875 35.5 12.90625 36 \nQ 12.796875 36.09375 12.796875 36.140625 \nQ 12.796875 36.203125 12.703125 36.296875 \nQ 12.703125 36.40625 13.09375 36.5 \nQ 13.5 36.59375 13.84375 36.59375 \nQ 14.203125 36.59375 14.59375 36.703125 \nQ 17.203125 37.203125 19.25 37.640625 \nQ 21.296875 38.09375 22.90625 38.59375 \nQ 31.90625 41.09375 37.203125 45.296875 \nQ 41.09375 48.40625 43.5 52.203125 \nQ 44.796875 54.703125 45.703125 58.203125 \nL 16 57.90625 \nL 16 64.203125 \nQ 18.296875 64.09375 21.6875 64 \nQ 25.09375 63.90625 29.59375 63.796875 \nQ 34.09375 63.703125 38.890625 63.703125 \nQ 43.703125 63.703125 48.90625 63.703125 \nQ 56.203125 63.703125 61.640625 63.75 \nQ 67.09375 63.796875 70.796875 63.90625 \nQ 74.59375 64 77.546875 64.09375 \nQ 80.5 64.203125 82.796875 64.296875 \nL 82.796875 57.90625 \nL 53.09375 58.203125 \nL 55.796875 52.59375 \nQ 58.5 49.09375 63.59375 45.59375 \nQ 68.703125 42.09375 76.40625 39.90625 \nQ 77.59375 39.59375 79.140625 39.296875 \nQ 80.703125 39 82.703125 38.59375 \nQ 84.296875 38.40625 85.09375 38.25 \nQ 85.90625 38.09375 85.90625 37.5 \nz\nM 61.09375 73.09375 \nL 49 73.40625 \nL 36.296875 73.09375 \nL 36.296875 78.90625 \nL 48.703125 78.703125 \nL 61.09375 78.90625 \nz\n\" id=\"AppleGothic-52488\"/>\n       <path d=\"M 78.59375 -7.703125 \nL 71.203125 -7.90625 \nL 71.5 5.90625 \nL 71.296875 14.59375 \nL 19.703125 14.203125 \nL 19.703125 20.40625 \nQ 21.59375 20.296875 23.09375 20.296875 \nQ 24.59375 20.296875 25.90625 20.296875 \nQ 34.40625 20.09375 40.15625 20 \nQ 45.90625 19.90625 48.90625 19.90625 \nL 78.296875 20.203125 \nz\nM 92.703125 27.5 \nL 49.296875 27.703125 \nQ 41.796875 27.703125 35.6875 27.640625 \nQ 29.59375 27.59375 24.59375 27.5 \nQ 19.796875 27.40625 15.390625 27.296875 \nQ 11 27.203125 7 27.09375 \nL 7 33.09375 \nQ 12.40625 32.90625 18.75 32.703125 \nQ 25.09375 32.5 31.09375 32.5 \nL 46.40625 32.5 \nL 46.40625 43 \nL 20.203125 42.59375 \nQ 20.40625 45 20.5 48.140625 \nQ 20.59375 51.296875 20.59375 54.796875 \nL 20.5 62.703125 \nQ 22.203125 62.59375 24.703125 62.59375 \nQ 27.203125 62.59375 30.40625 62.5 \nQ 33.703125 62.40625 36.046875 62.40625 \nQ 38.40625 62.40625 39.796875 62.40625 \nL 72.5 62.703125 \nL 72.5 71.796875 \nL 61.40625 71.90625 \nL 20.09375 71.296875 \nL 20.09375 76.796875 \nL 79.5 77.09375 \nL 79.296875 67.5 \nL 79.5 57.796875 \nL 48.5 57.90625 \nL 27.703125 57.703125 \nL 27.703125 47.703125 \nL 79.796875 48.40625 \nL 79.703125 42.90625 \nL 53.09375 43.09375 \nL 53.09375 32.5 \nL 68.40625 32.5 \nQ 75 32.5 84.59375 33.09375 \nQ 86.09375 33.203125 88.140625 33.34375 \nQ 90.203125 33.5 92.703125 33.703125 \nz\n\" id=\"AppleGothic-47197\"/>\n       <path d=\"M 55.796875 52.796875 \nQ 55.796875 65.90625 40.203125 65.90625 \nQ 32.203125 65.90625 27.75 62.296875 \nQ 23.296875 58.703125 23.296875 52.90625 \nQ 23.296875 46.40625 27.90625 42.703125 \nQ 32.09375 39.40625 39.203125 39.40625 \nQ 47.796875 39.40625 52 43.203125 \nQ 55.796875 46.5 55.796875 52.796875 \nz\nM 72 17.09375 \nQ 64.59375 15.90625 60.5 15.296875 \nQ 54 14.5 48.75 14.046875 \nQ 43.5 13.59375 39.5 13.59375 \nL 14.09375 12.703125 \nQ 13.40625 12.5 12.75 12.34375 \nQ 12.09375 12.203125 11.40625 12 \nQ 10.203125 12 9.5 14.703125 \nQ 8.796875 17.40625 8.796875 19.40625 \nL 38.703125 19.5 \nQ 45.90625 19.5 52.09375 19.890625 \nQ 58.296875 20.296875 63.59375 21.09375 \nQ 66.90625 21.5 71.5 22.796875 \nz\nM 85.40625 79.203125 \nQ 85.40625 78.703125 84.953125 77.25 \nQ 84.5 75.796875 84.5 75.203125 \nL 84.5 35.90625 \nQ 84.5 31.40625 84.546875 26.296875 \nQ 84.59375 21.203125 84.703125 15.203125 \nQ 84.796875 9.296875 84.890625 3.59375 \nQ 85 -2.09375 85.203125 -7.796875 \nL 77.703125 -8.703125 \nL 77.703125 0.703125 \nQ 77.796875 3.703125 77.796875 8 \nQ 77.796875 12.296875 77.90625 18.09375 \nQ 78 23.796875 78 27.9375 \nQ 78 32.09375 78 34.703125 \nQ 78 45 77.890625 52.453125 \nQ 77.796875 59.90625 77.59375 64.40625 \nQ 77.40625 68.90625 77.25 73.046875 \nQ 77.09375 77.203125 76.90625 81 \nL 78.5 81 \nQ 81.09375 81 83.25 80.59375 \nQ 85.40625 80.203125 85.40625 79.203125 \nz\nM 62.59375 52 \nQ 62.59375 43.59375 55.90625 38.5 \nQ 49.296875 33.40625 39.5 33.40625 \nQ 29.59375 33.40625 23.5 38.203125 \nQ 17 43.203125 17 52.203125 \nQ 17 61.796875 23.703125 67 \nQ 30 71.90625 39.703125 71.90625 \nQ 49.59375 71.90625 56.203125 66.703125 \nQ 62.59375 61.5 62.59375 52.40625 \nz\n\" id=\"AppleGothic-51032\"/>\n       <path id=\"AppleGothic-32\"/>\n       <path d=\"M 85.90625 -7.703125 \nQ 83.5 -7.59375 81.390625 -7.546875 \nQ 79.296875 -7.5 77.59375 -7.5 \nQ 64.40625 -7.203125 57.703125 -7.203125 \nL 23.203125 -7.40625 \nL 23.203125 14.203125 \nL 54.40625 14 \nL 76.90625 14.203125 \nL 76.90625 23.40625 \nL 22.59375 23.5 \nL 22.59375 29.796875 \nQ 28 29.59375 35.25 29.390625 \nQ 42.5 29.203125 52.703125 29.203125 \nL 83.703125 29.296875 \nL 83.703125 8.90625 \nQ 81.203125 9 77.546875 9 \nQ 73.90625 9 68.90625 9.09375 \nQ 64.09375 9.203125 60.390625 9.203125 \nQ 56.703125 9.203125 54.09375 9.203125 \nL 30.203125 9 \nL 30.203125 -1.5 \nQ 31.90625 -1.59375 34.546875 -1.59375 \nQ 37.203125 -1.59375 40.90625 -1.703125 \nQ 44.59375 -1.796875 47.75 -1.796875 \nQ 50.90625 -1.796875 53.59375 -1.796875 \nQ 60 -1.796875 64.953125 -1.796875 \nQ 69.90625 -1.796875 73.296875 -1.703125 \nQ 76.796875 -1.59375 79.9375 -1.546875 \nQ 83.09375 -1.5 85.90625 -1.296875 \nz\nM 59.59375 73.703125 \nQ 59.296875 72.40625 59 71.09375 \nQ 58.703125 69.796875 58.5 68.59375 \nQ 57.5 65.296875 56.09375 62.1875 \nQ 54.703125 59.09375 52.703125 56.09375 \nQ 47.296875 47.703125 38.40625 41.203125 \nQ 34.703125 38.59375 30.5 36.296875 \nQ 26.296875 34 21.5 32 \nQ 19.90625 31.40625 17.90625 30.703125 \nQ 15.90625 30 13.40625 29.203125 \nL 8.59375 34.40625 \nL 8.90625 34.796875 \nQ 11.203125 35.296875 13.046875 35.75 \nQ 14.90625 36.203125 16.40625 36.703125 \nQ 25.5 39.90625 33.296875 44.90625 \nQ 40.296875 49.5 45 55.59375 \nQ 48.5 59.796875 50.5 64.59375 \nQ 50.796875 65.5 51.09375 66.390625 \nQ 51.40625 67.296875 51.796875 68.296875 \nL 33 68.5 \nQ 28.09375 68.5 22.75 68.390625 \nQ 17.40625 68.296875 12.90625 68.09375 \nL 13.09375 74 \nQ 14.5 73.90625 16.5 73.90625 \nQ 18.5 73.90625 21.203125 73.796875 \nQ 23.90625 73.703125 26 73.703125 \nQ 28.09375 73.703125 29.703125 73.703125 \nz\nM 84.703125 79.40625 \nQ 84.703125 79.203125 84.59375 78.640625 \nQ 84.5 78.09375 84.34375 77.4375 \nQ 84.203125 76.796875 84.09375 76.140625 \nQ 84 75.5 84 75.09375 \nL 83.90625 45.40625 \nQ 83.90625 41.5 83.90625 38.59375 \nQ 83.90625 35.703125 84.09375 33.90625 \nL 76.796875 33.703125 \nQ 77 37.203125 77.09375 43.25 \nQ 77.203125 49.296875 77.203125 57.296875 \nQ 77.203125 63.296875 77.203125 67.34375 \nQ 77.203125 71.40625 77.09375 73.59375 \nQ 77.09375 78.09375 76.796875 81.09375 \nL 83.09375 80.703125 \nQ 84.703125 80.703125 84.703125 79.40625 \nz\n\" id=\"AppleGothic-44600\"/>\n       <path d=\"M 50.40625 39.59375 \nQ 50.40625 51.703125 45.296875 58.203125 \nQ 40.796875 63.90625 33.703125 63.90625 \nQ 26.296875 63.90625 22.09375 57.65625 \nQ 17.90625 51.40625 17.90625 39.59375 \nQ 17.90625 28.296875 22.5 21.59375 \nQ 27.203125 14.90625 35 14.90625 \nQ 43.09375 14.90625 47.203125 22.59375 \nQ 50.40625 29 50.40625 39.59375 \nz\nM 85.09375 79.40625 \nQ 85.09375 79.09375 84.796875 77.84375 \nQ 84.5 76.59375 84.5 75.5 \nL 84.90625 -8.40625 \nL 77.203125 -9.203125 \nL 77.5 35.296875 \nQ 77.5 55.5 77.203125 63.59375 \nQ 77.09375 67.59375 77.046875 71.9375 \nQ 77 76.296875 76.796875 81.09375 \nL 79.59375 81.203125 \nQ 81.90625 81.203125 83.5 80.84375 \nQ 85.09375 80.5 85.09375 79.40625 \nz\nM 57.59375 39.796875 \nQ 57.59375 33.203125 56.4375 27.890625 \nQ 55.296875 22.59375 52.796875 18.796875 \nQ 46.796875 9.09375 34 9.09375 \nQ 22 9.09375 15.90625 18.796875 \nQ 10.59375 27.09375 10.59375 40 \nQ 10.59375 52.796875 16.40625 60.90625 \nQ 22.703125 69.703125 33.90625 69.703125 \nQ 45.5 69.703125 51.703125 61.09375 \nQ 57.59375 53.296875 57.59375 39.796875 \nz\n\" id=\"AppleGothic-51060\"/>\n      </defs>\n      <use xlink:href=\"#AppleGothic-52488\"/>\n      <use x=\"99.999985\" xlink:href=\"#AppleGothic-47197\"/>\n      <use x=\"199.999969\" xlink:href=\"#AppleGothic-51032\"/>\n      <use x=\"299.999954\" xlink:href=\"#AppleGothic-32\"/>\n      <use x=\"331.999939\" xlink:href=\"#AppleGothic-44600\"/>\n      <use x=\"431.999924\" xlink:href=\"#AppleGothic-51060\"/>\n     </g>\n    </g>\n   </g>\n   <g id=\"matplotlib.axis_2\">\n    <g id=\"ytick_1\">\n     <g id=\"line2d_8\">\n      <defs>\n       <path d=\"M 0 0 \nL -3.5 0 \n\" id=\"m65b9b97a84\" style=\"stroke:#000000;stroke-width:0.8;\"/>\n      </defs>\n      <g>\n       <use style=\"stroke:#000000;stroke-width:0.8;\" x=\"54.960938\" xlink:href=\"#m65b9b97a84\" y=\"224.64\"/>\n      </g>\n     </g>\n     <g id=\"text_9\">\n      <!-- 0 -->\n      <g transform=\"translate(41.160938 228.560312)scale(0.1 -0.1)\">\n       <use xlink:href=\"#AppleGothic-48\"/>\n      </g>\n     </g>\n    </g>\n    <g id=\"ytick_2\">\n     <g id=\"line2d_9\">\n      <g>\n       <use style=\"stroke:#000000;stroke-width:0.8;\" x=\"54.960938\" xlink:href=\"#m65b9b97a84\" y=\"185.874423\"/>\n      </g>\n     </g>\n     <g id=\"text_10\">\n      <!-- 1000 -->\n      <g transform=\"translate(20.760938 189.794735)scale(0.1 -0.1)\">\n       <use xlink:href=\"#AppleGothic-49\"/>\n       <use x=\"67.999985\" xlink:href=\"#AppleGothic-48\"/>\n       <use x=\"135.999969\" xlink:href=\"#AppleGothic-48\"/>\n       <use x=\"203.999954\" xlink:href=\"#AppleGothic-48\"/>\n      </g>\n     </g>\n    </g>\n    <g id=\"ytick_3\">\n     <g id=\"line2d_10\">\n      <g>\n       <use style=\"stroke:#000000;stroke-width:0.8;\" x=\"54.960938\" xlink:href=\"#m65b9b97a84\" y=\"147.108845\"/>\n      </g>\n     </g>\n     <g id=\"text_11\">\n      <!-- 2000 -->\n      <g transform=\"translate(20.760938 151.029158)scale(0.1 -0.1)\">\n       <use xlink:href=\"#AppleGothic-50\"/>\n       <use x=\"67.999985\" xlink:href=\"#AppleGothic-48\"/>\n       <use x=\"135.999969\" xlink:href=\"#AppleGothic-48\"/>\n       <use x=\"203.999954\" xlink:href=\"#AppleGothic-48\"/>\n      </g>\n     </g>\n    </g>\n    <g id=\"ytick_4\">\n     <g id=\"line2d_11\">\n      <g>\n       <use style=\"stroke:#000000;stroke-width:0.8;\" x=\"54.960938\" xlink:href=\"#m65b9b97a84\" y=\"108.343268\"/>\n      </g>\n     </g>\n     <g id=\"text_12\">\n      <!-- 3000 -->\n      <g transform=\"translate(20.760938 112.26358)scale(0.1 -0.1)\">\n       <use xlink:href=\"#AppleGothic-51\"/>\n       <use x=\"67.999985\" xlink:href=\"#AppleGothic-48\"/>\n       <use x=\"135.999969\" xlink:href=\"#AppleGothic-48\"/>\n       <use x=\"203.999954\" xlink:href=\"#AppleGothic-48\"/>\n      </g>\n     </g>\n    </g>\n    <g id=\"ytick_5\">\n     <g id=\"line2d_12\">\n      <g>\n       <use style=\"stroke:#000000;stroke-width:0.8;\" x=\"54.960938\" xlink:href=\"#m65b9b97a84\" y=\"69.577691\"/>\n      </g>\n     </g>\n     <g id=\"text_13\">\n      <!-- 4000 -->\n      <g transform=\"translate(20.760938 73.498003)scale(0.1 -0.1)\">\n       <use xlink:href=\"#AppleGothic-52\"/>\n       <use x=\"67.999985\" xlink:href=\"#AppleGothic-48\"/>\n       <use x=\"135.999969\" xlink:href=\"#AppleGothic-48\"/>\n       <use x=\"203.999954\" xlink:href=\"#AppleGothic-48\"/>\n      </g>\n     </g>\n    </g>\n    <g id=\"ytick_6\">\n     <g id=\"line2d_13\">\n      <g>\n       <use style=\"stroke:#000000;stroke-width:0.8;\" x=\"54.960938\" xlink:href=\"#m65b9b97a84\" y=\"30.812113\"/>\n      </g>\n     </g>\n     <g id=\"text_14\">\n      <!-- 5000 -->\n      <g transform=\"translate(20.760938 34.732426)scale(0.1 -0.1)\">\n       <use xlink:href=\"#AppleGothic-53\"/>\n       <use x=\"67.999985\" xlink:href=\"#AppleGothic-48\"/>\n       <use x=\"135.999969\" xlink:href=\"#AppleGothic-48\"/>\n       <use x=\"203.999954\" xlink:href=\"#AppleGothic-48\"/>\n      </g>\n     </g>\n    </g>\n    <g id=\"text_15\">\n     <!-- 초록의 개수 -->\n     <g transform=\"translate(15.040625 142.52)rotate(-90)scale(0.1 -0.1)\">\n      <defs>\n       <path d=\"M 88.40625 79.703125 \nQ 88.40625 79.59375 88.25 79.140625 \nQ 88.09375 78.703125 87.90625 77.703125 \nQ 87.40625 75.703125 87.40625 75.09375 \nL 87.296875 -7.296875 \nL 80.59375 -7.90625 \nL 80.796875 33.796875 \nL 66.5 33.40625 \nL 66.5 -2.90625 \nL 60.203125 -3.5 \nQ 60.203125 0.296875 60.203125 6.140625 \nQ 60.203125 12 60.296875 19.90625 \nQ 60.40625 27.90625 60.40625 35.953125 \nQ 60.40625 44 60.5 52.40625 \nQ 60.59375 60.90625 60.640625 65.796875 \nQ 60.703125 70.703125 60.703125 72.40625 \nQ 60.703125 76.296875 60.40625 78.90625 \nL 60.90625 78.90625 \nQ 63.296875 78.90625 65.4375 78.65625 \nQ 67.59375 78.40625 67.59375 77.59375 \nQ 67.59375 77.40625 67.09375 76.15625 \nQ 66.59375 74.90625 66.59375 73.703125 \nQ 66.59375 73.5 66.59375 71.75 \nQ 66.59375 70 66.5 66.796875 \nQ 66.40625 63.59375 66.40625 61.09375 \nQ 66.40625 58.59375 66.40625 56.90625 \nL 66.5 38.796875 \nL 80.90625 39.09375 \nL 81.09375 66.40625 \nL 81.09375 73.703125 \nQ 81.09375 76.59375 81.046875 78.09375 \nQ 81 79.59375 80.796875 81.09375 \nL 82 81.09375 \nQ 85.59375 81.09375 87 80.796875 \nQ 88.40625 80.5 88.40625 79.703125 \nz\nM 46.703125 68.90625 \nQ 46.703125 65.703125 46.34375 62.640625 \nQ 46 59.59375 45.296875 56.40625 \nQ 44.203125 51 42.046875 45.796875 \nQ 39.90625 40.59375 36.90625 35.40625 \nQ 32.40625 27.5 25.796875 21.09375 \nQ 20.90625 16.5 15.796875 13.203125 \nQ 12.09375 10.703125 11.40625 10.703125 \nQ 11 10.90625 10.796875 11.046875 \nQ 10.59375 11.203125 10.40625 11.296875 \nQ 9.90625 11.703125 9.5 12.046875 \nQ 9.09375 12.40625 8.796875 12.796875 \nQ 8.203125 13.59375 7.140625 14.140625 \nQ 6.09375 14.703125 6.09375 14.90625 \nL 6.296875 15.40625 \nQ 7 15.40625 10.40625 17.40625 \nQ 15.5 20.203125 20 24.203125 \nQ 23.203125 26.90625 25.890625 30.15625 \nQ 28.59375 33.40625 30.90625 37.203125 \nQ 35.796875 45.203125 38.5 55.09375 \nQ 38.90625 56.703125 39.296875 58.75 \nQ 39.703125 60.796875 40 63.296875 \nL 26.5 63.40625 \nL 9.796875 62.90625 \nL 9.796875 68.796875 \nQ 11.296875 68.703125 13.09375 68.703125 \nQ 14.90625 68.703125 16.90625 68.59375 \nL 23.296875 68.59375 \nz\n\" id=\"AppleGothic-44060\"/>\n       <path d=\"M 94.09375 30.5 \nL 53.296875 30.5 \nL 53.5 14 \nL 54.09375 -9.09375 \nL 46.59375 -9.09375 \nL 46.59375 30.5 \nQ 45.5 30.5 43.34375 30.453125 \nQ 41.203125 30.40625 37.796875 30.296875 \nQ 34.5 30.203125 32.59375 30.203125 \nQ 30.703125 30.203125 30.203125 30.203125 \nL 5.90625 29.59375 \nL 5.90625 36 \nL 50.09375 35.90625 \nQ 57.90625 35.90625 65.65625 36.046875 \nQ 73.40625 36.203125 81 36.40625 \nQ 86.5 36.59375 94.09375 37 \nz\nM 90.5 54.40625 \nQ 90.5 53.90625 89.796875 53.15625 \nQ 89.09375 52.40625 88.40625 51.796875 \nL 86.296875 48.703125 \nQ 85.203125 48.796875 84.296875 48.84375 \nQ 83.40625 48.90625 82.59375 49.09375 \nQ 73.203125 50.796875 63.90625 56.40625 \nQ 57.796875 60.09375 53.296875 66.40625 \nQ 52.5 67.5 51.75 68.890625 \nQ 51 70.296875 50.09375 72.203125 \nQ 49.203125 70.5 48.390625 69.09375 \nQ 47.59375 67.703125 46.796875 66.59375 \nQ 42 60.09375 34.5 55.5 \nQ 32.09375 53.90625 29.296875 52.65625 \nQ 26.5 51.40625 23.40625 50.296875 \nQ 21.59375 49.703125 19.25 49.09375 \nQ 16.90625 48.5 14 48 \nQ 14 48 13.640625 48.453125 \nQ 13.296875 48.90625 12.9375 49.40625 \nQ 12.59375 49.90625 12.1875 50.40625 \nQ 11.796875 50.90625 11.703125 51.09375 \nQ 11.5 51.40625 10.59375 52.296875 \nQ 9.703125 53.203125 9.703125 53.5 \nL 10 53.796875 \nQ 11.40625 53.90625 12.65625 53.953125 \nQ 13.90625 54 14.90625 54.203125 \nQ 20.90625 55.09375 26.15625 57.4375 \nQ 31.40625 59.796875 35.90625 63.703125 \nQ 40.703125 67.59375 43.59375 72.796875 \nQ 44.40625 74.296875 45.09375 76.25 \nQ 45.796875 78.203125 46.40625 80.796875 \nL 53.296875 80.203125 \nQ 54.296875 80.203125 54.296875 79.296875 \nQ 54.296875 79 54.25 78.703125 \nQ 54.203125 78.40625 54.09375 78 \nQ 54.09375 77.703125 53.796875 77.296875 \nQ 54.40625 75.5 55 74.296875 \nQ 58.40625 67.203125 66.09375 62.09375 \nQ 72.796875 57.59375 82.203125 55.796875 \nQ 83.796875 55.5 85.75 55.25 \nQ 87.703125 55 90.09375 54.796875 \nQ 90.40625 54.796875 90.5 54.40625 \nz\n\" id=\"AppleGothic-49688\"/>\n      </defs>\n      <use xlink:href=\"#AppleGothic-52488\"/>\n      <use x=\"99.999985\" xlink:href=\"#AppleGothic-47197\"/>\n      <use x=\"199.999969\" xlink:href=\"#AppleGothic-51032\"/>\n      <use x=\"299.999954\" xlink:href=\"#AppleGothic-32\"/>\n      <use x=\"331.999939\" xlink:href=\"#AppleGothic-44060\"/>\n      <use x=\"431.999924\" xlink:href=\"#AppleGothic-49688\"/>\n     </g>\n    </g>\n   </g>\n   <g id=\"patch_53\">\n    <path d=\"M 54.960938 224.64 \nL 54.960938 7.2 \n\" style=\"fill:none;stroke:#000000;stroke-linecap:square;stroke-linejoin:miter;stroke-width:0.8;\"/>\n   </g>\n   <g id=\"patch_54\">\n    <path d=\"M 389.760938 224.64 \nL 389.760938 7.2 \n\" style=\"fill:none;stroke:#000000;stroke-linecap:square;stroke-linejoin:miter;stroke-width:0.8;\"/>\n   </g>\n   <g id=\"patch_55\">\n    <path d=\"M 54.960938 224.64 \nL 389.760938 224.64 \n\" style=\"fill:none;stroke:#000000;stroke-linecap:square;stroke-linejoin:miter;stroke-width:0.8;\"/>\n   </g>\n   <g id=\"patch_56\">\n    <path d=\"M 54.960938 7.2 \nL 389.760938 7.2 \n\" style=\"fill:none;stroke:#000000;stroke-linecap:square;stroke-linejoin:miter;stroke-width:0.8;\"/>\n   </g>\n  </g>\n </g>\n <defs>\n  <clipPath id=\"p7fb366adfb\">\n   <rect height=\"217.44\" width=\"334.8\" x=\"54.960938\" y=\"7.2\"/>\n  </clipPath>\n </defs>\n</svg>\n",
      "image/png": "[encoded data removed]"
     },
     "metadata": {
      "needs_background": "light"
     }
    }
   ],
   "source": [
    "print('초록의 최대 길이:', max(len(l) for l in tokenized_data))\n",
    "print('초록의 평균 길이:', sum(map(len, tokenized_data)) / len(tokenized_data))\n",
    "\n",
    "plt.hist([len(s) for s in tokenized_data], bins=50)\n",
    "plt.xlabel('초록의 길이')\n",
    "plt.ylabel('초록의 개수')\n",
    "plt.show()"
   ]
  },
  {
   "cell_type": "code",
   "execution_count": 13,
   "metadata": {},
   "outputs": [],
   "source": [
    "model = Word2Vec(sentences=tokenized_data, size=100, window=5, min_count=5, workers=4, sg=0)"
   ]
  },
  {
   "cell_type": "code",
   "execution_count": 14,
   "metadata": {},
   "outputs": [
    {
     "output_type": "execute_result",
     "data": {
      "text/plain": [
       "(15120, 100)"
      ]
     },
     "metadata": {},
     "execution_count": 14
    }
   ],
   "source": [
    "model.wv.vectors.shape"
   ]
  },
  {
   "cell_type": "code",
   "execution_count": 15,
   "metadata": {},
   "outputs": [
    {
     "output_type": "stream",
     "name": "stdout",
     "text": [
      "[('정속', 0.5691282153129578), ('험로', 0.5275231003761292), ('쾌', 0.5181227326393127), ('인공지능', 0.5001052618026733), ('안전', 0.4889315664768219), ('走行', 0.48468345403671265), ('보안', 0.4640912413597107), ('자동', 0.4591635465621948), ('윤리', 0.4581497013568878), ('무인', 0.4476373791694641)]\n"
     ]
    }
   ],
   "source": [
    "print(model.wv.most_similar(\"자율\"))"
   ]
  },
  {
   "cell_type": "code",
   "execution_count": 16,
   "metadata": {},
   "outputs": [
    {
     "output_type": "stream",
     "name": "stdout",
     "text": [
      "[('모델링', 0.9050024747848511), ('테스트', 0.8123716711997986), ('실험', 0.8020768165588379), ('모의실험', 0.7870085835456848), ('최적화', 0.7480729818344116), ('구현', 0.7448224425315857), ('검증', 0.7407007217407227), ('유한요소해석', 0.726791501045227), ('모델', 0.7127584218978882), ('설계', 0.7020149230957031)]\n"
     ]
    }
   ],
   "source": [
    "print(model.wv.most_similar(\"시뮬레이션\"))"
   ]
  },
  {
   "cell_type": "code",
   "execution_count": 58,
   "metadata": {},
   "outputs": [
    {
     "output_type": "execute_result",
     "data": {
      "text/plain": [
       "0                                                      NaN\n",
       "1        Internal Combustion Engine(내연기관),Energy (에너지),...\n",
       "2        Hydrogen Fuel Cell Vehicle(수소 연료전지 자동차),Crash ...\n",
       "3        HOOD(본넷트),Distance(이동량),LS-DYNA(구조해석),MOLDFLOW...\n",
       "4                                                      NaN\n",
       "                               ...                        \n",
       "50563    Automotive HAVC System(차량용 공조시스템),Acoustic sca...\n",
       "50564    FEM(유한요소법),EMC(전자파적합성),Connector(커넥터),Electro-...\n",
       "50565                                                  NaN\n",
       "50566    선형탄성파괴역학,소트피닝,압축잔류응력,LEFM,Shot Peening,Compres...\n",
       "50567                                                  NaN\n",
       "Name: 주제어, Length: 50568, dtype: object"
      ]
     },
     "metadata": {},
     "execution_count": 58
    }
   ],
   "source": [
    "dataset['주제어']"
   ]
  },
  {
   "cell_type": "code",
   "execution_count": null,
   "metadata": {},
   "outputs": [],
   "source": [
    "dataset['작성언어'].value_counts()"
   ]
  },
  {
   "source": [
    "### CountVector를 위한 준비 작업 및 확인 로직 (시작)"
   ],
   "cell_type": "markdown",
   "metadata": {}
  },
  {
   "cell_type": "code",
   "execution_count": 81,
   "metadata": {},
   "outputs": [],
   "source": [
    "#분석대상 항목으로 발행연도, 제목, 주제어, 국문 초록 (Abstract)을 선택하고 컬럼명을 영문으로 변경함\n",
    "dataset_1 = dataset.loc[:, ['발행연도', '제목', '저자', '발행기관', '학술지명', '주제어', '국문 초록 (Abstract)', '다국어 초록 (Multilingual Abstract)']]\n",
    "dataset_1 = dataset_1.rename({'발행연도':'year', '제목':'title', '저자':'author', '발행기관':'publisher', '학술지명':'journal', '주제어':'keyword', '국문 초록 (Abstract)':'abstract_old', '다국어 초록 (Multilingual Abstract)':'others'}, axis=1)"
   ]
  },
  {
   "cell_type": "code",
   "execution_count": 80,
   "metadata": {},
   "outputs": [
    {
     "output_type": "stream",
     "name": "stdout",
     "text": [
      "<class 'pandas.core.frame.DataFrame'>\nRangeIndex: 50568 entries, 0 to 50567\nData columns (total 7 columns):\n #   Column     Non-Null Count  Dtype \n---  ------     --------------  ----- \n 0   year       50568 non-null  int64 \n 1   title      50568 non-null  object\n 2   author     50568 non-null  object\n 3   publisher  50568 non-null  object\n 4   journal    50568 non-null  object\n 5   keyword    26933 non-null  object\n 6   abstract   28871 non-null  object\ndtypes: int64(1), object(6)\nmemory usage: 2.7+ MB\n"
     ]
    }
   ],
   "source": [
    "dataset_1.info()"
   ]
  },
  {
   "cell_type": "code",
   "execution_count": 82,
   "metadata": {
    "tags": []
   },
   "outputs": [
    {
     "output_type": "stream",
     "name": "stdout",
     "text": [
      "<class 'pandas.core.frame.DataFrame'>\nRangeIndex: 50568 entries, 0 to 50567\nData columns (total 7 columns):\n #   Column     Non-Null Count  Dtype \n---  ------     --------------  ----- \n 0   year       50568 non-null  int64 \n 1   title      50568 non-null  object\n 2   author     50568 non-null  object\n 3   publisher  50568 non-null  object\n 4   journal    50568 non-null  object\n 5   keyword    26933 non-null  object\n 6   abstract   28871 non-null  object\ndtypes: int64(1), object(6)\nmemory usage: 2.7+ MB\n"
     ]
    }
   ],
   "source": [
    "#국문 초록 값이 없는 건수가 전체의 80%에 해당하고 있음(잘못된 논리임)\n",
    "#하지만 제목은 초록의 함축적인 문장으로 볼 수 있기 때문에 초록이 없는 경우 제목으로 대체\n",
    "\n",
    "\n",
    "#0.주제어 예측\n",
    "#1.가짜 키워드~ 판별....\n",
    "#2.문서요약\n",
    "#-키워드 백터\n",
    "# dataset_2['keyword'].apply(get_words)\n",
    "dataset_1['abstract'] = np.where(dataset_1['abstract_old'].isnull(), dataset_1['others'], dataset_1['abstract_old'])\n",
    "#dataset_1['abstract'] = np.where(dataset_1['abstract_old'].isnull(), dataset_1['others'].apply(translate_test), dataset_1['abstract_old'])\n",
    "\n",
    "del dataset_1['abstract_old']\n",
    "del dataset_1['others']\n",
    "\n",
    "dataset_1.info()"
   ]
  },
  {
   "cell_type": "code",
   "execution_count": 83,
   "metadata": {},
   "outputs": [],
   "source": [
    "dataset_2 = dataset_1[dataset_1['abstract'].isnull() == False]"
   ]
  },
  {
   "cell_type": "code",
   "execution_count": 84,
   "metadata": {},
   "outputs": [
    {
     "output_type": "stream",
     "name": "stdout",
     "text": [
      "<class 'pandas.core.frame.DataFrame'>\nInt64Index: 28871 entries, 2 to 50566\nData columns (total 7 columns):\n #   Column     Non-Null Count  Dtype \n---  ------     --------------  ----- \n 0   year       28871 non-null  int64 \n 1   title      28871 non-null  object\n 2   author     28871 non-null  object\n 3   publisher  28871 non-null  object\n 4   journal    28871 non-null  object\n 5   keyword    18873 non-null  object\n 6   abstract   28871 non-null  object\ndtypes: int64(1), object(6)\nmemory usage: 1.8+ MB\n"
     ]
    }
   ],
   "source": [
    "dataset_2.info()"
   ]
  },
  {
   "cell_type": "code",
   "execution_count": 85,
   "metadata": {},
   "outputs": [
    {
     "output_type": "execute_result",
     "data": {
      "text/plain": [
       "['이', '있', '하', '것', '들']"
      ]
     },
     "metadata": {},
     "execution_count": 85
    }
   ],
   "source": [
    "stop_words_eng = stopwords.words('english')\n",
    "stop_words_kor = stopwords.words('korean')\n",
    "\n",
    "stop_words = []\n",
    "stop_words.extend(stop_words_kor)\n",
    "stop_words.extend(stop_words_eng)\n",
    "\n",
    "stop_words[:5]"
   ]
  },
  {
   "cell_type": "code",
   "execution_count": 86,
   "metadata": {},
   "outputs": [],
   "source": [
    "#색인 추출\n",
    "def tokenizer_by_twitter(raw, pos=[\"Noun\",\"Alpha\",\"Verb\",\"Number\"], stopword=stop_words):\n",
    "    return [\n",
    "        word for word, tag in twitter.pos(\n",
    "            raw, \n",
    "            norm=True,   # normalize 그랰ㅋㅋ -> 그래ㅋㅋ\n",
    "            stem=True    # stemming 바뀌나->바뀌다\n",
    "            )\n",
    "            if len(word) > 1 and tag in pos and word not in stopword\n",
    "    ]\n",
    " \n",
    "#색인 추출\n",
    "def tokenizer_by_kkma(raw, pos=[\"NNG\",\"NNP\",\"NP\", \"VV\"], stopword=stop_words):\n",
    "    return [\n",
    "        word for word, tag in kkma.pos(raw)\n",
    "            if len(word) > 1 and tag in pos and word not in stopword\n",
    "    ]\n",
    "\n",
    "#색인 추출\n",
    "def tokenizer_by_mecab(raw, pos=[\"NNG\",\"NNP\",\"NP\", \"VV\"], stopword=stop_words):\n",
    "    return [\n",
    "        word for word, tag in mecab.pos(raw)\n",
    "            if len(word) > 1 and tag in pos and word not in stopword\n",
    "    ]"
   ]
  },
  {
   "cell_type": "code",
   "execution_count": 122,
   "metadata": {},
   "outputs": [
    {
     "output_type": "stream",
     "name": "stdout",
     "text": [
      "Rha Wan Yong\nRha Wan Yong\nRha, Wan Yong\nKyoungjin Kim,Honggi Ko,Jeongmyeong Seo\nSeung Bong Hyun,Byeong Yeop Kim,Ji Hun Song,Dong-Ryul Lee\nYun-Tao SONG,Jong-Ho LEE\nSeongbeom Lee\nDai, Hao,Zhang, Hao\nJinsoo Park,Jinsoo Choi,Hyunjae Kim,Jun Oh,Minyoung Seong,Joonyoung Ahn,Sangbo Lee,Jeongho Kim\nHyun Soo Bae,Suk Gyu Lee\nDong-Ryul Lee\nInsang Song,Junghoon Sin,Chankyu Park,Joonkyu Kim\nWANG CHEN\nRha Wan Yong,Yang Heum\nByeong Yeop Kim,Dong-Ryul Lee\nJong Man Park\nKim, Tae-Ho,Lim, Jong-In\nDae-Sung Seo\nHao Dai,Hao Zhang\n"
     ]
    },
    {
     "output_type": "execute_result",
     "data": {
      "text/plain": [
       "10       박영환\n",
       "29       이신재\n",
       "30       이신재\n",
       "40        구상\n",
       "50       전지환\n",
       "        ... \n",
       "50205    이동석\n",
       "50229    천상욱\n",
       "50242    김영균\n",
       "50244    조기훈\n",
       "50258    송시우\n",
       "Name: author, Length: 3001, dtype: object"
      ]
     },
     "metadata": {},
     "execution_count": 122
    }
   ],
   "source": [
    "import re\n",
    "\n",
    "p = re.compile('[ㄱ-하ㅏ-ㅣ가-힣]+')\n",
    "\n",
    "f = lambda x: p.findall(x)[0].split(\",\")[0] if len(p.findall(x)) > 0  else print(x)\n",
    "\n",
    "f(sentence)\n",
    "\n",
    "dataset_3['author'].apply(f)"
   ]
  },
  {
   "cell_type": "code",
   "execution_count": 123,
   "metadata": {},
   "outputs": [],
   "source": [
    "#2018년 이후 논문\n",
    "dataset_3 = dataset_2[dataset_2['year'] >= 2018]\n",
    "\n",
    "p = re.compile('[ㄱ-하ㅏ-ㅣ가-힣]+')\n",
    "\n",
    "#인덱스 reset\n",
    "dataset_3 = dataset_3.reset_index()\n",
    "rawdata = dataset_3[\"abstract\"].tolist()"
   ]
  },
  {
   "cell_type": "code",
   "execution_count": null,
   "metadata": {},
   "outputs": [],
   "source": []
  },
  {
   "cell_type": "code",
   "execution_count": 124,
   "metadata": {},
   "outputs": [
    {
     "output_type": "stream",
     "name": "stdout",
     "text": [
      "3001\n"
     ]
    },
    {
     "output_type": "execute_result",
     "data": {
      "text/plain": [
       "   index  year                                              title  \\\n",
       "0     10  2018  [초청강연Ⅱ] 차세대 자동차를 위한 차체 경량화 기술 = Technology of ...   \n",
       "1     29  2018             미래형자동차 R&D 전문인력양성 = 현장실습 및 산업체 수요 중심으로   \n",
       "2     30  2018                               자율주행 자동차용 임베디드 소프트웨어   \n",
       "3     40  2018                     자동차 디자인 변화와 자동차산업의 지역 이동 비교 연구   \n",
       "4     50  2019  저온 특성을 반영한 등가 회로 기반 48V 마일드 하이브리드 자동차 동적 배터리 모...   \n",
       "\n",
       "                                              author publisher  \\\n",
       "0                               박영환(Young Whan Park)  한국자동차공학회   \n",
       "1  이신재(Sinjae Lee),김진하(Jinha Kim),기석철(Seok-Cheol ...  한국자동차공학회   \n",
       "2  이신재(Sinjae Lee),김진하(Jinha Kim),기석철(Seok-Cheol ...  한국자동차공학회   \n",
       "3                                       구상(Sang Koo)  한국자동차공학회   \n",
       "4  전지환(Jeehwan Jeon),노정우(Jungwoo Noh),김원태(Wontae ...  한국자동차공학회   \n",
       "\n",
       "                                             journal  \\\n",
       "0                               한국자동차공학회 지부 학술대회 논문집   \n",
       "1                                 한국자동차공학회 부문종합 학술대회   \n",
       "2                                 한국자동차공학회 부문종합 학술대회   \n",
       "3  한국 자동차공학회논문집(Transactions of Korea Society of ...   \n",
       "4                                 한국자동차공학회 부문종합 학술대회   \n",
       "\n",
       "                                             keyword  \\\n",
       "0  Light Weight Vehicle(경량 자동차),Multi-Material Ca...   \n",
       "1  Future Cars(미래형자동차),Human Resource Training(인력...   \n",
       "2  Embedded Software(임베디드 소프트웨어),Autonomous Drivi...   \n",
       "3  Design changing factors(디자인 변화 요인),Vehicle tec...   \n",
       "4  Electrification(전동화),Equivalent Circuit Model ...   \n",
       "\n",
       "                                            abstract  \n",
       "0  전세계적 환경오염에 대한 관심이 많아 지고 있으며, 이에 대하여 각국은 차량의 배기...  \n",
       "1  미래형 자동차 관련 핵심기술은 단순히 전통적인 자동차 분야에서 벗어나 역할의 중요성...  \n",
       "2  자율주행 자동차는 인공지능에 의한 인지, 센서, 측위 그리고 제어의 융합인 자율주행...  \n",
       "3  Automobile designs have been changed by multif...  \n",
       "4  48V 마일드 하이브리드 자동차의 연비 및 동력 성능 개선을 위해 기존 기계부품의 ...  "
      ],
      "text/html": "<div>\n<style scoped>\n    .dataframe tbody tr th:only-of-type {\n        vertical-align: middle;\n    }\n\n    .dataframe tbody tr th {\n        vertical-align: top;\n    }\n\n    .dataframe thead th {\n        text-align: right;\n    }\n</style>\n<table border=\"1\" class=\"dataframe\">\n  <thead>\n    <tr style=\"text-align: right;\">\n      <th></th>\n      <th>index</th>\n      <th>year</th>\n      <th>title</th>\n      <th>author</th>\n      <th>publisher</th>\n      <th>journal</th>\n      <th>keyword</th>\n      <th>abstract</th>\n    </tr>\n  </thead>\n  <tbody>\n    <tr>\n      <th>0</th>\n      <td>10</td>\n      <td>2018</td>\n      <td>[초청강연Ⅱ] 차세대 자동차를 위한 차체 경량화 기술 = Technology of ...</td>\n      <td>박영환(Young Whan Park)</td>\n      <td>한국자동차공학회</td>\n      <td>한국자동차공학회 지부 학술대회 논문집</td>\n      <td>Light Weight Vehicle(경량 자동차),Multi-Material Ca...</td>\n      <td>전세계적 환경오염에 대한 관심이 많아 지고 있으며, 이에 대하여 각국은 차량의 배기...</td>\n    </tr>\n    <tr>\n      <th>1</th>\n      <td>29</td>\n      <td>2018</td>\n      <td>미래형자동차 R&amp;D 전문인력양성 = 현장실습 및 산업체 수요 중심으로</td>\n      <td>이신재(Sinjae Lee),김진하(Jinha Kim),기석철(Seok-Cheol ...</td>\n      <td>한국자동차공학회</td>\n      <td>한국자동차공학회 부문종합 학술대회</td>\n      <td>Future Cars(미래형자동차),Human Resource Training(인력...</td>\n      <td>미래형 자동차 관련 핵심기술은 단순히 전통적인 자동차 분야에서 벗어나 역할의 중요성...</td>\n    </tr>\n    <tr>\n      <th>2</th>\n      <td>30</td>\n      <td>2018</td>\n      <td>자율주행 자동차용 임베디드 소프트웨어</td>\n      <td>이신재(Sinjae Lee),김진하(Jinha Kim),기석철(Seok-Cheol ...</td>\n      <td>한국자동차공학회</td>\n      <td>한국자동차공학회 부문종합 학술대회</td>\n      <td>Embedded Software(임베디드 소프트웨어),Autonomous Drivi...</td>\n      <td>자율주행 자동차는 인공지능에 의한 인지, 센서, 측위 그리고 제어의 융합인 자율주행...</td>\n    </tr>\n    <tr>\n      <th>3</th>\n      <td>40</td>\n      <td>2018</td>\n      <td>자동차 디자인 변화와 자동차산업의 지역 이동 비교 연구</td>\n      <td>구상(Sang Koo)</td>\n      <td>한국자동차공학회</td>\n      <td>한국 자동차공학회논문집(Transactions of Korea Society of ...</td>\n      <td>Design changing factors(디자인 변화 요인),Vehicle tec...</td>\n      <td>Automobile designs have been changed by multif...</td>\n    </tr>\n    <tr>\n      <th>4</th>\n      <td>50</td>\n      <td>2019</td>\n      <td>저온 특성을 반영한 등가 회로 기반 48V 마일드 하이브리드 자동차 동적 배터리 모...</td>\n      <td>전지환(Jeehwan Jeon),노정우(Jungwoo Noh),김원태(Wontae ...</td>\n      <td>한국자동차공학회</td>\n      <td>한국자동차공학회 부문종합 학술대회</td>\n      <td>Electrification(전동화),Equivalent Circuit Model ...</td>\n      <td>48V 마일드 하이브리드 자동차의 연비 및 동력 성능 개선을 위해 기존 기계부품의 ...</td>\n    </tr>\n  </tbody>\n</table>\n</div>"
     },
     "metadata": {},
     "execution_count": 124
    }
   ],
   "source": [
    "print(len(rawdata))\n",
    "dataset_3.head()"
   ]
  },
  {
   "cell_type": "code",
   "execution_count": 125,
   "metadata": {},
   "outputs": [
    {
     "output_type": "stream",
     "name": "stdout",
     "text": [
      "fit_transform, (sentence 3001, feature 37)\n총 소요시간: 5.502478122711182초\n"
     ]
    }
   ],
   "source": [
    "import time\n",
    "start = time.time()\n",
    "\n",
    "vect = CountVectorizer(min_df=0.1, tokenizer=tokenizer_by_mecab)\n",
    "result = vect.fit_transform(rawdata)\n",
    "print(\n",
    "    'fit_transform, (sentence {}, feature {})'.format(result.shape[0], result.shape[1])\n",
    ")\n",
    "\n",
    "end = time.time()\n",
    "print(f'총 소요시간: {end-start}초')"
   ]
  },
  {
   "cell_type": "code",
   "execution_count": 126,
   "metadata": {},
   "outputs": [
    {
     "output_type": "execute_result",
     "data": {
      "text/plain": [
       "{'환경': 34,\n",
       " '차량': 29,\n",
       " '자동차': 20,\n",
       " '진행': 28,\n",
       " '필요': 32,\n",
       " '효과': 36,\n",
       " '적용': 22,\n",
       " '기술': 5,\n",
       " '기존': 6,\n",
       " '방법': 11,\n",
       " '특성': 31,\n",
       " '가능': 0,\n",
       " '발생': 10,\n",
       " '연구': 17,\n",
       " '분석': 13,\n",
       " '활용': 35,\n",
       " '결과': 2,\n",
       " '산업': 15,\n",
       " '관련': 3,\n",
       " '중요': 26,\n",
       " '시스템': 16,\n",
       " '기반': 4,\n",
       " '개발': 1,\n",
       " '논문': 7,\n",
       " '자율': 21,\n",
       " '주행': 25,\n",
       " '이용': 19,\n",
       " '사용': 14,\n",
       " '목적': 9,\n",
       " '증가': 27,\n",
       " '영향': 18,\n",
       " '변화': 12,\n",
       " '확인': 33,\n",
       " '최근': 30,\n",
       " '제시': 23,\n",
       " '제안': 24,\n",
       " '대상': 8}"
      ]
     },
     "metadata": {},
     "execution_count": 126
    }
   ],
   "source": [
    "vect.vocabulary_"
   ]
  },
  {
   "cell_type": "code",
   "execution_count": 127,
   "metadata": {},
   "outputs": [
    {
     "output_type": "execute_result",
     "data": {
      "text/plain": [
       "matrix([[ 1,  0,  1, ...,  1,  1,  1],\n",
       "        [ 0,  1,  0, ...,  0,  0,  0],\n",
       "        [ 0,  0,  0, ...,  0,  0,  0],\n",
       "        ...,\n",
       "        [ 0,  0,  0, ...,  0,  0,  0],\n",
       "        [ 0,  0,  0, ...,  0,  0,  2],\n",
       "        [ 1,  0,  0, ...,  2, 17,  1]])"
      ]
     },
     "metadata": {},
     "execution_count": 127
    }
   ],
   "source": [
    "result.todense()"
   ]
  },
  {
   "cell_type": "code",
   "execution_count": 128,
   "metadata": {
    "tags": []
   },
   "outputs": [
    {
     "output_type": "stream",
     "name": "stdout",
     "text": [
      "['가능', '개발', '결과', '관련', '기반', '기술', '기존', '논문', '대상', '목적', '발생', '방법', '변화', '분석', '사용', '산업', '시스템', '연구', '영향', '이용', '자동차', '자율', '적용', '제시', '제안', '주행', '중요', '증가', '진행', '차량', '최근', '특성', '필요', '확인', '환경', '활용', '효과']\n"
     ]
    }
   ],
   "source": [
    "# 문장에서 뽑아낸 feature 들의 Dictionary\n",
    "features = vect.get_feature_names()\n",
    "print(features)"
   ]
  },
  {
   "cell_type": "code",
   "execution_count": 129,
   "metadata": {},
   "outputs": [
    {
     "output_type": "stream",
     "name": "stdout",
     "text": [
      "3001\n"
     ]
    }
   ],
   "source": [
    "print(len(result.toarray()))"
   ]
  },
  {
   "cell_type": "code",
   "execution_count": 130,
   "metadata": {},
   "outputs": [
    {
     "output_type": "execute_result",
     "data": {
      "text/plain": [
       "      가능  개발  결과  관련  기반  기술  기존  논문  대상  목적  ...  증가  진행  차량  최근  특성  필요  확인  \\\n",
       "0      1   0   1   0   0   3   1   0   0   0  ...   0   1   1   0   1   2   0   \n",
       "1      0   1   0   1   2   4   0   1   0   0  ...   0   0   0   0   0   0   0   \n",
       "2      0   0   0   0   0   1   0   1   0   1  ...   0   0   3   0   0   0   0   \n",
       "3      0   0   0   0   0   0   0   0   0   0  ...   0   0   0   0   0   0   0   \n",
       "4      0   3   0   0   2   0   1   0   0   0  ...   1   2   1   0   0   1   0   \n",
       "...   ..  ..  ..  ..  ..  ..  ..  ..  ..  ..  ...  ..  ..  ..  ..  ..  ..  ..   \n",
       "2996   0   0   0   0   0   0   0   1   0   0  ...   0   0   0   0   0   0   0   \n",
       "2997   0   0   0   0   0   0   0   0   0   0  ...   0   0   0   0   0   0   0   \n",
       "2998   0   0   0   0   0   0   0   0   0   0  ...   0   0   0   0   0   0   0   \n",
       "2999   0   0   0   0   0   0   0   0   0   0  ...   0   0   0   0   0   2   0   \n",
       "3000   1   0   0   0   0   2   1   0   2   0  ...   0   0   0   0   0   3   0   \n",
       "\n",
       "      환경  활용  효과  \n",
       "0      1   1   1  \n",
       "1      0   0   0  \n",
       "2      0   0   0  \n",
       "3      0   0   0  \n",
       "4      0   0   0  \n",
       "...   ..  ..  ..  \n",
       "2996   0   0   0  \n",
       "2997   0   0   0  \n",
       "2998   0   0   0  \n",
       "2999   0   0   2  \n",
       "3000   2  17   1  \n",
       "\n",
       "[3001 rows x 37 columns]"
      ],
      "text/html": "<div>\n<style scoped>\n    .dataframe tbody tr th:only-of-type {\n        vertical-align: middle;\n    }\n\n    .dataframe tbody tr th {\n        vertical-align: top;\n    }\n\n    .dataframe thead th {\n        text-align: right;\n    }\n</style>\n<table border=\"1\" class=\"dataframe\">\n  <thead>\n    <tr style=\"text-align: right;\">\n      <th></th>\n      <th>가능</th>\n      <th>개발</th>\n      <th>결과</th>\n      <th>관련</th>\n      <th>기반</th>\n      <th>기술</th>\n      <th>기존</th>\n      <th>논문</th>\n      <th>대상</th>\n      <th>목적</th>\n      <th>...</th>\n      <th>증가</th>\n      <th>진행</th>\n      <th>차량</th>\n      <th>최근</th>\n      <th>특성</th>\n      <th>필요</th>\n      <th>확인</th>\n      <th>환경</th>\n      <th>활용</th>\n      <th>효과</th>\n    </tr>\n  </thead>\n  <tbody>\n    <tr>\n      <th>0</th>\n      <td>1</td>\n      <td>0</td>\n      <td>1</td>\n      <td>0</td>\n      <td>0</td>\n      <td>3</td>\n      <td>1</td>\n      <td>0</td>\n      <td>0</td>\n      <td>0</td>\n      <td>...</td>\n      <td>0</td>\n      <td>1</td>\n      <td>1</td>\n      <td>0</td>\n      <td>1</td>\n      <td>2</td>\n      <td>0</td>\n      <td>1</td>\n      <td>1</td>\n      <td>1</td>\n    </tr>\n    <tr>\n      <th>1</th>\n      <td>0</td>\n      <td>1</td>\n      <td>0</td>\n      <td>1</td>\n      <td>2</td>\n      <td>4</td>\n      <td>0</td>\n      <td>1</td>\n      <td>0</td>\n      <td>0</td>\n      <td>...</td>\n      <td>0</td>\n      <td>0</td>\n      <td>0</td>\n      <td>0</td>\n      <td>0</td>\n      <td>0</td>\n      <td>0</td>\n      <td>0</td>\n      <td>0</td>\n      <td>0</td>\n    </tr>\n    <tr>\n      <th>2</th>\n      <td>0</td>\n      <td>0</td>\n      <td>0</td>\n      <td>0</td>\n      <td>0</td>\n      <td>1</td>\n      <td>0</td>\n      <td>1</td>\n      <td>0</td>\n      <td>1</td>\n      <td>...</td>\n      <td>0</td>\n      <td>0</td>\n      <td>3</td>\n      <td>0</td>\n      <td>0</td>\n      <td>0</td>\n      <td>0</td>\n      <td>0</td>\n      <td>0</td>\n      <td>0</td>\n    </tr>\n    <tr>\n      <th>3</th>\n      <td>0</td>\n      <td>0</td>\n      <td>0</td>\n      <td>0</td>\n      <td>0</td>\n      <td>0</td>\n      <td>0</td>\n      <td>0</td>\n      <td>0</td>\n      <td>0</td>\n      <td>...</td>\n      <td>0</td>\n      <td>0</td>\n      <td>0</td>\n      <td>0</td>\n      <td>0</td>\n      <td>0</td>\n      <td>0</td>\n      <td>0</td>\n      <td>0</td>\n      <td>0</td>\n    </tr>\n    <tr>\n      <th>4</th>\n      <td>0</td>\n      <td>3</td>\n      <td>0</td>\n      <td>0</td>\n      <td>2</td>\n      <td>0</td>\n      <td>1</td>\n      <td>0</td>\n      <td>0</td>\n      <td>0</td>\n      <td>...</td>\n      <td>1</td>\n      <td>2</td>\n      <td>1</td>\n      <td>0</td>\n      <td>0</td>\n      <td>1</td>\n      <td>0</td>\n      <td>0</td>\n      <td>0</td>\n      <td>0</td>\n    </tr>\n    <tr>\n      <th>...</th>\n      <td>...</td>\n      <td>...</td>\n      <td>...</td>\n      <td>...</td>\n      <td>...</td>\n      <td>...</td>\n      <td>...</td>\n      <td>...</td>\n      <td>...</td>\n      <td>...</td>\n      <td>...</td>\n      <td>...</td>\n      <td>...</td>\n      <td>...</td>\n      <td>...</td>\n      <td>...</td>\n      <td>...</td>\n      <td>...</td>\n      <td>...</td>\n      <td>...</td>\n      <td>...</td>\n    </tr>\n    <tr>\n      <th>2996</th>\n      <td>0</td>\n      <td>0</td>\n      <td>0</td>\n      <td>0</td>\n      <td>0</td>\n      <td>0</td>\n      <td>0</td>\n      <td>1</td>\n      <td>0</td>\n      <td>0</td>\n      <td>...</td>\n      <td>0</td>\n      <td>0</td>\n      <td>0</td>\n      <td>0</td>\n      <td>0</td>\n      <td>0</td>\n      <td>0</td>\n      <td>0</td>\n      <td>0</td>\n      <td>0</td>\n    </tr>\n    <tr>\n      <th>2997</th>\n      <td>0</td>\n      <td>0</td>\n      <td>0</td>\n      <td>0</td>\n      <td>0</td>\n      <td>0</td>\n      <td>0</td>\n      <td>0</td>\n      <td>0</td>\n      <td>0</td>\n      <td>...</td>\n      <td>0</td>\n      <td>0</td>\n      <td>0</td>\n      <td>0</td>\n      <td>0</td>\n      <td>0</td>\n      <td>0</td>\n      <td>0</td>\n      <td>0</td>\n      <td>0</td>\n    </tr>\n    <tr>\n      <th>2998</th>\n      <td>0</td>\n      <td>0</td>\n      <td>0</td>\n      <td>0</td>\n      <td>0</td>\n      <td>0</td>\n      <td>0</td>\n      <td>0</td>\n      <td>0</td>\n      <td>0</td>\n      <td>...</td>\n      <td>0</td>\n      <td>0</td>\n      <td>0</td>\n      <td>0</td>\n      <td>0</td>\n      <td>0</td>\n      <td>0</td>\n      <td>0</td>\n      <td>0</td>\n      <td>0</td>\n    </tr>\n    <tr>\n      <th>2999</th>\n      <td>0</td>\n      <td>0</td>\n      <td>0</td>\n      <td>0</td>\n      <td>0</td>\n      <td>0</td>\n      <td>0</td>\n      <td>0</td>\n      <td>0</td>\n      <td>0</td>\n      <td>...</td>\n      <td>0</td>\n      <td>0</td>\n      <td>0</td>\n      <td>0</td>\n      <td>0</td>\n      <td>2</td>\n      <td>0</td>\n      <td>0</td>\n      <td>0</td>\n      <td>2</td>\n    </tr>\n    <tr>\n      <th>3000</th>\n      <td>1</td>\n      <td>0</td>\n      <td>0</td>\n      <td>0</td>\n      <td>0</td>\n      <td>2</td>\n      <td>1</td>\n      <td>0</td>\n      <td>2</td>\n      <td>0</td>\n      <td>...</td>\n      <td>0</td>\n      <td>0</td>\n      <td>0</td>\n      <td>0</td>\n      <td>0</td>\n      <td>3</td>\n      <td>0</td>\n      <td>2</td>\n      <td>17</td>\n      <td>1</td>\n    </tr>\n  </tbody>\n</table>\n<p>3001 rows × 37 columns</p>\n</div>"
     },
     "metadata": {},
     "execution_count": 130
    }
   ],
   "source": [
    "result_frame = pd.DataFrame(result_array, columns=features)\n",
    "result_frame"
   ]
  },
  {
   "cell_type": "code",
   "execution_count": 131,
   "metadata": {},
   "outputs": [
    {
     "output_type": "execute_result",
     "data": {
      "text/plain": [
       "      index  year                                              title  \\\n",
       "0        10  2018  [초청강연Ⅱ] 차세대 자동차를 위한 차체 경량화 기술 = Technology of ...   \n",
       "1        29  2018             미래형자동차 R&D 전문인력양성 = 현장실습 및 산업체 수요 중심으로   \n",
       "2        30  2018                               자율주행 자동차용 임베디드 소프트웨어   \n",
       "3        40  2018                     자동차 디자인 변화와 자동차산업의 지역 이동 비교 연구   \n",
       "4        50  2019  저온 특성을 반영한 등가 회로 기반 48V 마일드 하이브리드 자동차 동적 배터리 모...   \n",
       "...     ...   ...                                                ...   \n",
       "2996  50205  2019  깊이 정보로 평면 유사도 측정을 통한 자동차 번호판 검출 방법 = Vehicle P...   \n",
       "2997  50229  2020  참조 모델과 설계 이력 데이터를 이용한 자동차 기구 요소의 지식 기반 설계 시스템 ...   \n",
       "2998  50242  2018  산화물 분산 강화 강 분말이 첨가된 자동차 부품용 철계 복합 소재의 미세조직 및 마...   \n",
       "2999  50244  2018  스마트 기업의 BCMS 도입이 조직 인식구조 변화에 미친 영향에 관한 연구 (자동차...   \n",
       "3000  50258  2019  전기･전자제품 렌탈사업자 및 중소전기･전자제품 제조･수입･판매업자의 재활용 활성화방...   \n",
       "\n",
       "                                                 author publisher  \\\n",
       "0                                  박영환(Young Whan Park)  한국자동차공학회   \n",
       "1     이신재(Sinjae Lee),김진하(Jinha Kim),기석철(Seok-Cheol ...  한국자동차공학회   \n",
       "2     이신재(Sinjae Lee),김진하(Jinha Kim),기석철(Seok-Cheol ...  한국자동차공학회   \n",
       "3                                          구상(Sang Koo)  한국자동차공학회   \n",
       "4     전지환(Jeehwan Jeon),노정우(Jungwoo Noh),김원태(Wontae ...  한국자동차공학회   \n",
       "...                                                 ...       ...   \n",
       "2996                                            이동석,권순각  한국산업정보학회   \n",
       "2997                                                천상욱  대한설비관리학회   \n",
       "2998  김영균,박종관,이기안,Kim, Young-Kyun,Park, Jong-Kwan,Le...  한국분말야금학회   \n",
       "2999  조기훈,김동헌,장호진,Cho, Ki Hoon,Kim, Dong Heon,Jang, ...  한국방재안전학회   \n",
       "3000                                                송시우    한국입법학회   \n",
       "\n",
       "                                                journal  \\\n",
       "0                                  한국자동차공학회 지부 학술대회 논문집   \n",
       "1                                    한국자동차공학회 부문종합 학술대회   \n",
       "2                                    한국자동차공학회 부문종합 학술대회   \n",
       "3     한국 자동차공학회논문집(Transactions of Korea Society of ...   \n",
       "4                                    한국자동차공학회 부문종합 학술대회   \n",
       "...                                                 ...   \n",
       "2996  한국산업정보학회논문지(Journal of the Korea industrial in...   \n",
       "2997  대한설비관리학회지(JOURNAL OF THE KOREAN INSTITUTE OF P...   \n",
       "2998  한국분말야금학회지(Journal of Korean powder metallurgy ...   \n",
       "2999  한국방재안전학회 논문집(Korean Society of Disaster & Secu...   \n",
       "3000                                              입법학연구   \n",
       "\n",
       "                                                keyword  \\\n",
       "0     Light Weight Vehicle(경량 자동차),Multi-Material Ca...   \n",
       "1     Future Cars(미래형자동차),Human Resource Training(인력...   \n",
       "2     Embedded Software(임베디드 소프트웨어),Autonomous Drivi...   \n",
       "3     Design changing factors(디자인 변화 요인),Vehicle tec...   \n",
       "4     Electrification(전동화),Equivalent Circuit Model ...   \n",
       "...                                                 ...   \n",
       "2996  Depth Information,Vehicle Plate Detection,Plan...   \n",
       "2997  CAD Model,Design History,XpertRule,Ontology,Kn...   \n",
       "2998  Oxide dispersion strengthening,Steel-base comp...   \n",
       "2999                         비즈니스연속성관리시스템,조직의 인식구조,비상사태   \n",
       "3000  렌탈사업자와 자원순환,중소형가전의 재활용,렌탈재활용공제조합,시범사업,자발적 협약,R...   \n",
       "\n",
       "                                               abstract  가능  개발  ...  증가  진행  \\\n",
       "0     전세계적 환경오염에 대한 관심이 많아 지고 있으며, 이에 대하여 각국은 차량의 배기...   1   0  ...   0   1   \n",
       "1     미래형 자동차 관련 핵심기술은 단순히 전통적인 자동차 분야에서 벗어나 역할의 중요성...   0   1  ...   0   0   \n",
       "2     자율주행 자동차는 인공지능에 의한 인지, 센서, 측위 그리고 제어의 융합인 자율주행...   0   0  ...   0   0   \n",
       "3     Automobile designs have been changed by multif...   0   0  ...   0   0   \n",
       "4     48V 마일드 하이브리드 자동차의 연비 및 동력 성능 개선을 위해 기존 기계부품의 ...   0   3  ...   1   2   \n",
       "...                                                 ...  ..  ..  ...  ..  ..   \n",
       "2996  본 논문에서는 조명의 영향을 받지 않는 깊이 정보를 이용한 번호판 검출 방법을 제안...   0   0  ...   0   0   \n",
       "2997  Reusing existing design data in product design...   0   0  ...   0   0   \n",
       "2998  In order to expand the application of oxide di...   0   0  ...   0   0   \n",
       "2999  비즈니스 연속성에 치명적인 영향을 줄 수 있는 홍수, 호우, 강풍 등 자연재해와 9...   0   0  ...   0   0   \n",
       "3000  종래 재활용기술의 부족과 고비용의 문제로 인하여 그리고 환경에 대한 무관심으로 인하...   1   0  ...   0   0   \n",
       "\n",
       "      차량  최근  특성  필요  확인  환경  활용  효과  \n",
       "0      1   0   1   2   0   1   1   1  \n",
       "1      0   0   0   0   0   0   0   0  \n",
       "2      3   0   0   0   0   0   0   0  \n",
       "3      0   0   0   0   0   0   0   0  \n",
       "4      1   0   0   1   0   0   0   0  \n",
       "...   ..  ..  ..  ..  ..  ..  ..  ..  \n",
       "2996   0   0   0   0   0   0   0   0  \n",
       "2997   0   0   0   0   0   0   0   0  \n",
       "2998   0   0   0   0   0   0   0   0  \n",
       "2999   0   0   0   2   0   0   0   2  \n",
       "3000   0   0   0   3   0   2  17   1  \n",
       "\n",
       "[3001 rows x 45 columns]"
      ],
      "text/html": "<div>\n<style scoped>\n    .dataframe tbody tr th:only-of-type {\n        vertical-align: middle;\n    }\n\n    .dataframe tbody tr th {\n        vertical-align: top;\n    }\n\n    .dataframe thead th {\n        text-align: right;\n    }\n</style>\n<table border=\"1\" class=\"dataframe\">\n  <thead>\n    <tr style=\"text-align: right;\">\n      <th></th>\n      <th>index</th>\n      <th>year</th>\n      <th>title</th>\n      <th>author</th>\n      <th>publisher</th>\n      <th>journal</th>\n      <th>keyword</th>\n      <th>abstract</th>\n      <th>가능</th>\n      <th>개발</th>\n      <th>...</th>\n      <th>증가</th>\n      <th>진행</th>\n      <th>차량</th>\n      <th>최근</th>\n      <th>특성</th>\n      <th>필요</th>\n      <th>확인</th>\n      <th>환경</th>\n      <th>활용</th>\n      <th>효과</th>\n    </tr>\n  </thead>\n  <tbody>\n    <tr>\n      <th>0</th>\n      <td>10</td>\n      <td>2018</td>\n      <td>[초청강연Ⅱ] 차세대 자동차를 위한 차체 경량화 기술 = Technology of ...</td>\n      <td>박영환(Young Whan Park)</td>\n      <td>한국자동차공학회</td>\n      <td>한국자동차공학회 지부 학술대회 논문집</td>\n      <td>Light Weight Vehicle(경량 자동차),Multi-Material Ca...</td>\n      <td>전세계적 환경오염에 대한 관심이 많아 지고 있으며, 이에 대하여 각국은 차량의 배기...</td>\n      <td>1</td>\n      <td>0</td>\n      <td>...</td>\n      <td>0</td>\n      <td>1</td>\n      <td>1</td>\n      <td>0</td>\n      <td>1</td>\n      <td>2</td>\n      <td>0</td>\n      <td>1</td>\n      <td>1</td>\n      <td>1</td>\n    </tr>\n    <tr>\n      <th>1</th>\n      <td>29</td>\n      <td>2018</td>\n      <td>미래형자동차 R&amp;D 전문인력양성 = 현장실습 및 산업체 수요 중심으로</td>\n      <td>이신재(Sinjae Lee),김진하(Jinha Kim),기석철(Seok-Cheol ...</td>\n      <td>한국자동차공학회</td>\n      <td>한국자동차공학회 부문종합 학술대회</td>\n      <td>Future Cars(미래형자동차),Human Resource Training(인력...</td>\n      <td>미래형 자동차 관련 핵심기술은 단순히 전통적인 자동차 분야에서 벗어나 역할의 중요성...</td>\n      <td>0</td>\n      <td>1</td>\n      <td>...</td>\n      <td>0</td>\n      <td>0</td>\n      <td>0</td>\n      <td>0</td>\n      <td>0</td>\n      <td>0</td>\n      <td>0</td>\n      <td>0</td>\n      <td>0</td>\n      <td>0</td>\n    </tr>\n    <tr>\n      <th>2</th>\n      <td>30</td>\n      <td>2018</td>\n      <td>자율주행 자동차용 임베디드 소프트웨어</td>\n      <td>이신재(Sinjae Lee),김진하(Jinha Kim),기석철(Seok-Cheol ...</td>\n      <td>한국자동차공학회</td>\n      <td>한국자동차공학회 부문종합 학술대회</td>\n      <td>Embedded Software(임베디드 소프트웨어),Autonomous Drivi...</td>\n      <td>자율주행 자동차는 인공지능에 의한 인지, 센서, 측위 그리고 제어의 융합인 자율주행...</td>\n      <td>0</td>\n      <td>0</td>\n      <td>...</td>\n      <td>0</td>\n      <td>0</td>\n      <td>3</td>\n      <td>0</td>\n      <td>0</td>\n      <td>0</td>\n      <td>0</td>\n      <td>0</td>\n      <td>0</td>\n      <td>0</td>\n    </tr>\n    <tr>\n      <th>3</th>\n      <td>40</td>\n      <td>2018</td>\n      <td>자동차 디자인 변화와 자동차산업의 지역 이동 비교 연구</td>\n      <td>구상(Sang Koo)</td>\n      <td>한국자동차공학회</td>\n      <td>한국 자동차공학회논문집(Transactions of Korea Society of ...</td>\n      <td>Design changing factors(디자인 변화 요인),Vehicle tec...</td>\n      <td>Automobile designs have been changed by multif...</td>\n      <td>0</td>\n      <td>0</td>\n      <td>...</td>\n      <td>0</td>\n      <td>0</td>\n      <td>0</td>\n      <td>0</td>\n      <td>0</td>\n      <td>0</td>\n      <td>0</td>\n      <td>0</td>\n      <td>0</td>\n      <td>0</td>\n    </tr>\n    <tr>\n      <th>4</th>\n      <td>50</td>\n      <td>2019</td>\n      <td>저온 특성을 반영한 등가 회로 기반 48V 마일드 하이브리드 자동차 동적 배터리 모...</td>\n      <td>전지환(Jeehwan Jeon),노정우(Jungwoo Noh),김원태(Wontae ...</td>\n      <td>한국자동차공학회</td>\n      <td>한국자동차공학회 부문종합 학술대회</td>\n      <td>Electrification(전동화),Equivalent Circuit Model ...</td>\n      <td>48V 마일드 하이브리드 자동차의 연비 및 동력 성능 개선을 위해 기존 기계부품의 ...</td>\n      <td>0</td>\n      <td>3</td>\n      <td>...</td>\n      <td>1</td>\n      <td>2</td>\n      <td>1</td>\n      <td>0</td>\n      <td>0</td>\n      <td>1</td>\n      <td>0</td>\n      <td>0</td>\n      <td>0</td>\n      <td>0</td>\n    </tr>\n    <tr>\n      <th>...</th>\n      <td>...</td>\n      <td>...</td>\n      <td>...</td>\n      <td>...</td>\n      <td>...</td>\n      <td>...</td>\n      <td>...</td>\n      <td>...</td>\n      <td>...</td>\n      <td>...</td>\n      <td>...</td>\n      <td>...</td>\n      <td>...</td>\n      <td>...</td>\n      <td>...</td>\n      <td>...</td>\n      <td>...</td>\n      <td>...</td>\n      <td>...</td>\n      <td>...</td>\n      <td>...</td>\n    </tr>\n    <tr>\n      <th>2996</th>\n      <td>50205</td>\n      <td>2019</td>\n      <td>깊이 정보로 평면 유사도 측정을 통한 자동차 번호판 검출 방법 = Vehicle P...</td>\n      <td>이동석,권순각</td>\n      <td>한국산업정보학회</td>\n      <td>한국산업정보학회논문지(Journal of the Korea industrial in...</td>\n      <td>Depth Information,Vehicle Plate Detection,Plan...</td>\n      <td>본 논문에서는 조명의 영향을 받지 않는 깊이 정보를 이용한 번호판 검출 방법을 제안...</td>\n      <td>0</td>\n      <td>0</td>\n      <td>...</td>\n      <td>0</td>\n      <td>0</td>\n      <td>0</td>\n      <td>0</td>\n      <td>0</td>\n      <td>0</td>\n      <td>0</td>\n      <td>0</td>\n      <td>0</td>\n      <td>0</td>\n    </tr>\n    <tr>\n      <th>2997</th>\n      <td>50229</td>\n      <td>2020</td>\n      <td>참조 모델과 설계 이력 데이터를 이용한 자동차 기구 요소의 지식 기반 설계 시스템 ...</td>\n      <td>천상욱</td>\n      <td>대한설비관리학회</td>\n      <td>대한설비관리학회지(JOURNAL OF THE KOREAN INSTITUTE OF P...</td>\n      <td>CAD Model,Design History,XpertRule,Ontology,Kn...</td>\n      <td>Reusing existing design data in product design...</td>\n      <td>0</td>\n      <td>0</td>\n      <td>...</td>\n      <td>0</td>\n      <td>0</td>\n      <td>0</td>\n      <td>0</td>\n      <td>0</td>\n      <td>0</td>\n      <td>0</td>\n      <td>0</td>\n      <td>0</td>\n      <td>0</td>\n    </tr>\n    <tr>\n      <th>2998</th>\n      <td>50242</td>\n      <td>2018</td>\n      <td>산화물 분산 강화 강 분말이 첨가된 자동차 부품용 철계 복합 소재의 미세조직 및 마...</td>\n      <td>김영균,박종관,이기안,Kim, Young-Kyun,Park, Jong-Kwan,Le...</td>\n      <td>한국분말야금학회</td>\n      <td>한국분말야금학회지(Journal of Korean powder metallurgy ...</td>\n      <td>Oxide dispersion strengthening,Steel-base comp...</td>\n      <td>In order to expand the application of oxide di...</td>\n      <td>0</td>\n      <td>0</td>\n      <td>...</td>\n      <td>0</td>\n      <td>0</td>\n      <td>0</td>\n      <td>0</td>\n      <td>0</td>\n      <td>0</td>\n      <td>0</td>\n      <td>0</td>\n      <td>0</td>\n      <td>0</td>\n    </tr>\n    <tr>\n      <th>2999</th>\n      <td>50244</td>\n      <td>2018</td>\n      <td>스마트 기업의 BCMS 도입이 조직 인식구조 변화에 미친 영향에 관한 연구 (자동차...</td>\n      <td>조기훈,김동헌,장호진,Cho, Ki Hoon,Kim, Dong Heon,Jang, ...</td>\n      <td>한국방재안전학회</td>\n      <td>한국방재안전학회 논문집(Korean Society of Disaster &amp; Secu...</td>\n      <td>비즈니스연속성관리시스템,조직의 인식구조,비상사태</td>\n      <td>비즈니스 연속성에 치명적인 영향을 줄 수 있는 홍수, 호우, 강풍 등 자연재해와 9...</td>\n      <td>0</td>\n      <td>0</td>\n      <td>...</td>\n      <td>0</td>\n      <td>0</td>\n      <td>0</td>\n      <td>0</td>\n      <td>0</td>\n      <td>2</td>\n      <td>0</td>\n      <td>0</td>\n      <td>0</td>\n      <td>2</td>\n    </tr>\n    <tr>\n      <th>3000</th>\n      <td>50258</td>\n      <td>2019</td>\n      <td>전기･전자제품 렌탈사업자 및 중소전기･전자제품 제조･수입･판매업자의 재활용 활성화방...</td>\n      <td>송시우</td>\n      <td>한국입법학회</td>\n      <td>입법학연구</td>\n      <td>렌탈사업자와 자원순환,중소형가전의 재활용,렌탈재활용공제조합,시범사업,자발적 협약,R...</td>\n      <td>종래 재활용기술의 부족과 고비용의 문제로 인하여 그리고 환경에 대한 무관심으로 인하...</td>\n      <td>1</td>\n      <td>0</td>\n      <td>...</td>\n      <td>0</td>\n      <td>0</td>\n      <td>0</td>\n      <td>0</td>\n      <td>0</td>\n      <td>3</td>\n      <td>0</td>\n      <td>2</td>\n      <td>17</td>\n      <td>1</td>\n    </tr>\n  </tbody>\n</table>\n<p>3001 rows × 45 columns</p>\n</div>"
     },
     "metadata": {},
     "execution_count": 131
    }
   ],
   "source": [
    "last_result = pd.concat([dataset_3, result_frame.reindex(dataset_3.index)], axis = 1)\n",
    "last_result"
   ]
  },
  {
   "cell_type": "code",
   "execution_count": 132,
   "metadata": {},
   "outputs": [],
   "source": [
    "dataset_3.to_csv(\"./dataset/count_vec.csv\", index=False, encoding=\"utf-8\")"
   ]
  },
  {
   "cell_type": "code",
   "execution_count": 133,
   "metadata": {},
   "outputs": [
    {
     "output_type": "stream",
     "name": "stdout",
     "text": [
      "fit_transform, (sentence 3001, feature 3075)\n[[0. 0. 0. ... 0. 0. 0.]\n [0. 0. 0. ... 0. 0. 0.]\n [0. 0. 0. ... 0. 0. 0.]\n ...\n [0. 0. 0. ... 0. 0. 0.]\n [0. 0. 0. ... 0. 0. 0.]\n [0. 0. 0. ... 0. 0. 0.]]\n"
     ]
    }
   ],
   "source": [
    "vectorize = TfidfVectorizer(\n",
    "    tokenizer=tokenizer_by_mecab,\n",
    "    min_df=5,\n",
    "    sublinear_tf = True    # tf값에 1+log(tf)를 적용하여 tf값이 무한정 커지는 것을 막음\n",
    ")\n",
    "X = vectorize.fit_transform(rawdata)\n",
    "print(\n",
    "    'fit_transform, (sentence {}, feature {})'.format(X.shape[0], X.shape[1])\n",
    ")\n",
    "print(X.toarray())\n",
    "# 문장에서 뽑아낸 feature 들의 배열\n",
    "features = vectorize.get_feature_names()"
   ]
  },
  {
   "cell_type": "code",
   "execution_count": 135,
   "metadata": {},
   "outputs": [
    {
     "output_type": "stream",
     "name": "stdout",
     "text": [
      "[[0. 0. 0. ... 0. 0. 0.]\n [0. 0. 0. ... 0. 0. 0.]\n [0. 0. 0. ... 0. 0. 0.]\n ...\n [0. 0. 0. ... 0. 0. 0.]\n [0. 0. 0. ... 0. 0. 0.]\n [0. 0. 0. ... 0. 0. 0.]]\n"
     ]
    }
   ],
   "source": [
    "print(X.toarray())"
   ]
  },
  {
   "source": [
    "### CountVector를 위한 준비 작업 및 확인 로직 (종료)"
   ],
   "cell_type": "markdown",
   "metadata": {}
  },
  {
   "cell_type": "code",
   "execution_count": 78,
   "metadata": {},
   "outputs": [],
   "source": [
    "result = []\n",
    "\n",
    "for idx, val in enumerate(rawdata):\n",
    "        if idx % 1000 == 0 :\n",
    "        print(f'{idx + 1} 개를 처리중입니다. [{val}]')\n",
    "    words = tokenizer_by_kkma(val)\n",
    "    result.extend(words)"
   ]
  },
  {
   "cell_type": "code",
   "execution_count": 87,
   "metadata": {},
   "outputs": [
    {
     "output_type": "execute_result",
     "data": {
      "text/plain": [
       "160764"
      ]
     },
     "metadata": {},
     "execution_count": 87
    }
   ],
   "source": [
    "len(result)"
   ]
  },
  {
   "cell_type": "code",
   "execution_count": 88,
   "metadata": {},
   "outputs": [],
   "source": [
    "count = Counter(result)"
   ]
  },
  {
   "cell_type": "code",
   "execution_count": 96,
   "metadata": {},
   "outputs": [
    {
     "output_type": "stream",
     "name": "stdout",
     "text": [
      "{'자동차': 4123, '시스템': 2152, '차량': 1782, '해석': 1610, '주행': 1602, '제어': 1473, '장치': 1278, '전기': 1113, '시험': 1054, '연료': 1042, '모델': 965, '자율': 927, '엔진': 891, '분석': 865, '요소': 862, '가스': 726, '충돌': 712, '하이브리드': 655, '설계': 654, '센서': 638, '평가': 617, '분사': 602, '안전': 551, '성능': 547, '산업': 543, '보험': 537, '특성': 528, '구조': 514, '모드': 508, '모터': 504, '촉매': 494, '도로': 490, '변속기': 484, '조향': 482, '자동': 479, '디젤': 476, '최적화': 472, '제동': 468, '유체': 444, '환경': 434, '배출': 431, '교통': 431, '전산': 430, '전지': 429, '토크': 425, '계수': 410, '역학': 410, '에너지': 401, '시뮬레이션': 400, '배터리': 397, '압력': 392, '복합': 390, '물질': 389, '질소': 388, '밸브': 382, '산화물': 379, '운전자': 379, '속도': 374, '마찰': 369, '클러치': 360, '책임': 360, '부품': 357, '디자인': 356, '소음': 348, '연소': 348, '운전': 343, '기술': 340, '브레이크': 338, '사고': 330, '시간': 327, '전자': 326, '수소': 323, '모형': 322, '구동': 315, '시트': 310, '동역학': 308, '최적': 299, '모듈': 295, '전략': 293, '공기': 292, '온도': 291, '실험': 291, '냉각': 290, '가솔린': 290, '강도': 281, '기반': 278, '정보': 277, '펌프': 274, '효율': 271, '인식': 270, '필터': 270, '배기': 269, '배기가스': 269, '예측': 267, '효과': 263, '저항': 261, '경량': 258, '관리': 258, '직접': 253, '계획법': 251}\n"
     ]
    }
   ],
   "source": [
    "words = dict(count.most_common(100))\n",
    "print(words)\n"
   ]
  },
  {
   "cell_type": "code",
   "execution_count": 97,
   "metadata": {},
   "outputs": [
    {
     "output_type": "stream",
     "name": "stdout",
     "text": [
      "{'자동차': 4123, '시스템': 2152, '차량': 1782, '해석': 1610, '주행': 1602, '제어': 1473, '장치': 1278, '전기': 1113, '시험': 1054, '연료': 1042, '모델': 965, '자율': 927, '엔진': 891, '분석': 865, '요소': 862, '가스': 726, '충돌': 712, '하이브리드': 655, '설계': 654, '센서': 638, '평가': 617, '분사': 602, '안전': 551, '성능': 547, '산업': 543, '보험': 537, '특성': 528, '구조': 514, '모드': 508, '모터': 504, '촉매': 494, '도로': 490, '변속기': 484, '조향': 482, '자동': 479, '디젤': 476, '최적화': 472, '제동': 468, '유체': 444, '환경': 434, '배출': 431, '교통': 431, '전산': 430, '전지': 429, '토크': 425, '계수': 410, '역학': 410, '에너지': 401, '시뮬레이션': 400, '배터리': 397, '압력': 392, '복합': 390, '물질': 389, '질소': 388, '밸브': 382, '산화물': 379, '운전자': 379, '속도': 374, '마찰': 369, '클러치': 360, '책임': 360, '부품': 357, '디자인': 356, '소음': 348, '연소': 348, '운전': 343, '기술': 340, '브레이크': 338, '사고': 330, '시간': 327, '전자': 326, '수소': 323, '모형': 322, '구동': 315, '시트': 310, '동역학': 308, '최적': 299, '모듈': 295, '전략': 293, '공기': 292, '온도': 291, '실험': 291, '냉각': 290, '가솔린': 290, '강도': 281, '기반': 278, '정보': 277, '펌프': 274, '효율': 271, '인식': 270, '필터': 270, '배기': 269, '배기가스': 269, '예측': 267, '효과': 263, '저항': 261, '경량': 258, '관리': 258, '직접': 253, '계획법': 251, '상해': 251, '데이터': 248, '압축': 248, '거리': 238, '섬유': 237, '파워': 237, '방향': 232, '지수': 232, '전동기': 231, '오일': 229, '기준': 228, '진동': 226, '유동': 225, '네트워크': 222, '지능': 221, '측정': 221, '보조': 221, '통신': 219, '경로': 217, '수명': 216, '추정': 214, '처리': 212, '내구': 209, '저감': 209, '검출': 207, '재순환': 205, '선택적': 204, '혼합': 204, '환원': 204, '변형': 202, '동력': 200, '응력': 200, '융합': 199, '형상': 199, '자상': 199, '용접': 198, '통합': 197, '표면': 197, '주차': 197, '하중': 193, '서비스': 191, '알루미늄': 191, '기법': 189, '상태': 188, '알고리즘': 187, '기업': 186, '소재': 184, '지원': 183, '브랜드': 182, '전달': 178, '조건': 177, '안정성': 175, '기능': 175, '동기': 173, '기어': 173, '탄소': 173, '분무': 173, '방법': 171, '충전': 171, '손실': 170, '스마트': 168, '손해': 166, '강성': 164, '제도': 161, '영상': 160, '개발': 160, '스프링': 157, '규제': 156, '무역': 155, '위험': 154, '터보': 154, '보호': 154, '공정': 153, '품질': 153, '공간': 153, '반응': 152, '자기': 152, '베어링': 151, '보행': 151, '물체': 149, '측면': 148, '제어기': 147, '고분자': 146, '성형': 146, '위치': 145, '검사': 145, '전력': 145, '카메라': 144, '평균': 144, '시장': 144, '생산': 143, '입자': 143, '사이클': 143, '표준': 143, '인젝터': 143, '바이오': 143, '신호': 141, '충격': 140, '학습': 140, '버스': 140}\n"
     ]
    }
   ],
   "source": [
    "words = dict(count.most_common(200))\n",
    "print(words)"
   ]
  },
  {
   "cell_type": "code",
   "execution_count": 106,
   "metadata": {},
   "outputs": [
    {
     "output_type": "stream",
     "name": "stdout",
     "text": [
      "주제어: 자동차 / 논문수: 5604\n",
      "주제어: 시스템 / 논문수: 1377\n",
      "주제어: 차량 / 논문수: 1393\n",
      "주제어: 해석 / 논문수: 713\n",
      "주제어: 주행 / 논문수: 939\n",
      "주제어: 제어 / 논문수: 515\n",
      "주제어: 장치 / 논문수: 629\n",
      "주제어: 전기 / 논문수: 802\n",
      "주제어: 시험 / 논문수: 430\n",
      "주제어: 연료 / 논문수: 403\n",
      "주제어: 모델 / 논문수: 810\n",
      "주제어: 자율 / 논문수: 532\n",
      "주제어: 엔진 / 논문수: 329\n",
      "주제어: 분석 / 논문수: 2910\n",
      "주제어: 요소 / 논문수: 800\n",
      "주제어: 가스 / 논문수: 470\n",
      "주제어: 충돌 / 논문수: 162\n",
      "주제어: 하이브리드 / 논문수: 149\n",
      "주제어: 설계 / 논문수: 966\n",
      "주제어: 센서 / 논문수: 277\n",
      "주제어: 평가 / 논문수: 1038\n",
      "주제어: 분사 / 논문수: 54\n",
      "주제어: 안전 / 논문수: 908\n",
      "주제어: 성능 / 논문수: 893\n",
      "주제어: 산업 / 논문수: 1558\n",
      "주제어: 보험 / 논문수: 349\n",
      "주제어: 특성 / 논문수: 1369\n",
      "주제어: 구조 / 논문수: 988\n",
      "주제어: 모드 / 논문수: 112\n",
      "주제어: 모터 / 논문수: 144\n",
      "주제어: 촉매 / 논문수: 91\n",
      "주제어: 도로 / 논문수: 1021\n",
      "주제어: 변속기 / 논문수: 52\n",
      "주제어: 조향 / 논문수: 61\n",
      "주제어: 자동 / 논문수: 5653\n",
      "주제어: 디젤 / 논문수: 107\n",
      "주제어: 최적화 / 논문수: 197\n",
      "주제어: 제동 / 논문수: 94\n",
      "주제어: 유체 / 논문수: 47\n",
      "주제어: 환경 / 논문수: 1495\n",
      "주제어: 배출 / 논문수: 414\n",
      "주제어: 교통 / 논문수: 894\n",
      "주제어: 전산 / 논문수: 63\n",
      "주제어: 전지 / 논문수: 234\n",
      "주제어: 토크 / 논문수: 73\n",
      "주제어: 계수 / 논문수: 192\n",
      "주제어: 역학 / 논문수: 77\n",
      "주제어: 에너지 / 논문수: 516\n",
      "주제어: 시뮬레이션 / 논문수: 309\n",
      "주제어: 배터리 / 논문수: 173\n",
      "주제어: 압력 / 논문수: 190\n",
      "주제어: 복합 / 논문수: 293\n",
      "주제어: 물질 / 논문수: 292\n",
      "주제어: 질소 / 논문수: 65\n",
      "주제어: 밸브 / 논문수: 56\n",
      "주제어: 산화물 / 논문수: 69\n",
      "주제어: 운전자 / 논문수: 671\n",
      "주제어: 속도 / 논문수: 604\n",
      "주제어: 마찰 / 논문수: 85\n",
      "주제어: 클러치 / 논문수: 25\n",
      "주제어: 책임 / 논문수: 394\n",
      "주제어: 부품 / 논문수: 764\n",
      "주제어: 디자인 / 논문수: 398\n",
      "주제어: 소음 / 논문수: 123\n",
      "주제어: 연소 / 논문수: 102\n",
      "주제어: 운전 / 논문수: 919\n",
      "주제어: 기술 / 논문수: 1689\n",
      "주제어: 브레이크 / 논문수: 56\n",
      "주제어: 사고 / 논문수: 804\n",
      "주제어: 시간 / 논문수: 924\n",
      "주제어: 전자 / 논문수: 1181\n",
      "주제어: 수소 / 논문수: 126\n",
      "주제어: 모형 / 논문수: 459\n",
      "주제어: 구동 / 논문수: 177\n",
      "주제어: 시트 / 논문수: 91\n",
      "주제어: 동역학 / 논문수: 40\n",
      "주제어: 최적 / 논문수: 447\n",
      "주제어: 모듈 / 논문수: 175\n",
      "주제어: 전략 / 논문수: 642\n",
      "주제어: 공기 / 논문수: 291\n",
      "주제어: 온도 / 논문수: 302\n",
      "주제어: 실험 / 논문수: 803\n",
      "주제어: 냉각 / 논문수: 65\n",
      "주제어: 가솔린 / 논문수: 61\n",
      "주제어: 강도 / 논문수: 226\n",
      "주제어: 기반 / 논문수: 1034\n",
      "주제어: 정보 / 논문수: 953\n",
      "주제어: 펌프 / 논문수: 42\n",
      "주제어: 효율 / 논문수: 864\n",
      "주제어: 인식 / 논문수: 622\n",
      "주제어: 필터 / 논문수: 61\n",
      "주제어: 배기 / 논문수: 209\n",
      "주제어: 배기가스 / 논문수: 122\n",
      "주제어: 예측 / 논문수: 456\n",
      "주제어: 효과 / 논문수: 1206\n",
      "주제어: 저항 / 논문수: 126\n",
      "주제어: 경량 / 논문수: 162\n",
      "주제어: 관리 / 논문수: 707\n",
      "주제어: 직접 / 논문수: 413\n",
      "주제어: 계획법 / 논문수: 19\n",
      "주제어: 상해 / 논문수: 94\n",
      "주제어: 데이터 / 논문수: 647\n",
      "주제어: 압축 / 논문수: 139\n",
      "주제어: 거리 / 논문수: 367\n",
      "주제어: 섬유 / 논문수: 158\n",
      "주제어: 파워 / 논문수: 63\n",
      "주제어: 방향 / 논문수: 696\n",
      "주제어: 지수 / 논문수: 137\n",
      "주제어: 전동기 / 논문수: 25\n",
      "주제어: 오일 / 논문수: 57\n",
      "주제어: 기준 / 논문수: 801\n",
      "주제어: 진동 / 논문수: 128\n",
      "주제어: 유동 / 논문수: 109\n",
      "주제어: 네트워크 / 논문수: 306\n",
      "주제어: 지능 / 논문수: 329\n",
      "주제어: 측정 / 논문수: 606\n",
      "주제어: 보조 / 논문수: 201\n",
      "주제어: 통신 / 논문수: 396\n",
      "주제어: 경로 / 논문수: 146\n",
      "주제어: 수명 / 논문수: 168\n",
      "주제어: 추정 / 논문수: 336\n",
      "주제어: 처리 / 논문수: 543\n",
      "주제어: 내구 / 논문수: 144\n",
      "주제어: 저감 / 논문수: 284\n",
      "주제어: 검출 / 논문수: 164\n",
      "주제어: 재순환 / 논문수: 15\n",
      "주제어: 선택적 / 논문수: 29\n",
      "주제어: 혼합 / 논문수: 147\n",
      "주제어: 환원 / 논문수: 44\n",
      "주제어: 변형 / 논문수: 161\n",
      "주제어: 동력 / 논문수: 241\n",
      "주제어: 응력 / 논문수: 99\n",
      "주제어: 융합 / 논문수: 246\n",
      "주제어: 형상 / 논문수: 217\n",
      "주제어: 자상 / 논문수: 46\n",
      "주제어: 용접 / 논문수: 50\n",
      "주제어: 통합 / 논문수: 284\n",
      "주제어: 표면 / 논문수: 203\n",
      "주제어: 주차 / 논문수: 128\n",
      "주제어: 하중 / 논문수: 110\n",
      "주제어: 서비스 / 논문수: 538\n",
      "주제어: 알루미늄 / 논문수: 68\n",
      "주제어: 기법 / 논문수: 434\n",
      "주제어: 상태 / 논문수: 479\n",
      "주제어: 알고리즘 / 논문수: 331\n",
      "주제어: 기업 / 논문수: 922\n",
      "주제어: 소재 / 논문수: 369\n",
      "주제어: 지원 / 논문수: 437\n",
      "주제어: 브랜드 / 논문수: 242\n",
      "주제어: 전달 / 논문수: 245\n",
      "주제어: 조건 / 논문수: 611\n",
      "주제어: 안정성 / 논문수: 204\n",
      "주제어: 기능 / 논문수: 646\n",
      "주제어: 동기 / 논문수: 136\n",
      "주제어: 기어 / 논문수: 52\n",
      "주제어: 탄소 / 논문수: 232\n",
      "주제어: 분무 / 논문수: 11\n",
      "주제어: 방법 / 논문수: 1529\n",
      "주제어: 충전 / 논문수: 204\n",
      "주제어: 손실 / 논문수: 150\n",
      "주제어: 스마트 / 논문수: 336\n",
      "주제어: 손해 / 논문수: 267\n",
      "주제어: 강성 / 논문수: 66\n",
      "주제어: 제도 / 논문수: 626\n",
      "주제어: 영상 / 논문수: 300\n",
      "주제어: 개발 / 논문수: 1717\n",
      "주제어: 스프링 / 논문수: 38\n",
      "주제어: 규제 / 논문수: 435\n",
      "주제어: 무역 / 논문수: 148\n",
      "주제어: 위험 / 논문수: 412\n",
      "주제어: 터보 / 논문수: 17\n",
      "주제어: 보호 / 논문수: 390\n",
      "주제어: 공정 / 논문수: 391\n",
      "주제어: 품질 / 논문수: 315\n",
      "주제어: 공간 / 논문수: 397\n",
      "주제어: 반응 / 논문수: 263\n",
      "주제어: 자기 / 논문수: 264\n",
      "주제어: 베어링 / 논문수: 14\n",
      "주제어: 보행 / 논문수: 173\n",
      "주제어: 물체 / 논문수: 65\n",
      "주제어: 측면 / 논문수: 611\n",
      "주제어: 제어기 / 논문수: 65\n",
      "주제어: 고분자 / 논문수: 85\n",
      "주제어: 성형 / 논문수: 127\n",
      "주제어: 위치 / 논문수: 428\n",
      "주제어: 검사 / 논문수: 117\n",
      "주제어: 전력 / 논문수: 203\n",
      "주제어: 카메라 / 논문수: 146\n",
      "주제어: 평균 / 논문수: 349\n",
      "주제어: 시장 / 논문수: 829\n",
      "주제어: 생산 / 논문수: 751\n",
      "주제어: 입자 / 논문수: 138\n",
      "주제어: 사이클 / 논문수: 52\n",
      "주제어: 표준 / 논문수: 265\n",
      "주제어: 인젝터 / 논문수: 21\n",
      "주제어: 바이오 / 논문수: 63\n",
      "주제어: 신호 / 논문수: 213\n",
      "주제어: 충격 / 논문수: 153\n",
      "주제어: 학습 / 논문수: 174\n",
      "주제어: 버스 / 논문수: 129\n"
     ]
    }
   ],
   "source": [
    "dataset_5 = dataset_5.dropna()\n",
    "for word in words :\n",
    "    count = len(dataset_5[dataset_5['abstract'].str.contains(word)])\n",
    "    print(f'주제어: {word} / 논문수: {count}')"
   ]
  },
  {
   "cell_type": "code",
   "execution_count": null,
   "metadata": {},
   "outputs": [],
   "source": [
    "#키워드 를 축소 필요 \n",
    "#키워드별로 논문 개수 (논문편수 5개 이하는 제외하자)\n",
    "#https://codechacha.com/ko/python-google-translate/"
   ]
  },
  {
   "source": [
    "- from googletrans import Translator\n",
    "- translator = Translator()\n",
    "- result = translator.translate('안녕하세요.', dest=\"ja\")\n",
    "- print(result[0].text)\n",
    "\n",
    "#### 구글 번역 API가 변경되어 다음과 같은 설치 필요\n",
    "\n",
    "- $ pip uninstall googletrans\n",
    "- $ git clone https://github.com/alainrouillon/py-googletrans.git\n",
    "- $ cd ./py-googletrans\n",
    "- $ git checkout origin/feature/enhance-use-of-direct-api\n",
    "- $ python setup.py install"
   ],
   "cell_type": "markdown",
   "metadata": {}
  },
  {
   "cell_type": "code",
   "execution_count": null,
   "metadata": {},
   "outputs": [],
   "source": [
    "#1.주제어 COUNT\n",
    "#2.분석대상 명확하게~ \n",
    "#3.주제어별 관계도"
   ]
  },
  {
   "cell_type": "code",
   "execution_count": null,
   "metadata": {},
   "outputs": [],
   "source": []
  }
 ]
}