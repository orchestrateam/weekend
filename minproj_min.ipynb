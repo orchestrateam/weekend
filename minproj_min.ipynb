{
 "metadata": {
  "language_info": {
   "codemirror_mode": {
    "name": "ipython",
    "version": 3
   },
   "file_extension": ".py",
   "mimetype": "text/x-python",
   "name": "python",
   "nbconvert_exporter": "python",
   "pygments_lexer": "ipython3",
   "version": "3.8.5-final"
  },
  "orig_nbformat": 2,
  "kernelspec": {
   "name": "python3",
   "display_name": "Python 3",
   "language": "python"
  }
 },
 "nbformat": 4,
 "nbformat_minor": 2,
 "cells": [
  {
   "source": [
    "### 0. 필요한 라이브러리 Import"
   ],
   "cell_type": "markdown",
   "metadata": {}
  },
  {
   "cell_type": "code",
   "execution_count": 1,
   "metadata": {},
   "outputs": [],
   "source": [
    "import os\n",
    "import pandas as pd\n",
    "import pandas_profiling\n",
    "import matplotlib\n",
    "import matplotlib.pyplot as plt\n",
    "import numpy as np\n",
    "\n",
    "from sklearn.feature_extraction.text import TfidfVectorizer, CountVectorizer\n",
    "from sklearn.metrics.pairwise import linear_kernel, cosine_similarity\n",
    "\n",
    "import kss\n",
    "from konlpy.tag import Kkma  \n",
    "from konlpy.tag import Twitter\n",
    "\n",
    "# %appdata%\\nltk_data\\corpora\\stopwords\n",
    "# korean 파일을 생성하여 복사함\n",
    "from nltk.corpus import stopwords \n",
    "from nltk.tokenize import word_tokenize \n",
    "\n",
    "np.random.seed(42)\n",
    "\n",
    "twitter = Twitter()\n",
    "kkma = Kkma()\n",
    "\n",
    "# 한글출력\n",
    "# matplotlib.rc('font', family='AppleGothic')  # MacOS\n",
    "matplotlib.rc('font', family='Malgun Gothic')  # Windows\n",
    "plt.rcParams['axes.unicode_minus'] = False"
   ]
  },
  {
   "source": [
    "### 1. 통합된 원본 데이터 파일을 읽어온다"
   ],
   "cell_type": "markdown",
   "metadata": {}
  },
  {
   "cell_type": "code",
   "execution_count": 2,
   "metadata": {},
   "outputs": [
    {
     "output_type": "stream",
     "name": "stdout",
     "text": [
      "(50568, 21)\n<class 'pandas.core.frame.DataFrame'>\nRangeIndex: 50568 entries, 0 to 50567\nData columns (total 21 columns):\n #   Column                          Non-Null Count  Dtype  \n---  ------                          --------------  -----  \n 0   제목                              50568 non-null  object \n 1   저자                              50568 non-null  object \n 2   발행기관                            50568 non-null  object \n 3   학술지명                            50568 non-null  object \n 4   권호사항                            50568 non-null  object \n 5   발행연도                            50568 non-null  int64  \n 6   작성언어                            50568 non-null  object \n 7   주제어                             26933 non-null  object \n 8   KDC                             11761 non-null  float64\n 9   등재정보                            13083 non-null  object \n 10  자료형태                            50568 non-null  object \n 11  발행기관 URL                        22715 non-null  object \n 12  수록면                             50568 non-null  object \n 13  KCI 피인용횟수                       9042 non-null   float64\n 14  비고                              0 non-null      float64\n 15  중단사유                            180 non-null    object \n 16  제공처                             50453 non-null  object \n 17  소장기관                            10783 non-null  object \n 18  국문 초록 (Abstract)                10447 non-null  object \n 19  다국어 초록 (Multilingual Abstract)  25062 non-null  object \n 20  목차                              28402 non-null  object \ndtypes: float64(3), int64(1), object(17)\nmemory usage: 8.1+ MB\nNone\n"
     ]
    }
   ],
   "source": [
    "\n",
    "ROOT_DIR = path.dirname(__file__) if \"__file__\" in locals() else os.getcwd()\n",
    "dataset = pd.read_csv(os.path.join(ROOT_DIR, \"dataset/one.csv\"))\n",
    "\n",
    "print(dataset.shape)\n",
    "print(dataset.info())"
   ]
  },
  {
   "cell_type": "code",
   "execution_count": 3,
   "metadata": {},
   "outputs": [
    {
     "output_type": "execute_result",
     "data": {
      "text/plain": [
       "                                                  제목  \\\n",
       "0                       전기 이륜자동차 분류기준 현황 : 자동차관리법 중심   \n",
       "1             자동차 사회의 환경과 에너지 문제 = 자동차 엔진 기술의 역사적 동향   \n",
       "2  수소 연료전지 자동차의 충돌 및 화재안전성 관련 연구동향 = Trends on Cr...   \n",
       "3  차세대 자동차 개발의 Plastic Hood 설계 및 CAE해석 = Plastic ...   \n",
       "4  자동차 산업의 역사와 급변하는 기술에 대응한 교육의 바람직한 방향에 관한 연구 = ...   \n",
       "\n",
       "                                                  저자      발행기관  \\\n",
       "0                                                정윤재  한국자동차공학회   \n",
       "1                                  김영길(Yong Kil Kim)  한국자동차공학회   \n",
       "2  임재문(Jae Moon Lim),장형진(Hyung Jin Chang),김규현(Gyu...  한국자동차공학회   \n",
       "3  황태원(Taewon Hwang),최치훈(Chihoon Choi),박상선(Sangsu...  한국자동차공학회   \n",
       "4                                황경수(Kyungsoo Whang)  한국자동차공학회   \n",
       "\n",
       "                     학술지명                     권호사항  발행연도    작성언어  \\\n",
       "0       한국자동차공학회 Workshop   Vol.2011No.9[2011]\\r\\n  2011  Korean   \n",
       "1     한국자동차공학회 학술대회 및 전시회  Vol.2014No.11[2014]\\r\\n  2014  Korean   \n",
       "2  한국자동차공학회 춘 추계 학술대회 논문집      Vol.-No.-[2008]\\r\\n  2008  Korean   \n",
       "3  한국자동차공학회 춘 추계 학술대회 논문집      Vol.-No.-[2006]\\r\\n  2006  Korean   \n",
       "4       한국자동차공학회 Workshop   Vol.2001No.-[2001]\\r\\n  2001  Korean   \n",
       "\n",
       "                                                 주제어    KDC 등재정보  ...  \\\n",
       "0                                                NaN  556.0  NaN  ...   \n",
       "1  Internal Combustion Engine(내연기관),Energy (에너지),...    NaN  NaN  ...   \n",
       "2  Hydrogen Fuel Cell Vehicle(수소 연료전지 자동차),Crash ...    NaN  NaN  ...   \n",
       "3  HOOD(본넷트),Distance(이동량),LS-DYNA(구조해석),MOLDFLOW...    NaN  NaN  ...   \n",
       "4                                                NaN    NaN  NaN  ...   \n",
       "\n",
       "              발행기관 URL        수록면 KCI 피인용횟수  비고  중단사유     제공처 소장기관  \\\n",
       "0  http://www.ksae.org       1-14       NaN NaN   NaN   DBpia  NaN   \n",
       "1                  NaN  1477-1477       NaN NaN   NaN   DBpia  NaN   \n",
       "2  http://www.ksae.org  1253-1258       NaN NaN   NaN   DBpia  NaN   \n",
       "3  http://www.ksae.org  2032-2032       NaN NaN   NaN   DBpia  NaN   \n",
       "4  http://www.ksae.org      70-80       NaN NaN   NaN   DBpia  NaN   \n",
       "\n",
       "                                    국문 초록 (Abstract)  \\\n",
       "0                                                NaN   \n",
       "1                                                NaN   \n",
       "2  환경문제에 따른 배기가스 배출저감 및 자원고갈에 따른 대안으로 향후 수소 연료전지 ...   \n",
       "3  현재 생활 필수품 중의 하나인 자동차논 많은 변화를 보이고 있다. 발전사를 살펴보면...   \n",
       "4  오늘날 급속히 변화하고 있는 자동차 기술에 대응한 자동차 기술교육의 방법을 모색하여...   \n",
       "\n",
       "                      다국어 초록 (Multilingual Abstract)  \\\n",
       "0                                                NaN   \n",
       "1                                                NaN   \n",
       "2  The researches on the crash and the fire safet...   \n",
       "3                                                NaN   \n",
       "4                                                NaN   \n",
       "\n",
       "                                                  목차  \n",
       "0                                                NaN  \n",
       "1                                                NaN  \n",
       "2  Abstract\\n1. 서론\\n2. 수소의 특성\\n3. 충돌 및 화재안전성 관련 연...  \n",
       "3                                                NaN  \n",
       "4  초록<br/>\\n1.서론<br/>\\n2.국내 자동차기술교육의 역사<br/>\\n3.민...  \n",
       "\n",
       "[5 rows x 21 columns]"
      ],
      "text/html": "<div>\n<style scoped>\n    .dataframe tbody tr th:only-of-type {\n        vertical-align: middle;\n    }\n\n    .dataframe tbody tr th {\n        vertical-align: top;\n    }\n\n    .dataframe thead th {\n        text-align: right;\n    }\n</style>\n<table border=\"1\" class=\"dataframe\">\n  <thead>\n    <tr style=\"text-align: right;\">\n      <th></th>\n      <th>제목</th>\n      <th>저자</th>\n      <th>발행기관</th>\n      <th>학술지명</th>\n      <th>권호사항</th>\n      <th>발행연도</th>\n      <th>작성언어</th>\n      <th>주제어</th>\n      <th>KDC</th>\n      <th>등재정보</th>\n      <th>...</th>\n      <th>발행기관 URL</th>\n      <th>수록면</th>\n      <th>KCI 피인용횟수</th>\n      <th>비고</th>\n      <th>중단사유</th>\n      <th>제공처</th>\n      <th>소장기관</th>\n      <th>국문 초록 (Abstract)</th>\n      <th>다국어 초록 (Multilingual Abstract)</th>\n      <th>목차</th>\n    </tr>\n  </thead>\n  <tbody>\n    <tr>\n      <th>0</th>\n      <td>전기 이륜자동차 분류기준 현황 : 자동차관리법 중심</td>\n      <td>정윤재</td>\n      <td>한국자동차공학회</td>\n      <td>한국자동차공학회 Workshop</td>\n      <td>Vol.2011No.9[2011]\\r\\n</td>\n      <td>2011</td>\n      <td>Korean</td>\n      <td>NaN</td>\n      <td>556.0</td>\n      <td>NaN</td>\n      <td>...</td>\n      <td>http://www.ksae.org</td>\n      <td>1-14</td>\n      <td>NaN</td>\n      <td>NaN</td>\n      <td>NaN</td>\n      <td>DBpia</td>\n      <td>NaN</td>\n      <td>NaN</td>\n      <td>NaN</td>\n      <td>NaN</td>\n    </tr>\n    <tr>\n      <th>1</th>\n      <td>자동차 사회의 환경과 에너지 문제 = 자동차 엔진 기술의 역사적 동향</td>\n      <td>김영길(Yong Kil Kim)</td>\n      <td>한국자동차공학회</td>\n      <td>한국자동차공학회 학술대회 및 전시회</td>\n      <td>Vol.2014No.11[2014]\\r\\n</td>\n      <td>2014</td>\n      <td>Korean</td>\n      <td>Internal Combustion Engine(내연기관),Energy (에너지),...</td>\n      <td>NaN</td>\n      <td>NaN</td>\n      <td>...</td>\n      <td>NaN</td>\n      <td>1477-1477</td>\n      <td>NaN</td>\n      <td>NaN</td>\n      <td>NaN</td>\n      <td>DBpia</td>\n      <td>NaN</td>\n      <td>NaN</td>\n      <td>NaN</td>\n      <td>NaN</td>\n    </tr>\n    <tr>\n      <th>2</th>\n      <td>수소 연료전지 자동차의 충돌 및 화재안전성 관련 연구동향 = Trends on Cr...</td>\n      <td>임재문(Jae Moon Lim),장형진(Hyung Jin Chang),김규현(Gyu...</td>\n      <td>한국자동차공학회</td>\n      <td>한국자동차공학회 춘 추계 학술대회 논문집</td>\n      <td>Vol.-No.-[2008]\\r\\n</td>\n      <td>2008</td>\n      <td>Korean</td>\n      <td>Hydrogen Fuel Cell Vehicle(수소 연료전지 자동차),Crash ...</td>\n      <td>NaN</td>\n      <td>NaN</td>\n      <td>...</td>\n      <td>http://www.ksae.org</td>\n      <td>1253-1258</td>\n      <td>NaN</td>\n      <td>NaN</td>\n      <td>NaN</td>\n      <td>DBpia</td>\n      <td>NaN</td>\n      <td>환경문제에 따른 배기가스 배출저감 및 자원고갈에 따른 대안으로 향후 수소 연료전지 ...</td>\n      <td>The researches on the crash and the fire safet...</td>\n      <td>Abstract\\n1. 서론\\n2. 수소의 특성\\n3. 충돌 및 화재안전성 관련 연...</td>\n    </tr>\n    <tr>\n      <th>3</th>\n      <td>차세대 자동차 개발의 Plastic Hood 설계 및 CAE해석 = Plastic ...</td>\n      <td>황태원(Taewon Hwang),최치훈(Chihoon Choi),박상선(Sangsu...</td>\n      <td>한국자동차공학회</td>\n      <td>한국자동차공학회 춘 추계 학술대회 논문집</td>\n      <td>Vol.-No.-[2006]\\r\\n</td>\n      <td>2006</td>\n      <td>Korean</td>\n      <td>HOOD(본넷트),Distance(이동량),LS-DYNA(구조해석),MOLDFLOW...</td>\n      <td>NaN</td>\n      <td>NaN</td>\n      <td>...</td>\n      <td>http://www.ksae.org</td>\n      <td>2032-2032</td>\n      <td>NaN</td>\n      <td>NaN</td>\n      <td>NaN</td>\n      <td>DBpia</td>\n      <td>NaN</td>\n      <td>현재 생활 필수품 중의 하나인 자동차논 많은 변화를 보이고 있다. 발전사를 살펴보면...</td>\n      <td>NaN</td>\n      <td>NaN</td>\n    </tr>\n    <tr>\n      <th>4</th>\n      <td>자동차 산업의 역사와 급변하는 기술에 대응한 교육의 바람직한 방향에 관한 연구 = ...</td>\n      <td>황경수(Kyungsoo Whang)</td>\n      <td>한국자동차공학회</td>\n      <td>한국자동차공학회 Workshop</td>\n      <td>Vol.2001No.-[2001]\\r\\n</td>\n      <td>2001</td>\n      <td>Korean</td>\n      <td>NaN</td>\n      <td>NaN</td>\n      <td>NaN</td>\n      <td>...</td>\n      <td>http://www.ksae.org</td>\n      <td>70-80</td>\n      <td>NaN</td>\n      <td>NaN</td>\n      <td>NaN</td>\n      <td>DBpia</td>\n      <td>NaN</td>\n      <td>오늘날 급속히 변화하고 있는 자동차 기술에 대응한 자동차 기술교육의 방법을 모색하여...</td>\n      <td>NaN</td>\n      <td>초록&lt;br/&gt;\\n1.서론&lt;br/&gt;\\n2.국내 자동차기술교육의 역사&lt;br/&gt;\\n3.민...</td>\n    </tr>\n  </tbody>\n</table>\n<p>5 rows × 21 columns</p>\n</div>"
     },
     "metadata": {},
     "execution_count": 3
    }
   ],
   "source": [
    "dataset.head()"
   ]
  },
  {
   "cell_type": "code",
   "execution_count": null,
   "metadata": {},
   "outputs": [],
   "source": [
    "dataset['작성언어'].value_counts()"
   ]
  },
  {
   "cell_type": "code",
   "execution_count": 26,
   "metadata": {},
   "outputs": [],
   "source": [
    "#분석대상 항목으로 발행연도, 제목, 주제어, 국문 초록 (Abstract)을 선택하고 컬럼명을 영문으로 변경함\n",
    "\n",
    "dataset_1 = dataset.loc[:, ['발행연도', '제목', '주제어', '국문 초록 (Abstract)', '다국어 초록 (Multilingual Abstract)']]\n",
    "dataset_1 = dataset_1.rename({'발행연도':'year', '제목':'title', '주제어':'keyword', '국문 초록 (Abstract)':'abstract_old', '다국어 초록 (Multilingual Abstract)':'others'}, axis=1)"
   ]
  },
  {
   "cell_type": "code",
   "execution_count": 5,
   "metadata": {},
   "outputs": [],
   "source": [
    "#-*- coding: utf-8 -*-\n",
    "import json\n",
    "import urllib.request\n",
    " \n",
    "client_id = \"_PyD14JHCVWfVNEcoGUr\" # 개발자센터에서 발급받은 Client ID 값\n",
    "client_secret = \"BQPtnH8S5X\" # 개발자센터에서 발급받은 Client Secret 값\n",
    " "
   ]
  },
  {
   "cell_type": "code",
   "execution_count": 22,
   "metadata": {},
   "outputs": [],
   "source": [
    "def translate_test(sentence) :\n",
    "    if sentence :\n",
    "        print(\"not null\")"
   ]
  },
  {
   "cell_type": "code",
   "execution_count": 7,
   "metadata": {},
   "outputs": [],
   "source": [
    "def translate(sentence) :\n",
    "\n",
    "    result = \"\"\n",
    " \n",
    "    if sentence :\n",
    "        encText = urllib.parse.quote(sentence)\n",
    "        data = \"source=en&target=ko&text=\" + encText\n",
    "        url = \"https://openapi.naver.com/v1/papago/n2mt\"\n",
    "        request = urllib.request.Request(url)\n",
    "        request.add_header(\"X-Naver-Client-Id\",client_id)\n",
    "        request.add_header(\"X-Naver-Client-Secret\",client_secret)\n",
    "        response = urllib.request.urlopen(request, data=data.encode(\"utf-8\"))\n",
    "        rescode = response.getcode()\n",
    "        \n",
    "        result = \"\"\n",
    "        if(rescode==200):\n",
    "            response_body = response.read()\n",
    "            result = json.loads(response_body)['message']['result']['translatedText']\n",
    "        else:\n",
    "            print(\"Error Code:\" + rescode)\n",
    "    \n",
    "    return result "
   ]
  },
  {
   "cell_type": "code",
   "execution_count": 14,
   "metadata": {},
   "outputs": [
    {
     "output_type": "stream",
     "name": "stdout",
     "text": [
      "<class 'pandas.core.frame.DataFrame'>\nRangeIndex: 50568 entries, 0 to 50567\nData columns (total 5 columns):\n #   Column        Non-Null Count  Dtype \n---  ------        --------------  ----- \n 0   year          50568 non-null  int64 \n 1   title         50568 non-null  object\n 2   keyword       26933 non-null  object\n 3   abstract_old  10447 non-null  object\n 4   others        25062 non-null  object\ndtypes: int64(1), object(4)\nmemory usage: 1.9+ MB\n"
     ]
    }
   ],
   "source": [
    "dataset_1.info()"
   ]
  },
  {
   "cell_type": "code",
   "execution_count": 27,
   "metadata": {
    "tags": []
   },
   "outputs": [
    {
     "output_type": "stream",
     "name": "stdout",
     "text": [
      "<class 'pandas.core.frame.DataFrame'>\nRangeIndex: 50568 entries, 0 to 50567\nData columns (total 4 columns):\n #   Column    Non-Null Count  Dtype \n---  ------    --------------  ----- \n 0   year      50568 non-null  int64 \n 1   title     50568 non-null  object\n 2   keyword   26933 non-null  object\n 3   abstract  28871 non-null  object\ndtypes: int64(1), object(3)\nmemory usage: 1.5+ MB\n"
     ]
    }
   ],
   "source": [
    "#국문 초록 값이 없는 건수가 전체의 80%에 해당하고 있음(잘못된 논리임)\n",
    "#하지만 제목은 초록의 함축적인 문장으로 볼 수 있기 때문에 초록이 없는 경우 제목으로 대체\n",
    "\n",
    "\n",
    "#0.주제어 예측\n",
    "#1.가짜 키워드~ 판별....\n",
    "#2.문서요약\n",
    "#-키워드 백터\n",
    "# dataset_2['keyword'].apply(get_words)\n",
    "dataset_1['abstract'] = np.where(dataset_1['abstract_old'].isnull(), dataset_1['others'], dataset_1['abstract_old'])\n",
    "#dataset_1['abstract'] = np.where(dataset_1['abstract_old'].isnull(), dataset_1['others'].apply(translate_test), dataset_1['abstract_old'])\n",
    "\n",
    "del dataset_1['abstract_old']\n",
    "del dataset_1['others']\n",
    "\n",
    "dataset_1.info()"
   ]
  },
  {
   "cell_type": "code",
   "execution_count": null,
   "metadata": {},
   "outputs": [],
   "source": [
    "dataset_1.info()"
   ]
  },
  {
   "cell_type": "code",
   "execution_count": null,
   "metadata": {},
   "outputs": [],
   "source": [
    "dataset_1[dataset_1['abstract'].isnull() == False]"
   ]
  },
  {
   "cell_type": "code",
   "execution_count": null,
   "metadata": {},
   "outputs": [],
   "source": [
    "dataset_1.head()"
   ]
  },
  {
   "cell_type": "code",
   "execution_count": null,
   "metadata": {},
   "outputs": [],
   "source": [
    "#지금까지 작업된 정보를 ready_50568.csv 파일로 저장함\n",
    "\n",
    "dataset_1.to_csv(os.path.join(ROOT_DIR, 'dataset/ready_50568.csv'))"
   ]
  },
  {
   "source": [
    "### 2. keyword(주제어)가 없는 데이터 삭제 (26,933개) "
   ],
   "cell_type": "markdown",
   "metadata": {}
  },
  {
   "cell_type": "code",
   "execution_count": null,
   "metadata": {
    "tags": []
   },
   "outputs": [],
   "source": [
    "dataset_2 = dataset_1.loc[:, ['year', 'title', 'keyword', 'abstract']].dropna()\n",
    "dataset_2.info()"
   ]
  },
  {
   "cell_type": "code",
   "execution_count": null,
   "metadata": {},
   "outputs": [],
   "source": [
    "#keyword에서 영문제거하고, 형태소(명사)를 분리하여 배열로 재구성)\n",
    "#keyword = []\n",
    "#for idx, val in enumerate(dataset_2['keyword']) :\n",
    "#    words = [word for word, tag in kkma.pos(val)\n",
    "#                if len(word) > 1 and tag in ['NNG', 'NNP', 'NP']]\n",
    "#    keyword.append(words)\n",
    "\n",
    "def get_words(row) :\n",
    "    return [word for word, tag in kkma.pos(row)\n",
    "                if len(word) > 1 and tag in ['NNG', 'NNP', 'NP']]\n",
    "\n",
    "\n",
    "dataset_2['keyword'] = dataset_2['keyword'].apply(get_words)\n",
    "dataset_2.head()"
   ]
  },
  {
   "cell_type": "code",
   "execution_count": null,
   "metadata": {},
   "outputs": [],
   "source": [
    "#기존 키워드를 삭제하고 한글 명사로 재구성한 키워드(주제어)의 컬럼명을 변경함\n",
    "del dataset_2['keyword']\n",
    "dataset_2 = dataset_2.rename({'keyword_new':'keyword'}, axis=1)"
   ]
  },
  {
   "cell_type": "code",
   "execution_count": null,
   "metadata": {},
   "outputs": [],
   "source": [
    "#주제어가 있는 가공된 데이터를 저장함\n",
    "dataset_3.to_csv(os.path.join(ROOT_DIR, 'dataset/ready_26933.csv'))"
   ]
  },
  {
   "source": [
    "#2008년 이상의 데이터만 필터링\n",
    "condition_by_year = dataset_1['year'] >= 2008\n",
    "dataset_2 = dataset_1[condition_by_year]\n",
    "dataset_2 = dataset_2.drop('abstract_old', axis=1)\n",
    "dataset_2.info()"
   ],
   "cell_type": "code",
   "metadata": {},
   "execution_count": null,
   "outputs": []
  },
  {
   "cell_type": "code",
   "execution_count": null,
   "metadata": {},
   "outputs": [],
   "source": [
    "profile = dataset_2.profile_report()"
   ]
  },
  {
   "cell_type": "code",
   "execution_count": null,
   "metadata": {},
   "outputs": [],
   "source": [
    "profile.to_file(\"./report.html\")"
   ]
  },
  {
   "cell_type": "code",
   "execution_count": null,
   "metadata": {},
   "outputs": [],
   "source": [
    "#제목으로 주제어를 정하고, 빈도수,\n",
    "#주제어의 단어 빈도수를 측정해 보자\n",
    "#멀티 라벨을 OneHot인코딩하여~ 만든다."
   ]
  },
  {
   "cell_type": "code",
   "execution_count": null,
   "metadata": {},
   "outputs": [],
   "source": []
  },
  {
   "cell_type": "code",
   "execution_count": null,
   "metadata": {},
   "outputs": [],
   "source": [
    "#문장으로 분리\n",
    "\n",
    "abstracts = dataset_2['abstract'].tolist()\n",
    "rawdata = []\n",
    "\n",
    "for abstract in abstracts:\n",
    "    sentence = kss.split_sentences(abstract)\n",
    "    rawdata.extend(sentence)"
   ]
  },
  {
   "cell_type": "code",
   "execution_count": 29,
   "metadata": {},
   "outputs": [
    {
     "output_type": "execute_result",
     "data": {
      "text/plain": [
       "[]"
      ]
     },
     "metadata": {},
     "execution_count": 29
    }
   ],
   "source": [
    "stop_words_eng = stopwords.words('english')\n",
    "stop_words_kor = stopwords.words('korean')\n",
    "\n",
    "stop_words = []\n",
    "#stop_words.extend(stop_words_kor)\n",
    "#stop_words.extend(stop_words_eng)\n",
    "\n",
    "stop_words[:5]"
   ]
  },
  {
   "cell_type": "code",
   "execution_count": 30,
   "metadata": {},
   "outputs": [],
   "source": [
    "#색인 추출\n",
    "def tokenizer_by_twitter(raw, pos=[\"Noun\",\"Alpha\",\"Verb\",\"Number\"], stopword=stop_words):\n",
    "    return [\n",
    "        word for word, tag in twitter.pos(\n",
    "            raw, \n",
    "            norm=True,   # normalize 그랰ㅋㅋ -> 그래ㅋㅋ\n",
    "            stem=True    # stemming 바뀌나->바뀌다\n",
    "            )\n",
    "            if len(word) > 1 and tag in pos and word not in stopword\n",
    "    ]\n",
    " \n",
    "#색인 추출\n",
    "def tokenizer_by_kkma(raw, pos=[\"NNG\",\"NNP\",\"NP\", \"VV\"], stopword=stop_words):\n",
    "    return [\n",
    "        word for word, tag in kkma.pos(raw)\n",
    "            if len(word) > 1 and tag in pos and word not in stopword\n",
    "    ]"
   ]
  },
  {
   "cell_type": "code",
   "execution_count": 61,
   "metadata": {},
   "outputs": [],
   "source": [
    "dataset_5 = dataset_1[dataset_1['year'] >= 2010]\n",
    "rawdata = dataset_5[\"keyword\"].dropna().tolist()"
   ]
  },
  {
   "cell_type": "code",
   "execution_count": 62,
   "metadata": {},
   "outputs": [
    {
     "output_type": "execute_result",
     "data": {
      "text/plain": [
       "20425"
      ]
     },
     "metadata": {},
     "execution_count": 62
    }
   ],
   "source": [
    "len(rawdata)"
   ]
  },
  {
   "cell_type": "code",
   "execution_count": 78,
   "metadata": {},
   "outputs": [],
   "source": [
    "result = []\n",
    "\n",
    "for idx, val in enumerate(rawdata):\n",
    "        if idx % 1000 == 0 :\n",
    "        print(f'{idx + 1} 개를 처리중입니다. [{val}]')\n",
    "    words = tokenizer_by_kkma(val)\n",
    "    result.extend(words)"
   ]
  },
  {
   "cell_type": "code",
   "execution_count": 87,
   "metadata": {},
   "outputs": [
    {
     "output_type": "execute_result",
     "data": {
      "text/plain": [
       "160764"
      ]
     },
     "metadata": {},
     "execution_count": 87
    }
   ],
   "source": [
    "len(result)"
   ]
  },
  {
   "cell_type": "code",
   "execution_count": 88,
   "metadata": {},
   "outputs": [],
   "source": [
    "count = Counter(result)"
   ]
  },
  {
   "cell_type": "code",
   "execution_count": 96,
   "metadata": {},
   "outputs": [
    {
     "output_type": "stream",
     "name": "stdout",
     "text": [
      "{'자동차': 4123, '시스템': 2152, '차량': 1782, '해석': 1610, '주행': 1602, '제어': 1473, '장치': 1278, '전기': 1113, '시험': 1054, '연료': 1042, '모델': 965, '자율': 927, '엔진': 891, '분석': 865, '요소': 862, '가스': 726, '충돌': 712, '하이브리드': 655, '설계': 654, '센서': 638, '평가': 617, '분사': 602, '안전': 551, '성능': 547, '산업': 543, '보험': 537, '특성': 528, '구조': 514, '모드': 508, '모터': 504, '촉매': 494, '도로': 490, '변속기': 484, '조향': 482, '자동': 479, '디젤': 476, '최적화': 472, '제동': 468, '유체': 444, '환경': 434, '배출': 431, '교통': 431, '전산': 430, '전지': 429, '토크': 425, '계수': 410, '역학': 410, '에너지': 401, '시뮬레이션': 400, '배터리': 397, '압력': 392, '복합': 390, '물질': 389, '질소': 388, '밸브': 382, '산화물': 379, '운전자': 379, '속도': 374, '마찰': 369, '클러치': 360, '책임': 360, '부품': 357, '디자인': 356, '소음': 348, '연소': 348, '운전': 343, '기술': 340, '브레이크': 338, '사고': 330, '시간': 327, '전자': 326, '수소': 323, '모형': 322, '구동': 315, '시트': 310, '동역학': 308, '최적': 299, '모듈': 295, '전략': 293, '공기': 292, '온도': 291, '실험': 291, '냉각': 290, '가솔린': 290, '강도': 281, '기반': 278, '정보': 277, '펌프': 274, '효율': 271, '인식': 270, '필터': 270, '배기': 269, '배기가스': 269, '예측': 267, '효과': 263, '저항': 261, '경량': 258, '관리': 258, '직접': 253, '계획법': 251}\n"
     ]
    }
   ],
   "source": [
    "words = dict(count.most_common(100))\n",
    "print(words)\n"
   ]
  },
  {
   "cell_type": "code",
   "execution_count": 97,
   "metadata": {},
   "outputs": [
    {
     "output_type": "stream",
     "name": "stdout",
     "text": [
      "{'자동차': 4123, '시스템': 2152, '차량': 1782, '해석': 1610, '주행': 1602, '제어': 1473, '장치': 1278, '전기': 1113, '시험': 1054, '연료': 1042, '모델': 965, '자율': 927, '엔진': 891, '분석': 865, '요소': 862, '가스': 726, '충돌': 712, '하이브리드': 655, '설계': 654, '센서': 638, '평가': 617, '분사': 602, '안전': 551, '성능': 547, '산업': 543, '보험': 537, '특성': 528, '구조': 514, '모드': 508, '모터': 504, '촉매': 494, '도로': 490, '변속기': 484, '조향': 482, '자동': 479, '디젤': 476, '최적화': 472, '제동': 468, '유체': 444, '환경': 434, '배출': 431, '교통': 431, '전산': 430, '전지': 429, '토크': 425, '계수': 410, '역학': 410, '에너지': 401, '시뮬레이션': 400, '배터리': 397, '압력': 392, '복합': 390, '물질': 389, '질소': 388, '밸브': 382, '산화물': 379, '운전자': 379, '속도': 374, '마찰': 369, '클러치': 360, '책임': 360, '부품': 357, '디자인': 356, '소음': 348, '연소': 348, '운전': 343, '기술': 340, '브레이크': 338, '사고': 330, '시간': 327, '전자': 326, '수소': 323, '모형': 322, '구동': 315, '시트': 310, '동역학': 308, '최적': 299, '모듈': 295, '전략': 293, '공기': 292, '온도': 291, '실험': 291, '냉각': 290, '가솔린': 290, '강도': 281, '기반': 278, '정보': 277, '펌프': 274, '효율': 271, '인식': 270, '필터': 270, '배기': 269, '배기가스': 269, '예측': 267, '효과': 263, '저항': 261, '경량': 258, '관리': 258, '직접': 253, '계획법': 251, '상해': 251, '데이터': 248, '압축': 248, '거리': 238, '섬유': 237, '파워': 237, '방향': 232, '지수': 232, '전동기': 231, '오일': 229, '기준': 228, '진동': 226, '유동': 225, '네트워크': 222, '지능': 221, '측정': 221, '보조': 221, '통신': 219, '경로': 217, '수명': 216, '추정': 214, '처리': 212, '내구': 209, '저감': 209, '검출': 207, '재순환': 205, '선택적': 204, '혼합': 204, '환원': 204, '변형': 202, '동력': 200, '응력': 200, '융합': 199, '형상': 199, '자상': 199, '용접': 198, '통합': 197, '표면': 197, '주차': 197, '하중': 193, '서비스': 191, '알루미늄': 191, '기법': 189, '상태': 188, '알고리즘': 187, '기업': 186, '소재': 184, '지원': 183, '브랜드': 182, '전달': 178, '조건': 177, '안정성': 175, '기능': 175, '동기': 173, '기어': 173, '탄소': 173, '분무': 173, '방법': 171, '충전': 171, '손실': 170, '스마트': 168, '손해': 166, '강성': 164, '제도': 161, '영상': 160, '개발': 160, '스프링': 157, '규제': 156, '무역': 155, '위험': 154, '터보': 154, '보호': 154, '공정': 153, '품질': 153, '공간': 153, '반응': 152, '자기': 152, '베어링': 151, '보행': 151, '물체': 149, '측면': 148, '제어기': 147, '고분자': 146, '성형': 146, '위치': 145, '검사': 145, '전력': 145, '카메라': 144, '평균': 144, '시장': 144, '생산': 143, '입자': 143, '사이클': 143, '표준': 143, '인젝터': 143, '바이오': 143, '신호': 141, '충격': 140, '학습': 140, '버스': 140}\n"
     ]
    }
   ],
   "source": [
    "words = dict(count.most_common(200))\n",
    "print(words)"
   ]
  },
  {
   "cell_type": "code",
   "execution_count": 106,
   "metadata": {},
   "outputs": [
    {
     "output_type": "stream",
     "name": "stdout",
     "text": [
      "주제어: 자동차 / 논문수: 5604\n",
      "주제어: 시스템 / 논문수: 1377\n",
      "주제어: 차량 / 논문수: 1393\n",
      "주제어: 해석 / 논문수: 713\n",
      "주제어: 주행 / 논문수: 939\n",
      "주제어: 제어 / 논문수: 515\n",
      "주제어: 장치 / 논문수: 629\n",
      "주제어: 전기 / 논문수: 802\n",
      "주제어: 시험 / 논문수: 430\n",
      "주제어: 연료 / 논문수: 403\n",
      "주제어: 모델 / 논문수: 810\n",
      "주제어: 자율 / 논문수: 532\n",
      "주제어: 엔진 / 논문수: 329\n",
      "주제어: 분석 / 논문수: 2910\n",
      "주제어: 요소 / 논문수: 800\n",
      "주제어: 가스 / 논문수: 470\n",
      "주제어: 충돌 / 논문수: 162\n",
      "주제어: 하이브리드 / 논문수: 149\n",
      "주제어: 설계 / 논문수: 966\n",
      "주제어: 센서 / 논문수: 277\n",
      "주제어: 평가 / 논문수: 1038\n",
      "주제어: 분사 / 논문수: 54\n",
      "주제어: 안전 / 논문수: 908\n",
      "주제어: 성능 / 논문수: 893\n",
      "주제어: 산업 / 논문수: 1558\n",
      "주제어: 보험 / 논문수: 349\n",
      "주제어: 특성 / 논문수: 1369\n",
      "주제어: 구조 / 논문수: 988\n",
      "주제어: 모드 / 논문수: 112\n",
      "주제어: 모터 / 논문수: 144\n",
      "주제어: 촉매 / 논문수: 91\n",
      "주제어: 도로 / 논문수: 1021\n",
      "주제어: 변속기 / 논문수: 52\n",
      "주제어: 조향 / 논문수: 61\n",
      "주제어: 자동 / 논문수: 5653\n",
      "주제어: 디젤 / 논문수: 107\n",
      "주제어: 최적화 / 논문수: 197\n",
      "주제어: 제동 / 논문수: 94\n",
      "주제어: 유체 / 논문수: 47\n",
      "주제어: 환경 / 논문수: 1495\n",
      "주제어: 배출 / 논문수: 414\n",
      "주제어: 교통 / 논문수: 894\n",
      "주제어: 전산 / 논문수: 63\n",
      "주제어: 전지 / 논문수: 234\n",
      "주제어: 토크 / 논문수: 73\n",
      "주제어: 계수 / 논문수: 192\n",
      "주제어: 역학 / 논문수: 77\n",
      "주제어: 에너지 / 논문수: 516\n",
      "주제어: 시뮬레이션 / 논문수: 309\n",
      "주제어: 배터리 / 논문수: 173\n",
      "주제어: 압력 / 논문수: 190\n",
      "주제어: 복합 / 논문수: 293\n",
      "주제어: 물질 / 논문수: 292\n",
      "주제어: 질소 / 논문수: 65\n",
      "주제어: 밸브 / 논문수: 56\n",
      "주제어: 산화물 / 논문수: 69\n",
      "주제어: 운전자 / 논문수: 671\n",
      "주제어: 속도 / 논문수: 604\n",
      "주제어: 마찰 / 논문수: 85\n",
      "주제어: 클러치 / 논문수: 25\n",
      "주제어: 책임 / 논문수: 394\n",
      "주제어: 부품 / 논문수: 764\n",
      "주제어: 디자인 / 논문수: 398\n",
      "주제어: 소음 / 논문수: 123\n",
      "주제어: 연소 / 논문수: 102\n",
      "주제어: 운전 / 논문수: 919\n",
      "주제어: 기술 / 논문수: 1689\n",
      "주제어: 브레이크 / 논문수: 56\n",
      "주제어: 사고 / 논문수: 804\n",
      "주제어: 시간 / 논문수: 924\n",
      "주제어: 전자 / 논문수: 1181\n",
      "주제어: 수소 / 논문수: 126\n",
      "주제어: 모형 / 논문수: 459\n",
      "주제어: 구동 / 논문수: 177\n",
      "주제어: 시트 / 논문수: 91\n",
      "주제어: 동역학 / 논문수: 40\n",
      "주제어: 최적 / 논문수: 447\n",
      "주제어: 모듈 / 논문수: 175\n",
      "주제어: 전략 / 논문수: 642\n",
      "주제어: 공기 / 논문수: 291\n",
      "주제어: 온도 / 논문수: 302\n",
      "주제어: 실험 / 논문수: 803\n",
      "주제어: 냉각 / 논문수: 65\n",
      "주제어: 가솔린 / 논문수: 61\n",
      "주제어: 강도 / 논문수: 226\n",
      "주제어: 기반 / 논문수: 1034\n",
      "주제어: 정보 / 논문수: 953\n",
      "주제어: 펌프 / 논문수: 42\n",
      "주제어: 효율 / 논문수: 864\n",
      "주제어: 인식 / 논문수: 622\n",
      "주제어: 필터 / 논문수: 61\n",
      "주제어: 배기 / 논문수: 209\n",
      "주제어: 배기가스 / 논문수: 122\n",
      "주제어: 예측 / 논문수: 456\n",
      "주제어: 효과 / 논문수: 1206\n",
      "주제어: 저항 / 논문수: 126\n",
      "주제어: 경량 / 논문수: 162\n",
      "주제어: 관리 / 논문수: 707\n",
      "주제어: 직접 / 논문수: 413\n",
      "주제어: 계획법 / 논문수: 19\n",
      "주제어: 상해 / 논문수: 94\n",
      "주제어: 데이터 / 논문수: 647\n",
      "주제어: 압축 / 논문수: 139\n",
      "주제어: 거리 / 논문수: 367\n",
      "주제어: 섬유 / 논문수: 158\n",
      "주제어: 파워 / 논문수: 63\n",
      "주제어: 방향 / 논문수: 696\n",
      "주제어: 지수 / 논문수: 137\n",
      "주제어: 전동기 / 논문수: 25\n",
      "주제어: 오일 / 논문수: 57\n",
      "주제어: 기준 / 논문수: 801\n",
      "주제어: 진동 / 논문수: 128\n",
      "주제어: 유동 / 논문수: 109\n",
      "주제어: 네트워크 / 논문수: 306\n",
      "주제어: 지능 / 논문수: 329\n",
      "주제어: 측정 / 논문수: 606\n",
      "주제어: 보조 / 논문수: 201\n",
      "주제어: 통신 / 논문수: 396\n",
      "주제어: 경로 / 논문수: 146\n",
      "주제어: 수명 / 논문수: 168\n",
      "주제어: 추정 / 논문수: 336\n",
      "주제어: 처리 / 논문수: 543\n",
      "주제어: 내구 / 논문수: 144\n",
      "주제어: 저감 / 논문수: 284\n",
      "주제어: 검출 / 논문수: 164\n",
      "주제어: 재순환 / 논문수: 15\n",
      "주제어: 선택적 / 논문수: 29\n",
      "주제어: 혼합 / 논문수: 147\n",
      "주제어: 환원 / 논문수: 44\n",
      "주제어: 변형 / 논문수: 161\n",
      "주제어: 동력 / 논문수: 241\n",
      "주제어: 응력 / 논문수: 99\n",
      "주제어: 융합 / 논문수: 246\n",
      "주제어: 형상 / 논문수: 217\n",
      "주제어: 자상 / 논문수: 46\n",
      "주제어: 용접 / 논문수: 50\n",
      "주제어: 통합 / 논문수: 284\n",
      "주제어: 표면 / 논문수: 203\n",
      "주제어: 주차 / 논문수: 128\n",
      "주제어: 하중 / 논문수: 110\n",
      "주제어: 서비스 / 논문수: 538\n",
      "주제어: 알루미늄 / 논문수: 68\n",
      "주제어: 기법 / 논문수: 434\n",
      "주제어: 상태 / 논문수: 479\n",
      "주제어: 알고리즘 / 논문수: 331\n",
      "주제어: 기업 / 논문수: 922\n",
      "주제어: 소재 / 논문수: 369\n",
      "주제어: 지원 / 논문수: 437\n",
      "주제어: 브랜드 / 논문수: 242\n",
      "주제어: 전달 / 논문수: 245\n",
      "주제어: 조건 / 논문수: 611\n",
      "주제어: 안정성 / 논문수: 204\n",
      "주제어: 기능 / 논문수: 646\n",
      "주제어: 동기 / 논문수: 136\n",
      "주제어: 기어 / 논문수: 52\n",
      "주제어: 탄소 / 논문수: 232\n",
      "주제어: 분무 / 논문수: 11\n",
      "주제어: 방법 / 논문수: 1529\n",
      "주제어: 충전 / 논문수: 204\n",
      "주제어: 손실 / 논문수: 150\n",
      "주제어: 스마트 / 논문수: 336\n",
      "주제어: 손해 / 논문수: 267\n",
      "주제어: 강성 / 논문수: 66\n",
      "주제어: 제도 / 논문수: 626\n",
      "주제어: 영상 / 논문수: 300\n",
      "주제어: 개발 / 논문수: 1717\n",
      "주제어: 스프링 / 논문수: 38\n",
      "주제어: 규제 / 논문수: 435\n",
      "주제어: 무역 / 논문수: 148\n",
      "주제어: 위험 / 논문수: 412\n",
      "주제어: 터보 / 논문수: 17\n",
      "주제어: 보호 / 논문수: 390\n",
      "주제어: 공정 / 논문수: 391\n",
      "주제어: 품질 / 논문수: 315\n",
      "주제어: 공간 / 논문수: 397\n",
      "주제어: 반응 / 논문수: 263\n",
      "주제어: 자기 / 논문수: 264\n",
      "주제어: 베어링 / 논문수: 14\n",
      "주제어: 보행 / 논문수: 173\n",
      "주제어: 물체 / 논문수: 65\n",
      "주제어: 측면 / 논문수: 611\n",
      "주제어: 제어기 / 논문수: 65\n",
      "주제어: 고분자 / 논문수: 85\n",
      "주제어: 성형 / 논문수: 127\n",
      "주제어: 위치 / 논문수: 428\n",
      "주제어: 검사 / 논문수: 117\n",
      "주제어: 전력 / 논문수: 203\n",
      "주제어: 카메라 / 논문수: 146\n",
      "주제어: 평균 / 논문수: 349\n",
      "주제어: 시장 / 논문수: 829\n",
      "주제어: 생산 / 논문수: 751\n",
      "주제어: 입자 / 논문수: 138\n",
      "주제어: 사이클 / 논문수: 52\n",
      "주제어: 표준 / 논문수: 265\n",
      "주제어: 인젝터 / 논문수: 21\n",
      "주제어: 바이오 / 논문수: 63\n",
      "주제어: 신호 / 논문수: 213\n",
      "주제어: 충격 / 논문수: 153\n",
      "주제어: 학습 / 논문수: 174\n",
      "주제어: 버스 / 논문수: 129\n"
     ]
    }
   ],
   "source": [
    "dataset_5 = dataset_5.dropna()\n",
    "for word in words :\n",
    "    count = len(dataset_5[dataset_5['abstract'].str.contains(word)])\n",
    "    print(f'주제어: {word} / 논문수: {count}')"
   ]
  },
  {
   "cell_type": "code",
   "execution_count": 63,
   "metadata": {},
   "outputs": [
    {
     "output_type": "stream",
     "name": "stdout",
     "text": [
      "fit_transform, (sentence 20425, feature 4706)\n"
     ]
    }
   ],
   "source": [
    "vect = CountVectorizer(min_df=3, tokenizer=tokenizer_by_kkma)\n",
    "result = vect.fit_transform(rawdata)\n",
    "print(\n",
    "    'fit_transform, (sentence {}, feature {})'.format(result.shape[0], result.shape[1])\n",
    ")"
   ]
  },
  {
   "cell_type": "code",
   "execution_count": 77,
   "metadata": {},
   "outputs": [
    {
     "output_type": "execute_result",
     "data": {
      "text/plain": [
       "673"
      ]
     },
     "metadata": {},
     "execution_count": 77
    }
   ],
   "source": [
    "result = vect.vocabulary_\n",
    "\n",
    "def f1(x):\n",
    "    return x[1]\n",
    "\n",
    "sorted_result = sorted(result.items(), key=f1, reverse=True)\n",
    "sorted_result"
   ]
  },
  {
   "cell_type": "code",
   "execution_count": null,
   "metadata": {
    "tags": []
   },
   "outputs": [],
   "source": [
    "# 문장에서 뽑아낸 feature 들의 Dictionary\n",
    "features = vect.get_feature_names()\n",
    "print(features)"
   ]
  },
  {
   "cell_type": "code",
   "execution_count": null,
   "metadata": {},
   "outputs": [],
   "source": [
    "print(result.toarray())"
   ]
  },
  {
   "cell_type": "code",
   "execution_count": null,
   "metadata": {},
   "outputs": [],
   "source": [
    "vectorize = TfidfVectorizer(\n",
    "    tokenizer=tokenizer_by_twitter,\n",
    "    min_df=5,\n",
    "    sublinear_tf = True    # tf값에 1+log(tf)를 적용하여 tf값이 무한정 커지는 것을 막음\n",
    ")\n",
    "X = vectorize.fit_transform(rawdata[:4001])\n",
    "print(\n",
    "    'fit_transform, (sentence {}, feature {})'.format(X.shape[0], X.shape[1])\n",
    ")\n",
    "print(X.toarray())\n",
    "# 문장에서 뽑아낸 feature 들의 배열\n",
    "features = vectorize.get_feature_names()"
   ]
  },
  {
   "cell_type": "code",
   "execution_count": null,
   "metadata": {},
   "outputs": [],
   "source": [
    "print(X.toarray()[0])"
   ]
  },
  {
   "cell_type": "code",
   "execution_count": null,
   "metadata": {},
   "outputs": [],
   "source": [
    "#키워드 를 축소 필요 \n",
    "#키워드별로 논문 개수 (논문편수 5개 이하는 제외하자)\n",
    "#https://codechacha.com/ko/python-google-translate/"
   ]
  },
  {
   "source": [
    "- from googletrans import Translator\n",
    "- translator = Translator()\n",
    "- result = translator.translate('안녕하세요.', dest=\"ja\")\n",
    "- print(result[0].text)\n",
    "\n",
    "#### 구글 번역 API가 변경되어 다음과 같은 설치 필요\n",
    "\n",
    "- $ pip uninstall googletrans\n",
    "- $ git clone https://github.com/alainrouillon/py-googletrans.git\n",
    "- $ cd ./py-googletrans\n",
    "- $ git checkout origin/feature/enhance-use-of-direct-api\n",
    "- $ python setup.py install"
   ],
   "cell_type": "markdown",
   "metadata": {}
  },
  {
   "cell_type": "code",
   "execution_count": null,
   "metadata": {},
   "outputs": [],
   "source": [
    "#1.주제어 COUNT\n",
    "#2.분석대상 명확하게~ \n",
    "#3.주제어별 관계도"
   ]
  },
  {
   "cell_type": "code",
   "execution_count": null,
   "metadata": {},
   "outputs": [],
   "source": []
  }
 ]
}