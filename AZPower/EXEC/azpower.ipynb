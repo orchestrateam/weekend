{
 "metadata": {
  "language_info": {
   "codemirror_mode": {
    "name": "ipython",
    "version": 3
   },
   "file_extension": ".py",
   "mimetype": "text/x-python",
   "name": "python",
   "nbconvert_exporter": "python",
   "pygments_lexer": "ipython3",
   "version": "3.8.5-final"
  },
  "orig_nbformat": 2,
  "kernelspec": {
   "name": "python3",
   "display_name": "Python 3",
   "language": "python"
  }
 },
 "nbformat": 4,
 "nbformat_minor": 2,
 "cells": [
  {
   "source": [
    "### 0. 필요한 라이브러리 Import"
   ],
   "cell_type": "markdown",
   "metadata": {}
  },
  {
   "cell_type": "code",
   "execution_count": 1,
   "metadata": {},
   "outputs": [],
   "source": [
    "import os\n",
    "import pandas as pd\n",
    "import pandas_profiling\n",
    "import matplotlib\n",
    "import matplotlib.pyplot as plt\n",
    "import numpy as np\n",
    "from gensim.models.word2vec import Word2Vec\n",
    "import nltk\n",
    "import time\n",
    "from pykospacing import spacing\n",
    "import re\n",
    "\n",
    "from sklearn.feature_extraction.text import TfidfVectorizer, CountVectorizer\n",
    "from sklearn.metrics.pairwise import linear_kernel, cosine_similarity\n",
    "\n",
    "import kss\n",
    "#from konlpy.tag import Kkma  \n",
    "from konlpy.tag import Twitter\n",
    "from eunjeon import Mecab\n",
    "from konlpy.tag import Okt\n",
    "\n",
    "# %appdata%\\nltk_data\\corpora\\stopwords\n",
    "# korean 파일을 생성하여 복사함\n",
    "from nltk.corpus import stopwords \n",
    "from nltk.tokenize import word_tokenize \n",
    "\n",
    "#nltk.download('stopwords')\n",
    "\n",
    "np.random.seed(42)\n",
    "\n",
    "twitter = Twitter()\n",
    "#kkma = Kkma()\n",
    "mecab = Mecab('C://mecab//mecabrc')\n",
    "okt = Okt()\n",
    "\n",
    "\n",
    "# 한글출력\n",
    "#matplotlib.rc('font', family='AppleGothic')  # MacOS\n",
    "matplotlib.rc('font', family='Malgun Gothic')  # Windows\n",
    "plt.rcParams['axes.unicode_minus'] = False"
   ]
  },
  {
   "source": [
    "### 1. 통합된 원본 데이터 파일을 읽어온다"
   ],
   "cell_type": "markdown",
   "metadata": {}
  },
  {
   "cell_type": "code",
   "execution_count": 23,
   "metadata": {},
   "outputs": [
    {
     "output_type": "stream",
     "name": "stdout",
     "text": [
      "(50568, 21)\n<class 'pandas.core.frame.DataFrame'>\nRangeIndex: 50568 entries, 0 to 50567\nData columns (total 21 columns):\n #   Column                          Non-Null Count  Dtype  \n---  ------                          --------------  -----  \n 0   제목                              50568 non-null  object \n 1   저자                              50568 non-null  object \n 2   발행기관                            50568 non-null  object \n 3   학술지명                            50568 non-null  object \n 4   권호사항                            50568 non-null  object \n 5   발행연도                            50568 non-null  int64  \n 6   작성언어                            50568 non-null  object \n 7   주제어                             26933 non-null  object \n 8   KDC                             11761 non-null  float64\n 9   등재정보                            13083 non-null  object \n 10  자료형태                            50568 non-null  object \n 11  발행기관 URL                        22715 non-null  object \n 12  수록면                             50568 non-null  object \n 13  KCI 피인용횟수                       9042 non-null   float64\n 14  비고                              0 non-null      float64\n 15  중단사유                            180 non-null    object \n 16  제공처                             50453 non-null  object \n 17  소장기관                            10783 non-null  object \n 18  국문 초록 (Abstract)                10447 non-null  object \n 19  다국어 초록 (Multilingual Abstract)  25062 non-null  object \n 20  목차                              28402 non-null  object \ndtypes: float64(3), int64(1), object(17)\nmemory usage: 8.1+ MB\nNone\n"
     ]
    }
   ],
   "source": [
    "ROOT_DIR = path.dirname(__file__) if \"__file__\" in locals() else os.getcwd()\n",
    "dataset = pd.read_csv(os.path.join(ROOT_DIR, \"dataset/one.csv\"))\n",
    "\n",
    "print(dataset.shape)\n",
    "print(dataset.info())"
   ]
  },
  {
   "cell_type": "code",
   "execution_count": 24,
   "metadata": {},
   "outputs": [
    {
     "output_type": "execute_result",
     "data": {
      "text/plain": [
       "                                                  제목  \\\n",
       "0                       전기 이륜자동차 분류기준 현황 : 자동차관리법 중심   \n",
       "1             자동차 사회의 환경과 에너지 문제 = 자동차 엔진 기술의 역사적 동향   \n",
       "2  수소 연료전지 자동차의 충돌 및 화재안전성 관련 연구동향 = Trends on Cr...   \n",
       "3  차세대 자동차 개발의 Plastic Hood 설계 및 CAE해석 = Plastic ...   \n",
       "4  자동차 산업의 역사와 급변하는 기술에 대응한 교육의 바람직한 방향에 관한 연구 = ...   \n",
       "\n",
       "                                                  저자      발행기관  \\\n",
       "0                                                정윤재  한국자동차공학회   \n",
       "1                                  김영길(Yong Kil Kim)  한국자동차공학회   \n",
       "2  임재문(Jae Moon Lim),장형진(Hyung Jin Chang),김규현(Gyu...  한국자동차공학회   \n",
       "3  황태원(Taewon Hwang),최치훈(Chihoon Choi),박상선(Sangsu...  한국자동차공학회   \n",
       "4                                황경수(Kyungsoo Whang)  한국자동차공학회   \n",
       "\n",
       "                     학술지명                     권호사항  발행연도    작성언어  \\\n",
       "0       한국자동차공학회 Workshop   Vol.2011No.9[2011]\\r\\n  2011  Korean   \n",
       "1     한국자동차공학회 학술대회 및 전시회  Vol.2014No.11[2014]\\r\\n  2014  Korean   \n",
       "2  한국자동차공학회 춘 추계 학술대회 논문집      Vol.-No.-[2008]\\r\\n  2008  Korean   \n",
       "3  한국자동차공학회 춘 추계 학술대회 논문집      Vol.-No.-[2006]\\r\\n  2006  Korean   \n",
       "4       한국자동차공학회 Workshop   Vol.2001No.-[2001]\\r\\n  2001  Korean   \n",
       "\n",
       "                                                 주제어    KDC 등재정보  ...  \\\n",
       "0                                                NaN  556.0  NaN  ...   \n",
       "1  Internal Combustion Engine(내연기관),Energy (에너지),...    NaN  NaN  ...   \n",
       "2  Hydrogen Fuel Cell Vehicle(수소 연료전지 자동차),Crash ...    NaN  NaN  ...   \n",
       "3  HOOD(본넷트),Distance(이동량),LS-DYNA(구조해석),MOLDFLOW...    NaN  NaN  ...   \n",
       "4                                                NaN    NaN  NaN  ...   \n",
       "\n",
       "              발행기관 URL        수록면 KCI 피인용횟수  비고  중단사유     제공처 소장기관  \\\n",
       "0  http://www.ksae.org       1-14       NaN NaN   NaN   DBpia  NaN   \n",
       "1                  NaN  1477-1477       NaN NaN   NaN   DBpia  NaN   \n",
       "2  http://www.ksae.org  1253-1258       NaN NaN   NaN   DBpia  NaN   \n",
       "3  http://www.ksae.org  2032-2032       NaN NaN   NaN   DBpia  NaN   \n",
       "4  http://www.ksae.org      70-80       NaN NaN   NaN   DBpia  NaN   \n",
       "\n",
       "                                    국문 초록 (Abstract)  \\\n",
       "0                                                NaN   \n",
       "1                                                NaN   \n",
       "2  환경문제에 따른 배기가스 배출저감 및 자원고갈에 따른 대안으로 향후 수소 연료전지 ...   \n",
       "3  현재 생활 필수품 중의 하나인 자동차논 많은 변화를 보이고 있다. 발전사를 살펴보면...   \n",
       "4  오늘날 급속히 변화하고 있는 자동차 기술에 대응한 자동차 기술교육의 방법을 모색하여...   \n",
       "\n",
       "                      다국어 초록 (Multilingual Abstract)  \\\n",
       "0                                                NaN   \n",
       "1                                                NaN   \n",
       "2  The researches on the crash and the fire safet...   \n",
       "3                                                NaN   \n",
       "4                                                NaN   \n",
       "\n",
       "                                                  목차  \n",
       "0                                                NaN  \n",
       "1                                                NaN  \n",
       "2  Abstract\\n1. 서론\\n2. 수소의 특성\\n3. 충돌 및 화재안전성 관련 연...  \n",
       "3                                                NaN  \n",
       "4  초록<br/>\\n1.서론<br/>\\n2.국내 자동차기술교육의 역사<br/>\\n3.민...  \n",
       "\n",
       "[5 rows x 21 columns]"
      ],
      "text/html": "<div>\n<style scoped>\n    .dataframe tbody tr th:only-of-type {\n        vertical-align: middle;\n    }\n\n    .dataframe tbody tr th {\n        vertical-align: top;\n    }\n\n    .dataframe thead th {\n        text-align: right;\n    }\n</style>\n<table border=\"1\" class=\"dataframe\">\n  <thead>\n    <tr style=\"text-align: right;\">\n      <th></th>\n      <th>제목</th>\n      <th>저자</th>\n      <th>발행기관</th>\n      <th>학술지명</th>\n      <th>권호사항</th>\n      <th>발행연도</th>\n      <th>작성언어</th>\n      <th>주제어</th>\n      <th>KDC</th>\n      <th>등재정보</th>\n      <th>...</th>\n      <th>발행기관 URL</th>\n      <th>수록면</th>\n      <th>KCI 피인용횟수</th>\n      <th>비고</th>\n      <th>중단사유</th>\n      <th>제공처</th>\n      <th>소장기관</th>\n      <th>국문 초록 (Abstract)</th>\n      <th>다국어 초록 (Multilingual Abstract)</th>\n      <th>목차</th>\n    </tr>\n  </thead>\n  <tbody>\n    <tr>\n      <th>0</th>\n      <td>전기 이륜자동차 분류기준 현황 : 자동차관리법 중심</td>\n      <td>정윤재</td>\n      <td>한국자동차공학회</td>\n      <td>한국자동차공학회 Workshop</td>\n      <td>Vol.2011No.9[2011]\\r\\n</td>\n      <td>2011</td>\n      <td>Korean</td>\n      <td>NaN</td>\n      <td>556.0</td>\n      <td>NaN</td>\n      <td>...</td>\n      <td>http://www.ksae.org</td>\n      <td>1-14</td>\n      <td>NaN</td>\n      <td>NaN</td>\n      <td>NaN</td>\n      <td>DBpia</td>\n      <td>NaN</td>\n      <td>NaN</td>\n      <td>NaN</td>\n      <td>NaN</td>\n    </tr>\n    <tr>\n      <th>1</th>\n      <td>자동차 사회의 환경과 에너지 문제 = 자동차 엔진 기술의 역사적 동향</td>\n      <td>김영길(Yong Kil Kim)</td>\n      <td>한국자동차공학회</td>\n      <td>한국자동차공학회 학술대회 및 전시회</td>\n      <td>Vol.2014No.11[2014]\\r\\n</td>\n      <td>2014</td>\n      <td>Korean</td>\n      <td>Internal Combustion Engine(내연기관),Energy (에너지),...</td>\n      <td>NaN</td>\n      <td>NaN</td>\n      <td>...</td>\n      <td>NaN</td>\n      <td>1477-1477</td>\n      <td>NaN</td>\n      <td>NaN</td>\n      <td>NaN</td>\n      <td>DBpia</td>\n      <td>NaN</td>\n      <td>NaN</td>\n      <td>NaN</td>\n      <td>NaN</td>\n    </tr>\n    <tr>\n      <th>2</th>\n      <td>수소 연료전지 자동차의 충돌 및 화재안전성 관련 연구동향 = Trends on Cr...</td>\n      <td>임재문(Jae Moon Lim),장형진(Hyung Jin Chang),김규현(Gyu...</td>\n      <td>한국자동차공학회</td>\n      <td>한국자동차공학회 춘 추계 학술대회 논문집</td>\n      <td>Vol.-No.-[2008]\\r\\n</td>\n      <td>2008</td>\n      <td>Korean</td>\n      <td>Hydrogen Fuel Cell Vehicle(수소 연료전지 자동차),Crash ...</td>\n      <td>NaN</td>\n      <td>NaN</td>\n      <td>...</td>\n      <td>http://www.ksae.org</td>\n      <td>1253-1258</td>\n      <td>NaN</td>\n      <td>NaN</td>\n      <td>NaN</td>\n      <td>DBpia</td>\n      <td>NaN</td>\n      <td>환경문제에 따른 배기가스 배출저감 및 자원고갈에 따른 대안으로 향후 수소 연료전지 ...</td>\n      <td>The researches on the crash and the fire safet...</td>\n      <td>Abstract\\n1. 서론\\n2. 수소의 특성\\n3. 충돌 및 화재안전성 관련 연...</td>\n    </tr>\n    <tr>\n      <th>3</th>\n      <td>차세대 자동차 개발의 Plastic Hood 설계 및 CAE해석 = Plastic ...</td>\n      <td>황태원(Taewon Hwang),최치훈(Chihoon Choi),박상선(Sangsu...</td>\n      <td>한국자동차공학회</td>\n      <td>한국자동차공학회 춘 추계 학술대회 논문집</td>\n      <td>Vol.-No.-[2006]\\r\\n</td>\n      <td>2006</td>\n      <td>Korean</td>\n      <td>HOOD(본넷트),Distance(이동량),LS-DYNA(구조해석),MOLDFLOW...</td>\n      <td>NaN</td>\n      <td>NaN</td>\n      <td>...</td>\n      <td>http://www.ksae.org</td>\n      <td>2032-2032</td>\n      <td>NaN</td>\n      <td>NaN</td>\n      <td>NaN</td>\n      <td>DBpia</td>\n      <td>NaN</td>\n      <td>현재 생활 필수품 중의 하나인 자동차논 많은 변화를 보이고 있다. 발전사를 살펴보면...</td>\n      <td>NaN</td>\n      <td>NaN</td>\n    </tr>\n    <tr>\n      <th>4</th>\n      <td>자동차 산업의 역사와 급변하는 기술에 대응한 교육의 바람직한 방향에 관한 연구 = ...</td>\n      <td>황경수(Kyungsoo Whang)</td>\n      <td>한국자동차공학회</td>\n      <td>한국자동차공학회 Workshop</td>\n      <td>Vol.2001No.-[2001]\\r\\n</td>\n      <td>2001</td>\n      <td>Korean</td>\n      <td>NaN</td>\n      <td>NaN</td>\n      <td>NaN</td>\n      <td>...</td>\n      <td>http://www.ksae.org</td>\n      <td>70-80</td>\n      <td>NaN</td>\n      <td>NaN</td>\n      <td>NaN</td>\n      <td>DBpia</td>\n      <td>NaN</td>\n      <td>오늘날 급속히 변화하고 있는 자동차 기술에 대응한 자동차 기술교육의 방법을 모색하여...</td>\n      <td>NaN</td>\n      <td>초록&lt;br/&gt;\\n1.서론&lt;br/&gt;\\n2.국내 자동차기술교육의 역사&lt;br/&gt;\\n3.민...</td>\n    </tr>\n  </tbody>\n</table>\n<p>5 rows × 21 columns</p>\n</div>"
     },
     "metadata": {},
     "execution_count": 24
    }
   ],
   "source": [
    "dataset.head()"
   ]
  },
  {
   "cell_type": "code",
   "execution_count": 27,
   "metadata": {},
   "outputs": [
    {
     "output_type": "stream",
     "name": "stdout",
     "text": [
      "총 소요시간:0.003962278366088867초\n"
     ]
    }
   ],
   "source": [
    "start = time.time()\n",
    "\n",
    "train_data = dataset['국문 초록 (Abstract)'].dropna()\n",
    "#train_data = train_data.apply(lambda x: re.sub(\"[^ㄱ-ㅎㅏ-ㅣ가-힣] \", \"\", x))\n",
    "\n",
    "end = time.time()\n",
    "print(f'총 소요시간:{end-start}초')"
   ]
  },
  {
   "cell_type": "code",
   "execution_count": 28,
   "metadata": {},
   "outputs": [
    {
     "output_type": "stream",
     "name": "stdout",
     "text": [
      "10447\n"
     ]
    }
   ],
   "source": [
    "\n",
    "print(len(train_data))"
   ]
  },
  {
   "source": [
    "사용 가능한 패키지\n",
    "Soyspacing – https://github.com/lovit/soyspacing : 휴리스틱 알고리즘 기반 띄어쓰기 모델. 주어진 알고리즘으로 input으로 들어간 문장들에서 띄어쓰기 규칙을 파악하고 이를 새로운 문장에 적용. 모든 한글 문서에 광범위하게 적용할 수 있는 모델을 내기에는 한계가 있겠지만, 동질적인 주제와 형식을 가진 문서들에 대해 분석을 하는 경우 특히 유용하게 쓸 수 있을 것 같다. (특정 도메인을 위한 모델)\n",
    "\n",
    "PyKoSpacing – https://github.com/haven-jeon/PyKoSpacing : CNN에 RNN을 쌓아 올린 모델을 뉴스 데이터로 훈련. 세종 코퍼스 등 테스트 셋에서 잘 작동한다고 한다. 하지만 accuracy measure가 성능을 over represent 할 수 있을 것 같다. 대체로 띄어쓰기가 정말 난장판으로 되어있는 경우 볼만한 문서로 바꾸는데 사용할 수 있을 것 같다.\n",
    "\n",
    "TaKos (Alpha) – https://github.com/Taekyoon/takos-alpha : 앞서 첨부한 Youtube 영상에서 소개된 프로젝트. 아직 상용화까지 개발이 진행 중인 것 같다!"
   ],
   "cell_type": "markdown",
   "metadata": {}
  },
  {
   "cell_type": "code",
   "execution_count": 39,
   "metadata": {},
   "outputs": [
    {
     "output_type": "execute_result",
     "data": {
      "text/plain": [
       "319"
      ]
     },
     "metadata": {},
     "execution_count": 39
    }
   ],
   "source": [
    "stop_words = stopwords.words('korean') + stopwords.words('english')\n",
    "len(stop_words)"
   ]
  },
  {
   "cell_type": "code",
   "execution_count": 40,
   "metadata": {
    "tags": []
   },
   "outputs": [
    {
     "output_type": "stream",
     "name": "stdout",
     "text": [
      "총 소요시간:27.829155683517456초\n"
     ]
    }
   ],
   "source": [
    "tokenized_data = []\n",
    "\n",
    "start = time.time()\n",
    "for abstract in train_data.tolist() :\n",
    "    temp_X = mecab.morphs(abstract)\n",
    "    temp_X = [word for word in temp_X if not word in stop_words]\n",
    "    tokenized_data.append(temp_X)\n",
    "\n",
    "end = time.time()\n",
    "print(f'총 소요시간:{end-start}초')"
   ]
  },
  {
   "cell_type": "code",
   "execution_count": 41,
   "metadata": {},
   "outputs": [
    {
     "output_type": "stream",
     "name": "stdout",
     "text": [
      "초록의 최대 길이: 7463\n초록의 평균 길이: 247.04259596056283\n"
     ]
    },
    {
     "output_type": "display_data",
     "data": {
      "text/plain": "<Figure size 432x288 with 1 Axes>",
      "image/svg+xml": "<?xml version=\"1.0\" encoding=\"utf-8\" standalone=\"no\"?>\r\n<!DOCTYPE svg PUBLIC \"-//W3C//DTD SVG 1.1//EN\"\r\n  \"http://www.w3.org/Graphics/SVG/1.1/DTD/svg11.dtd\">\r\n<!-- Created with matplotlib (https://matplotlib.org/) -->\r\n<svg height=\"262.7525pt\" version=\"1.1\" viewBox=\"0 0 392.1875 262.7525\" width=\"392.1875pt\" xmlns=\"http://www.w3.org/2000/svg\" xmlns:xlink=\"http://www.w3.org/1999/xlink\">\r\n <metadata>\r\n  <rdf:RDF xmlns:cc=\"http://creativecommons.org/ns#\" xmlns:dc=\"http://purl.org/dc/elements/1.1/\" xmlns:rdf=\"http://www.w3.org/1999/02/22-rdf-syntax-ns#\">\r\n   <cc:Work>\r\n    <dc:type rdf:resource=\"http://purl.org/dc/dcmitype/StillImage\"/>\r\n    <dc:date>2021-01-03T22:12:15.188545</dc:date>\r\n    <dc:format>image/svg+xml</dc:format>\r\n    <dc:creator>\r\n     <cc:Agent>\r\n      <dc:title>Matplotlib v3.3.2, https://matplotlib.org/</dc:title>\r\n     </cc:Agent>\r\n    </dc:creator>\r\n   </cc:Work>\r\n  </rdf:RDF>\r\n </metadata>\r\n <defs>\r\n  <style type=\"text/css\">*{stroke-linecap:butt;stroke-linejoin:round;}</style>\r\n </defs>\r\n <g id=\"figure_1\">\r\n  <g id=\"patch_1\">\r\n   <path d=\"M 0 262.7525 \r\nL 392.1875 262.7525 \r\nL 392.1875 0 \r\nL 0 0 \r\nz\r\n\" style=\"fill:none;\"/>\r\n  </g>\r\n  <g id=\"axes_1\">\r\n   <g id=\"patch_2\">\r\n    <path d=\"M 50.1875 224.64 \r\nL 384.9875 224.64 \r\nL 384.9875 7.2 \r\nL 50.1875 7.2 \r\nz\r\n\" style=\"fill:#ffffff;\"/>\r\n   </g>\r\n   <g id=\"patch_3\">\r\n    <path clip-path=\"url(#p64039aaff5)\" d=\"M 65.405682 224.64 \r\nL 71.492955 224.64 \r\nL 71.492955 91.37221 \r\nL 65.405682 91.37221 \r\nz\r\n\" style=\"fill:#1f77b4;\"/>\r\n   </g>\r\n   <g id=\"patch_4\">\r\n    <path clip-path=\"url(#p64039aaff5)\" d=\"M 71.492955 224.64 \r\nL 77.580227 224.64 \r\nL 77.580227 17.554286 \r\nL 71.492955 17.554286 \r\nz\r\n\" style=\"fill:#1f77b4;\"/>\r\n   </g>\r\n   <g id=\"patch_5\">\r\n    <path clip-path=\"url(#p64039aaff5)\" d=\"M 77.580227 224.64 \r\nL 83.6675 224.64 \r\nL 83.6675 175.401144 \r\nL 77.580227 175.401144 \r\nz\r\n\" style=\"fill:#1f77b4;\"/>\r\n   </g>\r\n   <g id=\"patch_6\">\r\n    <path clip-path=\"url(#p64039aaff5)\" d=\"M 83.6675 224.64 \r\nL 89.754773 224.64 \r\nL 89.754773 208.81899 \r\nL 83.6675 208.81899 \r\nz\r\n\" style=\"fill:#1f77b4;\"/>\r\n   </g>\r\n   <g id=\"patch_7\">\r\n    <path clip-path=\"url(#p64039aaff5)\" d=\"M 89.754773 224.64 \r\nL 95.842045 224.64 \r\nL 95.842045 218.586042 \r\nL 89.754773 218.586042 \r\nz\r\n\" style=\"fill:#1f77b4;\"/>\r\n   </g>\r\n   <g id=\"patch_8\">\r\n    <path clip-path=\"url(#p64039aaff5)\" d=\"M 95.842045 224.64 \r\nL 101.929318 224.64 \r\nL 101.929318 222.137697 \r\nL 95.842045 222.137697 \r\nz\r\n\" style=\"fill:#1f77b4;\"/>\r\n   </g>\r\n   <g id=\"patch_9\">\r\n    <path clip-path=\"url(#p64039aaff5)\" d=\"M 101.929318 224.64 \r\nL 108.016591 224.64 \r\nL 108.016591 222.702734 \r\nL 101.929318 222.702734 \r\nz\r\n\" style=\"fill:#1f77b4;\"/>\r\n   </g>\r\n   <g id=\"patch_10\">\r\n    <path clip-path=\"url(#p64039aaff5)\" d=\"M 108.016591 224.64 \r\nL 114.103864 224.64 \r\nL 114.103864 223.631007 \r\nL 108.016591 223.631007 \r\nz\r\n\" style=\"fill:#1f77b4;\"/>\r\n   </g>\r\n   <g id=\"patch_11\">\r\n    <path clip-path=\"url(#p64039aaff5)\" d=\"M 114.103864 224.64 \r\nL 120.191136 224.64 \r\nL 120.191136 224.034604 \r\nL 114.103864 224.034604 \r\nz\r\n\" style=\"fill:#1f77b4;\"/>\r\n   </g>\r\n   <g id=\"patch_12\">\r\n    <path clip-path=\"url(#p64039aaff5)\" d=\"M 120.191136 224.64 \r\nL 126.278409 224.64 \r\nL 126.278409 223.873165 \r\nL 120.191136 223.873165 \r\nz\r\n\" style=\"fill:#1f77b4;\"/>\r\n   </g>\r\n   <g id=\"patch_13\">\r\n    <path clip-path=\"url(#p64039aaff5)\" d=\"M 126.278409 224.64 \r\nL 132.365682 224.64 \r\nL 132.365682 223.953885 \r\nL 126.278409 223.953885 \r\nz\r\n\" style=\"fill:#1f77b4;\"/>\r\n   </g>\r\n   <g id=\"patch_14\">\r\n    <path clip-path=\"url(#p64039aaff5)\" d=\"M 132.365682 224.64 \r\nL 138.452955 224.64 \r\nL 138.452955 224.357482 \r\nL 132.365682 224.357482 \r\nz\r\n\" style=\"fill:#1f77b4;\"/>\r\n   </g>\r\n   <g id=\"patch_15\">\r\n    <path clip-path=\"url(#p64039aaff5)\" d=\"M 138.452955 224.64 \r\nL 144.540227 224.64 \r\nL 144.540227 224.317122 \r\nL 138.452955 224.317122 \r\nz\r\n\" style=\"fill:#1f77b4;\"/>\r\n   </g>\r\n   <g id=\"patch_16\">\r\n    <path clip-path=\"url(#p64039aaff5)\" d=\"M 144.540227 224.64 \r\nL 150.6275 224.64 \r\nL 150.6275 224.518921 \r\nL 144.540227 224.518921 \r\nz\r\n\" style=\"fill:#1f77b4;\"/>\r\n   </g>\r\n   <g id=\"patch_17\">\r\n    <path clip-path=\"url(#p64039aaff5)\" d=\"M 150.6275 224.64 \r\nL 156.714773 224.64 \r\nL 156.714773 224.478561 \r\nL 150.6275 224.478561 \r\nz\r\n\" style=\"fill:#1f77b4;\"/>\r\n   </g>\r\n   <g id=\"patch_18\">\r\n    <path clip-path=\"url(#p64039aaff5)\" d=\"M 156.714773 224.64 \r\nL 162.802045 224.64 \r\nL 162.802045 224.357482 \r\nL 156.714773 224.357482 \r\nz\r\n\" style=\"fill:#1f77b4;\"/>\r\n   </g>\r\n   <g id=\"patch_19\">\r\n    <path clip-path=\"url(#p64039aaff5)\" d=\"M 162.802045 224.64 \r\nL 168.889318 224.64 \r\nL 168.889318 224.317122 \r\nL 162.802045 224.317122 \r\nz\r\n\" style=\"fill:#1f77b4;\"/>\r\n   </g>\r\n   <g id=\"patch_20\">\r\n    <path clip-path=\"url(#p64039aaff5)\" d=\"M 168.889318 224.64 \r\nL 174.976591 224.64 \r\nL 174.976591 224.478561 \r\nL 168.889318 224.478561 \r\nz\r\n\" style=\"fill:#1f77b4;\"/>\r\n   </g>\r\n   <g id=\"patch_21\">\r\n    <path clip-path=\"url(#p64039aaff5)\" d=\"M 174.976591 224.64 \r\nL 181.063864 224.64 \r\nL 181.063864 224.518921 \r\nL 174.976591 224.518921 \r\nz\r\n\" style=\"fill:#1f77b4;\"/>\r\n   </g>\r\n   <g id=\"patch_22\">\r\n    <path clip-path=\"url(#p64039aaff5)\" d=\"M 181.063864 224.64 \r\nL 187.151136 224.64 \r\nL 187.151136 224.357482 \r\nL 181.063864 224.357482 \r\nz\r\n\" style=\"fill:#1f77b4;\"/>\r\n   </g>\r\n   <g id=\"patch_23\">\r\n    <path clip-path=\"url(#p64039aaff5)\" d=\"M 187.151136 224.64 \r\nL 193.238409 224.64 \r\nL 193.238409 224.518921 \r\nL 187.151136 224.518921 \r\nz\r\n\" style=\"fill:#1f77b4;\"/>\r\n   </g>\r\n   <g id=\"patch_24\">\r\n    <path clip-path=\"url(#p64039aaff5)\" d=\"M 193.238409 224.64 \r\nL 199.325682 224.64 \r\nL 199.325682 224.64 \r\nL 193.238409 224.64 \r\nz\r\n\" style=\"fill:#1f77b4;\"/>\r\n   </g>\r\n   <g id=\"patch_25\">\r\n    <path clip-path=\"url(#p64039aaff5)\" d=\"M 199.325682 224.64 \r\nL 205.412955 224.64 \r\nL 205.412955 224.64 \r\nL 199.325682 224.64 \r\nz\r\n\" style=\"fill:#1f77b4;\"/>\r\n   </g>\r\n   <g id=\"patch_26\">\r\n    <path clip-path=\"url(#p64039aaff5)\" d=\"M 205.412955 224.64 \r\nL 211.500227 224.64 \r\nL 211.500227 224.64 \r\nL 205.412955 224.64 \r\nz\r\n\" style=\"fill:#1f77b4;\"/>\r\n   </g>\r\n   <g id=\"patch_27\">\r\n    <path clip-path=\"url(#p64039aaff5)\" d=\"M 211.500227 224.64 \r\nL 217.5875 224.64 \r\nL 217.5875 224.559281 \r\nL 211.500227 224.559281 \r\nz\r\n\" style=\"fill:#1f77b4;\"/>\r\n   </g>\r\n   <g id=\"patch_28\">\r\n    <path clip-path=\"url(#p64039aaff5)\" d=\"M 217.5875 224.64 \r\nL 223.674773 224.64 \r\nL 223.674773 224.64 \r\nL 217.5875 224.64 \r\nz\r\n\" style=\"fill:#1f77b4;\"/>\r\n   </g>\r\n   <g id=\"patch_29\">\r\n    <path clip-path=\"url(#p64039aaff5)\" d=\"M 223.674773 224.64 \r\nL 229.762045 224.64 \r\nL 229.762045 224.64 \r\nL 223.674773 224.64 \r\nz\r\n\" style=\"fill:#1f77b4;\"/>\r\n   </g>\r\n   <g id=\"patch_30\">\r\n    <path clip-path=\"url(#p64039aaff5)\" d=\"M 229.762045 224.64 \r\nL 235.849318 224.64 \r\nL 235.849318 224.59964 \r\nL 229.762045 224.59964 \r\nz\r\n\" style=\"fill:#1f77b4;\"/>\r\n   </g>\r\n   <g id=\"patch_31\">\r\n    <path clip-path=\"url(#p64039aaff5)\" d=\"M 235.849318 224.64 \r\nL 241.936591 224.64 \r\nL 241.936591 224.64 \r\nL 235.849318 224.64 \r\nz\r\n\" style=\"fill:#1f77b4;\"/>\r\n   </g>\r\n   <g id=\"patch_32\">\r\n    <path clip-path=\"url(#p64039aaff5)\" d=\"M 241.936591 224.64 \r\nL 248.023864 224.64 \r\nL 248.023864 224.59964 \r\nL 241.936591 224.59964 \r\nz\r\n\" style=\"fill:#1f77b4;\"/>\r\n   </g>\r\n   <g id=\"patch_33\">\r\n    <path clip-path=\"url(#p64039aaff5)\" d=\"M 248.023864 224.64 \r\nL 254.111136 224.64 \r\nL 254.111136 224.59964 \r\nL 248.023864 224.59964 \r\nz\r\n\" style=\"fill:#1f77b4;\"/>\r\n   </g>\r\n   <g id=\"patch_34\">\r\n    <path clip-path=\"url(#p64039aaff5)\" d=\"M 254.111136 224.64 \r\nL 260.198409 224.64 \r\nL 260.198409 224.64 \r\nL 254.111136 224.64 \r\nz\r\n\" style=\"fill:#1f77b4;\"/>\r\n   </g>\r\n   <g id=\"patch_35\">\r\n    <path clip-path=\"url(#p64039aaff5)\" d=\"M 260.198409 224.64 \r\nL 266.285682 224.64 \r\nL 266.285682 224.59964 \r\nL 260.198409 224.59964 \r\nz\r\n\" style=\"fill:#1f77b4;\"/>\r\n   </g>\r\n   <g id=\"patch_36\">\r\n    <path clip-path=\"url(#p64039aaff5)\" d=\"M 266.285682 224.64 \r\nL 272.372955 224.64 \r\nL 272.372955 224.64 \r\nL 266.285682 224.64 \r\nz\r\n\" style=\"fill:#1f77b4;\"/>\r\n   </g>\r\n   <g id=\"patch_37\">\r\n    <path clip-path=\"url(#p64039aaff5)\" d=\"M 272.372955 224.64 \r\nL 278.460227 224.64 \r\nL 278.460227 224.64 \r\nL 272.372955 224.64 \r\nz\r\n\" style=\"fill:#1f77b4;\"/>\r\n   </g>\r\n   <g id=\"patch_38\">\r\n    <path clip-path=\"url(#p64039aaff5)\" d=\"M 278.460227 224.64 \r\nL 284.5475 224.64 \r\nL 284.5475 224.64 \r\nL 278.460227 224.64 \r\nz\r\n\" style=\"fill:#1f77b4;\"/>\r\n   </g>\r\n   <g id=\"patch_39\">\r\n    <path clip-path=\"url(#p64039aaff5)\" d=\"M 284.5475 224.64 \r\nL 290.634773 224.64 \r\nL 290.634773 224.64 \r\nL 284.5475 224.64 \r\nz\r\n\" style=\"fill:#1f77b4;\"/>\r\n   </g>\r\n   <g id=\"patch_40\">\r\n    <path clip-path=\"url(#p64039aaff5)\" d=\"M 290.634773 224.64 \r\nL 296.722045 224.64 \r\nL 296.722045 224.59964 \r\nL 290.634773 224.59964 \r\nz\r\n\" style=\"fill:#1f77b4;\"/>\r\n   </g>\r\n   <g id=\"patch_41\">\r\n    <path clip-path=\"url(#p64039aaff5)\" d=\"M 296.722045 224.64 \r\nL 302.809318 224.64 \r\nL 302.809318 224.64 \r\nL 296.722045 224.64 \r\nz\r\n\" style=\"fill:#1f77b4;\"/>\r\n   </g>\r\n   <g id=\"patch_42\">\r\n    <path clip-path=\"url(#p64039aaff5)\" d=\"M 302.809318 224.64 \r\nL 308.896591 224.64 \r\nL 308.896591 224.59964 \r\nL 302.809318 224.59964 \r\nz\r\n\" style=\"fill:#1f77b4;\"/>\r\n   </g>\r\n   <g id=\"patch_43\">\r\n    <path clip-path=\"url(#p64039aaff5)\" d=\"M 308.896591 224.64 \r\nL 314.983864 224.64 \r\nL 314.983864 224.64 \r\nL 308.896591 224.64 \r\nz\r\n\" style=\"fill:#1f77b4;\"/>\r\n   </g>\r\n   <g id=\"patch_44\">\r\n    <path clip-path=\"url(#p64039aaff5)\" d=\"M 314.983864 224.64 \r\nL 321.071136 224.64 \r\nL 321.071136 224.64 \r\nL 314.983864 224.64 \r\nz\r\n\" style=\"fill:#1f77b4;\"/>\r\n   </g>\r\n   <g id=\"patch_45\">\r\n    <path clip-path=\"url(#p64039aaff5)\" d=\"M 321.071136 224.64 \r\nL 327.158409 224.64 \r\nL 327.158409 224.64 \r\nL 321.071136 224.64 \r\nz\r\n\" style=\"fill:#1f77b4;\"/>\r\n   </g>\r\n   <g id=\"patch_46\">\r\n    <path clip-path=\"url(#p64039aaff5)\" d=\"M 327.158409 224.64 \r\nL 333.245682 224.64 \r\nL 333.245682 224.64 \r\nL 327.158409 224.64 \r\nz\r\n\" style=\"fill:#1f77b4;\"/>\r\n   </g>\r\n   <g id=\"patch_47\">\r\n    <path clip-path=\"url(#p64039aaff5)\" d=\"M 333.245682 224.64 \r\nL 339.332955 224.64 \r\nL 339.332955 224.59964 \r\nL 333.245682 224.59964 \r\nz\r\n\" style=\"fill:#1f77b4;\"/>\r\n   </g>\r\n   <g id=\"patch_48\">\r\n    <path clip-path=\"url(#p64039aaff5)\" d=\"M 339.332955 224.64 \r\nL 345.420227 224.64 \r\nL 345.420227 224.64 \r\nL 339.332955 224.64 \r\nz\r\n\" style=\"fill:#1f77b4;\"/>\r\n   </g>\r\n   <g id=\"patch_49\">\r\n    <path clip-path=\"url(#p64039aaff5)\" d=\"M 345.420227 224.64 \r\nL 351.5075 224.64 \r\nL 351.5075 224.64 \r\nL 345.420227 224.64 \r\nz\r\n\" style=\"fill:#1f77b4;\"/>\r\n   </g>\r\n   <g id=\"patch_50\">\r\n    <path clip-path=\"url(#p64039aaff5)\" d=\"M 351.5075 224.64 \r\nL 357.594773 224.64 \r\nL 357.594773 224.64 \r\nL 351.5075 224.64 \r\nz\r\n\" style=\"fill:#1f77b4;\"/>\r\n   </g>\r\n   <g id=\"patch_51\">\r\n    <path clip-path=\"url(#p64039aaff5)\" d=\"M 357.594773 224.64 \r\nL 363.682045 224.64 \r\nL 363.682045 224.59964 \r\nL 357.594773 224.59964 \r\nz\r\n\" style=\"fill:#1f77b4;\"/>\r\n   </g>\r\n   <g id=\"patch_52\">\r\n    <path clip-path=\"url(#p64039aaff5)\" d=\"M 363.682045 224.64 \r\nL 369.769318 224.64 \r\nL 369.769318 224.559281 \r\nL 363.682045 224.559281 \r\nz\r\n\" style=\"fill:#1f77b4;\"/>\r\n   </g>\r\n   <g id=\"matplotlib.axis_1\">\r\n    <g id=\"xtick_1\">\r\n     <g id=\"line2d_1\">\r\n      <defs>\r\n       <path d=\"M 0 0 \r\nL 0 3.5 \r\n\" id=\"m36f4c00192\" style=\"stroke:#000000;stroke-width:0.8;\"/>\r\n      </defs>\r\n      <g>\r\n       <use style=\"stroke:#000000;stroke-width:0.8;\" x=\"65.324094\" xlink:href=\"#m36f4c00192\" y=\"224.64\"/>\r\n      </g>\r\n     </g>\r\n     <g id=\"text_1\">\r\n      <!-- 0 -->\r\n      <g transform=\"translate(62.570188 239.232187)scale(0.1 -0.1)\">\r\n       <defs>\r\n        <path d=\"M 4.34375 34.46875 \r\nQ 4.34375 53.515625 10.546875 63.28125 \r\nQ 16.75 73.046875 28.421875 73.046875 \r\nQ 50.828125 73.046875 50.828125 36.234375 \r\nQ 50.828125 18.0625 44.59375 8.421875 \r\nQ 38.375 -1.21875 26.8125 -1.21875 \r\nQ 15.875 -1.21875 10.109375 8.125 \r\nQ 4.34375 17.484375 4.34375 34.46875 \r\nz\r\nM 12.25 34.859375 \r\nQ 12.25 5.375 27.640625 5.375 \r\nQ 42.921875 5.375 42.921875 35.296875 \r\nQ 42.921875 66.40625 28.03125 66.40625 \r\nQ 12.25 66.40625 12.25 34.859375 \r\nz\r\n\" id=\"MalgunGothic-48\"/>\r\n       </defs>\r\n       <use xlink:href=\"#MalgunGothic-48\"/>\r\n      </g>\r\n     </g>\r\n    </g>\r\n    <g id=\"xtick_2\">\r\n     <g id=\"line2d_2\">\r\n      <g>\r\n       <use style=\"stroke:#000000;stroke-width:0.8;\" x=\"106.118041\" xlink:href=\"#m36f4c00192\" y=\"224.64\"/>\r\n      </g>\r\n     </g>\r\n     <g id=\"text_2\">\r\n      <!-- 1000 -->\r\n      <g transform=\"translate(95.102416 239.232187)scale(0.1 -0.1)\">\r\n       <defs>\r\n        <path d=\"M 34.859375 0 \r\nL 27.09375 0 \r\nL 27.09375 62.0625 \r\nQ 24.859375 59.8125 19.78125 57.203125 \r\nQ 14.703125 54.59375 10.5 53.5625 \r\nL 10.5 61.859375 \r\nQ 15.875 63.375 22.015625 66.796875 \r\nQ 28.171875 70.21875 31.734375 73.4375 \r\nL 34.859375 73.4375 \r\nz\r\n\" id=\"MalgunGothic-49\"/>\r\n       </defs>\r\n       <use xlink:href=\"#MalgunGothic-49\"/>\r\n       <use x=\"55.078125\" xlink:href=\"#MalgunGothic-48\"/>\r\n       <use x=\"110.15625\" xlink:href=\"#MalgunGothic-48\"/>\r\n       <use x=\"165.234375\" xlink:href=\"#MalgunGothic-48\"/>\r\n      </g>\r\n     </g>\r\n    </g>\r\n    <g id=\"xtick_3\">\r\n     <g id=\"line2d_3\">\r\n      <g>\r\n       <use style=\"stroke:#000000;stroke-width:0.8;\" x=\"146.911987\" xlink:href=\"#m36f4c00192\" y=\"224.64\"/>\r\n      </g>\r\n     </g>\r\n     <g id=\"text_3\">\r\n      <!-- 2000 -->\r\n      <g transform=\"translate(135.896362 239.232187)scale(0.1 -0.1)\">\r\n       <defs>\r\n        <path d=\"M 39.359375 52.6875 \r\nQ 39.359375 59.125 35.546875 62.78125 \r\nQ 31.734375 66.453125 25.4375 66.453125 \r\nQ 20.953125 66.453125 16.453125 64.125 \r\nQ 11.96875 61.8125 8.34375 57.765625 \r\nL 8.34375 66.15625 \r\nQ 15.328125 73.046875 26.421875 73.046875 \r\nQ 35.640625 73.046875 41.28125 67.71875 \r\nQ 46.921875 62.40625 46.921875 53.375 \r\nQ 46.921875 45.609375 43.3125 39.765625 \r\nQ 39.703125 33.9375 31 27.734375 \r\nQ 22.796875 21.96875 19.59375 18.984375 \r\nQ 16.40625 16.015625 15.109375 13.34375 \r\nQ 13.8125 10.6875 13.8125 7.03125 \r\nL 48.6875 7.03125 \r\nL 48.6875 0 \r\nL 5.5625 0 \r\nL 5.5625 3.515625 \r\nQ 5.5625 9.421875 7.203125 13.59375 \r\nQ 8.84375 17.78125 12.671875 21.75 \r\nQ 16.5 25.734375 24.953125 31.59375 \r\nQ 32.671875 36.921875 36.015625 41.71875 \r\nQ 39.359375 46.53125 39.359375 52.6875 \r\nz\r\n\" id=\"MalgunGothic-50\"/>\r\n       </defs>\r\n       <use xlink:href=\"#MalgunGothic-50\"/>\r\n       <use x=\"55.078125\" xlink:href=\"#MalgunGothic-48\"/>\r\n       <use x=\"110.15625\" xlink:href=\"#MalgunGothic-48\"/>\r\n       <use x=\"165.234375\" xlink:href=\"#MalgunGothic-48\"/>\r\n      </g>\r\n     </g>\r\n    </g>\r\n    <g id=\"xtick_4\">\r\n     <g id=\"line2d_4\">\r\n      <g>\r\n       <use style=\"stroke:#000000;stroke-width:0.8;\" x=\"187.705934\" xlink:href=\"#m36f4c00192\" y=\"224.64\"/>\r\n      </g>\r\n     </g>\r\n     <g id=\"text_4\">\r\n      <!-- 3000 -->\r\n      <g transform=\"translate(176.690309 239.232187)scale(0.1 -0.1)\">\r\n       <defs>\r\n        <path d=\"M 6.5 11.234375 \r\nQ 13.921875 5.375 23.09375 5.375 \r\nQ 30.609375 5.375 35.21875 9.171875 \r\nQ 39.84375 12.984375 39.84375 19.484375 \r\nQ 39.84375 33.890625 19.578125 33.890625 \r\nL 13.625 33.890625 \r\nL 13.625 40.484375 \r\nL 19.28125 40.484375 \r\nQ 37.3125 40.484375 37.3125 53.953125 \r\nQ 37.3125 66.40625 23.578125 66.40625 \r\nQ 15.96875 66.40625 9.28125 61.1875 \r\nL 9.28125 68.953125 \r\nQ 16.109375 73.046875 25.53125 73.046875 \r\nQ 34.125 73.046875 39.671875 68.3125 \r\nQ 45.21875 63.578125 45.21875 55.953125 \r\nQ 45.21875 41.84375 30.8125 37.640625 \r\nL 30.8125 37.5 \r\nQ 38.578125 36.8125 43.1875 32.078125 \r\nQ 47.796875 27.34375 47.796875 20.3125 \r\nQ 47.796875 10.5 40.6875 4.640625 \r\nQ 33.59375 -1.21875 22.65625 -1.21875 \r\nQ 12.59375 -1.21875 6.5 2.640625 \r\nz\r\n\" id=\"MalgunGothic-51\"/>\r\n       </defs>\r\n       <use xlink:href=\"#MalgunGothic-51\"/>\r\n       <use x=\"55.078125\" xlink:href=\"#MalgunGothic-48\"/>\r\n       <use x=\"110.15625\" xlink:href=\"#MalgunGothic-48\"/>\r\n       <use x=\"165.234375\" xlink:href=\"#MalgunGothic-48\"/>\r\n      </g>\r\n     </g>\r\n    </g>\r\n    <g id=\"xtick_5\">\r\n     <g id=\"line2d_5\">\r\n      <g>\r\n       <use style=\"stroke:#000000;stroke-width:0.8;\" x=\"228.499881\" xlink:href=\"#m36f4c00192\" y=\"224.64\"/>\r\n      </g>\r\n     </g>\r\n     <g id=\"text_5\">\r\n      <!-- 4000 -->\r\n      <g transform=\"translate(217.484256 239.232187)scale(0.1 -0.1)\">\r\n       <defs>\r\n        <path d=\"M 42.234375 71.875 \r\nL 42.234375 24.421875 \r\nL 51.703125 24.421875 \r\nL 51.703125 17.390625 \r\nL 42.234375 17.390625 \r\nL 42.234375 0 \r\nL 34.578125 0 \r\nL 34.578125 17.390625 \r\nL 0.78125 17.390625 \r\nL 0.78125 23.96875 \r\nQ 11.375 35.890625 20.234375 48.578125 \r\nQ 29.109375 61.28125 33.9375 71.875 \r\nz\r\nM 9.765625 24.421875 \r\nL 34.578125 24.421875 \r\nL 34.578125 59.859375 \r\nQ 25.203125 43.5625 14.984375 30.953125 \r\nz\r\n\" id=\"MalgunGothic-52\"/>\r\n       </defs>\r\n       <use xlink:href=\"#MalgunGothic-52\"/>\r\n       <use x=\"55.078125\" xlink:href=\"#MalgunGothic-48\"/>\r\n       <use x=\"110.15625\" xlink:href=\"#MalgunGothic-48\"/>\r\n       <use x=\"165.234375\" xlink:href=\"#MalgunGothic-48\"/>\r\n      </g>\r\n     </g>\r\n    </g>\r\n    <g id=\"xtick_6\">\r\n     <g id=\"line2d_6\">\r\n      <g>\r\n       <use style=\"stroke:#000000;stroke-width:0.8;\" x=\"269.293827\" xlink:href=\"#m36f4c00192\" y=\"224.64\"/>\r\n      </g>\r\n     </g>\r\n     <g id=\"text_6\">\r\n      <!-- 5000 -->\r\n      <g transform=\"translate(258.278202 239.232187)scale(0.1 -0.1)\">\r\n       <defs>\r\n        <path d=\"M 48 21.921875 \r\nQ 48 11.28125 41.1875 5.03125 \r\nQ 34.375 -1.21875 22.953125 -1.21875 \r\nQ 12.9375 -1.21875 8.0625 1.765625 \r\nL 8.0625 10.15625 \r\nQ 15.53125 5.375 23.046875 5.375 \r\nQ 30.765625 5.375 35.46875 9.84375 \r\nQ 40.1875 14.3125 40.1875 21.4375 \r\nQ 40.1875 28.71875 35.390625 32.6875 \r\nQ 30.609375 36.671875 21.578125 36.671875 \r\nQ 15.53125 36.671875 9.421875 35.9375 \r\nL 11.859375 71.875 \r\nL 44.828125 71.875 \r\nL 44.828125 64.796875 \r\nL 18.84375 64.796875 \r\nL 17.28125 43.171875 \r\nQ 21.046875 43.5 24.171875 43.5 \r\nQ 35.359375 43.5 41.671875 37.71875 \r\nQ 48 31.9375 48 21.921875 \r\nz\r\n\" id=\"MalgunGothic-53\"/>\r\n       </defs>\r\n       <use xlink:href=\"#MalgunGothic-53\"/>\r\n       <use x=\"55.078125\" xlink:href=\"#MalgunGothic-48\"/>\r\n       <use x=\"110.15625\" xlink:href=\"#MalgunGothic-48\"/>\r\n       <use x=\"165.234375\" xlink:href=\"#MalgunGothic-48\"/>\r\n      </g>\r\n     </g>\r\n    </g>\r\n    <g id=\"xtick_7\">\r\n     <g id=\"line2d_7\">\r\n      <g>\r\n       <use style=\"stroke:#000000;stroke-width:0.8;\" x=\"310.087774\" xlink:href=\"#m36f4c00192\" y=\"224.64\"/>\r\n      </g>\r\n     </g>\r\n     <g id=\"text_7\">\r\n      <!-- 6000 -->\r\n      <g transform=\"translate(299.072149 239.232187)scale(0.1 -0.1)\">\r\n       <defs>\r\n        <path d=\"M 46.578125 63.578125 \r\nQ 40.921875 66.40625 34.8125 66.40625 \r\nQ 24.859375 66.40625 19.1875 57.640625 \r\nQ 13.53125 48.875 13.578125 34.578125 \r\nL 13.8125 34.578125 \r\nQ 18.796875 44.875 30.28125 44.875 \r\nQ 39.796875 44.875 45.359375 38.71875 \r\nQ 50.921875 32.5625 50.921875 22.65625 \r\nQ 50.921875 12.453125 44.640625 5.609375 \r\nQ 38.375 -1.21875 28.515625 -1.21875 \r\nQ 17.4375 -1.21875 11.5 7.46875 \r\nQ 5.5625 16.15625 5.5625 31.546875 \r\nQ 5.5625 49.703125 13.234375 61.375 \r\nQ 20.90625 73.046875 34.71875 73.046875 \r\nQ 42.1875 73.046875 46.578125 71 \r\nz\r\nM 14.15625 23.53125 \r\nQ 14.15625 15.96875 18.203125 10.671875 \r\nQ 22.265625 5.375 28.8125 5.375 \r\nQ 35.109375 5.375 39.03125 10.078125 \r\nQ 42.96875 14.796875 42.96875 21.6875 \r\nQ 42.96875 29.5 39.203125 33.859375 \r\nQ 35.453125 38.234375 28.71875 38.234375 \r\nQ 22.5625 38.234375 18.359375 33.953125 \r\nQ 14.15625 29.6875 14.15625 23.53125 \r\nz\r\n\" id=\"MalgunGothic-54\"/>\r\n       </defs>\r\n       <use xlink:href=\"#MalgunGothic-54\"/>\r\n       <use x=\"55.078125\" xlink:href=\"#MalgunGothic-48\"/>\r\n       <use x=\"110.15625\" xlink:href=\"#MalgunGothic-48\"/>\r\n       <use x=\"165.234375\" xlink:href=\"#MalgunGothic-48\"/>\r\n      </g>\r\n     </g>\r\n    </g>\r\n    <g id=\"xtick_8\">\r\n     <g id=\"line2d_8\">\r\n      <g>\r\n       <use style=\"stroke:#000000;stroke-width:0.8;\" x=\"350.881721\" xlink:href=\"#m36f4c00192\" y=\"224.64\"/>\r\n      </g>\r\n     </g>\r\n     <g id=\"text_8\">\r\n      <!-- 7000 -->\r\n      <g transform=\"translate(339.866096 239.232187)scale(0.1 -0.1)\">\r\n       <defs>\r\n        <path d=\"M 50.203125 67.140625 \r\nQ 38.71875 46.96875 32.25 29.96875 \r\nQ 25.78125 12.984375 24.21875 0 \r\nL 15.765625 0 \r\nQ 16.9375 8.296875 20.15625 18.375 \r\nQ 23.390625 28.46875 28.359375 39.640625 \r\nQ 33.34375 50.828125 41.109375 64.796875 \r\nL 4.546875 64.796875 \r\nL 4.546875 71.875 \r\nL 50.203125 71.875 \r\nz\r\n\" id=\"MalgunGothic-55\"/>\r\n       </defs>\r\n       <use xlink:href=\"#MalgunGothic-55\"/>\r\n       <use x=\"55.078125\" xlink:href=\"#MalgunGothic-48\"/>\r\n       <use x=\"110.15625\" xlink:href=\"#MalgunGothic-48\"/>\r\n       <use x=\"165.234375\" xlink:href=\"#MalgunGothic-48\"/>\r\n      </g>\r\n     </g>\r\n    </g>\r\n    <g id=\"text_9\">\r\n     <!-- 초록의 길이 -->\r\n     <g transform=\"translate(190.829688 253.188437)scale(0.1 -0.1)\">\r\n      <defs>\r\n       <path d=\"M 53.71875 66.5 \r\nQ 54.34375 57.8125 64.6875 49.828125 \r\nQ 75.046875 41.84375 89.59375 39.40625 \r\nL 84.90625 33.015625 \r\nQ 74.359375 35.59375 64.109375 42.3125 \r\nQ 53.859375 49.03125 49.90625 55.90625 \r\nQ 45.609375 48.78125 36.03125 42.328125 \r\nQ 26.46875 35.890625 15.578125 32.90625 \r\nL 10.5 39.203125 \r\nQ 24.21875 41.21875 34.828125 49.46875 \r\nQ 45.453125 57.71875 46.1875 66.5 \r\nL 16.015625 66.5 \r\nL 16.015625 73 \r\nL 46.390625 73 \r\nL 46.390625 83.6875 \r\nL 53.8125 83.6875 \r\nL 53.8125 73 \r\nL 83.984375 73 \r\nL 83.984375 66.5 \r\nz\r\nM 6.296875 6.109375 \r\nL 6.296875 12.59375 \r\nL 46.1875 12.59375 \r\nL 46.1875 34.515625 \r\nL 53.609375 34.515625 \r\nL 53.609375 12.59375 \r\nL 93.703125 12.59375 \r\nL 93.703125 6.109375 \r\nz\r\n\" id=\"MalgunGothic-52488\"/>\r\n       <path d=\"M 6.296875 29.390625 \r\nL 6.296875 35.796875 \r\nL 46.296875 35.796875 \r\nL 46.296875 46.09375 \r\nL 21 46.09375 \r\nL 21 68.109375 \r\nL 71.78125 68.109375 \r\nL 71.78125 76.90625 \r\nL 21 76.90625 \r\nL 21 83.296875 \r\nL 79 83.296875 \r\nL 79 61.8125 \r\nL 28.21875 61.8125 \r\nL 28.21875 52.484375 \r\nL 81.203125 52.484375 \r\nL 81.203125 46.09375 \r\nL 53.71875 46.09375 \r\nL 53.71875 35.796875 \r\nL 93.703125 35.796875 \r\nL 93.703125 29.390625 \r\nz\r\nM 72.015625 -8.796875 \r\nL 72.015625 13.71875 \r\nL 18.703125 13.71875 \r\nL 18.703125 20.3125 \r\nL 79.296875 20.3125 \r\nL 79.296875 -8.796875 \r\nz\r\n\" id=\"MalgunGothic-47197\"/>\r\n       <path d=\"M 78.328125 -8.796875 \r\nL 78.328125 85.40625 \r\nL 85.59375 85.40625 \r\nL 85.59375 -8.796875 \r\nz\r\nM 38.28125 33.296875 \r\nQ 27.734375 33.296875 20.546875 39.6875 \r\nQ 13.375 46.09375 13.375 55.8125 \r\nQ 13.375 65.328125 20.5 71.765625 \r\nQ 27.640625 78.21875 38.28125 78.21875 \r\nQ 48.875 78.21875 56.03125 71.71875 \r\nQ 63.1875 65.234375 63.1875 55.8125 \r\nQ 63.1875 46.046875 56.046875 39.671875 \r\nQ 48.921875 33.296875 38.28125 33.296875 \r\nz\r\nM 38.28125 71.78125 \r\nQ 30.859375 71.78125 25.875 67.28125 \r\nQ 20.90625 62.796875 20.90625 55.8125 \r\nQ 20.90625 48.734375 26 44.265625 \r\nQ 31.109375 39.796875 38.28125 39.796875 \r\nQ 45.65625 39.796875 50.6875 44.265625 \r\nQ 55.71875 48.734375 55.71875 55.8125 \r\nQ 55.71875 62.890625 50.734375 67.328125 \r\nQ 45.75 71.78125 38.28125 71.78125 \r\nz\r\nM 7.171875 8.296875 \r\nL 6.5 14.59375 \r\nQ 19.09375 14.59375 41.671875 15.078125 \r\nQ 64.265625 15.578125 71.6875 16.21875 \r\nL 72.125 9.90625 \r\nQ 64.453125 9.28125 41.859375 8.78125 \r\nQ 19.28125 8.296875 7.171875 8.296875 \r\nz\r\n\" id=\"MalgunGothic-51032\"/>\r\n       <path id=\"MalgunGothic-32\"/>\r\n       <path d=\"M 77.296875 38.375 \r\nL 77.296875 85.40625 \r\nL 84.71875 85.40625 \r\nL 84.71875 38.375 \r\nz\r\nM 16.015625 33.5 \r\nL 10.796875 39.3125 \r\nQ 29.9375 45.65625 39.484375 55.90625 \r\nQ 49.03125 66.15625 50.203125 74.90625 \r\nL 16.703125 74.90625 \r\nL 16.703125 81.390625 \r\nL 58.40625 81.390625 \r\nQ 58.40625 67.4375 47.5625 54.46875 \r\nQ 36.71875 41.5 16.015625 33.5 \r\nz\r\nM 27.59375 -6.6875 \r\nL 27.59375 16.890625 \r\nL 77.390625 16.890625 \r\nL 77.390625 26.8125 \r\nL 27.59375 26.8125 \r\nL 27.59375 33.203125 \r\nL 84.8125 33.203125 \r\nL 84.8125 10.5 \r\nL 35.015625 10.5 \r\nL 35.015625 -0.203125 \r\nL 87.3125 -0.203125 \r\nL 87.3125 -6.6875 \r\nz\r\n\" id=\"MalgunGothic-44600\"/>\r\n       <path d=\"M 77.296875 -8.796875 \r\nL 77.296875 85.40625 \r\nL 84.625 85.40625 \r\nL 84.625 -8.796875 \r\nz\r\nM 35.6875 14.984375 \r\nQ 24.953125 14.984375 18.328125 23.65625 \r\nQ 11.71875 32.328125 11.71875 47.125 \r\nQ 11.71875 62.109375 18.265625 70.65625 \r\nQ 24.8125 79.203125 35.6875 79.203125 \r\nQ 46.53125 79.203125 53.171875 70.65625 \r\nQ 59.8125 62.109375 59.8125 47.125 \r\nQ 59.8125 32.234375 53.140625 23.609375 \r\nQ 46.484375 14.984375 35.6875 14.984375 \r\nz\r\nM 35.6875 72.703125 \r\nQ 28.171875 72.703125 23.484375 65.6875 \r\nQ 18.796875 58.6875 18.796875 47.125 \r\nQ 18.796875 35.59375 23.53125 28.53125 \r\nQ 28.265625 21.484375 35.6875 21.484375 \r\nQ 43.0625 21.484375 47.828125 28.5625 \r\nQ 52.59375 35.640625 52.59375 47.125 \r\nQ 52.59375 58.734375 47.921875 65.71875 \r\nQ 43.265625 72.703125 35.6875 72.703125 \r\nz\r\n\" id=\"MalgunGothic-51060\"/>\r\n      </defs>\r\n      <use xlink:href=\"#MalgunGothic-52488\"/>\r\n      <use x=\"100\" xlink:href=\"#MalgunGothic-47197\"/>\r\n      <use x=\"200\" xlink:href=\"#MalgunGothic-51032\"/>\r\n      <use x=\"300\" xlink:href=\"#MalgunGothic-32\"/>\r\n      <use x=\"335.15625\" xlink:href=\"#MalgunGothic-44600\"/>\r\n      <use x=\"435.15625\" xlink:href=\"#MalgunGothic-51060\"/>\r\n     </g>\r\n    </g>\r\n   </g>\r\n   <g id=\"matplotlib.axis_2\">\r\n    <g id=\"ytick_1\">\r\n     <g id=\"line2d_9\">\r\n      <defs>\r\n       <path d=\"M 0 0 \r\nL -3.5 0 \r\n\" id=\"m2cc2ff25c6\" style=\"stroke:#000000;stroke-width:0.8;\"/>\r\n      </defs>\r\n      <g>\r\n       <use style=\"stroke:#000000;stroke-width:0.8;\" x=\"50.1875\" xlink:href=\"#m2cc2ff25c6\" y=\"224.64\"/>\r\n      </g>\r\n     </g>\r\n     <g id=\"text_10\">\r\n      <!-- 0 -->\r\n      <g transform=\"translate(37.679688 228.436094)scale(0.1 -0.1)\">\r\n       <use xlink:href=\"#MalgunGothic-48\"/>\r\n      </g>\r\n     </g>\r\n    </g>\r\n    <g id=\"ytick_2\">\r\n     <g id=\"line2d_10\">\r\n      <g>\r\n       <use style=\"stroke:#000000;stroke-width:0.8;\" x=\"50.1875\" xlink:href=\"#m2cc2ff25c6\" y=\"184.280282\"/>\r\n      </g>\r\n     </g>\r\n     <g id=\"text_11\">\r\n      <!-- 1000 -->\r\n      <g transform=\"translate(21.15625 188.076376)scale(0.1 -0.1)\">\r\n       <use xlink:href=\"#MalgunGothic-49\"/>\r\n       <use x=\"55.078125\" xlink:href=\"#MalgunGothic-48\"/>\r\n       <use x=\"110.15625\" xlink:href=\"#MalgunGothic-48\"/>\r\n       <use x=\"165.234375\" xlink:href=\"#MalgunGothic-48\"/>\r\n      </g>\r\n     </g>\r\n    </g>\r\n    <g id=\"ytick_3\">\r\n     <g id=\"line2d_11\">\r\n      <g>\r\n       <use style=\"stroke:#000000;stroke-width:0.8;\" x=\"50.1875\" xlink:href=\"#m2cc2ff25c6\" y=\"143.920564\"/>\r\n      </g>\r\n     </g>\r\n     <g id=\"text_12\">\r\n      <!-- 2000 -->\r\n      <g transform=\"translate(21.15625 147.716657)scale(0.1 -0.1)\">\r\n       <use xlink:href=\"#MalgunGothic-50\"/>\r\n       <use x=\"55.078125\" xlink:href=\"#MalgunGothic-48\"/>\r\n       <use x=\"110.15625\" xlink:href=\"#MalgunGothic-48\"/>\r\n       <use x=\"165.234375\" xlink:href=\"#MalgunGothic-48\"/>\r\n      </g>\r\n     </g>\r\n    </g>\r\n    <g id=\"ytick_4\">\r\n     <g id=\"line2d_12\">\r\n      <g>\r\n       <use style=\"stroke:#000000;stroke-width:0.8;\" x=\"50.1875\" xlink:href=\"#m2cc2ff25c6\" y=\"103.560845\"/>\r\n      </g>\r\n     </g>\r\n     <g id=\"text_13\">\r\n      <!-- 3000 -->\r\n      <g transform=\"translate(21.15625 107.356939)scale(0.1 -0.1)\">\r\n       <use xlink:href=\"#MalgunGothic-51\"/>\r\n       <use x=\"55.078125\" xlink:href=\"#MalgunGothic-48\"/>\r\n       <use x=\"110.15625\" xlink:href=\"#MalgunGothic-48\"/>\r\n       <use x=\"165.234375\" xlink:href=\"#MalgunGothic-48\"/>\r\n      </g>\r\n     </g>\r\n    </g>\r\n    <g id=\"ytick_5\">\r\n     <g id=\"line2d_13\">\r\n      <g>\r\n       <use style=\"stroke:#000000;stroke-width:0.8;\" x=\"50.1875\" xlink:href=\"#m2cc2ff25c6\" y=\"63.201127\"/>\r\n      </g>\r\n     </g>\r\n     <g id=\"text_14\">\r\n      <!-- 4000 -->\r\n      <g transform=\"translate(21.15625 66.997221)scale(0.1 -0.1)\">\r\n       <use xlink:href=\"#MalgunGothic-52\"/>\r\n       <use x=\"55.078125\" xlink:href=\"#MalgunGothic-48\"/>\r\n       <use x=\"110.15625\" xlink:href=\"#MalgunGothic-48\"/>\r\n       <use x=\"165.234375\" xlink:href=\"#MalgunGothic-48\"/>\r\n      </g>\r\n     </g>\r\n    </g>\r\n    <g id=\"ytick_6\">\r\n     <g id=\"line2d_14\">\r\n      <g>\r\n       <use style=\"stroke:#000000;stroke-width:0.8;\" x=\"50.1875\" xlink:href=\"#m2cc2ff25c6\" y=\"22.841409\"/>\r\n      </g>\r\n     </g>\r\n     <g id=\"text_15\">\r\n      <!-- 5000 -->\r\n      <g transform=\"translate(21.15625 26.637503)scale(0.1 -0.1)\">\r\n       <use xlink:href=\"#MalgunGothic-53\"/>\r\n       <use x=\"55.078125\" xlink:href=\"#MalgunGothic-48\"/>\r\n       <use x=\"110.15625\" xlink:href=\"#MalgunGothic-48\"/>\r\n       <use x=\"165.234375\" xlink:href=\"#MalgunGothic-48\"/>\r\n      </g>\r\n     </g>\r\n    </g>\r\n    <g id=\"text_16\">\r\n     <!-- 초록의 개수 -->\r\n     <g transform=\"translate(14.792187 142.677812)rotate(-90)scale(0.1 -0.1)\">\r\n      <defs>\r\n       <path d=\"M 78.71875 -8.796875 \r\nL 78.71875 37.984375 \r\nL 67 37.984375 \r\nL 67 -5.90625 \r\nL 59.8125 -5.90625 \r\nL 59.8125 83.5 \r\nL 67 83.5 \r\nL 67 44.484375 \r\nL 78.71875 44.484375 \r\nL 78.71875 85.40625 \r\nL 85.984375 85.40625 \r\nL 85.984375 -8.796875 \r\nz\r\nM 48.09375 77.203125 \r\nQ 46.578125 37.40625 12.703125 13.71875 \r\nL 6.890625 18.703125 \r\nQ 19.734375 25.53125 29.546875 40.234375 \r\nQ 39.359375 54.9375 40.375 70.796875 \r\nL 12.5 70.796875 \r\nL 12.5 77.203125 \r\nz\r\n\" id=\"MalgunGothic-44060\"/>\r\n       <path d=\"M 85.796875 46.78125 \r\nQ 74.21875 48.390625 63.71875 54.65625 \r\nQ 53.21875 60.9375 50 66.796875 \r\nQ 46.484375 60.796875 36.078125 54.546875 \r\nQ 25.6875 48.296875 14.40625 46.1875 \r\nL 9.90625 52.296875 \r\nQ 24.359375 53.90625 35.328125 61.59375 \r\nQ 46.296875 69.28125 46.296875 78.328125 \r\nL 46.296875 82.421875 \r\nL 53.609375 82.421875 \r\nL 53.609375 78.328125 \r\nQ 53.609375 69.234375 64.34375 61.6875 \r\nQ 75.09375 54.15625 90.09375 52.78125 \r\nz\r\nM 53.609375 28.71875 \r\nL 53.609375 -8.796875 \r\nL 46.296875 -8.796875 \r\nL 46.296875 28.71875 \r\nL 6.296875 28.71875 \r\nL 6.296875 35.203125 \r\nL 93.703125 35.203125 \r\nL 93.703125 28.71875 \r\nz\r\n\" id=\"MalgunGothic-49688\"/>\r\n      </defs>\r\n      <use xlink:href=\"#MalgunGothic-52488\"/>\r\n      <use x=\"100\" xlink:href=\"#MalgunGothic-47197\"/>\r\n      <use x=\"200\" xlink:href=\"#MalgunGothic-51032\"/>\r\n      <use x=\"300\" xlink:href=\"#MalgunGothic-32\"/>\r\n      <use x=\"335.15625\" xlink:href=\"#MalgunGothic-44060\"/>\r\n      <use x=\"435.15625\" xlink:href=\"#MalgunGothic-49688\"/>\r\n     </g>\r\n    </g>\r\n   </g>\r\n   <g id=\"patch_53\">\r\n    <path d=\"M 50.1875 224.64 \r\nL 50.1875 7.2 \r\n\" style=\"fill:none;stroke:#000000;stroke-linecap:square;stroke-linejoin:miter;stroke-width:0.8;\"/>\r\n   </g>\r\n   <g id=\"patch_54\">\r\n    <path d=\"M 384.9875 224.64 \r\nL 384.9875 7.2 \r\n\" style=\"fill:none;stroke:#000000;stroke-linecap:square;stroke-linejoin:miter;stroke-width:0.8;\"/>\r\n   </g>\r\n   <g id=\"patch_55\">\r\n    <path d=\"M 50.1875 224.64 \r\nL 384.9875 224.64 \r\n\" style=\"fill:none;stroke:#000000;stroke-linecap:square;stroke-linejoin:miter;stroke-width:0.8;\"/>\r\n   </g>\r\n   <g id=\"patch_56\">\r\n    <path d=\"M 50.1875 7.2 \r\nL 384.9875 7.2 \r\n\" style=\"fill:none;stroke:#000000;stroke-linecap:square;stroke-linejoin:miter;stroke-width:0.8;\"/>\r\n   </g>\r\n  </g>\r\n </g>\r\n <defs>\r\n  <clipPath id=\"p64039aaff5\">\r\n   <rect height=\"217.44\" width=\"334.8\" x=\"50.1875\" y=\"7.2\"/>\r\n  </clipPath>\r\n </defs>\r\n</svg>\r\n",
      "image/png": "[encoded data removed]"
     },
     "metadata": {
      "needs_background": "light"
     }
    }
   ],
   "source": [
    "print('초록의 최대 길이:', max(len(l) for l in tokenized_data))\n",
    "print('초록의 평균 길이:', sum(map(len, tokenized_data)) / len(tokenized_data))\n",
    "\n",
    "plt.hist([len(s) for s in tokenized_data], bins=50)\n",
    "plt.xlabel('초록의 길이')\n",
    "plt.ylabel('초록의 개수')\n",
    "plt.show()"
   ]
  },
  {
   "cell_type": "code",
   "execution_count": 42,
   "metadata": {},
   "outputs": [],
   "source": [
    "model = Word2Vec(sentences=tokenized_data, size=100, window=5, min_count=5, workers=4, sg=0)"
   ]
  },
  {
   "cell_type": "code",
   "execution_count": 43,
   "metadata": {},
   "outputs": [
    {
     "output_type": "execute_result",
     "data": {
      "text/plain": [
       "(20748, 100)"
      ]
     },
     "metadata": {},
     "execution_count": 43
    }
   ],
   "source": [
    "model.wv.vectors.shape"
   ]
  },
  {
   "cell_type": "code",
   "execution_count": 44,
   "metadata": {},
   "outputs": [
    {
     "output_type": "stream",
     "name": "stdout",
     "text": [
      "[('무인자동차', 0.8477469086647034), ('자율 주행 자동차', 0.8154755234718323), ('스마트 자동차', 0.8099040985107422), ('지능형 자동차', 0.8063652515411377), ('텔레매틱스', 0.7907307147979736), ('무선 네트워크', 0.7882574796676636), ('무인 자동차', 0.7875741720199585), ('핵심 기술', 0.7829225659370422), ('로봇청소기', 0.7819633483886719), ('커넥티드카', 0.7811912298202515)]\n"
     ]
    }
   ],
   "source": [
    "print(model.wv.most_similar(\"자율 주행\"))"
   ]
  },
  {
   "cell_type": "code",
   "execution_count": 45,
   "metadata": {},
   "outputs": [
    {
     "output_type": "stream",
     "name": "stdout",
     "text": [
      "[('자율주행 자동차', 0.844761073589325), ('자율주행자동차', 0.7767409086227417), ('보안', 0.7759484052658081), ('지능형 자동차', 0.7436614632606506), ('인공지능', 0.7420451641082764), ('자율주행차', 0.7340500950813293), ('무인자동차', 0.7233840227127075), ('자율 주행 자동차', 0.7059358358383179), ('내비게이션', 0.6978896856307983), ('소프트웨어', 0.6951377391815186)]\n"
     ]
    }
   ],
   "source": [
    "print(model.wv.most_similar(\"자율주행\"))"
   ]
  },
  {
   "cell_type": "code",
   "execution_count": 46,
   "metadata": {},
   "outputs": [
    {
     "output_type": "stream",
     "name": "stdout",
     "text": [
      "[('하이브리드 자동차', 0.914031982421875), ('LED', 0.8689936399459839), ('경량', 0.8583250045776367), ('차량용', 0.8559266328811646), ('자동차용', 0.8485767841339111), ('광원', 0.8450239896774292), ('연료전지', 0.843991756439209), ('고효율', 0.8422979712486267), ('파워', 0.8373817801475525), ('전기 자동차', 0.8337521553039551)]\n"
     ]
    }
   ],
   "source": [
    "print(model.wv.most_similar(\"하이브리드\"))"
   ]
  },
  {
   "source": [
    "### CountVector를 위한 준비 작업 및 확인 로직 (시작)"
   ],
   "cell_type": "markdown",
   "metadata": {}
  },
  {
   "cell_type": "code",
   "execution_count": 47,
   "metadata": {},
   "outputs": [],
   "source": [
    "#분석대상 항목으로 발행연도, 제목, 주제어, 국문 초록 (Abstract)을 선택하고 컬럼명을 영문으로 변경함\n",
    "dataset_1 = dataset.loc[:, ['발행연도', '제목', '저자', '발행기관', '학술지명', '주제어', '국문 초록 (Abstract)', '다국어 초록 (Multilingual Abstract)']]\n",
    "dataset_1 = dataset_1.rename({'발행연도':'year', '제목':'title', '저자':'author', '발행기관':'publisher', '학술지명':'journal', '주제어':'keyword', '국문 초록 (Abstract)':'abstract_old', '다국어 초록 (Multilingual Abstract)':'others'}, axis=1)"
   ]
  },
  {
   "cell_type": "code",
   "execution_count": 48,
   "metadata": {},
   "outputs": [
    {
     "output_type": "stream",
     "name": "stdout",
     "text": [
      "<class 'pandas.core.frame.DataFrame'>\nRangeIndex: 50568 entries, 0 to 50567\nData columns (total 8 columns):\n #   Column        Non-Null Count  Dtype \n---  ------        --------------  ----- \n 0   year          50568 non-null  int64 \n 1   title         50568 non-null  object\n 2   author        50568 non-null  object\n 3   publisher     50568 non-null  object\n 4   journal       50568 non-null  object\n 5   keyword       26933 non-null  object\n 6   abstract_old  10447 non-null  object\n 7   others        25062 non-null  object\ndtypes: int64(1), object(7)\nmemory usage: 3.1+ MB\n"
     ]
    }
   ],
   "source": [
    "dataset_1.info()"
   ]
  },
  {
   "cell_type": "code",
   "execution_count": null,
   "metadata": {
    "tags": []
   },
   "outputs": [],
   "source": [
    "#국문 초록 값이 없는 건수가 전체의 80%에 해당하고 있음(잘못된 논리임)\n",
    "#하지만 제목은 초록의 함축적인 문장으로 볼 수 있기 때문에 초록이 없는 경우 제목으로 대체\n",
    "\n",
    "\n",
    "#0.주제어 예측\n",
    "#1.가짜 키워드~ 판별....\n",
    "#2.문서요약\n",
    "#-키워드 백터\n",
    "# dataset_2['keyword'].apply(get_words)\n",
    "dataset_1['abstract'] = np.where(dataset_1['abstract_old'].isnull(), dataset_1['others'], dataset_1['abstract_old'])\n",
    "#dataset_1['abstract'] = np.where(dataset_1['abstract_old'].isnull(), dataset_1['others'].apply(translate_test), dataset_1['abstract_old'])\n",
    "\n",
    "del dataset_1['abstract_old']\n",
    "del dataset_1['others']\n",
    "\n",
    "dataset_1.info()"
   ]
  },
  {
   "cell_type": "code",
   "execution_count": null,
   "metadata": {},
   "outputs": [],
   "source": [
    "dataset_2 = dataset_1[dataset_1['abstract'].isnull() == False]"
   ]
  },
  {
   "cell_type": "code",
   "execution_count": null,
   "metadata": {},
   "outputs": [],
   "source": [
    "dataset_2.info()"
   ]
  },
  {
   "cell_type": "code",
   "execution_count": 49,
   "metadata": {},
   "outputs": [],
   "source": [
    "#색인 추출\n",
    "def tokenizer_by_twitter(raw, pos=[\"Noun\",\"Alpha\",\"Verb\",\"Number\"], stopword=stop_words):\n",
    "    return [\n",
    "        word for word, tag in twitter.pos(\n",
    "            raw, \n",
    "            norm=True,   # normalize 그랰ㅋㅋ -> 그래ㅋㅋ\n",
    "            stem=True    # stemming 바뀌나->바뀌다\n",
    "            )\n",
    "            if len(word) > 1 and tag in pos and word not in stopword\n",
    "    ]\n",
    " \n",
    "#색인 추출\n",
    "def tokenizer_by_kkma(raw, pos=[\"NNG\",\"NNP\",\"NP\", \"VV\"], stopword=stop_words):\n",
    "    return [\n",
    "        word for word, tag in kkma.pos(raw)\n",
    "            if len(word) > 1 and tag in pos and word not in stopword\n",
    "    ]\n",
    "\n",
    "#색인 추출\n",
    "def tokenizer_by_mecab(raw, pos=[\"NNG\",\"NNP\"], stopword=stop_words):\n",
    "    return [\n",
    "        word for word, tag in mecab.pos(raw)\n",
    "            if len(word) > 1 and tag in pos and word not in stopword\n",
    "    ]"
   ]
  },
  {
   "cell_type": "code",
   "execution_count": 50,
   "metadata": {},
   "outputs": [
    {
     "output_type": "stream",
     "name": "stdout",
     "text": [
      "<class 'pandas.core.frame.DataFrame'>\nInt64Index: 26933 entries, 1 to 50566\nData columns (total 8 columns):\n #   Column        Non-Null Count  Dtype \n---  ------        --------------  ----- \n 0   year          26933 non-null  int64 \n 1   title         26933 non-null  object\n 2   author        26933 non-null  object\n 3   publisher     26933 non-null  object\n 4   journal       26933 non-null  object\n 5   keyword       26933 non-null  object\n 6   abstract_old  7526 non-null   object\n 7   others        17411 non-null  object\ndtypes: int64(1), object(7)\nmemory usage: 1.8+ MB\n"
     ]
    }
   ],
   "source": [
    "dataset_2 = dataset_1[dataset_1['keyword'].isna() == False]\n",
    "dataset_2.info()"
   ]
  },
  {
   "cell_type": "code",
   "execution_count": 51,
   "metadata": {},
   "outputs": [],
   "source": [
    "#2018년 이후 논문\n",
    "dataset_3 = dataset_2[dataset_2['year'] >= 2018]\n",
    "#dataset_3[\"keyword\"] = dataset_3[\"keyword\"].apply(lambda x: re.sub(\"[^ ㄱ-ㅎㅏ-ㅣ가-힣]+\", \" \", x).strip())\n",
    "#인덱스 reset\n",
    "#dataset_3 = dataset_3.reset_index()\n",
    "rawdata = dataset_3['keyword'].tolist()"
   ]
  },
  {
   "cell_type": "code",
   "execution_count": 52,
   "metadata": {},
   "outputs": [
    {
     "output_type": "stream",
     "name": "stdout",
     "text": [
      "5261\n"
     ]
    },
    {
     "output_type": "execute_result",
     "data": {
      "text/plain": [
       "지),fault classification (고장분류),lifetime prediction (수명예측),condition based maintenance (상태기반정비)',\n",
       " 'Electric oil pump,Noise,Uneven pitch,Transmission,Electric motor,전동식 오일 펌프,소음,부등 피치,변속기,전동기',\n",
       " 'Engine control module(ECM, 엔진 제어 장치),Vehicle communication interface module(VCI, 차량 통신 인터페이스 모듈),Standardization(표준화),Common rail direct injection(CRDI, 커먼 레일 직분사 장치),Exhaust gas recirculation(EGR, 배기가스 재순환 장치)',\n",
       " 'Mild hybrid electric vehicle(마일드 하이브리드차),48V System(48V 시스템),Belt driven Starter Generator(BSG),4 Wheel drive(4륜 구동),Fuel efficiency(연비 효율)',\n",
       " '토폴로지,인버터,양방향 충전,초소형 전기 구동장치,통합,Topology,Inverter,Bidirectional charging,Micro EV,Integration',\n",
       " 'Micro-mobility(초소형 전기차),VCU(차량제어기),HILS(실시간 시뮬레이션)',\n",
       " '에스이오오씨,기능 안전,사용 사례,가정,가정된 안전 요구사항,기술안전요구사항,하드웨어 안전요구사항,사용의 가정,아키텍처,SEooC,ISO 26262 functional safety,Use case,Assumption,Assumed safety requirement,TSR,HSR,AoU,Architecture',\n",
       " '승차감 지수,진동 요소,선형회귀,인간요소,객관평가,과도 진동,Ride quality index,Vibration metrics,Linear regress,Human factor,Objective evaluation,Transient vibration',\n",
       " 'Power loss(동력손실),Mechanical(load-dependent) loss(마찰 (하중관련) 손실),Spin(load-independent) loss(회전(하중무관) 손실),Parallel-axis geartrain(평행축 기어트레인),Gear friction(기어 마찰),Gear churning(기어 쳐닝),Bearing power loss(베어링 동력 손실)',\n",
       " 'Secondary battery,Electric vehicle,Water-cooling system,Energy storage system,Convective heat transfer,Virtual fluid dynamics,2차 전지,전기자동차,수냉식 시스템,에너지 저장 장치,대류 열전달,가상 유체역학',\n",
       " '피스톤 벽면 온도,이중 냉각 유로,링키지 시스템,최적화,스파크 점화 엔진,Piston wall temperature,Dual coolant passage,Linkage system,Optimization,SI engine',\n",
       " 'Seat belt(안전벨트),Rear seat(뒷좌석),Sled test(모의충돌시험),EURO NCAP(유럽신차안전도평가),Load limiter(로드리미터),SUV(Sports Utility Vehicle),TNO dummy(TNO 더미),MADYMO(마디모)',\n",
       " 'Friction(마찰),Transfer film(전이막),Friction coefficient(마찰계수),Friction temperature(마찰온도),Friction material(마찰재)',\n",
       " 'Adjoint optimization(Adjoint 최적화),Catalytic converter(촉매정화장치),Uniformity(균일도),CFD(전산유체역학)',\n",
       " 'Electric Vehicle(전기자동차),Motor(모터),Weight Balancing(무게 균형),Layout(배치)',\n",
       " 'Disk brake(디스크 브레이크),Cross-drilled hole(관통 구멍),Shape optimization(형상 최적화),Finite element method(유한 요소법),Thermal stress analysis(열응력 해석)',\n",
       " 'Dual-fuel(혼소),Natural gas(천연가스),Inert gas(불활성 가스),Nitrogen oxides(질소산화물),Smoke (매연)',\n",
       " 'Tolerance analysis(공차해석),Compliant assembly(유연체 조립),Method of influence coefficients(영향계수법),FEA(유한요소해석),Genetic algorithm(유전 알고리즘)',\n",
       " 'E/E System(전기/전자 시스템),ISO26262 Functional safety(기능안전),Failure modes effects and diagnostics analysis(고장모드 영향 및 진단 분석),SM(안전 메커니즘),Diagnostic coverage(진단 커버리지),Probabilistic metric for random HW failures(하드웨어 우발 고장 확률 지표),HW Architecture metric(하드웨어 아키텍처 지표),Single point fault metric(단일점 결함 지표),Latent fault metric(잠재 결함 지표)',\n",
       " 'Selective catalytic reduction(선택적 촉매 환원),NO&lt,SUB&gt,x&lt,/SUB&gt,(질소산화물),de-NO&lt,SUB&gt,x&lt,/SUB&gt,(질소산화물 저감),Iridium catalyst (이리듐 촉매),Bimetallic catalyst(이종금속 촉매)',\n",
       " 'Vehicle to vehicle communication(차대차 통신),Risky vehicle detection(위험차량판별),Collision avoidance(충돌 방지)',\n",
       " 'Finite element analysis(유한요소해석),Gas diffusion layer(기체 확산층),PEMFC(고분자 전해질 연료 전지),Robust design(강건설계),User material subroutine(사용자재료서브루틴)',\n",
       " 'Sports car developing(스포츠카 개발),Technological prominency(기술적 수월성),Branding(브랜딩),Brand heritage(브랜드 역사성),Next-phase sports car(향후의 스포츠카)',\n",
       " '차량용 램프(Automotive Lamp),LED,Cap 도금 Via(Cap Plate Via),방열(Thermal radiation),FR4 PCB',\n",
       " 'Initial operation sound(기동음),Small DC Motor(소형DC모터),Sound Measurement Method(소음측정방법),Power Seat(파워 시트)',\n",
       " 'Power Seat(파워시트),Slide(슬라이드),Seat vibration(시트 진동),Frequency(주파수),Motor(모터)',\n",
       " 'Liquified Hydrogen tank(액화 수소탱크),Cryogenics(냉동공학),CFD(전산유체역학),VOF(Volume of Fluid),Free Surface(자유표면),Boil-Off Gas(BOG: 기화가스),Evaporation(증발)',\n",
       " 'Brake disc(브레이크 디스크),Brake pads(브레이크 패드),Caliper(켈리퍼),Wheel guide(휠 가이드),Collection(포집량),Organic pads(오리지널패드),Semi-metallic pads(세미 메타탈릭 패드),Ceramic pads(세라믹패드),Sintered pads(소결 패드),metallic pads(메탈릭패드)',\n",
       " 'Brushless Direct Current motor(BLDC 모터),Direct Current motor(DC 모터),Power Seat(전동시트),Operating Noise(작동소음)',\n",
       " 'Ball-joint Case(볼조인트 케이스),Cold Forging(냉간 단조),Stress Relief(응력 제거),Spheroidizing Annealing(구상화풀림),Strain Aging(변형시효)',\n",
       " 'Model predictive control(모델 예측 제어),Torque vectoring(토크벡터링),Driving stability(주행안정성),Constraint(제약조건),Torque distribution(토크분배)',\n",
       " 'Retro reflection(재귀반사),TRIZ(트리즈),Light guide(라이트가이드)',\n",
       " 'Variable compression ratio engine(가변 압축비 엔진),Kinematic structure analysis(기구학적 구조 분석),Graph theory(그래프 이론),Conventional graph(기구 그래프),Contracted graph(축약 그래프)',\n",
       " 'Steady flow bench(정상유동장치),Swirl(스월),ISM(충격식 스월 측정기),PIV(입자영상유속계),Velocity profile(속도분포),Axial velocity(축 방향 속도) Intake valve angle(흡기밸브각도),Momentum(운동량),Eccentricity(편심)',\n",
       " 'Influence parameter(영향 인자),High-speed braking performance(고속 제동 성능),Circuit driving condition(서킷 주행 조건),Braking energy(제동 에너지),Numerical regression model(수치 회귀 모델)',\n",
       " 'Diesel engine(디젤 엔진),Mean-value(평균값),Real-time(실시간)',\n",
       " 'Mesoporous alumina(메조다공성 알루미나),Supported Pd catalysts(Pd 담지 촉매),Methane combustion(메탄연소),Solvent deficient precipitation(SDP법),Pd dispersion(팔라듐 분산도)',\n",
       " 'Rolling resistance coefficient(회전저항계수),Road load(주행저항),Fuel economy(연비),Greenhouse gas emission(온실가스),Low rolling resistance tire(저저항 타이어)',\n",
       " 'Aerodynamic drag(공기저항),Express bus(고속버스),Moving ground(이동지면),CFD(전산유체역학),Wind tunnel(풍동),Design parameter(설계인자),Optimal combination(최적조합)',\n",
       " 'Durability(내구),Fatigue crack(피로균열),Cycling load(반복 하중),Spare tire floor panel(스페어 타이어 플로워 패널),Strain life method(변형률-수명 방법),Sub-woofer speaker(저음확성기),Insulation(흡차읍재),DFSS(Design For Six Sigma, 6시그마를 위한 설계),Z-direction load vibration test(단축 하중시험),Vehicle durability test(완성차 내구 시험)',\n",
       " 'Ride comfort(승차감),Handling stability(조종안정성),Robust design(강건 설계),Tolerance(설계 공차),Design of experiment(실험계획법)',\n",
       " 'Vehicle responsibility(차량 응답성),Steering model(조향 모델),Universal joint(유니버셜 조인트),MDPS control logic(MDPS 제어 로직),Suspension compliance(서스펜션 컴플라이언스)',\n",
       " 'Sound quality(음질),Jury test(청음평가),Regression analysis(회귀분석),Artificial neural network(인공신경망),Magnitude estimation method(크기 평가법)',\n",
       " 'Vehicle fire(차량화재),Ignition by factors from chemical sources and electric sources(화학적, 전기적 요인의 점화원),Wind shield washer fluid(윈드실드 워셔액),Ethanol(에탄올)',\n",
       " 'Event data recorder(&#49324,&#44256,&#44592,&#47197,&#51109,&#52824,),Crash data retrieval(&#52649,&#46028,&#45936,&#51060,&#53552,&#52628,&#52636,&#44592,),Principal Direction of force(&#51452,&#52649,&#44201,&#47141,&#51089,&#50857,&#48169,&#54693,),Traffic accident investigation(&#44368,&#53685,&#49324,&#44256,&#51312,&#49324,),Traffic accident reconstruction(&#44368,&#53685,&#49324,&#44256,&#51116,&#44396,&#49457,),사고기록장치,충돌 데이터 추출기,주충격력 작용방향,교통사고조사,교통사고재구성',\n",
       " '자동차운반선, 복원성, 외방경사, 전복사고, 급선회, GM, Car carrier ship, Stability, Outward heel, Capsizing accident, Quick turning, GM',\n",
       " 'Monocular camera(단안 카메라),ADAS(첨단 운전자 지원 시스템),LKAS(차선 유지 보조 시스템),Test-scenario(테스트 시나리오),10.22680/kasa2020.12.3.034',\n",
       " 'Heatstroke accident(열손상사고),Occupant detection(승객감지),Infants occupant(유아승객),Rearseat reminder (후석알림),Countermeasure research(대응방안연구),Hot Cars(고온차량),열손상사고,승객감지,유아승객,후석알림,대응방안연구,고온차량',\n",
       " 'ADAS(첨단 운전자 지원 시스템),Lane Keeping Assist System(차선 유지 보조 시스템),Crosswind(횡풍),Kalman Filter(칼만 필터),EPS(전동식 파워 스티어링),Sliding mode control(슬라이드 모드 제어),첨단 운전자 지원 시스템,차선 유지 보조 시스템,횡풍,칼만 필터,전동식 파워 스티어링,슬라이드 모드 제어',\n",
       " '단안카메라,적응순항제어,시험평가 방법,실차시험,Monocular camera(단안카메라),Adaptive Cruise Control(적응순항제어),Evaluation Method(시험평가 방법),Real Vehicle Test(실차시험)',\n",
       " '오토사,베이직 소프트웨어,런타임 환경,오토사 테스트,소프트웨어 테스팅,AUTOSAR,BSW,RTE,AUTOSAR AT,Software testing',\n",
       " 'WGT(웨이스트게이트 터보차저),WGV(웨이스트게이트 밸브),VGT(가변형상 터보차저),Boost pressure(과급 압력),Duty control rate(듀티 제어율),WGV seat abrasion(WGV 자리 침식)',\n",
       " 'Fuel efficiency(연비),5-cycle testing(5 사이클 시험),Real-road driving(실도로 주행),Fuel efficiency index(연비 지수),Moving average window(이동 평균 구간),Constant speed driving(정속 주행),Running resistance(주행 저항)',\n",
       " 'Active safety(능동안전),Target vehicle(피해차량),Accidents analysis(사고분석),Collision avoidance(충돌회피),Accident severity(사고 심각도),Accident frequency(사고빈도),Multi-accidents(다중사고)',\n",
       " 'Wheelchair bus(휠체어 탑승 버스),Crashworthiness(충돌 안전도),Finite element method(유한요소법),Structural analysis(구조 해석),Rollover simulation(전복 해석)',\n",
       " 'Optimization(최적화),Response surface method(반응표면법),Exterior design(외관형상),Aerodynamic drag(공기저항력),Spoiler(스포일러),Wind tunnel test(풍동시험)',\n",
       " 'Bending strength(굽힘 강도),Press impact beam(프레스 임팩트 빔),Beam mounting location(빔 마운팅 위치),Beam end shape(빔 끝단부 형상),Body stiffness at door mounting area(도어 마운팅부의 차체강성)',\n",
       " 'ADAS(첨단 운전자 보조 시스템),HDA(고속도로 주행보조 시스템),Test scenario(평가 시나리오),Prescan (프리스캔),Actual vehicle test(실차시험)',\n",
       " '자동차운반선,구조강도해석,화물 적재하중,처짐,직접강도평가,PCTC(Pure car and truck carrier),Structural strength analysis,Cargo load,Deflection,Direct strength assessment',\n",
       " 'Blow-by gas(블로우바이가스),Oil-mist separator(오일 분리기),Separation efficiency(분리효율),CFD(전산유체역학),Particle size analyzer(입자분석기),LSPI(Low Speed Pre-Ignition,저속 조기점화),CCV(Closed Crankcase Ventilation,밀폐식 크랭크실 환기)',\n",
       " 'ADAS(운전자 지원 시스템),AEB(자동긴급제동시스템),Actual vehicle test(실차 시험),Test scenario(평가 시나리오)',\n",
       " 'ICC(샤시통합제어),Active front steering(전륜능동조향시스템),Rear wheel steering(후륜능동조향시스템),Electronic stability control(안정성제어시스템),Lateral stability(횡안정성),Optimal distribution(최적분배),Sideslip angle(횡슬립각)',\n",
       " 'high frequency noise(고주파 소음),multi layer nonwoven(다층부직포),sound absorption panel(흡음 패널),electric automobile(전기자동차)',\n",
       " 'Lane keeping assistance system(차선 유지 시스템),Yaw rate prediction(요각속도 예측),Long short-term memory(장 단기 순환신경망),Steering control(조향 제어)',\n",
       " 'Approximate dimensional synthesis(근사 치수 합성),Stephenson III six-bar slider-crank mechanism(스티븐슨 III 슬라이더 크랭크 기구),Function generation mechanism(함수 생성 기구),Genetic algorithm(유전 알고리즘),Optimization (최적화)',\n",
       " 'Construction equipment vehicle(건설기계차량),DPF(매연여과장치),SCR(선택적 환원 촉매장치),Urea(요소),PM(입자상물질),NOX(질소산화물)',\n",
       " 'Scatter angle(비산각),Stone chipping experimental device(스톤치핑 시험기),Stone chipping(스톤치핑),Underbody(하부),Unpaved road(비포장도로)',\n",
       " 'Real driving emission characteristics, 실도로 주행배출특성, Passenger car, 승용자동차, Gasoline, 휘발유, Engine displacement, 엔진배기량)',\n",
       " '배터리 전압, 매입형 동기 자속 전동기, 구동용 모터, 초소형 전기자동차, 운전 영역 확대,Battery voltage, Interior permanent magnet synchronous motor, Traction  motor, Ultra-compact EV, Wide-speed-range operation',\n",
       " 'Automobile Accident Prevention System, Artificial Intelligence, Machine Learning,  Deep Learning, e-Call Service',\n",
       " 'Electric Motor(전동기),Electric Vehicle(전기자동차),Finite Difference Method(유한 차분법),Grid Test(격자 테스트)',\n",
       " ' Electric Vehicle(전기자동차), Rotor Shaft(로터샤프트), Light Weight(경량화), Solid Shaft(중실축), Hollow Shaft(중공축), Total Deformation(총변형량), Equivalent Stress(등가응력), Safety Factor(안전율), Frequency Response(주파수 응답)',\n",
       " 'Greenhouse gas,Diesel medium duty trucks,Driving mode,CO2,온실가스,경유 중형화물자동차,주행모드,이산화탄소',\n",
       " 'Optimum Design(최적설계),Electric Vehicle(전기자동차),Motor Shaft(모터 샤프트),Light Weight(경량화),Equivalent Stress(등가응력),Total Deformation(총변형량),Safety Factor(안전율)',\n",
       " 'Vehicle Dynamics Simulation(차량동역학 시뮬레이션),KSAE Electric Vehicle(KSAE 자작전기자동차),Driving Performance(주행성능),Structure Analysis(구조해석)',\n",
       " 'Personal urban vehicle(개인 도심형 자동차),Three-wheeled vehicle(삼륜 자동차),Rear-wheel steering system(후륜 조향 시스템),Skid steering system(미끄럼 조향 시스템),Interacting multiple model(상호 작용 다중 모델)',\n",
       " 'Energy saving(에너지절감),Panorama roof(파노라마 루프),Polycarbonate (폴리카보네이트),Fuel efficiency(연료효율),Automotive(자동차)',\n",
       " 'Fail-safe system(고장 안전 시스템),Decision level(판단 단계),Autonomous vehicle(자율주행 자동차),Fault detection(고장검출),Decisioon algorithm(판단 알고리즘)',\n",
       " 'Advanced vehicle(첨단자동차),Automated driving system(자율주행 자동차),Semi anechoic chamber(전자파 무반사실),Radar sensor(레이다 센서),Electromagnetic immunity test environment(전자파 내성시험환경),Safety standard(안전규격)',\n",
       " 'Dynamic Programming(동적 계획법),Hybrid Electric Vehicle(하이브리드 자동차),Launching Control(가속 제어)',\n",
       " '지능형자동차(Intelligent Vehicle),인식기술(Recognition Technology),DB(Standard DB),평가시스템(Evaluation System)',\n",
       " 'Cockpit Module(칵핏 모듈),Garnish(가니쉬),Crash Pad(크래시패드)',\n",
       " 'Object Detection System(객체 인지 시스템),Autonomous Driving(자율주행 자동차),End-to-End Delay(종단간 지연시간),FPS(초 당 프레임),Computer Vision(컴퓨터 비전),Schedule Optimization(스케줄 최적화)',\n",
       " 'Autonomotive technology(자동차 기술),Influence(영향),Design development(디자인 개발),Degree of dependance with Japan(대일 의존도),Originality(독자성)',\n",
       " 'Autonomous-Driving(자율주행),Interior-Part(내장부품),Design(디자인),New-Business(신사업)',\n",
       " 'Door Panel(도어판넬),Lightweight(경량화),Productivity(생산성),Modularization(모듈화)',\n",
       " 'Crashpad(크래쉬패드),High stiffness(고강성),Cowl Cross bar(카울크로스바),경량화(Lighting weight)',\n",
       " 'TWC(Three-way Catalyst, 삼원촉매),PGM(Platinum group metal, 귀금속),OSC(Oxygen storage capacity, 산소저장능력),LOT(Light-off test, 촉매 활성온도시험),SWEEP(Lambda Sweep test, 공연비에 따른 촉매활성 전환율 시험)',\n",
       " 'DAT(Das Analysis Tool),Pre/Post processing(전/후처리프로세스),PROTOLESS(프로토리스),M/H(Man hour)',\n",
       " 'Pulse TDR(time domain reflectometry),RSD(Reference Signal for Diagnosing a defect),VOP(velocity of propagation),MRS(Multi-line Reflection Signal),Distortion compensation and Noise reduction filter',\n",
       " 'Door Module(도어 모듈),Window Regulator(윈도우 레귤레이터),Half Cable(하프 케이블),COST(원가),Weight(중량)',\n",
       " 'Smart glass(스마트 글라스),Transmittance Variable (투과도 가변),Voltage(전압),PDLC Film(PDLC 필름),SPD Film(SPD Film),Control Device(제어 장치)',\n",
       " 'Multi-Color(다색),Injection(경량화),고감성(High-Sensitive),Interior-Part(내장부품)',\n",
       " 'Sensitivity(민감도),Net Power(정미 출력),Pressurized PEMFC(가압형 고분자전해질형 연료전지),Mechanical Balance of Plant(기계적 주변 장치),Steady-State Analysis(정상 상태 해석)',\n",
       " 'Composite-material(복합소재),Lightweight(경량화),Tailgate(테일게이트),Outer Panel(아우터판넬)',\n",
       " 'Headlamp(전조등),Fogging(김서림),Vapor(수증기),Mixed gas(혼합기체),Ventilation(통기성),Thermodynamics(열역학)',\n",
       " 'Ethernet(이더넷),Communication(통신),Unshielded Twist Pair(비차폐 전선),Automotive cable(차량용 전선)',\n",
       " 'Lane Change(차로변경),Risk Assessment(위험판단),Collision Avoidance(충돌회피),Time Boundary Based(시간경계기반),Autonomous Vehicle(자율주행),Path Generation(경로생성)',\n",
       " 'Hybrid power management(하이브리드 동력 관리),Equivalent energy consumption map (등가 연비맵),Multi-objective genetic algorithm(다목적 유전자 알고리즘),DoE(실험계획법),Optimization(최적화),Pareto optimization(파레토 최적화),AVL Cruise,AVL Model.CONNECT',\n",
       " 'Automotive Headlamp(차량용 램프),Temperature Prediction Program(온도 예측 프로그램),Thermal Analysis(열 분석),CFD(전산 유체 역학)',\n",
       " 'Electric vehicle(전기자동차),Cooling COP(냉방성적계수),Volumetric efficiency(체적효율),Heat pump(열펌프)',\n",
       " 'Comprehensive and Progressive Trans-Pacific Partnership(CPTPP),Korea-Japan FTA,auto industry,Global Trade Analaysis Project(GTAP)',\n",
       " 'DAFUL(다풀),Baja Automobile(자작자동차),Suspension(현가장치),Dynamic Analysis(동역학해석)',\n",
       " '공간적 자기상관성, 공간회귀모델, 부적합률, 자동차검사데이터, 지역적 특성',\n",
       " 'Electric car,Purchase intention,Particulate matter,Air pollution,Ordered Logit Model,Customer survey,전기자동차,구매의향,미세먼지,서열로짓모형,수요자 조사',\n",
       " 'Secondary battery,Electric vehicle,Battery cooling,Convective cooling,Energy storage system,Virtual fluid dynamics,2차 전지,전기자동차,배터리 냉각,대류 냉각,에너지 저장 장치,가상유체역학',\n",
       " '전달률분석방법(OTPA method),전기자동차(EV),오더분석(Order analysis)',\n",
       " '트럭운전자,트럭운전자의 소득,물류정책,Truck Drivers,Income Level of Logistics Industries,Logistics Policy',\n",
       " 'New Technology Hazard,Cobot,Collaborative Robot,Risk Assessment,Robot Safety,Automobile Parts',\n",
       " 'On-road emissions,Nitrogen oxides (NOx),Light-duty diesel vehicles,LNT (Lean NOx Trap),SCR (Selective Catalytic Reduction),실도로 시험,질소산화물 흡장 촉매,선택적 촉매 환원장치',\n",
       " 'electric vehicle,lithium-polymer battery,electric circuit model,state of charge,extended kalman filter',\n",
       " 'Autonomous Vehicle,Consumer Perception,Interior Composition Elements',\n",
       " '장기간 주행 데이터(long-term driving data),특성 변화(characteristics change),분석(analysis)',\n",
       " 'Autonomous Vehicle,Safety Assessment,Field Test',\n",
       " 'Sonata Style,Market Economy Status,Consumer Taste',\n",
       " 'Autonomous Driving,speed bump,Unmanned Vehicle',\n",
       " 'R1234ze(E),Ionic liquid,Sorption Heat pump,Overall conductance,COP',\n",
       " 'Safety and Health Activity,Ergonomic field improvement case',\n",
       " '1D 해석 서프트웨어(1D Simulation software),NVH(소음 진동),Switching noise(스위칭 소음)',\n",
       " 'Formability,Aluminum pouch,Electric vehicle,Secondary battery',\n",
       " 'Reservation System to EV,Charging,Improve Peak Power,Transformer,EV,Apartment',\n",
       " 'Commercial Vehicle,Automobile Maintenance Company,Location,AHP(Analytic Hierarchy Process)',\n",
       " 'EV stock scenarios,EV market,Battery R&D,Extreme fast charging,Cobalt,Battery recycling,EV 재고 시나리오,EV 시장,배터리 R&D,급속 충전,코발트,배터리 재활용',\n",
       " 'LLC,GaNs,LDC Converter,high frequency',\n",
       " 'Traffic safety,Freight car,Crash,Rear reflector,Visibility',\n",
       " 'Bearings,Electric Erosion,EV(Electric Vehicle),Failure Analysis',\n",
       " 'fuel cell vehicle, patent analysis, electric vehicle, hydrogen, assignee analysis',\n",
       " 'Battery modeling,Parameter optimization,SIMULINK,State variable,Least square error',\n",
       " 'Autonomous Vehicles,Autonomous Vehicles Level 4-5,Acceptance Intention,Technology Acceptance Model(TAM),Structural Equation Modeling(SEM)',\n",
       " 'Aluminum,Resistance spot welding,electrode,Sticking,Weldability,Dynamic resistance',\n",
       " 'Center pillar inner,Patchwork,Aluminium 7000 series,forming analysis',\n",
       " 'Electric vehicle(전기차),Micro(초소형),Heatpump(히트펌프),Cooling(냉방)',\n",
       " 'Hybrid electric vehicle,OBD-II,Driving data,Mileage,Machine learning',\n",
       " 'Bidirectional DC-DC converter,Bipolar DC bus,SC(Series-Capacitor) DC-DC converter,Voltage balancer,VBC(Voltage Balancing Control)',\n",
       " 'On Board Charger(OBC),Charge Algorithm,Li-ion Battery,Temperature Control,Self-charge · Discharge',\n",
       " 'Machine Vision,Automatic Inspection',\n",
       " 'Air Compressor(공기압축기),Rotor-bearing system(회전체-베어링 시스템),Natural frequency(고유진동수),Damping ratio(감쇠비)',\n",
       " 'Battery thermal management(배터리 열관리),Lithium-ion battery(리튬이온 배터리),Vapor compression cycle(증기 압축사이클)',\n",
       " 'GTR,Storage Vessel,Hydrogen Fuel Cell,Vehicle',\n",
       " 'UX,Electric vehicles(EV),Charging electric vehicles',\n",
       " 'Roundabout, Design Vehicle, Count Data Model, Accident Analysis',\n",
       " 'Bearings,Creep,EV(Electric Vehicle),Failure Analysis,E-Motor,Reducer',\n",
       " 'Current-fed,Integrated,LDC,OBC,Transformer',\n",
       " 'Electric Vehicle,Vehicle-to-Grid,Small Generation Aggregator,Energy Policy,Dynamic Programming',\n",
       " 'Current-fed,Integrated,LDC,OBC,Transformer',\n",
       " 'Gas Metal Arc Welding,Mechanical Property,ATOS,Road Safety Features,Welding,가스금속아크용접,기계물성치,고강도,도로안전시설물,용접',\n",
       " 'Hydrogen fuel cell,Regulator,Spring,Spring constant,Spring test system',\n",
       " 'Lithium ion batteries,Cathode materials,Layered structure,Spinel structure,Olivine structure',\n",
       " 'autonomous vehicle,localization,extended Kalman filter,particle filter,sensor fusion',\n",
       " 'Hotmelt,TPU Leather,무봉제(Seamless),Seat(시트)',\n",
       " 'Electromagnetic Interference(전자파 간섭),Cable Harness(케이블),Connector,Electromagnetic Compatibility(전자파 적합성),Shielding Effectiveness(차폐효과),Radioactive Noise(방사성 노이즈)',\n",
       " 'Air handling unit(공기 분배장치),Dynamic stiffness(동 강성),Fuel economy(연비),Injection molding(사출 성형),Mold flow analysis(유동해석),Radiated sound(방사음),Stress(강도),Weight down(중량 저감)',\n",
       " 'Computational Fluid Dynamics(전산유체역학),Flow simulation(유동해석),OpenFOAM(오픈폼),Aerodynamic drag(공력저항),Cabin room air flow(캐빈룸내부유동)',\n",
       " 'Lateral Dynamic Stiffness(횡 동강성),Modal Test(모달 시험),Aluminium Wheel(알루미늄 휠),Road Noise(노면 소음)',\n",
       " 'Weather strip (웨더 스트립),Finite element analysis (유한 요소 해석),Hyperfoam (초탄성),Viscoelastic (점탄성),Prony series (프로니 급수)',\n",
       " 'Driver(운전자),Driving habit(운전습관),Law observance(법규준수),Driving condition(운전조건),Severity road(가혹도로)',\n",
       " 'Ventilated Seat(통풍시트),Annoying Noise(이음),Quantitative(정량화),측벙방법(Measuring Method),Fan(팬)',\n",
       " 'COP(성능계수),EDR(엑서지 파괴율),Exergy efficiency(엑서지 효율),R134a,R1234yf,Mixing ratio(혼합비율)',\n",
       " '3D Printing(3차원 프린팅),FDM(용융압출적층),PolyJet(폴리젯),Thermoplastic(열가소성 플라스틱),photopolymer (포토폴리머)',\n",
       " '리어램프(Rear Lamp),면발광(Surface Lighting),오엘이디(OLED),디자인(Design)',\n",
       " '브레이크 패드(Brake Pad),비접촉 공중 초음파 검사(NAUT),건전성 평가(Integrity Evaluation)',\n",
       " 'LiDAR sensor,Object detection,Advanced driving assistance system,Autonomous vehicle,Euro new car assessment program',\n",
       " '순수전기차,배터리 용량,건축물 연면적,산지 및 농지 면적,면적 추정 방법,Battery electric vehicle,Battery capacity,Building floor area,Mountain and farmland area,Methods for calculating the site area',\n",
       " 'Autonomous vehicle,Autonomous Vehicle Acceptance Model,Acceptance intention,Purchase intention,Eco-friendliness',\n",
       " 'Polyol Ester,Refrigerant oil,Electric vehicle',\n",
       " 'computational fluid dynamic,electric vehicle,lithium ion battery,consequence analysis',\n",
       " 'Finite element method, Drive shaft, Stress, Displacement',\n",
       " '대기행렬이론, 진입로',\n",
       " 'V-shaped,IPMSM,Compressor,Air Conditioner,Electric Vehicle',\n",
       " ...]"
      ]
     },
     "metadata": {},
     "execution_count": 52
    }
   ],
   "source": [
    "print(len(rawdata))\n",
    "rawdata"
   ]
  },
  {
   "cell_type": "code",
   "execution_count": 53,
   "metadata": {},
   "outputs": [
    {
     "output_type": "stream",
     "name": "stdout",
     "text": [
      "fit_transform, (sentence 5261, feature 158)\n총 소요시간: 0.7629950046539307초\n"
     ]
    }
   ],
   "source": [
    "import time\n",
    "start = time.time()\n",
    "\n",
    "vect = CountVectorizer(max_features = 300, max_df=0.95, min_df=10, tokenizer=tokenizer_by_mecab, ngram_range = (1, 3))\n",
    "result = vect.fit_transform(rawdata)\n",
    "print(\n",
    "    'fit_transform, (sentence {}, feature {})'.format(result.shape[0], result.shape[1])\n",
    ")\n",
    "\n",
    "end = time.time()\n",
    "print(f'총 소요시간: {end-start}초')"
   ]
  },
  {
   "cell_type": "code",
   "execution_count": null,
   "metadata": {},
   "outputs": [],
   "source": [
    "data_array = result.toarray()\n",
    "data = pd.DataFrame(data_array, columns= vect.get_feature_names())\n",
    "data.shape"
   ]
  },
  {
   "cell_type": "code",
   "execution_count": null,
   "metadata": {},
   "outputs": [],
   "source": [
    "data_array.T.shape"
   ]
  },
  {
   "cell_type": "code",
   "execution_count": null,
   "metadata": {},
   "outputs": [],
   "source": [
    "from sklearn.decomposition import PCA\n",
    "from sklearn.manifold import TSNE\n",
    "tsne = TSNE(n_components=2, n_iter=10000, verbose=1)"
   ]
  },
  {
   "cell_type": "code",
   "execution_count": null,
   "metadata": {},
   "outputs": [],
   "source": [
    "Z = tsne.fit_transform(data_array.T)"
   ]
  },
  {
   "cell_type": "code",
   "execution_count": null,
   "metadata": {},
   "outputs": [],
   "source": [
    "plt.figure(figsize=(20, 20))\n",
    "plt.scatter(Z[:,0], Z[:,1])\n",
    "\n",
    "#점에 text 붙히기\n",
    "for i in range(len(vect.get_feature_names())):\n",
    "    plt.annotate(s=vect.get_feature_names()[i].encode(\"utf8\").decode(\"utf8\"), xy=(Z[i,0], Z[i,1]))\n",
    "plt.draw()\n",
    "plt.savefig('tsne.png', dpi=300)"
   ]
  },
  {
   "cell_type": "code",
   "execution_count": null,
   "metadata": {},
   "outputs": [],
   "source": [
    "#수식이 필요함\n",
    "#기관, 사람 도메인의 내용을 가지고 수식을 통해 연관성과 그렇지 않은 경우를 판단하여 지속적인 서비스를 제공해야함\n",
    "#information 필터링/데이터 큐레이션\n",
    "\n",
    "def find_analogies(w1, w2, w3, emb, word2idx):\n",
    "    pos_word1 = emb[word2idx[w1]]\n",
    "    pos_word2 = emb[word2idx[w2]]\n",
    "    neg_word1 = emb[word2idx[w3]]\n",
    "    v0 = pos_word1 + pos_word2 - neg_word1\n",
    "\n",
    "    def dist1(a, b):\n",
    "        return np.linalg.norm(a - b)\n",
    "    def dist2(a, b):\n",
    "        return 1 - a.dot(b) / (np.linalg.norm(a) * np.linalg.norm(b))\n",
    "\n",
    "    for dist, name in [(dist1, 'Euclidean'), (dist2, 'cosine')]:\n",
    "        min_dist = float('inf')\n",
    "        best_word = ''\n",
    "        for idx, word in enumerate(word2idx):\n",
    "            if word not in (w1, w2, w3):\n",
    "                v1 = emb[idx]\n",
    "                d = dist(v0, v1)\n",
    "                if d < min_dist:\n",
    "                    min_dist = d\n",
    "                    best_word = word\n",
    "        print(\"closest match by\", name, \"distance:\", best_word)\n",
    "        print(w1, \"-\", w2, \"=\", w3, \"-\", best_word)"
   ]
  },
  {
   "cell_type": "code",
   "execution_count": null,
   "metadata": {},
   "outputs": [],
   "source": [
    "for word, idx in enumerate(word2idx) :\n",
    "    print(word, idx)"
   ]
  },
  {
   "cell_type": "code",
   "execution_count": null,
   "metadata": {},
   "outputs": [],
   "source": [
    "#RFM\n",
    "analogies_to_try = (\n",
    "    (\"자율주행\",\"시스템\",\"디젤\"),\n",
    "    (\"댐퍼\",\"융합\",\"자율주행\"),\n",
    ")\n",
    "\n",
    "word2idx = {word: ii for ii, word in enumerate(vect.get_feature_names())}\n",
    "for word_list in analogies_to_try:\n",
    "    print(word_list)\n",
    "    w1, w2, w3 = word_list\n",
    "    find_analogies(w1=w1, w2=w2, w3=w3, emb=Z, word2idx=word2idx)"
   ]
  },
  {
   "cell_type": "code",
   "execution_count": null,
   "metadata": {},
   "outputs": [],
   "source": [
    "result.todense()"
   ]
  },
  {
   "cell_type": "code",
   "execution_count": null,
   "metadata": {
    "tags": []
   },
   "outputs": [],
   "source": [
    "# 문장에서 뽑아낸 feature 들의 Dictionary\n",
    "features = vect.get_feature_names()\n",
    "print(features)"
   ]
  },
  {
   "cell_type": "code",
   "execution_count": null,
   "metadata": {},
   "outputs": [],
   "source": [
    "print(len(result.toarray()))"
   ]
  },
  {
   "cell_type": "code",
   "execution_count": null,
   "metadata": {},
   "outputs": [],
   "source": [
    "result_frame = pd.DataFrame(result_array, columns=features)\n",
    "result_frame"
   ]
  },
  {
   "cell_type": "code",
   "execution_count": null,
   "metadata": {},
   "outputs": [],
   "source": [
    "last_result = pd.concat([dataset_3, result_frame.reindex(dataset_3.index)], axis = 1)\n",
    "last_result"
   ]
  },
  {
   "cell_type": "code",
   "execution_count": null,
   "metadata": {},
   "outputs": [],
   "source": [
    "dataset_3.to_csv(\"./dataset/count_vec.csv\", index=False, encoding=\"utf-8\")"
   ]
  },
  {
   "cell_type": "code",
   "execution_count": null,
   "metadata": {},
   "outputs": [],
   "source": [
    "vectorize = TfidfVectorizer(\n",
    "    tokenizer=tokenizer_by_mecab,\n",
    "    min_df=5,\n",
    "    sublinear_tf = True    # tf값에 1+log(tf)를 적용하여 tf값이 무한정 커지는 것을 막음\n",
    ")\n",
    "X = vectorize.fit_transform(rawdata)\n",
    "print(\n",
    "    'fit_transform, (sentence {}, feature {})'.format(X.shape[0], X.shape[1])\n",
    ")\n",
    "print(X.toarray())\n",
    "# 문장에서 뽑아낸 feature 들의 배열\n",
    "features = vectorize.get_feature_names()"
   ]
  },
  {
   "cell_type": "code",
   "execution_count": null,
   "metadata": {},
   "outputs": [],
   "source": [
    "print(X.toarray())"
   ]
  },
  {
   "source": [
    "### CountVector를 위한 준비 작업 및 확인 로직 (종료)"
   ],
   "cell_type": "markdown",
   "metadata": {}
  },
  {
   "source": [
    "#키워드 를 축소 필요 \n",
    "#키워드별로 논문 개수 (논문편수 5개 이하는 제외하자)\n",
    "#https://codechacha.com/ko/python-google-translate/"
   ],
   "cell_type": "markdown",
   "metadata": {}
  },
  {
   "cell_type": "code",
   "execution_count": null,
   "metadata": {},
   "outputs": [],
   "source": [
    "#1.주제어 COUNT\n",
    "#2.분석대상 명확하게~ \n",
    "#3.주제어별 관계도"
   ]
  },
  {
   "cell_type": "code",
   "execution_count": null,
   "metadata": {},
   "outputs": [],
   "source": []
  }
 ]
}