{
 "metadata": {
  "language_info": {
   "codemirror_mode": {
    "name": "ipython",
    "version": 3
   },
   "file_extension": ".py",
   "mimetype": "text/x-python",
   "name": "python",
   "nbconvert_exporter": "python",
   "pygments_lexer": "ipython3",
   "version": "3.8.5-final"
  },
  "orig_nbformat": 2,
  "kernelspec": {
   "name": "python3",
   "display_name": "Python 3",
   "language": "python"
  }
 },
 "nbformat": 4,
 "nbformat_minor": 2,
 "cells": [
  {
   "source": [
    "## Mecab 사용자 사전 만드는 프로그램\n"
   ],
   "cell_type": "markdown",
   "metadata": {}
  },
  {
   "cell_type": "code",
   "execution_count": 1,
   "metadata": {},
   "outputs": [],
   "source": [
    "import pandas as pd\n",
    "import numpy as np\n",
    "\n",
    "#정규식을 위한 라이브러리\n",
    "import re"
   ]
  },
  {
   "source": [
    "#### dataset 설명\n",
    "1. keyword_dic.csv\n",
    "  - 수집된 논문 정보 중 주제어를 처리하여 한글 단어를 추출한 목록 파일\n",
    "2. tta_dic.csv \n",
    "  - TTA정보통신용어사전(word.tta.or.kr)을 csv로 만든 파일로, 용어, 동의어, 설명으로 구성됨"
   ],
   "cell_type": "markdown",
   "metadata": {}
  },
  {
   "cell_type": "code",
   "execution_count": 2,
   "metadata": {},
   "outputs": [],
   "source": [
    "words = pd.read_csv(\"./dataset/keyword_dic.csv\")"
   ]
  },
  {
   "cell_type": "code",
   "execution_count": 3,
   "metadata": {},
   "outputs": [
    {
     "output_type": "stream",
     "name": "stdout",
     "text": [
      "<class 'pandas.core.frame.DataFrame'>\nRangeIndex: 105684 entries, 0 to 105683\nData columns (total 1 columns):\n #   Column   Non-Null Count   Dtype \n---  ------   --------------   ----- \n 0   keyword  105684 non-null  object\ndtypes: object(1)\nmemory usage: 825.8+ KB\n"
     ]
    }
   ],
   "source": [
    "words.info()"
   ]
  },
  {
   "source": [
    "* TTA 용어인 경우에만 수행하는 로직 (시작)\n",
    "----"
   ],
   "cell_type": "markdown",
   "metadata": {}
  },
  {
   "cell_type": "code",
   "execution_count": null,
   "metadata": {},
   "outputs": [],
   "source": [
    "# TTA 용어사전은 용어가 한글, 영어, 한문 등으로 섞여 있고, 숫자, \",\" 등 의 문자가 혼재되어 있어\n",
    "# 최소한의 작업을 위해 한글만 추출할 수 있도록 정규식을 사용\n",
    "\n",
    "# 논문 주제어는 한글 용어를 추출하였으므로 해당 작업은 불필요함\n",
    "\n",
    "def search_word_for_tta(x) :\n",
    "    p = re.compile(\".*[ㄱ-ㅎㅏ-ㅣ가-힣]+[+|#]{0,2},|.*[ㄱ-ㅎㅏ-ㅣ가-힣]+[\\s|-]?\\w{0,5}[.|-]?\\w{0,5}[+|#]{0,2},|.*[(]?[ㄱ-ㅎㅏ-ㅣ가-힣|\\w]+\\s?[)]?[\\s|-]?\\w{0,5}[.|-]?\\w{0,5}[+|#]{0,2},\")\n",
    "    match = p.search(x)\n",
    "    if match != None :\n",
    "        word = match.group()\n",
    "        return word[:-1]\n",
    "    else :\n",
    "        return None"
   ]
  },
  {
   "cell_type": "code",
   "execution_count": null,
   "metadata": {},
   "outputs": [],
   "source": [
    "words['keyword'] = words['용어'].apply(lambda x : search_word_tta(x))"
   ]
  },
  {
   "source": [
    "-----\n",
    "* TTA 용어인 경우에만 수행하는 로직 (종료)"
   ],
   "cell_type": "markdown",
   "metadata": {}
  },
  {
   "cell_type": "code",
   "execution_count": 4,
   "metadata": {},
   "outputs": [
    {
     "output_type": "execute_result",
     "data": {
      "text/plain": [
       "       keyword\n",
       "0         내연기관\n",
       "1          에너지\n",
       "2           환경\n",
       "3         오염물질\n",
       "4  수소 연료전지 자동차"
      ],
      "text/html": "<div>\n<style scoped>\n    .dataframe tbody tr th:only-of-type {\n        vertical-align: middle;\n    }\n\n    .dataframe tbody tr th {\n        vertical-align: top;\n    }\n\n    .dataframe thead th {\n        text-align: right;\n    }\n</style>\n<table border=\"1\" class=\"dataframe\">\n  <thead>\n    <tr style=\"text-align: right;\">\n      <th></th>\n      <th>keyword</th>\n    </tr>\n  </thead>\n  <tbody>\n    <tr>\n      <th>0</th>\n      <td>내연기관</td>\n    </tr>\n    <tr>\n      <th>1</th>\n      <td>에너지</td>\n    </tr>\n    <tr>\n      <th>2</th>\n      <td>환경</td>\n    </tr>\n    <tr>\n      <th>3</th>\n      <td>오염물질</td>\n    </tr>\n    <tr>\n      <th>4</th>\n      <td>수소 연료전지 자동차</td>\n    </tr>\n  </tbody>\n</table>\n</div>"
     },
     "metadata": {},
     "execution_count": 4
    }
   ],
   "source": [
    "words.head()"
   ]
  },
  {
   "source": [
    "#### Mecab 사용자 사전 설명\n",
    "\n",
    "[Mecab 사전형식 링크 (클릭하세요)](https://docs.google.com/spreadsheets/d/1-9blXKjtjeKZqsf4NzHeYJCrr49-nXeRF6D80udfcwY/edit#gid=1, \"Mecab 사전형식 링크\")"
   ],
   "cell_type": "markdown",
   "metadata": {}
  },
  {
   "cell_type": "code",
   "execution_count": 5,
   "metadata": {},
   "outputs": [],
   "source": [
    "# 종성 유무(T, F)를 표현하기 위해 마지막 문자의 받침 유무를 확인\n",
    "def checkTrait(c):\n",
    "    return (int((ord(c) - 0xAC00) % 28) != 0)"
   ]
  },
  {
   "cell_type": "code",
   "execution_count": 6,
   "metadata": {},
   "outputs": [],
   "source": [
    "tags = []\n",
    "\n",
    "for word in words['keyword'].tolist() :\n",
    "    line  = [word, '', '', '', 'NNG', '*', checkTrait(word[-1]) and 'T' or 'F', word, '*', '*', '*', '*', '*']\n",
    "    tags.append(line) "
   ]
  },
  {
   "cell_type": "code",
   "execution_count": 7,
   "metadata": {},
   "outputs": [],
   "source": [
    "df = pd.DataFrame(tags)\n",
    "df.head()\n",
    "df.to_csv('./result/nnp_user.csv', encoding='utf-8', index=False, header=False)"
   ]
  },
  {
   "source": [
    "### Mecab 사전 설치\n",
    "1. 만들어진 ./result/nnp_user.csv 파일의 내용을 **C:\\mecab\\user-dic\\nnp.csv** 파일에 복사\n",
    "2. 아래 화면과 같이 PowerShell을 실행 후 mecab 디렉토리로 이동하여 스크립트 실행\n",
    "  - 실행 전    \n",
    "  ![PowerShell] (./images/1.powershell.png)\n",
    "  - 실행 후    \n",
    "  ![PowerShell] (./images/2.powershell.png)\n",
    "  - 설치 확인 (아래 그림과 같이 해당 사전디렉토리에 user-nnp.csv 파일이 생겼다면 성공)    \n",
    "  ![PowerShell] (./images/3.powershell.png)"
   ],
   "cell_type": "markdown",
   "metadata": {}
  },
  {
   "cell_type": "code",
   "execution_count": 8,
   "metadata": {},
   "outputs": [
    {
     "output_type": "execute_result",
     "data": {
      "text/plain": [
       "[('연료전지 자동차 가상 샤시 플랫폼', 'NNG')]"
      ]
     },
     "metadata": {},
     "execution_count": 8
    }
   ],
   "source": [
    "from eunjeon import Mecab\n",
    "mecab = Mecab(\"c://mecab//mecabrc\")\n",
    "\n",
    "#./dataset/keword_dic.csv의 72번째 용어\n",
    "mecab.pos(\"연료전지 자동차 가상 샤시 플랫폼\")"
   ]
  },
  {
   "cell_type": "code",
   "execution_count": null,
   "metadata": {},
   "outputs": [],
   "source": []
  }
 ]
}