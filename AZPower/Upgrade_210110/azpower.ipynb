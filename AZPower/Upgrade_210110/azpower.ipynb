{
 "metadata": {
  "language_info": {
   "codemirror_mode": {
    "name": "ipython",
    "version": 3
   },
   "file_extension": ".py",
   "mimetype": "text/x-python",
   "name": "python",
   "nbconvert_exporter": "python",
   "pygments_lexer": "ipython3",
   "version": "3.8.5-final"
  },
  "orig_nbformat": 2,
  "kernelspec": {
   "name": "python3",
   "display_name": "Python 3",
   "language": "python"
  }
 },
 "nbformat": 4,
 "nbformat_minor": 2,
 "cells": [
  {
   "cell_type": "code",
   "execution_count": 1,
   "metadata": {},
   "outputs": [
    {
     "output_type": "stream",
     "name": "stdout",
     "text": [
      "Collecting soynlp\n  Downloading soynlp-0.0.493-py3-none-any.whl (416 kB)\nRequirement already satisfied: numpy>=1.12.1 in c:\\users\\milly\\anaconda3\\envs\\weekend\\lib\\site-packages (from soynlp) (1.19.2)\nRequirement already satisfied: scikit-learn>=0.20.0 in c:\\users\\milly\\anaconda3\\envs\\weekend\\lib\\site-packages (from soynlp) (0.23.2)\nRequirement already satisfied: scipy>=1.1.0 in c:\\users\\milly\\anaconda3\\envs\\weekend\\lib\\site-packages (from soynlp) (1.5.2)\nRequirement already satisfied: psutil>=5.0.1 in c:\\users\\milly\\anaconda3\\envs\\weekend\\lib\\site-packages (from soynlp) (5.7.2)\nRequirement already satisfied: joblib>=0.11 in c:\\users\\milly\\anaconda3\\envs\\weekend\\lib\\site-packages (from scikit-learn>=0.20.0->soynlp) (0.17.0)\nRequirement already satisfied: threadpoolctl>=2.0.0 in c:\\users\\milly\\anaconda3\\envs\\weekend\\lib\\site-packages (from scikit-learn>=0.20.0->soynlp) (2.1.0)\nInstalling collected packages: soynlp\nSuccessfully installed soynlp-0.0.493\n"
     ]
    }
   ],
   "source": [
    "#https://lovit.github.io/\n",
    "\n",
    "!pip install soynlp"
   ]
  },
  {
   "cell_type": "code",
   "execution_count": 90,
   "metadata": {},
   "outputs": [],
   "source": [
    "from soynlp import DoublespaceLineCorpus\n",
    "from soynlp.word import WordExtractor\n",
    "\n",
    "import pandas as pd\n",
    "import numpy as np \n",
    "\n",
    "import logging  # Setting up the loggings to monitor gensim\n",
    "logging.basicConfig(format=\"%(levelname)s - %(asctime)s: %(message)s\", datefmt= '%H:%M:%S', level=logging.INFO)"
   ]
  },
  {
   "cell_type": "code",
   "execution_count": 6,
   "metadata": {},
   "outputs": [
    {
     "output_type": "stream",
     "name": "stdout",
     "text": [
      "<class 'pandas.core.frame.DataFrame'>\nRangeIndex: 50568 entries, 0 to 50567\nData columns (total 21 columns):\n #   Column                          Non-Null Count  Dtype  \n---  ------                          --------------  -----  \n 0   제목                              50568 non-null  object \n 1   저자                              50568 non-null  object \n 2   발행기관                            50568 non-null  object \n 3   학술지명                            50568 non-null  object \n 4   권호사항                            50568 non-null  object \n 5   발행연도                            50568 non-null  int64  \n 6   작성언어                            50568 non-null  object \n 7   주제어                             26933 non-null  object \n 8   KDC                             11761 non-null  float64\n 9   등재정보                            13083 non-null  object \n 10  자료형태                            50568 non-null  object \n 11  발행기관 URL                        22715 non-null  object \n 12  수록면                             50568 non-null  object \n 13  KCI 피인용횟수                       9042 non-null   float64\n 14  비고                              0 non-null      float64\n 15  중단사유                            180 non-null    object \n 16  제공처                             50453 non-null  object \n 17  소장기관                            10783 non-null  object \n 18  국문 초록 (Abstract)                10447 non-null  object \n 19  다국어 초록 (Multilingual Abstract)  25062 non-null  object \n 20  목차                              28402 non-null  object \ndtypes: float64(3), int64(1), object(17)\nmemory usage: 8.1+ MB\n"
     ]
    }
   ],
   "source": [
    "dataset = pd.read_csv(\"./dataset/articles.csv\")\n",
    "dataset.info()"
   ]
  },
  {
   "cell_type": "code",
   "execution_count": 12,
   "metadata": {},
   "outputs": [],
   "source": [
    "dataset_1 = dataset[['국문 초록 (Abstract)']].dropna()\n",
    "dataset_1.to_csv('./dataset/abstract_only.csv', index=False, header=False)"
   ]
  },
  {
   "cell_type": "code",
   "execution_count": 63,
   "metadata": {},
   "outputs": [
    {
     "output_type": "execute_result",
     "data": {
      "text/plain": [
       "23045"
      ]
     },
     "metadata": {},
     "execution_count": 63
    }
   ],
   "source": [
    "corpus = DoublespaceLineCorpus('./dataset/abstract_only.csv', skip_header=True)\n",
    "\n",
    "len(corpus)"
   ]
  },
  {
   "cell_type": "code",
   "execution_count": 64,
   "metadata": {},
   "outputs": [
    {
     "output_type": "stream",
     "name": "stdout",
     "text": [
      "자동차 제작사 및 세계 각국의 정부 등은 수소 연료 전지 자동차가 기존의 내연기관 자동차와 동등 이상의 안전성을 확보할 수 있는 부품기술, 자동차 제작기술 및 이와 관련된 안전기준을 개발하기 위하여 많은 노력을 기울이고 있다.\n독일과 미국은 이미 수소 연료전지 자동차에 관한 안전기준을 제정한 일본과 협력하여 세계기술기준(GTR)을 제정하고자 시도하고 있으며, 우리나라도 이러한 주변 상황에 대응하기 위하여 수소ㆍ연료전지 자동차의 안전성 평가기술 개발에 관한 5개년 연구 과제를 2007년말부터 착수하였다. 이 연구는 수소 연료전지 자동차에 관한 제도 및 정책 연구, 수소 안전성 기술, 수소 연료전지 자동차 운행 안전성 기술 및 전기 안전성 기술에 관한 연구를 망라하고 있으며, 안전기준 및 안전성 평가기술을 개발하여 수소 연료전지 자동차관리정책에 반영하는 것을 목표로 하고 있다.\n수소 연료전지 자동차 및 수소저장탱크를 포함한 연료시스템의 충돌 및 화재안전성에 관한 평가방법 및 안전기준 등을 도출하기 위해서는 정면/측면/후면충돌 및 전복 등과 같은 다양한 환경에서 실차시험을 수행하고, 이로부터 도출된 실제 결과를 반영하여야 할 것이지만, 수소 연료전지 자동차를 제작하는 비용이 매우 고가이므로 충돌시험으로부터 구할 수 있는 실제 데이터는 상대적으로 많은 제한이 있을 것으로 예상되고 있다. 이러한 점을 극복할 수 있도록 충분한 검토가 이루어져야 하며, 이에 따른 방안도 수립될 수 있어야 할 것으로 판단된다.\n현재 생활 필수품 중의 하나인 자동차논 많은 변화를 보이고 있다. 발전사를 살펴보면 무동력 자동차를 시작으로 화력 자동차 중기 자동차 디젤 자동차로 현재는 태양열 자동차, 에어원료 자동차 등도 개발하고 있는 상태로, 내부의 기계적인 발전이 이루어져 있으며, 현재는 차체의 소재 개발 및 구조적인 면을 보강하여 차체의 질적 향상에 따른 원가 절감, 중량 절감, 설비 감소 등을 사출 기술을 이용하여 산업에 다변화를 꽤하는 사업이 진행 중 이다.\n"
     ]
    }
   ],
   "source": [
    "for idx, doc in enumerate(corpus) :\n",
    "    if len(doc) > 0 :\n",
    "        print(doc)\n",
    "    \n",
    "    if idx == 3 :\n",
    "        break"
   ]
  },
  {
   "cell_type": "code",
   "execution_count": 65,
   "metadata": {},
   "outputs": [
    {
     "output_type": "stream",
     "name": "stdout",
     "text": [
      "training was done. used memory 0.895 Gb\n",
      "all cohesion probabilities was computed. # words = 110696\n",
      "all branching entropies was computed # words = 204195\n",
      "all accessor variety was computed # words = 204195\n"
     ]
    }
   ],
   "source": [
    "word_extractor = WordExtractor()\n",
    "word_extractor.train(corpus)\n",
    "word_score_table = word_extractor.extract()"
   ]
  },
  {
   "cell_type": "code",
   "execution_count": 105,
   "metadata": {},
   "outputs": [],
   "source": [
    "word = word_score_table[\"자율주행자동차\"]"
   ]
  },
  {
   "cell_type": "code",
   "execution_count": 106,
   "metadata": {},
   "outputs": [
    {
     "output_type": "execute_result",
     "data": {
      "text/plain": [
       "0.5673646591879059"
      ]
     },
     "metadata": {},
     "execution_count": 106
    }
   ],
   "source": [
    "word.cohesion_forward"
   ]
  },
  {
   "cell_type": "code",
   "execution_count": 70,
   "metadata": {},
   "outputs": [
    {
     "output_type": "execute_result",
     "data": {
      "text/plain": [
       "2.4950106267057364"
      ]
     },
     "metadata": {},
     "execution_count": 70
    }
   ],
   "source": [
    "word_score_table[\"자율주행자동차\"].right_branching_entropy"
   ]
  },
  {
   "cell_type": "code",
   "execution_count": 108,
   "metadata": {},
   "outputs": [
    {
     "output_type": "execute_result",
     "data": {
      "text/plain": [
       "35"
      ]
     },
     "metadata": {},
     "execution_count": 108
    }
   ],
   "source": [
    "word_score_table[\"자율주행자동차\"].right_accessor_variety"
   ]
  },
  {
   "cell_type": "code",
   "execution_count": 112,
   "metadata": {},
   "outputs": [
    {
     "output_type": "execute_result",
     "data": {
      "text/plain": [
       "Scores(cohesion_forward=0.7883535746704344, cohesion_backward=0.35735971345828865, left_branching_entropy=4.0837607397050215, right_branching_entropy=4.519824624845163, left_accessor_variety=281, right_accessor_variety=370, leftside_frequency=18297, rightside_frequency=1640)"
      ]
     },
     "metadata": {},
     "execution_count": 112
    }
   ],
   "source": [
    "word_score_table[\"자동차\"]"
   ]
  },
  {
   "cell_type": "code",
   "execution_count": 76,
   "metadata": {},
   "outputs": [],
   "source": [
    "from soynlp.tokenizer import LRNounExtractor_v2\n",
    "\n",
    "scores = {word:score.cohesion_forward for word, score in word_score_table.items()}\n",
    "l_tokenizer = LTokenizer(scores=scores)"
   ]
  },
  {
   "cell_type": "code",
   "execution_count": 91,
   "metadata": {},
   "outputs": [
    {
     "output_type": "execute_result",
     "data": {
      "text/plain": [
       "['자동차',\n",
       " '의자율주행기능실현을위해서는기존의',\n",
       " '지능형자동차',\n",
       " '인식시스템보다강인하고우수한성능의주행환경',\n",
       " '인식시스템',\n",
       " '이요구된다.']"
      ]
     },
     "metadata": {},
     "execution_count": 91
    }
   ],
   "source": [
    "sentence = \"자동차의자율주행기능실현을위해서는기존의 지능형자동차인식시스템보다강인하고우수한성능의주행환경 인식시스템이요구된다.\"\n",
    "\n",
    "l_tokenizer = LTokenizer(scores=scores)\n",
    "l_tokenizer.tokenize(sentence=sentence)"
   ]
  },
  {
   "cell_type": "code",
   "execution_count": 92,
   "metadata": {},
   "outputs": [
    {
     "output_type": "execute_result",
     "data": {
      "text/plain": [
       "0.5248322147651007"
      ]
     },
     "metadata": {},
     "execution_count": 92
    }
   ],
   "source": [
    "scores['레이']"
   ]
  },
  {
   "cell_type": "code",
   "execution_count": 93,
   "metadata": {},
   "outputs": [
    {
     "output_type": "execute_result",
     "data": {
      "text/plain": [
       "[[('자동차', 0, 3, 0.7883535746704344, 3),\n",
       "  ('의', 3, 4, 0.0, 1),\n",
       "  ('자율주행', 4, 8, 0.420887059247285, 4),\n",
       "  ('기능', 8, 10, 0.053290766208251475, 2),\n",
       "  ('실현을', 10, 13, 0.05947987095669058, 3),\n",
       "  ('위해서는', 13, 17, 0.4323222815115531, 4),\n",
       "  ('기존의', 17, 20, 0.21584705762969822, 3)],\n",
       " [('지능형', 0, 3, 0.17887077058327538, 3),\n",
       "  ('자동차', 3, 6, 0.7883535746704344, 3),\n",
       "  ('인식', 6, 8, 0.15133938792642906, 2),\n",
       "  ('시스템', 8, 11, 0.47800276869938, 3),\n",
       "  ('보다', 11, 13, 0.08453329904859862, 2),\n",
       "  ('강인', 13, 15, 0.0, 2),\n",
       "  ('하고', 15, 17, 0.08985231759029098, 2),\n",
       "  ('우수한', 17, 20, 0.26849983063063704, 3),\n",
       "  ('성능', 20, 22, 0.2888222055513878, 2),\n",
       "  ('의', 22, 23, 0.0, 1),\n",
       "  ('주행', 23, 25, 0.14746624583552517, 2),\n",
       "  ('환경', 25, 27, 0.8034708136128015, 2)],\n",
       " [('인식', 0, 2, 0.15133938792642906, 2),\n",
       "  ('시스템', 2, 5, 0.47800276869938, 3),\n",
       "  ('이', 5, 6, 0.0, 1),\n",
       "  ('요구', 6, 8, 0.32606141970129215, 2),\n",
       "  ('된다', 8, 10, 0.9893390191897654, 2),\n",
       "  ('.', 10, 11, 0, 1)]]"
      ]
     },
     "metadata": {},
     "execution_count": 93
    }
   ],
   "source": [
    "from soynlp.tokenizer import MaxScoreTokenizer\n",
    "\n",
    "maxscore_tokenizer = MaxScoreTokenizer(scores=scores)\n",
    "maxscore_tokenizer.tokenize(sentence=sentence, flatten=False, )"
   ]
  },
  {
   "cell_type": "code",
   "execution_count": 114,
   "metadata": {},
   "outputs": [
    {
     "output_type": "stream",
     "name": "stdout",
     "text": [
      "[Noun Extractor] use default predictors\n",
      "[Noun Extractor] num features: pos=3929, neg=2321, common=107\n",
      "[Noun Extractor] counting eojeols\n",
      "[EojeolCounter] n eojeol = 297116 from 23045 sents. mem=0.236 Gb                    \n",
      "[Noun Extractor] complete eojeol counter -> lr graph\n",
      "[Noun Extractor] has been trained. #eojeols=1515812, mem=1.020 Gb\n",
      "[Noun Extractor] batch prediction was completed for 107482 words\n",
      "[Noun Extractor] checked compounds. discovered 54881 compounds\n",
      "[Noun Extractor] postprocessing detaching_features : 88054 -> 77465\n",
      "[Noun Extractor] postprocessing ignore_features : 77465 -> 77341\n",
      "[Noun Extractor] postprocessing ignore_NJ : 77341 -> 77095\n",
      "[Noun Extractor] 77095 nouns (54881 compounds) with min frequency=1\n",
      "[Noun Extractor] flushing was done. mem=1.161 Gb                    \n",
      "[Noun Extractor] 82.28 % eojeols are covered\n"
     ]
    }
   ],
   "source": [
    "from soynlp.utils import DoublespaceLineCorpus\n",
    "from soynlp.noun import LRNounExtractor_v2\n",
    "\n",
    "noun_extractor = LRNounExtractor_v2(verbose=True)\n",
    "nouns = noun_extractor.train_extract(corpus)"
   ]
  },
  {
   "cell_type": "code",
   "execution_count": 121,
   "metadata": {},
   "outputs": [
    {
     "output_type": "execute_result",
     "data": {
      "text/plain": [
       "[('자동차기술교육방향', ('자동차기술교육', '방향')),\n",
       " ('민간자동차자격제도', ('민간자', '동차', '자격제도')),\n",
       " ('자동차부품기술혁신', ('자동차부품', '기술혁신')),\n",
       " ('R&D인력양성사업', ('R&D', '인력양성', '사업')),\n",
       " ('gradient에서', ('gradient', '에서'))]"
      ]
     },
     "metadata": {},
     "execution_count": 121
    }
   ],
   "source": [
    "list(noun_extractor._compounds_components.items())[:5]"
   ]
  },
  {
   "cell_type": "code",
   "execution_count": 123,
   "metadata": {},
   "outputs": [
    {
     "output_type": "execute_result",
     "data": {
      "text/plain": [
       "[('', 563),\n",
       " ('자동차의', 348),\n",
       " ('자동차', 215),\n",
       " ('자동차는', 85),\n",
       " ('차의', 76),\n",
       " ('자동차가', 75),\n",
       " ('차', 71),\n",
       " ('자동차에', 65),\n",
       " ('자동차를', 40),\n",
       " ('자동차와', 35)]"
      ]
     },
     "metadata": {},
     "execution_count": 123
    }
   ],
   "source": [
    "noun_extractor.lrgraph.get_r('자율주행')"
   ]
  }
 ]
}