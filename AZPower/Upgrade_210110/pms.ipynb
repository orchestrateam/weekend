{
 "metadata": {
  "language_info": {
   "codemirror_mode": {
    "name": "ipython",
    "version": 3
   },
   "file_extension": ".py",
   "mimetype": "text/x-python",
   "name": "python",
   "nbconvert_exporter": "python",
   "pygments_lexer": "ipython3",
   "version": "3.8.5-final"
  },
  "orig_nbformat": 2,
  "kernelspec": {
   "name": "python3",
   "display_name": "Python 3",
   "language": "python"
  }
 },
 "nbformat": 4,
 "nbformat_minor": 2,
 "cells": [
  {
   "cell_type": "code",
   "execution_count": 5,
   "metadata": {},
   "outputs": [],
   "source": [
    "import selenium.webdriver\r\n",
    "from selenium.webdriver import Chrome\r\n",
    "from selenium.webdriver import ChromeOptions\r\n",
    "from selenium.webdriver.common.keys import Keys\r\n",
    "from selenium.webdriver.support.ui import WebDriverWait\r\n",
    "from selenium.webdriver.support import expected_conditions as EC\r\n",
    "from selenium.webdriver.common.by import By\r\n",
    "from selenium.common.exceptions import TimeoutException, NoSuchElementException,StaleElementReferenceException\r\n",
    "\r\n",
    "import time\r\n",
    "import atexit\r\n",
    "import os\r\n",
    "import pandas as pd\r\n",
    "from glob import glob\r\n",
    "\r\n",
    "import re\r\n",
    "from urllib import parse"
   ]
  },
  {
   "cell_type": "code",
   "execution_count": 18,
   "metadata": {},
   "outputs": [
    {
     "output_type": "stream",
     "name": "stdout",
     "text": [
      "c:\\development\\workspaces\\python\\weekend\\AZPower\\Upgrade_210110\\download\\tta\n"
     ]
    }
   ],
   "source": [
    "#전역 변수 선언\n",
    "TIMEOUT = 10\n",
    "ROOT_DIR = path.dirname(__file__) if \"__file__\" in locals() else os.getcwd()\n",
    "DOWNLOAD_DIR = f'{ROOT_DIR}\\\\download\\\\tta'\n",
    "print(DOWNLOAD_DIR)\n",
    "\n",
    "#사이트 주소\n",
    "URL = 'http://pms.visitincheon.or.kr:9090/pms/index.php?act=dispMemberLoginForm'"
   ]
  },
  {
   "cell_type": "code",
   "execution_count": 7,
   "metadata": {},
   "outputs": [],
   "source": [
    "#chrome webdriver를 생성한다.\n",
    "# - download_path: 파일을 다운로드 받을 위치\n",
    "# - headless: True이면 브라우저 화면 없이 background로 처리\n",
    "def create_chrome(download_path, headless=False) :\n",
    "    options = ChromeOptions()\n",
    "    if headless:\n",
    "        options.add_argument('headless')\n",
    "        options.add_argument('--disable-gpu')\n",
    "    options.add_experimental_option('prefs', {\n",
    "        'download.default_directory' : download_path,\n",
    "        'download.prompt_for_download' : False\n",
    "    })\n",
    "\n",
    "    chrome = Chrome(chrome_options = options)\n",
    "\n",
    "    if headless :\n",
    "        _enable_download_on_chrome_headless(chrome, download_path)\n",
    "\n",
    "    #프로세스 종료시 크롬을 종료시키는 로직\n",
    "    atexit.register(_close_chrome(chrome))\n",
    "    \n",
    "    return chrome\n",
    "\n",
    "#headless=True 일때 다운로드 안되는(크롬 보안문제) 문제 해결\n",
    "def _enable_download_on_chrome_headless(browser, download_dir) :\n",
    "    browser.command_executor._commands[\"send_command\"] = (\"POST\", '/session/$sessionId/chromium/send_command')\n",
    "\n",
    "    params = {\n",
    "        'cmd': 'Page.setDownloadBehavior',\n",
    "        'params': {\n",
    "            'behavior': 'allow',\n",
    "            'downloadPath': download_dir\n",
    "        }\n",
    "    }\n",
    "    browser.execute(\"send_command\", params)\n",
    "\n",
    "#크롬 종료~\n",
    "def _close_chrome(chrome) :\n",
    "    def close() :\n",
    "        chrome.close()\n",
    "    return close\n",
    "\n",
    "def chrome_wait(wait, condition):\n",
    "    try:\n",
    "        element = wait.until(condition)\n",
    "        return element\n",
    "    except TimeoutException:\n",
    "        print(f\"[DEBUG] 페이지 로딩 시간 초과\")"
   ]
  },
  {
   "cell_type": "code",
   "execution_count": 25,
   "metadata": {},
   "outputs": [],
   "source": [
    "ID = \"tkrhkrkantu\"\n",
    "PW = \"mice1130!@\""
   ]
  },
  {
   "cell_type": "code",
   "execution_count": 94,
   "metadata": {},
   "outputs": [],
   "source": [
    "#크롬 브라우저 생성 및 첫번째 카테고리를 선택\n",
    "browser = create_chrome(download_path=DOWNLOAD_DIR)\n",
    "wait = WebDriverWait(browser, TIMEOUT)\n",
    "browser.get(URL)"
   ]
  },
  {
   "cell_type": "code",
   "execution_count": 95,
   "metadata": {},
   "outputs": [],
   "source": [
    "idEle = browser.find_element_by_xpath('//*[@id=\"account-signup\"]/fieldset/input[@name=\"user_id\"]')\n",
    "idEle.clear()\n",
    "idEle.send_keys(ID)\n",
    "\n",
    "pwEle = browser.find_element_by_xpath('//*[@id=\"account-signup\"]/fieldset/input[@name=\"password\"]')\n",
    "pwEle.clear()\n",
    "pwEle.send_keys(PW)\n",
    "\n",
    "loginEle = browser.find_element_by_xpath('//*[@id=\"account-signup\"]/fieldset/input[@type=\"submit\"]')\n",
    "loginEle.click()"
   ]
  },
  {
   "cell_type": "code",
   "execution_count": 96,
   "metadata": {},
   "outputs": [],
   "source": [
    "targetEle = browser.find_element_by_xpath('//*[@id=\"gnb\"]/ul/li/a[text()=\"(신)지원\"]')\n",
    "targetEle.click()"
   ]
  },
  {
   "cell_type": "code",
   "execution_count": 101,
   "metadata": {},
   "outputs": [
    {
     "output_type": "stream",
     "name": "stdout",
     "text": [
      "823 요청  [컨벤션마케팅팀] 배정판 기능 추가 요청 최보아\n"
     ]
    },
    {
     "output_type": "error",
     "ename": "NoSuchElementException",
     "evalue": "Message: no such element: Unable to locate element: {\"method\":\"xpath\",\"selector\":\"//*[@id=\"content\"]//span[@class=\"time\"]\"}\n  (Session info: chrome=87.0.4280.141)\n",
     "traceback": [
      "\u001b[1;31m---------------------------------------------------------------------------\u001b[0m",
      "\u001b[1;31mNoSuchElementException\u001b[0m                    Traceback (most recent call last)",
      "\u001b[1;32m<ipython-input-101-b593650f8cfc>\u001b[0m in \u001b[0;36m<module>\u001b[1;34m\u001b[0m\n\u001b[0;32m     15\u001b[0m     \u001b[0mprint\u001b[0m\u001b[1;33m(\u001b[0m\u001b[0mnum\u001b[0m\u001b[1;33m,\u001b[0m \u001b[0mstatus\u001b[0m\u001b[1;33m,\u001b[0m \u001b[0msubject\u001b[0m\u001b[1;33m,\u001b[0m \u001b[0mwriter\u001b[0m\u001b[1;33m)\u001b[0m\u001b[1;33m\u001b[0m\u001b[1;33m\u001b[0m\u001b[0m\n\u001b[0;32m     16\u001b[0m \u001b[1;33m\u001b[0m\u001b[0m\n\u001b[1;32m---> 17\u001b[1;33m     \u001b[0mreg_date\u001b[0m \u001b[1;33m=\u001b[0m \u001b[0mbrowser\u001b[0m\u001b[1;33m.\u001b[0m\u001b[0mfind_element_by_xpath\u001b[0m\u001b[1;33m(\u001b[0m\u001b[1;34m'//*[@id=\"content\"]//span[@class=\"time\"]'\u001b[0m\u001b[1;33m)\u001b[0m\u001b[1;33m.\u001b[0m\u001b[0mtext\u001b[0m\u001b[1;33m\u001b[0m\u001b[1;33m\u001b[0m\u001b[0m\n\u001b[0m\u001b[0;32m     18\u001b[0m \u001b[1;33m\u001b[0m\u001b[0m\n\u001b[0;32m     19\u001b[0m     \u001b[0mfeedback_date\u001b[0m \u001b[1;33m=\u001b[0m \u001b[1;34m''\u001b[0m\u001b[1;33m\u001b[0m\u001b[1;33m\u001b[0m\u001b[0m\n",
      "\u001b[1;32m~\\anaconda3\\envs\\weekend\\lib\\site-packages\\selenium\\webdriver\\remote\\webdriver.py\u001b[0m in \u001b[0;36mfind_element_by_xpath\u001b[1;34m(self, xpath)\u001b[0m\n\u001b[0;32m    392\u001b[0m             \u001b[0melement\u001b[0m \u001b[1;33m=\u001b[0m \u001b[0mdriver\u001b[0m\u001b[1;33m.\u001b[0m\u001b[0mfind_element_by_xpath\u001b[0m\u001b[1;33m(\u001b[0m\u001b[1;34m'//div/td[1]'\u001b[0m\u001b[1;33m)\u001b[0m\u001b[1;33m\u001b[0m\u001b[1;33m\u001b[0m\u001b[0m\n\u001b[0;32m    393\u001b[0m         \"\"\"\n\u001b[1;32m--> 394\u001b[1;33m         \u001b[1;32mreturn\u001b[0m \u001b[0mself\u001b[0m\u001b[1;33m.\u001b[0m\u001b[0mfind_element\u001b[0m\u001b[1;33m(\u001b[0m\u001b[0mby\u001b[0m\u001b[1;33m=\u001b[0m\u001b[0mBy\u001b[0m\u001b[1;33m.\u001b[0m\u001b[0mXPATH\u001b[0m\u001b[1;33m,\u001b[0m \u001b[0mvalue\u001b[0m\u001b[1;33m=\u001b[0m\u001b[0mxpath\u001b[0m\u001b[1;33m)\u001b[0m\u001b[1;33m\u001b[0m\u001b[1;33m\u001b[0m\u001b[0m\n\u001b[0m\u001b[0;32m    395\u001b[0m \u001b[1;33m\u001b[0m\u001b[0m\n\u001b[0;32m    396\u001b[0m     \u001b[1;32mdef\u001b[0m \u001b[0mfind_elements_by_xpath\u001b[0m\u001b[1;33m(\u001b[0m\u001b[0mself\u001b[0m\u001b[1;33m,\u001b[0m \u001b[0mxpath\u001b[0m\u001b[1;33m)\u001b[0m\u001b[1;33m:\u001b[0m\u001b[1;33m\u001b[0m\u001b[1;33m\u001b[0m\u001b[0m\n",
      "\u001b[1;32m~\\anaconda3\\envs\\weekend\\lib\\site-packages\\selenium\\webdriver\\remote\\webdriver.py\u001b[0m in \u001b[0;36mfind_element\u001b[1;34m(self, by, value)\u001b[0m\n\u001b[0;32m    974\u001b[0m                 \u001b[0mby\u001b[0m \u001b[1;33m=\u001b[0m \u001b[0mBy\u001b[0m\u001b[1;33m.\u001b[0m\u001b[0mCSS_SELECTOR\u001b[0m\u001b[1;33m\u001b[0m\u001b[1;33m\u001b[0m\u001b[0m\n\u001b[0;32m    975\u001b[0m                 \u001b[0mvalue\u001b[0m \u001b[1;33m=\u001b[0m \u001b[1;34m'[name=\"%s\"]'\u001b[0m \u001b[1;33m%\u001b[0m \u001b[0mvalue\u001b[0m\u001b[1;33m\u001b[0m\u001b[1;33m\u001b[0m\u001b[0m\n\u001b[1;32m--> 976\u001b[1;33m         return self.execute(Command.FIND_ELEMENT, {\n\u001b[0m\u001b[0;32m    977\u001b[0m             \u001b[1;34m'using'\u001b[0m\u001b[1;33m:\u001b[0m \u001b[0mby\u001b[0m\u001b[1;33m,\u001b[0m\u001b[1;33m\u001b[0m\u001b[1;33m\u001b[0m\u001b[0m\n\u001b[0;32m    978\u001b[0m             'value': value})['value']\n",
      "\u001b[1;32m~\\anaconda3\\envs\\weekend\\lib\\site-packages\\selenium\\webdriver\\remote\\webdriver.py\u001b[0m in \u001b[0;36mexecute\u001b[1;34m(self, driver_command, params)\u001b[0m\n\u001b[0;32m    319\u001b[0m         \u001b[0mresponse\u001b[0m \u001b[1;33m=\u001b[0m \u001b[0mself\u001b[0m\u001b[1;33m.\u001b[0m\u001b[0mcommand_executor\u001b[0m\u001b[1;33m.\u001b[0m\u001b[0mexecute\u001b[0m\u001b[1;33m(\u001b[0m\u001b[0mdriver_command\u001b[0m\u001b[1;33m,\u001b[0m \u001b[0mparams\u001b[0m\u001b[1;33m)\u001b[0m\u001b[1;33m\u001b[0m\u001b[1;33m\u001b[0m\u001b[0m\n\u001b[0;32m    320\u001b[0m         \u001b[1;32mif\u001b[0m \u001b[0mresponse\u001b[0m\u001b[1;33m:\u001b[0m\u001b[1;33m\u001b[0m\u001b[1;33m\u001b[0m\u001b[0m\n\u001b[1;32m--> 321\u001b[1;33m             \u001b[0mself\u001b[0m\u001b[1;33m.\u001b[0m\u001b[0merror_handler\u001b[0m\u001b[1;33m.\u001b[0m\u001b[0mcheck_response\u001b[0m\u001b[1;33m(\u001b[0m\u001b[0mresponse\u001b[0m\u001b[1;33m)\u001b[0m\u001b[1;33m\u001b[0m\u001b[1;33m\u001b[0m\u001b[0m\n\u001b[0m\u001b[0;32m    322\u001b[0m             response['value'] = self._unwrap_value(\n\u001b[0;32m    323\u001b[0m                 response.get('value', None))\n",
      "\u001b[1;32m~\\anaconda3\\envs\\weekend\\lib\\site-packages\\selenium\\webdriver\\remote\\errorhandler.py\u001b[0m in \u001b[0;36mcheck_response\u001b[1;34m(self, response)\u001b[0m\n\u001b[0;32m    240\u001b[0m                 \u001b[0malert_text\u001b[0m \u001b[1;33m=\u001b[0m \u001b[0mvalue\u001b[0m\u001b[1;33m[\u001b[0m\u001b[1;34m'alert'\u001b[0m\u001b[1;33m]\u001b[0m\u001b[1;33m.\u001b[0m\u001b[0mget\u001b[0m\u001b[1;33m(\u001b[0m\u001b[1;34m'text'\u001b[0m\u001b[1;33m)\u001b[0m\u001b[1;33m\u001b[0m\u001b[1;33m\u001b[0m\u001b[0m\n\u001b[0;32m    241\u001b[0m             \u001b[1;32mraise\u001b[0m \u001b[0mexception_class\u001b[0m\u001b[1;33m(\u001b[0m\u001b[0mmessage\u001b[0m\u001b[1;33m,\u001b[0m \u001b[0mscreen\u001b[0m\u001b[1;33m,\u001b[0m \u001b[0mstacktrace\u001b[0m\u001b[1;33m,\u001b[0m \u001b[0malert_text\u001b[0m\u001b[1;33m)\u001b[0m\u001b[1;33m\u001b[0m\u001b[1;33m\u001b[0m\u001b[0m\n\u001b[1;32m--> 242\u001b[1;33m         \u001b[1;32mraise\u001b[0m \u001b[0mexception_class\u001b[0m\u001b[1;33m(\u001b[0m\u001b[0mmessage\u001b[0m\u001b[1;33m,\u001b[0m \u001b[0mscreen\u001b[0m\u001b[1;33m,\u001b[0m \u001b[0mstacktrace\u001b[0m\u001b[1;33m)\u001b[0m\u001b[1;33m\u001b[0m\u001b[1;33m\u001b[0m\u001b[0m\n\u001b[0m\u001b[0;32m    243\u001b[0m \u001b[1;33m\u001b[0m\u001b[0m\n\u001b[0;32m    244\u001b[0m     \u001b[1;32mdef\u001b[0m \u001b[0m_value_or_default\u001b[0m\u001b[1;33m(\u001b[0m\u001b[0mself\u001b[0m\u001b[1;33m,\u001b[0m \u001b[0mobj\u001b[0m\u001b[1;33m,\u001b[0m \u001b[0mkey\u001b[0m\u001b[1;33m,\u001b[0m \u001b[0mdefault\u001b[0m\u001b[1;33m)\u001b[0m\u001b[1;33m:\u001b[0m\u001b[1;33m\u001b[0m\u001b[1;33m\u001b[0m\u001b[0m\n",
      "\u001b[1;31mNoSuchElementException\u001b[0m: Message: no such element: Unable to locate element: {\"method\":\"xpath\",\"selector\":\"//*[@id=\"content\"]//span[@class=\"time\"]\"}\n  (Session info: chrome=87.0.4280.141)\n"
     ]
    }
   ],
   "source": [
    "data = []\n",
    "\n",
    "for page in range(1, 43) :\n",
    "\n",
    "    if page != 1 :\n",
    "        browser.find_element_by_xpath(f'//div[@class=\"pagination\"]//a[text()=\"{page}]\"]').click()\n",
    "        time.sleep(0.3)\n",
    "\n",
    "    trEles = browser.find_elements_by_xpath('//*[@id=\"board_list\"]/table/tbody/tr')\n",
    "    trCnt = len(trEles)\n",
    "    for index in range(trCnt) :\n",
    "        xpath = f'//*[@id=\"board_list\"]/table/tbody/tr[{index + 1}]'\n",
    "\n",
    "        num = browser.find_element_by_xpath(xpath + \"/td[1]\").text\n",
    "        status = browser.find_element_by_xpath(xpath + \"/td[2]\").text\n",
    "        subject = browser.find_element_by_xpath(xpath + \"/td[3]/a[1]\").text\n",
    "        writer = browser.find_element_by_xpath(xpath + \"/td[4]\").text\n",
    "        \n",
    "        link = browser.find_element_by_xpath(xpath + \"/td[3]/a[1]\")\n",
    "        link.click()\n",
    "\n",
    "        print(num, status, subject, writer)\n",
    "        \n",
    "        reg_date = browser.find_element_by_xpath('//*[@id=\"content\"]//span[@class=\"time\"]').text\n",
    "        \n",
    "        feedback_date = ''\n",
    "        comment = ''\n",
    "        try :    \n",
    "            feedback_date = browser.find_element_by_xpath('//li[contains(@id, \"comment_\")][last()]/div[1]/p').text\n",
    "            comment = browser.find_element_by_xpath('//li[contains(@id, \"comment_\")][last()]/div[2]/p').text\n",
    "        except NoSuchElementException:\n",
    "            feedback_date = ''\n",
    "            comment = ''\n",
    "        data.append([num, status, subject, reg_date, feedback_date, comment])\n",
    "\n",
    "        browser.save_screenshot(f\"./images/{num}_{status}.png\")\n",
    "\n",
    "        print(num)\n",
    "\n",
    "        browser.execute_script(\"window.history.go(-1)\")\n",
    "        time.sleep(0.3)\n",
    "\n",
    "\n",
    "\n"
   ]
  },
  {
   "cell_type": "code",
   "execution_count": null,
   "metadata": {},
   "outputs": [],
   "source": []
  }
 ]
}