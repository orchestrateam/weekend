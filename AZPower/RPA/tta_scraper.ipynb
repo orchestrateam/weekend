{
 "metadata": {
  "language_info": {
   "codemirror_mode": {
    "name": "ipython",
    "version": 3
   },
   "file_extension": ".py",
   "mimetype": "text/x-python",
   "name": "python",
   "nbconvert_exporter": "python",
   "pygments_lexer": "ipython3",
   "version": "3.8.5-final"
  },
  "orig_nbformat": 2,
  "kernelspec": {
   "name": "python3",
   "display_name": "Python 3",
   "language": "python"
  }
 },
 "nbformat": 4,
 "nbformat_minor": 2,
 "cells": [
  {
   "source": [
    "## [TTA정보통신용어사전](https://terms.tta.or.kr/main.do) 용어목록 스크래퍼\n",
    " - TTA에서 제공하는 용어를 스크래핑하는 프로그램"
   ],
   "cell_type": "markdown",
   "metadata": {}
  },
  {
   "cell_type": "code",
   "execution_count": null,
   "metadata": {},
   "outputs": [],
   "source": [
    "import selenium.webdriver\n",
    "from selenium.webdriver import Chrome\n",
    "from selenium.webdriver import ChromeOptions\n",
    "from selenium.webdriver.common.keys import Keys\n",
    "from selenium.webdriver.support.ui import WebDriverWait\n",
    "from selenium.webdriver.support import expected_conditions as EC\n",
    "from selenium.webdriver.common.by import By\n",
    "from selenium.common.exceptions import TimeoutException, NoSuchElementException,StaleElementReferenceException\n",
    "\n",
    "import time\n",
    "import atexit\n",
    "import os\n",
    "import pandas as pd\n",
    "from glob import glob\n",
    "\n",
    "import re\n",
    "from urllib import parse"
   ]
  },
  {
   "cell_type": "code",
   "execution_count": null,
   "metadata": {},
   "outputs": [],
   "source": [
    "#전역 변수 선언\n",
    "TIMEOUT = 10\n",
    "ROOT_DIR = path.dirname(__file__) if \"__file__\" in locals() else os.getcwd()\n",
    "DOWNLOAD_DIR = f'{ROOT_DIR}\\\\download\\\\tta'\n",
    "print(DOWNLOAD_DIR)\n",
    "\n",
    "#사이트 주소\n",
    "URL = 'http://terms.tta.or.kr/dictionary/searchFirstList.do'"
   ]
  },
  {
   "cell_type": "code",
   "execution_count": null,
   "metadata": {},
   "outputs": [],
   "source": [
    "#chrome webdriver를 생성한다.\n",
    "# - download_path: 파일을 다운로드 받을 위치\n",
    "# - headless: True이면 브라우저 화면 없이 background로 처리\n",
    "def create_chrome(download_path, headless=False) :\n",
    "    options = ChromeOptions()\n",
    "    if headless:\n",
    "        options.add_argument('headless')\n",
    "        options.add_argument('--disable-gpu')\n",
    "    options.add_experimental_option('prefs', {\n",
    "        'download.default_directory' : download_path,\n",
    "        'download.prompt_for_download' : False\n",
    "    })\n",
    "\n",
    "    chrome = Chrome(chrome_options = options)\n",
    "\n",
    "    if headless :\n",
    "        _enable_download_on_chrome_headless(chrome, download_path)\n",
    "\n",
    "    #프로세스 종료시 크롬을 종료시키는 로직\n",
    "    atexit.register(_close_chrome(chrome))\n",
    "    \n",
    "    return chrome\n",
    "\n",
    "#headless=True 일때 다운로드 안되는(크롬 보안문제) 문제 해결\n",
    "def _enable_download_on_chrome_headless(browser, download_dir) :\n",
    "    browser.command_executor._commands[\"send_command\"] = (\"POST\", '/session/$sessionId/chromium/send_command')\n",
    "\n",
    "    params = {\n",
    "        'cmd': 'Page.setDownloadBehavior',\n",
    "        'params': {\n",
    "            'behavior': 'allow',\n",
    "            'downloadPath': download_dir\n",
    "        }\n",
    "    }\n",
    "    browser.execute(\"send_command\", params)\n",
    "\n",
    "#크롬 종료~\n",
    "def _close_chrome(chrome) :\n",
    "    def close() :\n",
    "        chrome.close()\n",
    "    return close\n",
    "\n",
    "def chrome_wait(wait, condition):\n",
    "    try:\n",
    "        element = wait.until(condition)\n",
    "        return element\n",
    "    except TimeoutException:\n",
    "        print(f\"[DEBUG] 페이지 로딩 시간 초과\")"
   ]
  },
  {
   "cell_type": "code",
   "execution_count": null,
   "metadata": {},
   "outputs": [],
   "source": [
    "# 페이지에서 용어를 찾고, 용어, 동의어, 설명을 추출하여 리턴한다.\n",
    "def find_word(e) :\n",
    "    value = e.get_attribute('value').strip()\n",
    "    browser.execute_script(f'javascript:fn_dictionaryView(\"{value}\")')\n",
    "    \n",
    "    chrome_wait(wait, EC.presence_of_element_located((By.XPATH, f'//*[@id=\"cont\"]/input[@name=\"word_seq\" and @value=\"{value}\"]')))\n",
    "\n",
    "    time.sleep(0.3)\n",
    "    word = browser.find_element_by_xpath('//div[@id=\"cont\"]/dl/dt[1]').text\n",
    "    print(f\"[{value}] - word:{word}\")\n",
    "    synonym = \"\"\n",
    "    try :\n",
    "        synonym = browser.find_element_by_xpath('//div[@id=\"cont\"]/dl/dt[2]').text\n",
    "    except NoSuchElementException :\n",
    "        print(\"No Such synonym..\")\n",
    "    \n",
    "    description = browser.find_element_by_xpath('//div[@id=\"cont\"]/dl/dd[1]/div').get_attribute('innerHTML')\n",
    "    description = re.sub('<.+?>', '', description, 0, re.I|re.S)\n",
    "\n",
    "    return word, synonym, description"
   ]
  },
  {
   "cell_type": "code",
   "execution_count": null,
   "metadata": {},
   "outputs": [],
   "source": [
    "#크롬 브라우저 생성 및 첫번째 카테고리를 선택\n",
    "browser = create_chrome(download_path=DOWNLOAD_DIR)\n",
    "wait = WebDriverWait(browser, TIMEOUT)\n",
    "browser.get(URL)\n",
    "browser.execute_script(\"javascript:fn_firstWord('ㄱ')\")"
   ]
  },
  {
   "cell_type": "code",
   "execution_count": null,
   "metadata": {},
   "outputs": [],
   "source": [
    "#카테고리를 자동으로 이동하기 위해 전체 카테고리정보를 가져온다.\n",
    "categories = browser.find_elements_by_xpath('//p[@class=\"korean\" or @class=\"english\"]/a')\n",
    "categories = [parse.unquote(category.get_attribute('href')) for category in categories]"
   ]
  },
  {
   "cell_type": "code",
   "execution_count": null,
   "metadata": {
    "tags": []
   },
   "outputs": [],
   "source": [
    "#카테고리 별 페이지 이동하여 용어를 찾아 수집한다.\n",
    "for category in categories :\n",
    "    tta_words = []\n",
    "\n",
    "    print(f\"[INFO] Category: {category}\")\n",
    "    browser.execute_script(category)\n",
    "    start_page = 0\n",
    "    chrome_wait(wait, EC.presence_of_element_located((By.XPATH, '//a[@href=\"{category}\" and @class=\"on\"]')))\n",
    "\n",
    "    value = browser.find_element_by_xpath('//li/div[starts-with(text(), \"[총\")]').text\n",
    "    total_count = int(re.findall(\"\\d+\", value)[0])\n",
    "    total_page = total_count // 10 + (total_count % 10 > 0 and 1 or 0)\n",
    "    print(f\"[INFO] 다운로드 전체 페이지: {total_page}\")\n",
    "\n",
    "    for page in range(start_page, total_page) : #page\n",
    "        print(f'[INFO]{page + 1} 처리')\n",
    "        if page != start_page :\n",
    "            browser.execute_script(f'javascript:fnNavigate({page + 1});')\n",
    "\n",
    "        chrome_wait(wait, EC.presence_of_element_located((By.NAME, 'first_seq')))\n",
    "        elements = browser.find_elements_by_name('first_seq')\n",
    "        for element in elements :\n",
    "            word, synonym, description = find_word(element)\n",
    "            tta_words.append([word, synonym, description])\n",
    "    df = pd.DataFrame(tta_words, columns=[\"word\", \"synonym\", \"description\"])\n",
    "\n",
    "    filename = category.replace(\"javascript:fn_firstWord('\", \"\").replace(\"')\", \"\")\n",
    "    df.to_csv(os.path.join(DOWNLOAD_DIR, f\"tta_dictionay({filename}).csv\"), index=False, encoding=\"utf-8\")\n",
    "\n",
    "#수집된 데이터 DataFrame으로 만든 후 CSV 파일에 저장"
   ]
  }
 ]
}