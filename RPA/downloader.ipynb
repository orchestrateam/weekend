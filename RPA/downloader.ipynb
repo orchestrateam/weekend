{
 "metadata": {
  "language_info": {
   "codemirror_mode": {
    "name": "ipython",
    "version": 3
   },
   "file_extension": ".py",
   "mimetype": "text/x-python",
   "name": "python",
   "nbconvert_exporter": "python",
   "pygments_lexer": "ipython3",
   "version": "3.8.5-final"
  },
  "orig_nbformat": 2,
  "kernelspec": {
   "name": "python3",
   "display_name": "Python 3",
   "language": "python"
  }
 },
 "nbformat": 4,
 "nbformat_minor": 2,
 "cells": [
  {
   "cell_type": "code",
   "execution_count": 1,
   "metadata": {},
   "outputs": [],
   "source": [
    "#https://chromedriver.chromium.org/downloads\n",
    "#크롬 버전확인 후 버전에 맞는 Driver를 다운로드 받아 C:\\Windows\\System32에 복사\n",
    "\n",
    "import selenium.webdriver\n",
    "from selenium.webdriver import Chrome\n",
    "from selenium.webdriver import ChromeOptions\n",
    "from selenium.webdriver.common.keys import Keys\n",
    "from selenium.webdriver.support.ui import WebDriverWait\n",
    "from selenium.webdriver.support import expected_conditions as EC\n",
    "from selenium.webdriver.common.by import By\n",
    "from selenium.common.exceptions import TimeoutException\n",
    "\n",
    "import time\n",
    "import atexit\n",
    "import os\n",
    "import pandas as pd\n",
    "from glob import glob"
   ]
  },
  {
   "cell_type": "code",
   "execution_count": 14,
   "metadata": {},
   "outputs": [
    {
     "output_type": "stream",
     "name": "stdout",
     "text": [
      "/Users/mingyeseon/development/workspaces/python/weekend/RPA\\download\n"
     ]
    }
   ],
   "source": [
    "#전역 변수 선언\n",
    "TIMEOUT = 30 #10초\n",
    "ROOT_DIR = path.dirname(__file__) if \"__file__\" in locals() else os.getcwd()\n",
    "DOWNLOAD_DIR = f'{ROOT_DIR}\\\\download'\n",
    "print(DOWNLOAD_DIR)\n",
    "\n",
    "#사이트 주소\n",
    "URL = 'http://riss.kr'\n",
    "\n",
    "#검색어\n",
    "SEARCH_WORD = \"자동차\"\n",
    "\n",
    "#로그인 정보\n",
    "USER = 'gsmin'\n",
    "PASSWD = 'Goghks-0906'"
   ]
  },
  {
   "cell_type": "code",
   "execution_count": 15,
   "metadata": {},
   "outputs": [],
   "source": [
    "#chrome webdriver를 생성한다.\n",
    "# - download_path: 파일을 다운로드 받을 위치\n",
    "# - headless: True이면 브라우저 화면 없이 background로 처리\n",
    "def create_chrome(download_path, headless=False) :\n",
    "    options = ChromeOptions()\n",
    "    if headless:\n",
    "        options.add_argument('headless')\n",
    "        options.add_argument('--disable-gpu')\n",
    "    options.add_experimental_option('prefs', {\n",
    "        'download.default_directory' : download_path,\n",
    "        'download.prompt_for_download' : False\n",
    "    })\n",
    "\n",
    "    chrome = Chrome(chrome_options = options)\n",
    "\n",
    "    if headless :\n",
    "        _enable_download_on_chrome_headless(chrome, download_path)\n",
    "\n",
    "    #프로세스 종료시 크롬을 종료시키는 로직\n",
    "    atexit.register(_close_chrome(chrome))\n",
    "    \n",
    "    return chrome\n",
    "\n",
    "#headless=True 일때 다운로드 안되는(크롬 보안문제) 문제 해결\n",
    "def _enable_download_on_chrome_headless(browser, download_dir) :\n",
    "    browser.command_executor._commands[\"send_command\"] = (\"POST\", '/session/$sessionId/chromium/send_command')\n",
    "\n",
    "    params = {\n",
    "        'cmd': 'Page.setDownloadBehavior',\n",
    "        'params': {\n",
    "            'behavior': 'allow',\n",
    "            'downloadPath': download_dir\n",
    "        }\n",
    "    }\n",
    "    browser.execute(\"send_command\", params)\n",
    "\n",
    "#크롬 종료~\n",
    "def _close_chrome(chrome) :\n",
    "    def close() :\n",
    "        chrome.close()\n",
    "    return close\n",
    "\n",
    "def chrome_wait(wait, condition):\n",
    "    try:\n",
    "        element = wait.until(condition)\n",
    "        print(\"[DEBUG] 로딩 완료\")\n",
    "        return element\n",
    "    except TimeoutException:\n",
    "        print(f\"[DEBUG] 페이지 로딩 시간 초과\")"
   ]
  },
  {
   "cell_type": "code",
   "execution_count": 6,
   "metadata": {},
   "outputs": [
    {
     "output_type": "stream",
     "name": "stdout",
     "text": [
      "[INFO] 사이트 이동\n"
     ]
    }
   ],
   "source": [
    "    \n",
    "browser = create_chrome(DOWNLOAD_DIR)\n",
    "    \n",
    "print(\"[INFO] 사이트 이동\")\n",
    "browser.get(URL)"
   ]
  },
  {
   "cell_type": "code",
   "execution_count": 7,
   "metadata": {},
   "outputs": [
    {
     "output_type": "stream",
     "name": "stdout",
     "text": [
      "[INFO] 로그인 버튼 클릭\n"
     ]
    }
   ],
   "source": [
    "#로그인 버튼 클릭\n",
    "print(\"[INFO] 로그인 버튼 클릭\")\n",
    "browser.find_element_by_xpath('//li[@id=\"LoginTopli0\"]/a').click()"
   ]
  },
  {
   "cell_type": "code",
   "execution_count": 9,
   "metadata": {},
   "outputs": [],
   "source": [
    "\n",
    "#ID 입력\n",
    "idTag = browser.find_element_by_id('id01')\n",
    "idTag.clear()\n",
    "idTag.send_keys(USER)\n",
    "\n",
    "#패스워드 입력 후 엔터\n",
    "pwTag = browser.find_element_by_id('id02')\n",
    "pwTag.clear()\n",
    "pwTag.send_keys(PASSWD)\n",
    "pwTag.send_keys(Keys.RETURN)"
   ]
  },
  {
   "cell_type": "code",
   "execution_count": 10,
   "metadata": {},
   "outputs": [
    {
     "output_type": "stream",
     "name": "stdout",
     "text": [
      "[INFO] 검색시작\n"
     ]
    }
   ],
   "source": [
    "#검색조건 입력 후 검색버튼 클릭\n",
    "print(\"[INFO] 검색시작\")\n",
    "search = browser.find_element_by_id('query')\n",
    "search.clear()\n",
    "search.send_keys(SEARCH_WORD)\n",
    "search.send_keys(Keys.RETURN)"
   ]
  },
  {
   "cell_type": "code",
   "execution_count": 11,
   "metadata": {},
   "outputs": [
    {
     "output_type": "stream",
     "name": "stdout",
     "text": [
      "[INFO] 국내학술논문 클릭\n"
     ]
    }
   ],
   "source": [
    "print(\"[INFO] 국내학술논문 클릭\")\n",
    "#국내학술논문 클릭\n",
    "browser.find_element_by_xpath('//li[@class=\"tabM1 \" or @class=\"tabM1 on\"]/a').click()"
   ]
  },
  {
   "cell_type": "code",
   "execution_count": 16,
   "metadata": {},
   "outputs": [],
   "source": [
    "def prepare_download() :\n",
    "    print(\"[INFO] 사이트 이동\")\n",
    "    browser.get(URL)\n",
    "\n",
    "    #페이지 로드될 때까지 기다림 \n",
    "    chrome_wait(wait, EC.element_to_be_clickable((By.XPATH, '//li[@id=\"LoginTopli0\"]/a')))\n",
    "\n",
    "    #로그인 버튼 클릭\n",
    "    print(\"[INFO] 로그인 버튼 클릭\")\n",
    "    browser.find_element_by_xpath('//li[@id=\"LoginTopli0\"]/a').click()\n",
    "\n",
    "    #ID 입력\n",
    "    idTag = browser.find_element_by_id('id01')\n",
    "    idTag.clear()\n",
    "    idTag.send_keys(USER)\n",
    "\n",
    "    #패스워드 입력 후 엔터\n",
    "    pwTag = browser.find_element_by_id('id02')\n",
    "    pwTag.clear()\n",
    "    pwTag.send_keys(PASSWD)\n",
    "    pwTag.send_keys(Keys.RETURN)\n",
    "\n",
    "    print(\"[INFO] 로그인 정보 입력 후 로그인 시작\")\n",
    "\n",
    "    #페이지 로드될 때까지 기다림 \n",
    "    chrome_wait(wait, EC.element_to_be_clickable((By.CSS_SELECTOR, 'button.btnSearch')))\n",
    "\n",
    "\n",
    "    #검색조건 입력 후 검색버튼 클릭\n",
    "    print(\"[INFO] 검색시작\")\n",
    "    search = browser.find_element_by_id('query')\n",
    "    search.clear()\n",
    "    search.send_keys(SEARCH_WORD)\n",
    "    search.send_keys(Keys.RETURN)\n",
    "\n",
    "    #페이지 로드될 때까지 기다림 \n",
    "    chrome_wait(wait, EC.element_to_be_clickable((By.XPATH, '//li[@class=\"tabM1 \" or @class=\"tabM1 on\"]/a')))\n",
    "\n",
    "    print(\"[INFO] 국내학술논문 클릭\")\n",
    "    #국내학술논문 클릭\n",
    "    browser.find_element_by_xpath('//li[@class=\"tabM1 \" or @class=\"tabM1 on\"]/a').click()\n",
    "\n",
    "    print(\"[INFO] 100개씩 출력으로 조회\")\n",
    "    chrome_wait(wait, EC.presence_of_element_located((By.ID, 'sortSelect2_top')))\n",
    "    #100개씩 출력 선택 및 조회버튼 클릭\n",
    "    browser.find_element_by_xpath('//label[@for=\"sortSelect2_top\"]').click()\n",
    "    browser.find_element_by_xpath('//div[@class=\"optList on\"]/ul/li/a[text()=\"100개씩 출력\"]').click()\n",
    "    browser.find_element_by_css_selector('button.listSearch').click()\n",
    "\n",
    "    print(\"[INFO] 작성언어 한국어 선택 및 실행\")\n",
    "    chrome_wait(wait, EC.presence_of_element_located((By.ID, 're_a_kor70')))\n",
    "    browser.find_element_by_xpath('//label[@for=\"re_a_kor70\"]').click()\n",
    "    time.sleep(0.5)\n",
    "    browser.find_element_by_class_name(\"btnAction\").click()"
   ]
  },
  {
   "cell_type": "code",
   "execution_count": 12,
   "metadata": {},
   "outputs": [],
   "source": [
    "#파일 다운로드 함수\n",
    "def download_abstract(pageIndex, wait) : \n",
    "\n",
    "    print(\"[INFO] --전체목록 선택\")\n",
    "    chrome_wait(wait, EC.element_to_be_clickable((By.XPATH, '//div[@class=\"resultTop1\"]/ul/li[1]/a')))\n",
    "\n",
    "    #전체항목 선택\n",
    "    browser.find_element_by_xpath('//label[@for=\"allchk3\"]/span').click()\n",
    "\n",
    "    print(\"[INFO] --내보내기 버튼 클릭\")\n",
    "    #내보내기 버튼 클릭\n",
    "    browser.find_element_by_xpath('//div[@class=\"resultTop1\"]/ul/li[1]/a').click()\n",
    "\n",
    "    #내보내기 팝업으로 포커스를 이동\n",
    "    for handler in browser.window_handles:\n",
    "        if handler != browser.current_window_handle :\n",
    "            browser.switch_to_window(handler)\n",
    "            break\n",
    "\n",
    "    #페이지 로드될 때까지 기다림 \n",
    "    print(\"[INFO] --다운로드 조건 선택\")\n",
    "    chrome_wait(wait, EC.element_to_be_clickable((By.CLASS_NAME, \"btnType1\")))\n",
    "\n",
    "    #다운로드 조건 선택\n",
    "    browser.find_element_by_xpath('//label[@for=\"radio-3\"]').click()\n",
    "    browser.find_element_by_xpath('//label[@for=\"radio-8\"]').click()\n",
    "    browser.find_element_by_xpath('//label[@for=\"radio-12\"]').click()\n",
    "\n",
    "    #다운로드 버튼 클릭\n",
    "    print(\"[INFO] --다운로드 시작\")\n",
    "    browser.execute_script(\"javascript:f_submit();\")\n",
    "\n",
    "    #다운로드가 완료되었는지 기다림\n",
    "    fileName = os.path.join(DOWNLOAD_DIR, \"myCabinetExcelData.xls\")\n",
    "    accumulateTime = 1;\n",
    "    while not os.path.exists(fileName) :\n",
    "        time.sleep(1)\n",
    "\n",
    "    #파일이 존재하는지 확인하고 파일명 변경\n",
    "    newFileName = os.path.join(DOWNLOAD_DIR, f\"excel\\\\abstract_{pageIndex + 1}.xls\")\n",
    "    if(os.path.isfile(fileName) and os.path.getsize(fileName) > 0) :\n",
    "        os.rename(fileName, newFileName)\n",
    "        print(\"[INFO] --다운로드 파일 확인 완료\")\n",
    "\n",
    "        #xls to csv 파일 변경\n",
    "        header = False\n",
    "        if pageIndex == 0 : \n",
    "            header = True\n",
    "        csvFilename = os.path.join(DOWNLOAD_DIR, f\"csv\\\\abstract_{pageIndex + 1}.csv\")\n",
    "        read_file = pd.read_excel(newFileName)\n",
    "        read_file.to_csv(csvFilename, index = None, header = header)\n",
    "        print(\"[INFO] --CSV 파일 변환 완료\")\n",
    "\n",
    "    else :\n",
    "        print(f\"[INFO] --다운로드 파일 확인 실패 [{newFileName}]\")\n",
    "    \n",
    "    #팝업 닫기\n",
    "    browser.close()\n",
    "    #원래 페이지로 포커스 이동\n",
    "    browser.switch_to_window(browser.window_handles[0]) \n",
    "    \n",
    "    time.sleep(1)\n",
    "    #전체 선택 해제\n",
    "    browser.find_element_by_xpath('//label[@for=\"allchk3\"]/span').click()"
   ]
  },
  {
   "cell_type": "code",
   "execution_count": 7,
   "metadata": {},
   "outputs": [],
   "source": [
    "browser = create_chrome(download_path=DOWNLOAD_DIR)\n",
    "wait = WebDriverWait(browser, TIMEOUT)"
   ]
  },
  {
   "cell_type": "code",
   "execution_count": 8,
   "metadata": {},
   "outputs": [
    {
     "output_type": "stream",
     "name": "stdout",
     "text": [
      "[INFO] 사이트 이동\n",
      "[DEBUG] 로딩 완료\n",
      "[INFO] 로그인 버튼 클릭\n",
      "[INFO] 로그인 정보 입력 후 로그인 시작\n",
      "[DEBUG] 로딩 완료\n",
      "[INFO] 검색시작\n",
      "[DEBUG] 로딩 완료\n",
      "[INFO] 국내학술논문 클릭\n",
      "[INFO] 100개씩 출력으로 조회\n",
      "[DEBUG] 로딩 완료\n",
      "[INFO] 작성언어 한국어 선택 및 실행\n",
      "[DEBUG] 페이지 로딩 시간 초과\n"
     ]
    },
    {
     "output_type": "error",
     "ename": "NoSuchElementException",
     "evalue": "Message: no such element: Unable to locate element: {\"method\":\"xpath\",\"selector\":\"//label[@for=\"re_a_kor70\"]\"}\n  (Session info: chrome=87.0.4280.88)\n",
     "traceback": [
      "\u001b[1;31m---------------------------------------------------------------------------\u001b[0m",
      "\u001b[1;31mNoSuchElementException\u001b[0m                    Traceback (most recent call last)",
      "\u001b[1;32m<ipython-input-8-d61fe8aba2a0>\u001b[0m in \u001b[0;36m<module>\u001b[1;34m\u001b[0m\n\u001b[1;32m----> 1\u001b[1;33m \u001b[0mprepare_download\u001b[0m\u001b[1;33m(\u001b[0m\u001b[1;33m)\u001b[0m\u001b[1;33m\u001b[0m\u001b[1;33m\u001b[0m\u001b[0m\n\u001b[0m",
      "\u001b[1;32m<ipython-input-5-c58df8d393ed>\u001b[0m in \u001b[0;36mprepare_download\u001b[1;34m()\u001b[0m\n\u001b[0;32m     50\u001b[0m     \u001b[0mprint\u001b[0m\u001b[1;33m(\u001b[0m\u001b[1;34m\"[INFO] 작성언어 한국어 선택 및 실행\"\u001b[0m\u001b[1;33m)\u001b[0m\u001b[1;33m\u001b[0m\u001b[1;33m\u001b[0m\u001b[0m\n\u001b[0;32m     51\u001b[0m     \u001b[0mchrome_wait\u001b[0m\u001b[1;33m(\u001b[0m\u001b[0mwait\u001b[0m\u001b[1;33m,\u001b[0m \u001b[0mEC\u001b[0m\u001b[1;33m.\u001b[0m\u001b[0mpresence_of_element_located\u001b[0m\u001b[1;33m(\u001b[0m\u001b[1;33m(\u001b[0m\u001b[0mBy\u001b[0m\u001b[1;33m.\u001b[0m\u001b[0mID\u001b[0m\u001b[1;33m,\u001b[0m \u001b[1;34m're_a_kor70'\u001b[0m\u001b[1;33m)\u001b[0m\u001b[1;33m)\u001b[0m\u001b[1;33m)\u001b[0m\u001b[1;33m\u001b[0m\u001b[1;33m\u001b[0m\u001b[0m\n\u001b[1;32m---> 52\u001b[1;33m     \u001b[0mbrowser\u001b[0m\u001b[1;33m.\u001b[0m\u001b[0mfind_element_by_xpath\u001b[0m\u001b[1;33m(\u001b[0m\u001b[1;34m'//label[@for=\"re_a_kor70\"]'\u001b[0m\u001b[1;33m)\u001b[0m\u001b[1;33m.\u001b[0m\u001b[0mclick\u001b[0m\u001b[1;33m(\u001b[0m\u001b[1;33m)\u001b[0m\u001b[1;33m\u001b[0m\u001b[1;33m\u001b[0m\u001b[0m\n\u001b[0m\u001b[0;32m     53\u001b[0m     \u001b[0mtime\u001b[0m\u001b[1;33m.\u001b[0m\u001b[0msleep\u001b[0m\u001b[1;33m(\u001b[0m\u001b[1;36m0.5\u001b[0m\u001b[1;33m)\u001b[0m\u001b[1;33m\u001b[0m\u001b[1;33m\u001b[0m\u001b[0m\n\u001b[0;32m     54\u001b[0m     \u001b[0mbrowser\u001b[0m\u001b[1;33m.\u001b[0m\u001b[0mfind_element_by_class_name\u001b[0m\u001b[1;33m(\u001b[0m\u001b[1;34m\"btnAction\"\u001b[0m\u001b[1;33m)\u001b[0m\u001b[1;33m.\u001b[0m\u001b[0mclick\u001b[0m\u001b[1;33m(\u001b[0m\u001b[1;33m)\u001b[0m\u001b[1;33m\u001b[0m\u001b[1;33m\u001b[0m\u001b[0m\n",
      "\u001b[1;32m~\\anaconda3\\envs\\weekend\\lib\\site-packages\\selenium\\webdriver\\remote\\webdriver.py\u001b[0m in \u001b[0;36mfind_element_by_xpath\u001b[1;34m(self, xpath)\u001b[0m\n\u001b[0;32m    392\u001b[0m             \u001b[0melement\u001b[0m \u001b[1;33m=\u001b[0m \u001b[0mdriver\u001b[0m\u001b[1;33m.\u001b[0m\u001b[0mfind_element_by_xpath\u001b[0m\u001b[1;33m(\u001b[0m\u001b[1;34m'//div/td[1]'\u001b[0m\u001b[1;33m)\u001b[0m\u001b[1;33m\u001b[0m\u001b[1;33m\u001b[0m\u001b[0m\n\u001b[0;32m    393\u001b[0m         \"\"\"\n\u001b[1;32m--> 394\u001b[1;33m         \u001b[1;32mreturn\u001b[0m \u001b[0mself\u001b[0m\u001b[1;33m.\u001b[0m\u001b[0mfind_element\u001b[0m\u001b[1;33m(\u001b[0m\u001b[0mby\u001b[0m\u001b[1;33m=\u001b[0m\u001b[0mBy\u001b[0m\u001b[1;33m.\u001b[0m\u001b[0mXPATH\u001b[0m\u001b[1;33m,\u001b[0m \u001b[0mvalue\u001b[0m\u001b[1;33m=\u001b[0m\u001b[0mxpath\u001b[0m\u001b[1;33m)\u001b[0m\u001b[1;33m\u001b[0m\u001b[1;33m\u001b[0m\u001b[0m\n\u001b[0m\u001b[0;32m    395\u001b[0m \u001b[1;33m\u001b[0m\u001b[0m\n\u001b[0;32m    396\u001b[0m     \u001b[1;32mdef\u001b[0m \u001b[0mfind_elements_by_xpath\u001b[0m\u001b[1;33m(\u001b[0m\u001b[0mself\u001b[0m\u001b[1;33m,\u001b[0m \u001b[0mxpath\u001b[0m\u001b[1;33m)\u001b[0m\u001b[1;33m:\u001b[0m\u001b[1;33m\u001b[0m\u001b[1;33m\u001b[0m\u001b[0m\n",
      "\u001b[1;32m~\\anaconda3\\envs\\weekend\\lib\\site-packages\\selenium\\webdriver\\remote\\webdriver.py\u001b[0m in \u001b[0;36mfind_element\u001b[1;34m(self, by, value)\u001b[0m\n\u001b[0;32m    974\u001b[0m                 \u001b[0mby\u001b[0m \u001b[1;33m=\u001b[0m \u001b[0mBy\u001b[0m\u001b[1;33m.\u001b[0m\u001b[0mCSS_SELECTOR\u001b[0m\u001b[1;33m\u001b[0m\u001b[1;33m\u001b[0m\u001b[0m\n\u001b[0;32m    975\u001b[0m                 \u001b[0mvalue\u001b[0m \u001b[1;33m=\u001b[0m \u001b[1;34m'[name=\"%s\"]'\u001b[0m \u001b[1;33m%\u001b[0m \u001b[0mvalue\u001b[0m\u001b[1;33m\u001b[0m\u001b[1;33m\u001b[0m\u001b[0m\n\u001b[1;32m--> 976\u001b[1;33m         return self.execute(Command.FIND_ELEMENT, {\n\u001b[0m\u001b[0;32m    977\u001b[0m             \u001b[1;34m'using'\u001b[0m\u001b[1;33m:\u001b[0m \u001b[0mby\u001b[0m\u001b[1;33m,\u001b[0m\u001b[1;33m\u001b[0m\u001b[1;33m\u001b[0m\u001b[0m\n\u001b[0;32m    978\u001b[0m             'value': value})['value']\n",
      "\u001b[1;32m~\\anaconda3\\envs\\weekend\\lib\\site-packages\\selenium\\webdriver\\remote\\webdriver.py\u001b[0m in \u001b[0;36mexecute\u001b[1;34m(self, driver_command, params)\u001b[0m\n\u001b[0;32m    319\u001b[0m         \u001b[0mresponse\u001b[0m \u001b[1;33m=\u001b[0m \u001b[0mself\u001b[0m\u001b[1;33m.\u001b[0m\u001b[0mcommand_executor\u001b[0m\u001b[1;33m.\u001b[0m\u001b[0mexecute\u001b[0m\u001b[1;33m(\u001b[0m\u001b[0mdriver_command\u001b[0m\u001b[1;33m,\u001b[0m \u001b[0mparams\u001b[0m\u001b[1;33m)\u001b[0m\u001b[1;33m\u001b[0m\u001b[1;33m\u001b[0m\u001b[0m\n\u001b[0;32m    320\u001b[0m         \u001b[1;32mif\u001b[0m \u001b[0mresponse\u001b[0m\u001b[1;33m:\u001b[0m\u001b[1;33m\u001b[0m\u001b[1;33m\u001b[0m\u001b[0m\n\u001b[1;32m--> 321\u001b[1;33m             \u001b[0mself\u001b[0m\u001b[1;33m.\u001b[0m\u001b[0merror_handler\u001b[0m\u001b[1;33m.\u001b[0m\u001b[0mcheck_response\u001b[0m\u001b[1;33m(\u001b[0m\u001b[0mresponse\u001b[0m\u001b[1;33m)\u001b[0m\u001b[1;33m\u001b[0m\u001b[1;33m\u001b[0m\u001b[0m\n\u001b[0m\u001b[0;32m    322\u001b[0m             response['value'] = self._unwrap_value(\n\u001b[0;32m    323\u001b[0m                 response.get('value', None))\n",
      "\u001b[1;32m~\\anaconda3\\envs\\weekend\\lib\\site-packages\\selenium\\webdriver\\remote\\errorhandler.py\u001b[0m in \u001b[0;36mcheck_response\u001b[1;34m(self, response)\u001b[0m\n\u001b[0;32m    240\u001b[0m                 \u001b[0malert_text\u001b[0m \u001b[1;33m=\u001b[0m \u001b[0mvalue\u001b[0m\u001b[1;33m[\u001b[0m\u001b[1;34m'alert'\u001b[0m\u001b[1;33m]\u001b[0m\u001b[1;33m.\u001b[0m\u001b[0mget\u001b[0m\u001b[1;33m(\u001b[0m\u001b[1;34m'text'\u001b[0m\u001b[1;33m)\u001b[0m\u001b[1;33m\u001b[0m\u001b[1;33m\u001b[0m\u001b[0m\n\u001b[0;32m    241\u001b[0m             \u001b[1;32mraise\u001b[0m \u001b[0mexception_class\u001b[0m\u001b[1;33m(\u001b[0m\u001b[0mmessage\u001b[0m\u001b[1;33m,\u001b[0m \u001b[0mscreen\u001b[0m\u001b[1;33m,\u001b[0m \u001b[0mstacktrace\u001b[0m\u001b[1;33m,\u001b[0m \u001b[0malert_text\u001b[0m\u001b[1;33m)\u001b[0m\u001b[1;33m\u001b[0m\u001b[1;33m\u001b[0m\u001b[0m\n\u001b[1;32m--> 242\u001b[1;33m         \u001b[1;32mraise\u001b[0m \u001b[0mexception_class\u001b[0m\u001b[1;33m(\u001b[0m\u001b[0mmessage\u001b[0m\u001b[1;33m,\u001b[0m \u001b[0mscreen\u001b[0m\u001b[1;33m,\u001b[0m \u001b[0mstacktrace\u001b[0m\u001b[1;33m)\u001b[0m\u001b[1;33m\u001b[0m\u001b[1;33m\u001b[0m\u001b[0m\n\u001b[0m\u001b[0;32m    243\u001b[0m \u001b[1;33m\u001b[0m\u001b[0m\n\u001b[0;32m    244\u001b[0m     \u001b[1;32mdef\u001b[0m \u001b[0m_value_or_default\u001b[0m\u001b[1;33m(\u001b[0m\u001b[0mself\u001b[0m\u001b[1;33m,\u001b[0m \u001b[0mobj\u001b[0m\u001b[1;33m,\u001b[0m \u001b[0mkey\u001b[0m\u001b[1;33m,\u001b[0m \u001b[0mdefault\u001b[0m\u001b[1;33m)\u001b[0m\u001b[1;33m:\u001b[0m\u001b[1;33m\u001b[0m\u001b[1;33m\u001b[0m\u001b[0m\n",
      "\u001b[1;31mNoSuchElementException\u001b[0m: Message: no such element: Unable to locate element: {\"method\":\"xpath\",\"selector\":\"//label[@for=\"re_a_kor70\"]\"}\n  (Session info: chrome=87.0.4280.88)\n"
     ]
    }
   ],
   "source": [
    "prepare_download()"
   ]
  },
  {
   "cell_type": "code",
   "execution_count": 17,
   "metadata": {
    "tags": []
   },
   "outputs": [
    {
     "output_type": "stream",
     "name": "stdout",
     "text": [
      "총 자료: 50614\n",
      "총 페이지: 507\n",
      "[INFO] 사이트 이동\n",
      "[DEBUG] 로딩 완료\n",
      "[INFO] 로그인 버튼 클릭\n",
      "[INFO] 로그인 정보 입력 후 로그인 시작\n",
      "[DEBUG] 로딩 완료\n",
      "[INFO] 검색시작\n",
      "[DEBUG] 로딩 완료\n",
      "[INFO] 국내학술논문 클릭\n",
      "[INFO] 100개씩 출력으로 조회\n",
      "[DEBUG] 로딩 완료\n",
      "[INFO] 작성언어 한국어 선택 및 실행\n",
      "[DEBUG] 로딩 완료\n",
      "[INFO] 1 page 수집합니다( goPage(0) )\n",
      "[INFO] --전체목록 선택\n",
      "[DEBUG] 로딩 완료\n",
      "[INFO] --내보내기 버튼 클릭\n",
      "[INFO] --다운로드 조건 선택\n",
      "[DEBUG] 로딩 완료\n",
      "[INFO] --다운로드 시작\n",
      "[INFO] --다운로드 파일 확인 완료\n",
      "[INFO] --CSV 파일 변환 완료\n",
      "[INFO] 2 page 수집합니다( goPage(100) )\n",
      "[INFO] --전체목록 선택\n",
      "[DEBUG] 로딩 완료\n",
      "[INFO] --내보내기 버튼 클릭\n",
      "[INFO] --다운로드 조건 선택\n",
      "[DEBUG] 로딩 완료\n",
      "[INFO] --다운로드 시작\n",
      "[INFO] --다운로드 파일 확인 완료\n",
      "[INFO] --CSV 파일 변환 완료\n",
      "[INFO] 3 page 수집합니다( goPage(200) )\n",
      "[INFO] --전체목록 선택\n",
      "[DEBUG] 로딩 완료\n",
      "[INFO] --내보내기 버튼 클릭\n",
      "[INFO] --다운로드 조건 선택\n",
      "[DEBUG] 로딩 완료\n",
      "[INFO] --다운로드 시작\n",
      "[INFO] --다운로드 파일 확인 완료\n",
      "[INFO] --CSV 파일 변환 완료\n",
      "[INFO] 4 page 수집합니다( goPage(300) )\n",
      "[INFO] --전체목록 선택\n",
      "[DEBUG] 로딩 완료\n",
      "[INFO] --내보내기 버튼 클릭\n",
      "[INFO] --다운로드 조건 선택\n",
      "[DEBUG] 로딩 완료\n",
      "[INFO] --다운로드 시작\n",
      "[INFO] --다운로드 파일 확인 완료\n",
      "[INFO] --CSV 파일 변환 완료\n",
      "[INFO] 5 page 수집합니다( goPage(400) )\n",
      "[INFO] --전체목록 선택\n",
      "[DEBUG] 로딩 완료\n",
      "[INFO] --내보내기 버튼 클릭\n",
      "[INFO] --다운로드 조건 선택\n",
      "[DEBUG] 로딩 완료\n",
      "[INFO] --다운로드 시작\n",
      "[INFO] --다운로드 파일 확인 완료\n",
      "[INFO] --CSV 파일 변환 완료\n",
      "[INFO] 6 page 수집합니다( goPage(500) )\n",
      "[INFO] --전체목록 선택\n",
      "[DEBUG] 로딩 완료\n",
      "[INFO] --내보내기 버튼 클릭\n",
      "[INFO] --다운로드 조건 선택\n",
      "[DEBUG] 로딩 완료\n",
      "[INFO] --다운로드 시작\n",
      "[INFO] --다운로드 파일 확인 완료\n",
      "[INFO] --CSV 파일 변환 완료\n",
      "[INFO] 7 page 수집합니다( goPage(600) )\n",
      "[INFO] --전체목록 선택\n",
      "[DEBUG] 로딩 완료\n",
      "[INFO] --내보내기 버튼 클릭\n",
      "[INFO] --다운로드 조건 선택\n"
     ]
    },
    {
     "output_type": "error",
     "ename": "KeyboardInterrupt",
     "evalue": "",
     "traceback": [
      "\u001b[0;31m---------------------------------------------------------------------------\u001b[0m",
      "\u001b[0;31mKeyboardInterrupt\u001b[0m                         Traceback (most recent call last)",
      "\u001b[0;32m<ipython-input-17-096e66be0489>\u001b[0m in \u001b[0;36m<module>\u001b[0;34m\u001b[0m\n\u001b[1;32m     21\u001b[0m     \u001b[0;32mif\u001b[0m \u001b[0mstartCnt\u001b[0m \u001b[0;34m!=\u001b[0m \u001b[0;36m0\u001b[0m \u001b[0;34m:\u001b[0m\u001b[0;34m\u001b[0m\u001b[0;34m\u001b[0m\u001b[0m\n\u001b[1;32m     22\u001b[0m         \u001b[0mbrowser\u001b[0m\u001b[0;34m.\u001b[0m\u001b[0mexecute_script\u001b[0m\u001b[0;34m(\u001b[0m\u001b[0;34mf'goPage({startCnt})'\u001b[0m\u001b[0;34m)\u001b[0m\u001b[0;34m\u001b[0m\u001b[0;34m\u001b[0m\u001b[0m\n\u001b[0;32m---> 23\u001b[0;31m     \u001b[0mdownload_abstract\u001b[0m\u001b[0;34m(\u001b[0m\u001b[0mpageIndex\u001b[0m\u001b[0;34m,\u001b[0m \u001b[0mwait\u001b[0m\u001b[0;34m)\u001b[0m\u001b[0;34m\u001b[0m\u001b[0;34m\u001b[0m\u001b[0m\n\u001b[0m\u001b[1;32m     24\u001b[0m \u001b[0;34m\u001b[0m\u001b[0m\n\u001b[1;32m     25\u001b[0m \u001b[0;31m#브라우저 종료\u001b[0m\u001b[0;34m\u001b[0m\u001b[0;34m\u001b[0m\u001b[0;34m\u001b[0m\u001b[0m\n",
      "\u001b[0;32m<ipython-input-12-55fb403a06ea>\u001b[0m in \u001b[0;36mdownload_abstract\u001b[0;34m(pageIndex, wait)\u001b[0m\n\u001b[1;32m     20\u001b[0m     \u001b[0;31m#페이지 로드될 때까지 기다림\u001b[0m\u001b[0;34m\u001b[0m\u001b[0;34m\u001b[0m\u001b[0;34m\u001b[0m\u001b[0m\n\u001b[1;32m     21\u001b[0m     \u001b[0mprint\u001b[0m\u001b[0;34m(\u001b[0m\u001b[0;34m\"[INFO] --다운로드 조건 선택\"\u001b[0m\u001b[0;34m)\u001b[0m\u001b[0;34m\u001b[0m\u001b[0;34m\u001b[0m\u001b[0m\n\u001b[0;32m---> 22\u001b[0;31m     \u001b[0mchrome_wait\u001b[0m\u001b[0;34m(\u001b[0m\u001b[0mwait\u001b[0m\u001b[0;34m,\u001b[0m \u001b[0mEC\u001b[0m\u001b[0;34m.\u001b[0m\u001b[0melement_to_be_clickable\u001b[0m\u001b[0;34m(\u001b[0m\u001b[0;34m(\u001b[0m\u001b[0mBy\u001b[0m\u001b[0;34m.\u001b[0m\u001b[0mCLASS_NAME\u001b[0m\u001b[0;34m,\u001b[0m \u001b[0;34m\"btnType1\"\u001b[0m\u001b[0;34m)\u001b[0m\u001b[0;34m)\u001b[0m\u001b[0;34m)\u001b[0m\u001b[0;34m\u001b[0m\u001b[0;34m\u001b[0m\u001b[0m\n\u001b[0m\u001b[1;32m     23\u001b[0m \u001b[0;34m\u001b[0m\u001b[0m\n\u001b[1;32m     24\u001b[0m     \u001b[0;31m#다운로드 조건 선택\u001b[0m\u001b[0;34m\u001b[0m\u001b[0;34m\u001b[0m\u001b[0;34m\u001b[0m\u001b[0m\n",
      "\u001b[0;32m<ipython-input-15-f0eb5bd133e3>\u001b[0m in \u001b[0;36mchrome_wait\u001b[0;34m(wait, condition)\u001b[0m\n\u001b[1;32m     43\u001b[0m \u001b[0;32mdef\u001b[0m \u001b[0mchrome_wait\u001b[0m\u001b[0;34m(\u001b[0m\u001b[0mwait\u001b[0m\u001b[0;34m,\u001b[0m \u001b[0mcondition\u001b[0m\u001b[0;34m)\u001b[0m\u001b[0;34m:\u001b[0m\u001b[0;34m\u001b[0m\u001b[0;34m\u001b[0m\u001b[0m\n\u001b[1;32m     44\u001b[0m     \u001b[0;32mtry\u001b[0m\u001b[0;34m:\u001b[0m\u001b[0;34m\u001b[0m\u001b[0;34m\u001b[0m\u001b[0m\n\u001b[0;32m---> 45\u001b[0;31m         \u001b[0melement\u001b[0m \u001b[0;34m=\u001b[0m \u001b[0mwait\u001b[0m\u001b[0;34m.\u001b[0m\u001b[0muntil\u001b[0m\u001b[0;34m(\u001b[0m\u001b[0mcondition\u001b[0m\u001b[0;34m)\u001b[0m\u001b[0;34m\u001b[0m\u001b[0;34m\u001b[0m\u001b[0m\n\u001b[0m\u001b[1;32m     46\u001b[0m         \u001b[0mprint\u001b[0m\u001b[0;34m(\u001b[0m\u001b[0;34m\"[DEBUG] 로딩 완료\"\u001b[0m\u001b[0;34m)\u001b[0m\u001b[0;34m\u001b[0m\u001b[0;34m\u001b[0m\u001b[0m\n\u001b[1;32m     47\u001b[0m         \u001b[0;32mreturn\u001b[0m \u001b[0melement\u001b[0m\u001b[0;34m\u001b[0m\u001b[0;34m\u001b[0m\u001b[0m\n",
      "\u001b[0;32m~/opt/anaconda3/envs/weekend/lib/python3.8/site-packages/selenium/webdriver/support/wait.py\u001b[0m in \u001b[0;36muntil\u001b[0;34m(self, method, message)\u001b[0m\n\u001b[1;32m     75\u001b[0m                 \u001b[0mscreen\u001b[0m \u001b[0;34m=\u001b[0m \u001b[0mgetattr\u001b[0m\u001b[0;34m(\u001b[0m\u001b[0mexc\u001b[0m\u001b[0;34m,\u001b[0m \u001b[0;34m'screen'\u001b[0m\u001b[0;34m,\u001b[0m \u001b[0;32mNone\u001b[0m\u001b[0;34m)\u001b[0m\u001b[0;34m\u001b[0m\u001b[0;34m\u001b[0m\u001b[0m\n\u001b[1;32m     76\u001b[0m                 \u001b[0mstacktrace\u001b[0m \u001b[0;34m=\u001b[0m \u001b[0mgetattr\u001b[0m\u001b[0;34m(\u001b[0m\u001b[0mexc\u001b[0m\u001b[0;34m,\u001b[0m \u001b[0;34m'stacktrace'\u001b[0m\u001b[0;34m,\u001b[0m \u001b[0;32mNone\u001b[0m\u001b[0;34m)\u001b[0m\u001b[0;34m\u001b[0m\u001b[0;34m\u001b[0m\u001b[0m\n\u001b[0;32m---> 77\u001b[0;31m             \u001b[0mtime\u001b[0m\u001b[0;34m.\u001b[0m\u001b[0msleep\u001b[0m\u001b[0;34m(\u001b[0m\u001b[0mself\u001b[0m\u001b[0;34m.\u001b[0m\u001b[0m_poll\u001b[0m\u001b[0;34m)\u001b[0m\u001b[0;34m\u001b[0m\u001b[0;34m\u001b[0m\u001b[0m\n\u001b[0m\u001b[1;32m     78\u001b[0m             \u001b[0;32mif\u001b[0m \u001b[0mtime\u001b[0m\u001b[0;34m.\u001b[0m\u001b[0mtime\u001b[0m\u001b[0;34m(\u001b[0m\u001b[0;34m)\u001b[0m \u001b[0;34m>\u001b[0m \u001b[0mend_time\u001b[0m\u001b[0;34m:\u001b[0m\u001b[0;34m\u001b[0m\u001b[0;34m\u001b[0m\u001b[0m\n\u001b[1;32m     79\u001b[0m                 \u001b[0;32mbreak\u001b[0m\u001b[0;34m\u001b[0m\u001b[0;34m\u001b[0m\u001b[0m\n",
      "\u001b[0;31mKeyboardInterrupt\u001b[0m: "
     ]
    }
   ],
   "source": [
    "## 페이지별로 다운로드 반복 구간\n",
    "#한페이지: 100개\n",
    "#전체자료수: 50,614개\n",
    "\n",
    "cntPerPage = 100\n",
    "totalCnt = 50614 #한국어 논문 개수\n",
    "pageCnt = totalCnt // cntPerPage + 1\n",
    "\n",
    "print(f\"총 자료: {totalCnt}\")\n",
    "print(f\"총 페이지: {pageCnt}\")\n",
    "\n",
    "#브라우저 생성 및 사이트 이동\n",
    "browser = create_chrome(download_path=DOWNLOAD_DIR)\n",
    "wait = WebDriverWait(browser, TIMEOUT)\n",
    "\n",
    "prepare_download()\n",
    "#page는 0부터 시작함\n",
    "for pageIndex in range(pageCnt):\n",
    "    startCnt = pageIndex * 100\n",
    "    print(f'[INFO] {pageIndex + 1} page 수집합니다( goPage({startCnt}) )')\n",
    "    if startCnt != 0 :\n",
    "        browser.execute_script(f'goPage({startCnt})')\n",
    "    download_abstract(pageIndex, wait)\n",
    "\n",
    "#브라우저 종료\n",
    "browser.close()"
   ]
  },
  {
   "cell_type": "code",
   "execution_count": 5,
   "metadata": {},
   "outputs": [],
   "source": [
    "#csv 파일을 Merge \n",
    "list_of_files = [file for file in glob(f'{DOWNLOAD_DIR}\\\\csv\\\\*.csv', recursive=False)]\n",
    "result = pd.concat([pd.read_csv(file) for file in list_of_files])\n",
    "\n",
    "oneCsvFileName = os.path.join(DOWNLOAD_DIR, \"abstracts.csv\")\n",
    "result.to_csv(oneCsvFileName, index=True)\n",
    "\n",
    "#총 50,614 개"
   ]
  },
  {
   "cell_type": "code",
   "execution_count": 11,
   "metadata": {},
   "outputs": [
    {
     "output_type": "execute_result",
     "data": {
      "text/plain": [
       "507"
      ]
     },
     "metadata": {},
     "execution_count": 11
    }
   ],
   "source": [
    "list_of_files = [file for file in glob(f'{DOWNLOAD_DIR}\\\\csv\\\\*.csv', recursive=False)]\n",
    "len(list_of_files)"
   ]
  },
  {
   "cell_type": "code",
   "execution_count": null,
   "metadata": {},
   "outputs": [],
   "source": []
  },
  {
   "cell_type": "code",
   "execution_count": null,
   "metadata": {},
   "outputs": [],
   "source": []
  }
 ]
}