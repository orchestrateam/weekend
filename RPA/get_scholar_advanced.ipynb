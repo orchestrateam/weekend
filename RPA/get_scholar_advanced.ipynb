{
 "metadata": {
  "language_info": {
   "codemirror_mode": {
    "name": "ipython",
    "version": 3
   },
   "file_extension": ".py",
   "mimetype": "text/x-python",
   "name": "python",
   "nbconvert_exporter": "python",
   "pygments_lexer": "ipython3",
   "version": "3.8.5-final"
  },
  "orig_nbformat": 2,
  "kernelspec": {
   "name": "python3",
   "display_name": "Python 3",
   "language": "python"
  }
 },
 "nbformat": 4,
 "nbformat_minor": 2,
 "cells": [
  {
   "cell_type": "code",
   "execution_count": 1,
   "metadata": {},
   "outputs": [],
   "source": [
    "# 필수 라이브러리 선언\n",
    "import selenium.webdriver\n",
    "from selenium.webdriver import Chrome\n",
    "from selenium.webdriver import ChromeOptions\n",
    "from selenium.webdriver.common.keys import Keys\n",
    "from selenium.webdriver.support.ui import WebDriverWait\n",
    "from selenium.webdriver.support import expected_conditions as EC\n",
    "from selenium.common.exceptions import TimeoutException, NoSuchElementException,StaleElementReferenceException\n",
    "\n",
    "import time\n",
    "import atexit\n",
    "import os\n",
    "import re\n"
   ]
  },
  {
   "cell_type": "code",
   "execution_count": 17,
   "metadata": {},
   "outputs": [],
   "source": [
    "options = ChromeOptions()\n",
    "browser = Chrome()\n",
    "browser.get(\"https://scholar.google.co.kr/schhp?hl=ko\")"
   ]
  },
  {
   "cell_type": "code",
   "execution_count": 18,
   "metadata": {},
   "outputs": [],
   "source": [
    "query = browser.find_element_by_name(\"q\")\n",
    "query.clear()\n",
    "query.send_keys(\"코로나19 관광\")\n",
    "query.send_keys(Keys.RETURN)"
   ]
  },
  {
   "cell_type": "code",
   "execution_count": 24,
   "metadata": {
    "tags": [
     "outputPrepend"
    ]
   },
   "outputs": [
    {
     "output_type": "stream",
     "name": "stdout",
     "text": [
      "ination are more likely to be return migrants, taking advantage of kinship ties and location-specific amenities. We suspect that the expected difference in returns may result from a trade-off between the lower costs associated with making a return migration, the possibility of lower income levels following migration, and the help of kinship and location-specific capital in the home regions, relying upon relatives and friends for monetary or social assistance during the transition period right after migration.']\n",
      "[5-1] ['의료 관광의 미래 전략 시나리오에 관한 연구', '본 연구에서는 의료 관광의 미래전략에 관한 시나리오 작성을 통해 의료 관광의 산업구조 변화를 전망하고 전략적 의미를 파악하고자 한다. 의료 관광의 산업구조를 의료서비스기관과 이들을 의료 관광객과 연결시켜 주 는 의료 관광 플랫폼으로 구분하고, 분야별 전문가 인터뷰 및 계층화 분석법(AH P)을 통해서 산업의 성장요인과 성장 저해 요인을 파악하여 발생 가능한 시나리오를 작성하였고, 각 시나리오별로 예상되는 전개 양상과 대응전략에 대한 시사점을 도출하였다.', 'This study examines the future strategy of medical tourism by making up scenarios, foresees the changes of medical toursim industry, and finds strategic implications. We classify medical service organizations and medical toursim platform, and diagnosis growth factors and obstacle factors through expert interviews and AHP methodology, and develop storyline and strategic implications of 4 scenarios of medical tourism. Finally, implications and limitations for future research are discussed.']\n",
      "[5-2] ['코로나 19 특별재난 상황에서 임차인의 보호: 캐나다의 퇴거 집행 유예 (eviction order moratorium) 제도를 중심으로', '코로나 19로 인한 팬데믹 상황에서 ① 매출이 급감한 상업 임차인과 ② 외출 자제 등으로 안정된 주거환경이 필요한 주택임차인에 대한 보호가 시급하다. 이에 캐나다 정부는 2020년 4월～6월 간 재정난을 겪고 있는 소규모 사업체 임차인의 임대료 지급 부담을 덜어주는 한시적인 정책인 『캐나다 상가임대차 임대료 비상지원 정책(CECRA)』을 통해 상업 임차인 및 건물주를 지원하였다.  인구 밀집 지역인 온타리오주는 임대료 납부 지연으로 인한 임대인의 임차인 퇴거 요청에 대해 임대차위원회(Landlord and Tenant Board, LTB)의 퇴거 명령 집행에 대한 유예(eviction order moratorium)를 실시하였는데, 이는 경제 긴급상황에서 국가가 임차인의 차임 납부 지연에 대해, 예외적으로 용인해줌으로써 임차인의 주거 안정을 도모한 것으로 보인다. 또한, 미납분 50%에 대해 국가가 부담함으로써 임대인의 재산권 보호에도 충실하여 국민 모두의 이익을 고려하였다.  특히 퇴거 명령 집행에 대한 유예가 가능했던 것은, 온타리오주의 ‘임차인보호법(Tenant Protection Act)’ 때문인데, 이 법에서는 임대료 미납 등의 특수한 경우를 제외하고는 임차인의 계약갱신청구권을 보장하고 있으며, 설령 임대료 미납으로 퇴거를 집행하는 경우에도 임대인이 임의로 퇴거시킬 수 없고, LTB의 퇴거 명령 및 Sheriff’s Office(집행관)의 집행으로만 퇴거가 가능하다. 퇴거 명령 집행에 대한 유예제도에 관하여, Chalichv. Alhatam 판례에서는 퇴거 사유가 코로나 사태 이전에 그와 무관하게 발생하였다 하더라도 코로나19 와중에 퇴거를 강제집행하는 것은 특별한 사정이 없는 한 임차인의 보호를 위하여 허용되지 않는다는 취지의 판결을 내려 임차인을 두텁게 보호하였다.  이를 통해 캐나다는 계약갱신청구권과 임대차위원회 제도를 통해 임차인을 효과적이고 강력하게 보호하고 있음을 알 수 있었다. 우리나라도 주택임대차법에 갱신청구권을 도입하고 임대차 분쟁 조정위원회의 기능을 활성화한다면, 코로나바이러스 사태와 같은 긴급재난 상황에서 주택임차인을 보호함으로써 국민의 주거생활 안정에 기여할 수 있을 것으로 생각된다. -->', 'The COVID-19 pandemic has caused unprecedented disruption to the global economy, resulting in many commercial and residential tenants being unable to pay rent. While existing regulations under normal conditions indicate that failure to pay rent leads to eviction, during a pandemic, eviction acts as a serious risk to public health. To prevent such eviction, the Canadian government has declared a  ‘moratorium on evictions’ to provide stability to people\"s housing.  Canada\"s newly enacted policies have great implications that may be applicable to the rental system of Korea. First of all, in Ontario, a residential tenancy is automatically renewed unless the tenant or the landlord submits a notice of termination, or both tenant and landlord agree to terminate the tenancy upon signing. Second, even if the landlord assigned a valid reason for eviction, immediate eviction of the tenant cannot be enforced. Instead, permits of the “LTB” or similar dispute settlement agencies are required for immediate eviction. The current system of lease protection has aided many tenants during the state of emergency due to COVID-19. In addition, the Canadian government also strengthened the protection of landlords who are facing financial burden as a result of the COVID-19 pandemic, where homeowners may be eligible for a mortgage payment deferral of up to 6 months. Canada\"s latest policies in response to the COVID-19 pandemic demonstrate a secure and effective strategy to provide stable housing. Future studies on ways to implement these Canadian policies according to the situation in Korea are warranted.']\n",
      "[5-3] ['지자체 공연문화시설의 관광자원활용 방안연구', '통해 제공되고 있습니다 개인 고객인 경우 “구매하기” 버튼을 클릭해 주세요“인터넷교보문고”에서 본 논문을 구매하실 수 있습니다.', 'The purpose of this research is to study Sori Arts Center for Jeollabuk-do, which is located in Jeonju, Jeollabuk-do and is the largest cultural art performing center. in local government. We found th...']\n",
      "[5-4] ['국제결혼 이주여성의 부부갈등 결정요인 연구', '&nbsp;&nbsp;본 연구는 한국남성과 결혼한 이주여성의 부부갈등을 살펴보고 이러한 부부갈등에 영향을 주는 요인들을 4가지 이론적 관점에서 탐색함으로써 부부갈등을 잘 설명해 주는 영향력있는 모델과 그 결정요인들을 규명해 내는 연구이다. 이를 위해 전남과 광주인근에 거주하는 한국남성과 결혼한 이주여성 174명을 대상으로 부부갈등과 그 결정요인 등을 조사하였다. 조사방법은 서베이 조사로 구조화된 설문지를 사용하였으며 이주여성을 위한 교육프로그램이 진행되고 있는 사회복지관과 상담기관 등 12개 기관에서 개별 인터뷰하는 방식으로 자료를 수집하였다. 이러한 요인들과 부부갈등간의 관계를 분석한 결과를 요약하면 다음과 갈다.&nbsp;&nbsp;첫째, 부부갈등에서는 전체 부부갈등 평균이 5점 척도에서 2.950으로 나타났다. 부부갈등의 공동생활영역이 가장 높게 나타났으며 그 다음으로 제삼자영역, 개인영역으로 나타났으며 부부관계영역이 가장 낮은 영역으로 나타났다. 부부관계영역을 제외하고 모든 영역에서 부부갈등이 높게 나타난 결과로 보아 부부갈등을 일으키는 내용이 단순히 부부간의 상호작용만이 아니라 부부관계와 관련된 가족생활요인들에 대한 영역임을 알 수 있었다. 특히 경제적 문제(3.189)가 가장 높은 부부갈등을 보였다. 둘째, 자원모델 변수들에서는 정신적 건강이 좋지 않을수록, 민간단체의 지지가 낮을수록, 친구의 지지가 낮을수록, 자존감이 낮을수록 부부갈등이 높게 나타났는데 정신적 건강이 가장 영향력있는 변수로 나타났다. 경제적 자원을 제외한 다양한 차원의 요인들이 부부갈등과 밀접한 관련성을 맺고 있음을 볼 때 이주여성의 내외적 폭넓은 자원확보가 부부갈등감소에 기여함을 알 수 있다. 셋째, 성역할모델 변수들에서는 남편의 성역할 태도가 전통적일수록, 불공평성을 인지할수록 부부갈등은 높게 나타났다. 특히 남편의 전통적인 성역할 태도가 부부갈등에 가장 많은 영향을 주었다. 넷째, 관계성모델 변수들에서는 부부의 권력이 평등하지 않을수록, 남편의 지지가 적을수록 부부갈등은 높게 나타났다. 권력이 평등하지 않을수록 부부갈등에 가장 큰 영향을 주고 있어 부부생활을 연속적인 의사결정과정으로 볼 때 불평등한 권력은 부부갈등을 발생시킬 수 있는 작동기제임이 확인되었다. 또한 남편의 지지는 이주여성에게 위안을 주고 어려움을 이겨내는 힘의 원천으로서 부부갈등을 감소시키는 요인임을 발견할 수 있었다. 다섯째, 문화모델 변수들에서는 문화적응스트레스가 높을수록, 한국어에 능숙하지 않을수록, 문화정체감에서 분리에 대한 태도를 갖는 경우 부부갈등은 높게 나타났다. 이 중 문화적응스트레스가 부부갈등에 가장 큰 영향을 주는 것으로 확인되었다. 마지막으로 이주여성의 부부갈등에 문화모델이 가장 영향력있는 것으로 나타났다. 이러한 결과는 다양한 모델 변수들에 관심이 맞추어져야 하지만 이주여성의 부부갈등을 해결하는데는 문화적 요인들에 우선적으로 집중해야 함을 보여준다고 하겠다.', '&nbsp;&nbsp;The purpose of this study is to analyze marital conflicts and to identify the factors and model that may affect to immigrant women\"s marital conflicts on the basis of four theoretical perspectives. To explain immigrant women\"s marital conflicts, they were used resource model, sex-role model, relationship model, and culture model. The subjects were the 174 immigrant women living in Gwanju and Chonnam by purposive sampling method. In these areas depth personal interviews were conducted. The data were analyzed with frequency, t-test, F-test, and Pearson\"s r. In order to examine the influencing factors on immigrant women\"s marital conflict, multiple regression and hiarchical regression analysis were employed.&nbsp;&nbsp;Major findings were as follows:&nbsp;&nbsp;First, the level of marital conflicts was 2.950(range 1-5). Immigrant women felt difficulties that financial problem was the highest in marital conflict and the next, husband\"s relatives and his extended family, leisure activities, difference of husband\"s routine habits, and raising children and their education. Second, immigrant women\"s marital conflicts were influenced by mental health, nongoverment\"s support, self-respect and friend\"s support in resource model and were explained about 24.5%. Third, immigrant women\"s marital conflicts were influenced by husband\"s sex-role attitude, and unfairness in sex-role model and were explained about 16.9%. Fourth, immigrant women\"s marital conflicts were influenced by power and husband\"s support in relationship model and were explained about 20.6%. Fifth, immigrant women\"s marital conflicts were influenced by acculturative stress, language proficiency and acculturative of separation in culture model and were explained about 26.1%. Sixth, Among four models culture model was the most important thing on marital conflicts and the next, resource model, relationship model and then sex-role model. The above results suggested that it needs to develop culture difference overcome program and to act that. In conclusion, to reduce immigrant women\"s marital conflicts, various practical approaches are needed including culture perspective.']\n",
      "[5-5] ['STEAM 융합인재교육에 대한 예비교사와 현직교사의 인식 분석', '본 연구에서는 경기도 소재 대학교에서 과학교육을 전공하고 있는 예비교사와 서울특별시, 경기도 소재의 초등학교에서 과학을 가르치고 있는 현직교사를 대상으로 STEAM 융합인재교육에 대한 인식을 분석하였다. 연구 결과는 다음과 같다. 첫째, STEAM 융합인재교육에 대한 예비교사의 인식을 조사한 결과, 예비교사들은 사범대학의 과학교육 관련 수업에서 얻은 정보로 인해 STEAM 융합인재교육에 대한 인지 정도가 높게 나타났다. 또한 STEAM 융합인재교육이 필요하다고 생각하고 있었으며, STEAM 교육을 실제 수업에 적용할 의향도 보이고 있었다(68.2%). 둘째, STEAM 융합인재교육에 대한 현직교사의 인식을 조사한 결과, STEAM 융합인재교육이 교육 현장에서 알려진 정도가 낮다는 것을 확인할 수 있었다. 그러나 현직교사들도 전반적으로 STEAM 융합인재교육의 필요성을 느끼고 있었으며, 수업에 적용할 의향도 긍정적으로 나타났다(79.5%). 셋째, STEAM 융합인재교육에 대한 예비교사와 현직교사의 인식 차이를 조사한 결과 기대할 수 있는 교육효과 중 정의적 측면의 흥미를 제외하고는 모두 유의미한 차이를 나타내었다. 또한 과학교육 목적에 부합하는 정도에서도 STS 소양 및 창의성 함양을 제외하고는 모두 유의미한 차이를 나타내었다.', 'This study analyzed science teachers’ ― the prospective teachers majoring in science education at universities located in Gyeonggi Province, and the in-service teachers teaching science at elementary schools located in Seoul City and Gyeonggi Province ―awareness of STEAM convergent education. The result of the analysis is as follows: First, as a result of researching the prospective teachers’ awareness of STEAM convergence education, they showed high awareness due to the information acquired from their university classes related to science education; also, they acknowledged the necessity of STEAM convergence education, showing the intention of applying it to their actual teaching (68.2%). Second, as a consequence of researching the in-service teachers’ awareness of the STEAM education, they showed low awareness, indicating it is not well-known among educational practitioners; however, they also acknowledged its necessity overall, showing the positive intention to apply it to their teaching (79.5%). Third, as regards the difference of both groups’ expectation of educational effects from the STEAM education, all items but the interest in a definitional aspect showed significant differences; besides, regarding its degree of correspondence to the purpose of science education, all items but the promotion of STS knowledge and creativity showed significant differences as well.']\n",
      "[5-6] ['외국인 유학생의 문화적응 스트레스와 생활 스트레스에 미치는 영향', '&nbsp;&nbsp;본 연구는 외국인 유학생들의 한국에서의 문화적 적응과 생활 스트레스에 영향을 미치는 요인을 분석함으로써 유학생들의 삶의 실태를 객관적으로 파악하여 그들을 위한 복지적 관점의 방안을 제시하는데 그 목적이 있다. 이를 위해 대전 지역에 있는 3개 대학의 외국인 유학생들과 동아리 활동에 참여하고 있는 외국인 유학생 275명을 대상으로 일반적인 특성과 문화적응 스트레스 및 생활 스트레스에 관한 척도를 사용하여 설문조사를 실시하였다.&nbsp;&nbsp;연구 결과, 외국인 유학생들의 문화적응 스트레스에서는 향수병으로 인해 가장 많은 스트레스를 받고 있으며, 다음은 지각된 차별감이 영향을 미치는 요인으로 나타났다. 문화적응 스트레스에 영향을 미치는 일반적 요인으로는 성별, 결혼여부, 한국어 수준, 한국체류 기간 등의 4개 변인으로 나타났으며, 이중에서 한국어 수준이 가장 유의미한 영향을 미치는 변인으로 관찰되었다.&nbsp;&nbsp;외국인 유학생들의 생활 스트레스에서는 학업 문제와 장래 문제로 인한 스트레스를 가장 많이 받고 있으며, 다음으로는 친구 문제와 가치관 문제로 인한 생활 스트레스를 많이 받고 있는 것으로 나타났다. 생활 스트레스에 영향을 미치는 일반적 요인으로는 거주환경, 경제적 수준, 한국어 수준 등의 3개 변인으로 나타났으며, 이중에서 한국어 수준이 가장 유의미한 영향을 미치는 변인으로 관찰되었다. 그리고 한국 문화에 적응 수준이 높은 유학생은 생활 스트레스를 적게 경험하고 있는 것으로 나타났다.&nbsp;&nbsp;본 연구의 결과를 볼 때, 한국 유학생활을 성공적으로 수행하기 위해서는 한국어 수준이 가장 유의미한 영향을 미치는 변인으로 나타났다. 따라서 한국 유학생활을 성공적으로 수행하기 위해서는 각 대학 마다 한국어 수준을 빠른 시일 내에 향상시킬 수 있도록 효율적인 한국어 교육 프로그램의 제도적 마련이 우선적으로 필요하다. 이와 더불어 복지적인 측면에서 외국인 유학생 기숙사나 공동주택 등과 같은 거주 환경의 지원, 일자리 알선이나 장학금 등의 재정적 지원을 위한 제도적 마련과 더불어 정서적 어려움을 겪고 있는 외국인 유학생에게 상담프로그램을 제공하는 등의 사회복지실천 영역에서의 지속적인 지원이 필요하다. 그리고 유학생 개인적 차원으로는 한국문화나 한국어 교육 프로그램, 취미 활동, 봉사활동이나 종교 동아리 등의 다양한 집단 활동에 참여함으로서 교제의 폭을 넓히고 한국 사회에 빠른 시일 내에 적응할 수 있도록 하는 적극적인 태도와 노력이 필요하다.', '&nbsp;&nbsp;The purpose of this thesis is to understand the acculturative stress and life stress among foreign students in Korea, and to provide them with some alternatives in the respect of social welfare. For this, this has been surveyed 275 foreign students through the questionnaire. To analyze the factors - the socio-demographic characteristics, acculturative stress and life stress, the collected data has been taken statistics using percentage, average, frequency, t-test, ANOVA, and hierarchical multiple regression analysis by SPSS 11.5 Version.&nbsp;&nbsp;The statistically meaningful results are summarized as follows : First, acculturative stress level was very high in homesickness and sense of discrimination. The four impotent influence factors in relation to the acculturative stress were sex, marriage status, korean language level, the length of one´s stay. And the most impotent factor was korean language level.&nbsp;&nbsp;Second, it showed that the life stresses - the studies at school, their prospect put them under a lot of stress most seriously. And the nest most serious factors were association with friends and sense of values. The three impotent influence factors in relation to the life stress were residence environment, economic level, korean language level. And also the most impotent factor was korean language level. The correlations between acculturative stress and life stress was positive.']\n",
      "[5-7] ['코로나 19 에 따른 관광시장 전망', '소속기관이 없으시거나 구독하지 않는 기관 소속이실 경우 논문을 구매하셔야 합니다.구독기관 소속이시더라도 계약범위에 따라 유료 논문일 수 있습니다.', \"최경은, 김형종.&nbsp;(2020).&nbsp;코로나19에 따른 관광시장 전망.&nbsp;&lt;ITLC style='font-style:italic'&gt;한국관광정책&lt;/ITLC&gt;,&nbsp;(80),&nbsp;30-38.\"]\n",
      "[5-8] ['질적 연구의 다양한 타당성에 대한 비교 분석 연구', '&nbsp;&nbsp;타당도에 관한 논의는 실증주의적 패러다임에 근거한 양(계량)적 연구에 뿌리를 두고 있다. 양적 연구와는 다른 자연주의적 패러다임에 근거한 질적 연구에서는 양적 연구에서 제시하는 타당도 개념과는 다른 나름대로의 타당도를 개념을 설정하기 위한 노력이 지속적으로 있어왔다. 1990년대 이후부터 우리나라에서도 질적 연구에 대한 관심이 교육학계에서 꾸준히 고조되고 있으나, 우리의 학문적 맥락에서는 질적 연구의 타당도에 관한 논의가 활성화 되어 오지 않아, 오늘날 양산되는 질적 연구물의 질적 수준에 대한 문제가 제기되고 있다. 이러한 문제의식에서 본 연구는 1)양적 연구와 질적 연구의 특성 비교, 2) 타당도 정의 재고, 3) 질적 연구 타당도 확보 선정틀로서의 연주자 렌즈와 연구자 패러다임, 4) 질적 연구 타당성의 유형과 타당도 확보 기법의 조화 등을 논의하였다. 즉, 본 논문은 질적 연구수행에서 혼란을 초래하였으며, 간과되었던 영역을 종합적으로 논의하여, 질적 연구 타당성에 대한 통찰을 제공하고 있다.', '&nbsp;&nbsp;Because the various definitions of validity is rooted in positivist quantitative approach, qualitative research should redefine them for their use in naturalistic approach. Although the total number of research using qualitative approach has rising since the 1990s in Korea, the quality of their comes call into question. One of the major reason responsible for this problem is the lack of discussions on the quality criteria of qualitative research. In this sense, this study explores and analyzes the nature of validity in both quantitative and qualitative research in order to provide a insight into insuring rigor in qualitative research. I begin this study by comparing some of the major differences in quantitative and qualitative research. Next, I review and analyze a range of various definitions for validity given by leading authors. Than, I discuss the lens of researcher and researcher\"s paradigm assumption as a determinant of choosing validity procedures. Finally, I offer 3 type of validity in qualitative research and its application with verification procedures. This study concludes with recommendations for enhancing the quality of qualitative research.']\n",
      "[5-9] ['제 7 차 한· 중 국제관광 온라인세미나: 코로나 19, 관광정책의 전환을 모색하다', '제7차 한·중 국제관광 온라인세미나: 코로나19, 관광정책의 전환을 모색하다', \"손신욱.&nbsp;(2020).&nbsp;제7차 한·중 국제관광 온라인세미나: 코로나19, 관광정책의 전환을 모색하다.&nbsp;&lt;ITLC style='font-style:italic'&gt;한국관광정책&lt;/ITLC&gt;,&nbsp;(80),&nbsp;116-121.\"]\n",
      "[6-0] ['코로나 19 에 대응한 관광산업 재정지원', '코로나19에 대응한 관광산업 재정지원', \"송경호.&nbsp;(2020).&nbsp;코로나19에 대응한 관광산업 재정지원.&nbsp;&lt;ITLC style='font-style:italic'&gt;한국관광정책&lt;/ITLC&gt;,&nbsp;(80),&nbsp;40-51.\"]\n",
      "[6-1] ['포스트 코로나 19 관광산업 회복을 위한 정책 방향', '포스트 코로나19 관광산업 회복을 위한 정책 방향', \"구진경.&nbsp;(2020).&nbsp;포스트 코로나19 관광산업 회복을 위한 정책 방향.&nbsp;&lt;ITLC style='font-style:italic'&gt;한국관광정책&lt;/ITLC&gt;,&nbsp;(80),&nbsp;60-64.\"]\n",
      "[6-2] ['관광형 산촌정주권의 연계개발 방향; 청향, 구례지역을 중심으로', '강병수(Kang ByungSu), 오덕성(Oh DeogSeong). (1997). 관광형 산촌정주권의 연계개발 방향 ; 청향 , 구례지역을 중심으로. 한국지역개발학회지, 9(3): 125-140', 'As the unintentional result of national and regional development policies for mountain villages up to date, the mountain village residents living conditions have been improved too much slowly. In order to find the undevelopment problems and development alternatives of mountain villages with potentials for tourist resort, this study focused on the improvements of social infrastructure for the vitalization of the mountain village development. This study examined the factors affecting undevelopment in the tourist resort type of mountain village, which is the sort of periphery region as compared with the closest county center, in terms of linking mechanisms for utilizing social infrastructure of the county center. The study was conducted by 10 interviewers with the subjects of 282 households in Cheong-Yang area and 301 households in Gu-Rae area. From both of the cases the study suggested the major improvement alternatives in terms of strengthening both physical and psychological connections between the county center and the residents` settlement in mountain village. In doing so, this study developed the linking mechanisms corresponding to each linking subjects which are education service, administration service, medical service, cultural service, and other services.']\n",
      "[6-3] ['코로나 19 대응 관광산업 민· 관 협력', '코로나19 대응 관광산업 민 · 관 협력', \"김병삼.&nbsp;(2020).&nbsp;코로나19 대응 관광산업 민 · 관 협력.&nbsp;&lt;ITLC style='font-style:italic'&gt;한국관광정책&lt;/ITLC&gt;,&nbsp;(80),&nbsp;66-72.\"]\n",
      "[6-4] ['코로나 19 관련 중국의 관광정책 동향', \"다이빈, 양진쏭, 쏭쯔첸, 허충펑, 짜오이징.&nbsp;(2020).&nbsp;코로나19 관련 중국의 관광정책 동향.&nbsp;&lt;ITLC style='font-style:italic'&gt;한국관광정책&lt;/ITLC&gt;,&nbsp;(80),&nbsp;128-133.\", \"다이빈, 양진쏭, 쏭쯔첸, 허충펑, 짜오이징.&nbsp;(2020).&nbsp;코로나19 관련 중국의 관광정책 동향.&nbsp;&lt;ITLC style='font-style:italic'&gt;한국관광정책&lt;/ITLC&gt;,&nbsp;(80),&nbsp;128-133.\"]\n",
      "[6-5] ['해양자원의 웰니스 산업적 이용가능성과 해외치유관광 개발 전략', '채동렬(Chae Dong Ryul).(2017). 해양자원의 웰니스 산업적 이용가능성과 해외치유관광 개발 전략. 해양관광연구, 10(2): 65-81', 'This study examined the possibility of using marine resources in Korea as a wellness industry and suggested strategies for development of marine healing tourism suitable for coastal villages and marine conditions in Korea.']\n",
      "[6-6] ['코로나 19 관련 대만의 관광정책 동향', '코로나19 관련 대만의 관광정책 동향', \"전동현.&nbsp;(2020).&nbsp;코로나19 관련 대만의 관광정책 동향.&nbsp;&lt;ITLC style='font-style:italic'&gt;한국관광정책&lt;/ITLC&gt;,&nbsp;(80),&nbsp;134-138.\"]\n",
      "[6-7] ['관광산업동향 144 관광분야의 코로나 쇼크: BSI, CSI 를 중심으로', '소속기관이 없으시거나 구독하지 않는 기관 소속이실 경우 논문을 구매하셔야 합니다.구독기관 소속이시더라도 계약범위에 따라 유료 논문일 수 있습니다.', \"편집부.&nbsp;(2020).&nbsp;한국관광정책 제80호 목차.&nbsp;&lt;ITLC style='font-style:italic'&gt;한국관광정책&lt;/ITLC&gt;,&nbsp;(80),&nbsp;3-3.\"]\n",
      "[6-8] ['코로나 19 원격 교육에서 외로움과 유튜브 과다사용이 대학생활적응에 미치는 영향에 대한 탐색적 연구', '본 연구의 목적은 코로나19 원격 교육 환경에서 대학생들의 외로움과 유튜브 과다사용이 대학생활적응과 어떠한 관계가 있는가를 파악하는 것이다. 이를 위하여 본 연구는 외로움과 유튜브 과다사용이 사회 적응 및 학업 적응에 미치는 영향을 파악하는 연구모형을 개발하였다. 본 논문은 온라인 설문조사를 실시하여 95개의 설문조사 데이터를 최종 분석에 적용하였다. 설문 데이터는 구조 방정식 모형을 사용하여 분석하였다. 분석 결과는 다음과 같다. 첫째, 외로움이 많을수록 대학 사회 적응과 학업 적응이 낮은 것으로 나타났다. 둘째, 유튜브 과다사용이 많을수록 대학 사회 적응이 낮은 것으로 나타났다. 결론적으로 외로움과 유튜브 과다사용은 대학생활적응을 예측하는 유의한 변인인 것으로 나타났다. 본 연구의 결과는 대학생들이 외로움 관리와 유튜브를 사용을 적절하게 할 수 있도록 돕는 환경 조성과 제도적 지원의 필요성을 시사하고 있다. -->', 'The purpose of this study is to investigate the relations of loneliness and YouTube addiction on college life adjustment of college students in the distance education during COVID-19 environment. In order to accomplish this purpose, this study built a research model that viewed how loneliness and YouTube addiction work together to explain college life adjustment such as social adjustment, academic adjustment. This study was conducted an online survey and applied 95 survey data to the final analysis. Structural equation model was used to analyze the data. The results of this study are summarized as followings. First, loneliness has negative effects on both social adjustment and academic adjustment. Second, YouTube addiction has a negative effect on social adjustment. In conclusion, loneliness and YouTube addiction are the significant predictor for the college life adjustment. Implications for practice are discussed.']\n",
      "[6-9] ['코로나 19 관광기업 투자유치 전략과 방향', '코로나19 관광기업 투자유치 전략과 방향', \"차민석.&nbsp;(2020).&nbsp;코로나19 관광기업 투자유치 전략과 방향.&nbsp;&lt;ITLC style='font-style:italic'&gt;한국관광정책&lt;/ITLC&gt;,&nbsp;(80),&nbsp;94-98.\"]\n"
     ]
    },
    {
     "output_type": "error",
     "ename": "NoSuchElementException",
     "evalue": "Message: no such element: Unable to locate element: {\"method\":\"xpath\",\"selector\":\"//a[@class=\"gs_nma\" and text()=\"9\"]\"}\n  (Session info: chrome=87.0.4280.88)\n",
     "traceback": [
      "\u001b[0;31m---------------------------------------------------------------------------\u001b[0m",
      "\u001b[0;31mNoSuchElementException\u001b[0m                    Traceback (most recent call last)",
      "\u001b[0;32m<ipython-input-24-ee0977fabeae>\u001b[0m in \u001b[0;36m<module>\u001b[0;34m\u001b[0m\n\u001b[1;32m     20\u001b[0m     \u001b[0;31m# 첫페이지는 이미 선택되었기 때문에 지나감\u001b[0m\u001b[0;34m\u001b[0m\u001b[0;34m\u001b[0m\u001b[0;34m\u001b[0m\u001b[0m\n\u001b[1;32m     21\u001b[0m     \u001b[0;32mif\u001b[0m \u001b[0mi\u001b[0m \u001b[0;34m>\u001b[0m \u001b[0mstart_index\u001b[0m \u001b[0;34m:\u001b[0m\u001b[0;34m\u001b[0m\u001b[0;34m\u001b[0m\u001b[0m\n\u001b[0;32m---> 22\u001b[0;31m         \u001b[0mnext_page\u001b[0m \u001b[0;34m=\u001b[0m \u001b[0mbrowser\u001b[0m\u001b[0;34m.\u001b[0m\u001b[0mfind_element_by_xpath\u001b[0m\u001b[0;34m(\u001b[0m\u001b[0;34mf'//a[@class=\"gs_nma\" and text()=\"{i + 1}\"]'\u001b[0m\u001b[0;34m)\u001b[0m\u001b[0;34m\u001b[0m\u001b[0;34m\u001b[0m\u001b[0m\n\u001b[0m\u001b[1;32m     23\u001b[0m         \u001b[0mbrowser\u001b[0m\u001b[0;34m.\u001b[0m\u001b[0mexecute_script\u001b[0m\u001b[0;34m(\u001b[0m\u001b[0;34m\"arguments[0].click()\"\u001b[0m\u001b[0;34m,\u001b[0m \u001b[0mnext_page\u001b[0m\u001b[0;34m)\u001b[0m\u001b[0;34m\u001b[0m\u001b[0;34m\u001b[0m\u001b[0m\n\u001b[1;32m     24\u001b[0m         \u001b[0mtime\u001b[0m\u001b[0;34m.\u001b[0m\u001b[0msleep\u001b[0m\u001b[0;34m(\u001b[0m\u001b[0;36m2\u001b[0m\u001b[0;34m)\u001b[0m\u001b[0;34m\u001b[0m\u001b[0;34m\u001b[0m\u001b[0m\n",
      "\u001b[0;32m~/opt/anaconda3/envs/weekend/lib/python3.8/site-packages/selenium/webdriver/remote/webdriver.py\u001b[0m in \u001b[0;36mfind_element_by_xpath\u001b[0;34m(self, xpath)\u001b[0m\n\u001b[1;32m    392\u001b[0m             \u001b[0melement\u001b[0m \u001b[0;34m=\u001b[0m \u001b[0mdriver\u001b[0m\u001b[0;34m.\u001b[0m\u001b[0mfind_element_by_xpath\u001b[0m\u001b[0;34m(\u001b[0m\u001b[0;34m'//div/td[1]'\u001b[0m\u001b[0;34m)\u001b[0m\u001b[0;34m\u001b[0m\u001b[0;34m\u001b[0m\u001b[0m\n\u001b[1;32m    393\u001b[0m         \"\"\"\n\u001b[0;32m--> 394\u001b[0;31m         \u001b[0;32mreturn\u001b[0m \u001b[0mself\u001b[0m\u001b[0;34m.\u001b[0m\u001b[0mfind_element\u001b[0m\u001b[0;34m(\u001b[0m\u001b[0mby\u001b[0m\u001b[0;34m=\u001b[0m\u001b[0mBy\u001b[0m\u001b[0;34m.\u001b[0m\u001b[0mXPATH\u001b[0m\u001b[0;34m,\u001b[0m \u001b[0mvalue\u001b[0m\u001b[0;34m=\u001b[0m\u001b[0mxpath\u001b[0m\u001b[0;34m)\u001b[0m\u001b[0;34m\u001b[0m\u001b[0;34m\u001b[0m\u001b[0m\n\u001b[0m\u001b[1;32m    395\u001b[0m \u001b[0;34m\u001b[0m\u001b[0m\n\u001b[1;32m    396\u001b[0m     \u001b[0;32mdef\u001b[0m \u001b[0mfind_elements_by_xpath\u001b[0m\u001b[0;34m(\u001b[0m\u001b[0mself\u001b[0m\u001b[0;34m,\u001b[0m \u001b[0mxpath\u001b[0m\u001b[0;34m)\u001b[0m\u001b[0;34m:\u001b[0m\u001b[0;34m\u001b[0m\u001b[0;34m\u001b[0m\u001b[0m\n",
      "\u001b[0;32m~/opt/anaconda3/envs/weekend/lib/python3.8/site-packages/selenium/webdriver/remote/webdriver.py\u001b[0m in \u001b[0;36mfind_element\u001b[0;34m(self, by, value)\u001b[0m\n\u001b[1;32m    974\u001b[0m                 \u001b[0mby\u001b[0m \u001b[0;34m=\u001b[0m \u001b[0mBy\u001b[0m\u001b[0;34m.\u001b[0m\u001b[0mCSS_SELECTOR\u001b[0m\u001b[0;34m\u001b[0m\u001b[0;34m\u001b[0m\u001b[0m\n\u001b[1;32m    975\u001b[0m                 \u001b[0mvalue\u001b[0m \u001b[0;34m=\u001b[0m \u001b[0;34m'[name=\"%s\"]'\u001b[0m \u001b[0;34m%\u001b[0m \u001b[0mvalue\u001b[0m\u001b[0;34m\u001b[0m\u001b[0;34m\u001b[0m\u001b[0m\n\u001b[0;32m--> 976\u001b[0;31m         return self.execute(Command.FIND_ELEMENT, {\n\u001b[0m\u001b[1;32m    977\u001b[0m             \u001b[0;34m'using'\u001b[0m\u001b[0;34m:\u001b[0m \u001b[0mby\u001b[0m\u001b[0;34m,\u001b[0m\u001b[0;34m\u001b[0m\u001b[0;34m\u001b[0m\u001b[0m\n\u001b[1;32m    978\u001b[0m             'value': value})['value']\n",
      "\u001b[0;32m~/opt/anaconda3/envs/weekend/lib/python3.8/site-packages/selenium/webdriver/remote/webdriver.py\u001b[0m in \u001b[0;36mexecute\u001b[0;34m(self, driver_command, params)\u001b[0m\n\u001b[1;32m    319\u001b[0m         \u001b[0mresponse\u001b[0m \u001b[0;34m=\u001b[0m \u001b[0mself\u001b[0m\u001b[0;34m.\u001b[0m\u001b[0mcommand_executor\u001b[0m\u001b[0;34m.\u001b[0m\u001b[0mexecute\u001b[0m\u001b[0;34m(\u001b[0m\u001b[0mdriver_command\u001b[0m\u001b[0;34m,\u001b[0m \u001b[0mparams\u001b[0m\u001b[0;34m)\u001b[0m\u001b[0;34m\u001b[0m\u001b[0;34m\u001b[0m\u001b[0m\n\u001b[1;32m    320\u001b[0m         \u001b[0;32mif\u001b[0m \u001b[0mresponse\u001b[0m\u001b[0;34m:\u001b[0m\u001b[0;34m\u001b[0m\u001b[0;34m\u001b[0m\u001b[0m\n\u001b[0;32m--> 321\u001b[0;31m             \u001b[0mself\u001b[0m\u001b[0;34m.\u001b[0m\u001b[0merror_handler\u001b[0m\u001b[0;34m.\u001b[0m\u001b[0mcheck_response\u001b[0m\u001b[0;34m(\u001b[0m\u001b[0mresponse\u001b[0m\u001b[0;34m)\u001b[0m\u001b[0;34m\u001b[0m\u001b[0;34m\u001b[0m\u001b[0m\n\u001b[0m\u001b[1;32m    322\u001b[0m             response['value'] = self._unwrap_value(\n\u001b[1;32m    323\u001b[0m                 response.get('value', None))\n",
      "\u001b[0;32m~/opt/anaconda3/envs/weekend/lib/python3.8/site-packages/selenium/webdriver/remote/errorhandler.py\u001b[0m in \u001b[0;36mcheck_response\u001b[0;34m(self, response)\u001b[0m\n\u001b[1;32m    240\u001b[0m                 \u001b[0malert_text\u001b[0m \u001b[0;34m=\u001b[0m \u001b[0mvalue\u001b[0m\u001b[0;34m[\u001b[0m\u001b[0;34m'alert'\u001b[0m\u001b[0;34m]\u001b[0m\u001b[0;34m.\u001b[0m\u001b[0mget\u001b[0m\u001b[0;34m(\u001b[0m\u001b[0;34m'text'\u001b[0m\u001b[0;34m)\u001b[0m\u001b[0;34m\u001b[0m\u001b[0;34m\u001b[0m\u001b[0m\n\u001b[1;32m    241\u001b[0m             \u001b[0;32mraise\u001b[0m \u001b[0mexception_class\u001b[0m\u001b[0;34m(\u001b[0m\u001b[0mmessage\u001b[0m\u001b[0;34m,\u001b[0m \u001b[0mscreen\u001b[0m\u001b[0;34m,\u001b[0m \u001b[0mstacktrace\u001b[0m\u001b[0;34m,\u001b[0m \u001b[0malert_text\u001b[0m\u001b[0;34m)\u001b[0m\u001b[0;34m\u001b[0m\u001b[0;34m\u001b[0m\u001b[0m\n\u001b[0;32m--> 242\u001b[0;31m         \u001b[0;32mraise\u001b[0m \u001b[0mexception_class\u001b[0m\u001b[0;34m(\u001b[0m\u001b[0mmessage\u001b[0m\u001b[0;34m,\u001b[0m \u001b[0mscreen\u001b[0m\u001b[0;34m,\u001b[0m \u001b[0mstacktrace\u001b[0m\u001b[0;34m)\u001b[0m\u001b[0;34m\u001b[0m\u001b[0;34m\u001b[0m\u001b[0m\n\u001b[0m\u001b[1;32m    243\u001b[0m \u001b[0;34m\u001b[0m\u001b[0m\n\u001b[1;32m    244\u001b[0m     \u001b[0;32mdef\u001b[0m \u001b[0m_value_or_default\u001b[0m\u001b[0;34m(\u001b[0m\u001b[0mself\u001b[0m\u001b[0;34m,\u001b[0m \u001b[0mobj\u001b[0m\u001b[0;34m,\u001b[0m \u001b[0mkey\u001b[0m\u001b[0;34m,\u001b[0m \u001b[0mdefault\u001b[0m\u001b[0;34m)\u001b[0m\u001b[0;34m:\u001b[0m\u001b[0;34m\u001b[0m\u001b[0;34m\u001b[0m\u001b[0m\n",
      "\u001b[0;31mNoSuchElementException\u001b[0m: Message: no such element: Unable to locate element: {\"method\":\"xpath\",\"selector\":\"//a[@class=\"gs_nma\" and text()=\"9\"]\"}\n  (Session info: chrome=87.0.4280.88)\n"
     ]
    }
   ],
   "source": [
    "\n",
    "#총개수\n",
    "import re\n",
    "\n",
    "#https://regex101.com/r/ZB2N2o/1/\n",
    "expression_kor = \"<.*>.*[\\t\\r\\n\\v\\f]*[ㄱ-ㅎㅏ-ㅣ가-힣]+.*[\\t\\r\\n\\v\\f]*<\\/.*>\" #한글이 포함된 태그 찾는 정규식 , 문제는 태그 안에 태그가 있으면 안에 있는 태그를 선택한다는 것~\n",
    "expression_eng = \"<.*>.*[\\t\\r\\n\\v\\f]*[a-zA-Z]+.*[\\t\\r\\n\\v\\f]*<\\/.*>\" \n",
    "\n",
    "pattern_kor = re.compile(expression_kor)\n",
    "pattern_eng = re.compile(expression_eng)\n",
    "\n",
    "current_page_index = 1\n",
    "\n",
    "#구글 페이지의 끝을 알 수 없으니 while 문으로 변경 필요\n",
    "article_data = []\n",
    "article_colums = ['제목', '국문초록(예측)', '영문초록(예측)']\n",
    "\n",
    "start_index = 0\n",
    "\n",
    "for i in range(start_index, 10) :\n",
    "    # 첫페이지는 이미 선택되었기 때문에 지나감\n",
    "    if i > start_index :\n",
    "        next_page = browser.find_element_by_xpath(f'//a[@class=\"gs_nma\" and text()=\"{i + 1}\"]')\n",
    "        browser.execute_script(\"arguments[0].click()\", next_page)\n",
    "        time.sleep(2)\n",
    "\n",
    "    title_count = len(browser.find_elements_by_xpath('//h3[@class=\"gs_rt\"]/a'))\n",
    "    for index in range(title_count):\n",
    "        article = []\n",
    "\n",
    "        time.sleep(2)\n",
    "        title = browser.find_element_by_xpath(f'(//h3[@class=\"gs_rt\"])[{index + 1}]/a')\n",
    "\n",
    "        #타이틀은?\n",
    "        title_text = title.get_attribute('innerHTML')\n",
    "        title_text = re.sub('<.+?>', '', title_text, 0, re.I|re.S)\n",
    "\n",
    "        title.click()\n",
    "        time.sleep(2)\n",
    "        \n",
    "        all_html_tag = browser.find_element_by_tag_name(\"html\")\n",
    "        all_html = all_html_tag.get_attribute(\"innerHTML\")\n",
    "        \n",
    "        tags_include_korean = pattern_kor.findall(all_html)\n",
    "        tags_include_english = pattern_eng.findall(all_html)\n",
    "        \n",
    "        # #으로 시작하고 ;로 끝나는 문자도 정리 필요 한글 초록\n",
    "        kor_values = [re.sub('<.+?>', '', sentence, 0, re.I|re.S) for sentence in tags_include_korean]\n",
    "        kor_values_len = [len(re.sub('<.+?>', '', sentence, 0, re.I|re.S)) for sentence in tags_include_korean]\n",
    "\n",
    "        eng_values = [re.sub('<.+?>', '', sentence, 0, re.I|re.S) for sentence in tags_include_english]\n",
    "        eng_values_len = [len(re.sub('<.+?>', '', sentence, 0, re.I|re.S)) for sentence in tags_include_english]\n",
    "        \n",
    "        abstract_kor = \"\" if kor_values_len == 0 else kor_values[kor_values_len.index(max(kor_values_len))].strip()\n",
    "        abstract_eng = \"\" if eng_values_len == 0 else eng_values[eng_values_len.index(max(eng_values_len))].strip()\n",
    "\n",
    "        article = [title_text, abstract_kor, abstract_eng]\n",
    "\n",
    "        print(f'[{i}-{index}] {article}')\n",
    "\n",
    "        article_data.append(article)\n",
    "        browser.back()\n",
    "\n",
    "    current_page_index = current_page_index + 1\n",
    "\n",
    "df = pd.DataFrame(article_data, columns=article_colums)\n",
    "df.to_csv(\"./article.csv\")"
   ]
  },
  {
   "cell_type": "code",
   "execution_count": 31,
   "metadata": {},
   "outputs": [],
   "source": [
    "import pandas as pd\n",
    "df = pd.DataFrame(article_data, columns=article_colums)\n",
    "df.to_csv(\"./article.csv\", index=False, encoding=\"utf-8-sig\")"
   ]
  },
  {
   "cell_type": "code",
   "execution_count": null,
   "metadata": {},
   "outputs": [],
   "source": []
  }
 ]
}