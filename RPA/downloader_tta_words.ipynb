{
 "metadata": {
  "language_info": {
   "codemirror_mode": {
    "name": "ipython",
    "version": 3
   },
   "file_extension": ".py",
   "mimetype": "text/x-python",
   "name": "python",
   "nbconvert_exporter": "python",
   "pygments_lexer": "ipython3",
   "version": "3.8.5-final"
  },
  "orig_nbformat": 2,
  "kernelspec": {
   "name": "python3",
   "display_name": "Python 3.8.5 64-bit ('weekend': conda)",
   "metadata": {
    "interpreter": {
     "hash": "55f1fe4c5e83a3f3475816309dc1a059ff8e6c371a8d982c85baf1bfb5a4e9a0"
    }
   }
  }
 },
 "nbformat": 4,
 "nbformat_minor": 2,
 "cells": [
  {
   "cell_type": "code",
   "execution_count": 66,
   "metadata": {},
   "outputs": [],
   "source": [
    "#https://chromedriver.chromium.org/downloads\n",
    "#크롬 버전확인 후 버전에 맞는 Driver를 다운로드 받아 C:\\Windows\\System32에 복사\n",
    "\n",
    "import selenium.webdriver\n",
    "from selenium.webdriver import Chrome\n",
    "from selenium.webdriver import ChromeOptions\n",
    "from selenium.webdriver.common.keys import Keys\n",
    "from selenium.webdriver.support.ui import WebDriverWait\n",
    "from selenium.webdriver.support import expected_conditions as EC\n",
    "from selenium.webdriver.common.by import By\n",
    "from selenium.common.exceptions import TimeoutException, NoSuchElementException,StaleElementReferenceException\n",
    "\n",
    "import time\n",
    "import atexit\n",
    "import os\n",
    "import pandas as pd\n",
    "from glob import glob"
   ]
  },
  {
   "cell_type": "code",
   "execution_count": 28,
   "metadata": {},
   "outputs": [
    {
     "output_type": "stream",
     "name": "stdout",
     "text": [
      "/Users/mingyeseon/development/workspaces/python/weekend/RPA\\download_2\n"
     ]
    }
   ],
   "source": [
    "#전역 변수 선언\n",
    "TIMEOUT = 30 #10초\n",
    "ROOT_DIR = path.dirname(__file__) if \"__file__\" in locals() else os.getcwd()\n",
    "DOWNLOAD_DIR = f'{ROOT_DIR}\\\\download_2'\n",
    "print(DOWNLOAD_DIR)\n",
    "\n",
    "#사이트 주소\n",
    "URL = 'http://terms.tta.or.kr/dictionary/searchFirstList.do'"
   ]
  },
  {
   "cell_type": "code",
   "execution_count": 29,
   "metadata": {},
   "outputs": [],
   "source": [
    "#chrome webdriver를 생성한다.\n",
    "# - download_path: 파일을 다운로드 받을 위치\n",
    "# - headless: True이면 브라우저 화면 없이 background로 처리\n",
    "def create_chrome(download_path, headless=False) :\n",
    "    options = ChromeOptions()\n",
    "    if headless:\n",
    "        options.add_argument('headless')\n",
    "        options.add_argument('--disable-gpu')\n",
    "    options.add_experimental_option('prefs', {\n",
    "        'download.default_directory' : download_path,\n",
    "        'download.prompt_for_download' : False\n",
    "    })\n",
    "\n",
    "    chrome = Chrome(chrome_options = options)\n",
    "\n",
    "    if headless :\n",
    "        _enable_download_on_chrome_headless(chrome, download_path)\n",
    "\n",
    "    #프로세스 종료시 크롬을 종료시키는 로직\n",
    "    atexit.register(_close_chrome(chrome))\n",
    "    \n",
    "    return chrome\n",
    "\n",
    "#headless=True 일때 다운로드 안되는(크롬 보안문제) 문제 해결\n",
    "def _enable_download_on_chrome_headless(browser, download_dir) :\n",
    "    browser.command_executor._commands[\"send_command\"] = (\"POST\", '/session/$sessionId/chromium/send_command')\n",
    "\n",
    "    params = {\n",
    "        'cmd': 'Page.setDownloadBehavior',\n",
    "        'params': {\n",
    "            'behavior': 'allow',\n",
    "            'downloadPath': download_dir\n",
    "        }\n",
    "    }\n",
    "    browser.execute(\"send_command\", params)\n",
    "\n",
    "#크롬 종료~\n",
    "def _close_chrome(chrome) :\n",
    "    def close() :\n",
    "        chrome.close()\n",
    "    return close\n",
    "\n",
    "def chrome_wait(wait, condition):\n",
    "    try:\n",
    "        element = wait.until(condition)\n",
    "        print(\"[DEBUG] 로딩 완료\")\n",
    "        return element\n",
    "    except TimeoutException:\n",
    "        print(f\"[DEBUG] 페이지 로딩 시간 초과\")"
   ]
  },
  {
   "cell_type": "code",
   "execution_count": 70,
   "metadata": {},
   "outputs": [],
   "source": [
    "browser = create_chrome(download_path=DOWNLOAD_DIR)\n",
    "wait = WebDriverWait(browser, TIMEOUT)\n",
    "\n",
    "browser.get(URL)\n",
    "\n",
    "browser.execute_script(\"fn_firstWord('ㄱ')\")\n",
    "\n"
   ]
  },
  {
   "cell_type": "code",
   "execution_count": 47,
   "metadata": {},
   "outputs": [],
   "source": [
    "#카테고리 동적으로 접근하기\n",
    "from urllib import parse\n",
    "\n",
    "elements = browser.find_elements_by_xpath('//p[@class=\"korean\" or @class=\"english\"]/a')\n",
    "goto = elements[5].get_attribute('href')\n",
    "goto = parse.unquote(goto)\n",
    "browser.execute_script(goto)"
   ]
  },
  {
   "cell_type": "code",
   "execution_count": 59,
   "metadata": {},
   "outputs": [
    {
     "output_type": "stream",
     "name": "stdout",
     "text": [
      "[총 2108 건]\n2108\n"
     ]
    }
   ],
   "source": [
    "#페이지 동적으로 접근하기\n",
    "import re\n",
    "\n",
    "list_cnt_per_page = 10\n",
    "total_page = 0\n",
    "\n",
    "value = browser.find_element_by_xpath('//li/div[starts-with(text(), \"[총\")]').text\n",
    "total_page = int(re.findall(\"\\d+\", value)[0])\n",
    "print(total_page)\n"
   ]
  },
  {
   "cell_type": "code",
   "execution_count": 72,
   "metadata": {},
   "outputs": [],
   "source": [
    "def find_word(e) :\n",
    "    value = e.get_attribute('value')\n",
    "    browser.execute_script(f'javascript:fn_dictionaryView(\"{value}\")')\n",
    "    time.sleep(0.5)\n",
    "    word = browser.find_element_by_xpath('//div[@id=\"cont\"]/dl/dt[1]').text\n",
    "    synonym = \"\"\n",
    "    try :\n",
    "        synonym = browser.find_element_by_xpath('//div[@id=\"cont\"]/dl/dt[2]').text\n",
    "    except NoSuchElementException :\n",
    "        print(\"No Such Element..\")\n",
    "    \n",
    "    description = browser.find_element_by_xpath('//div[@id=\"cont\"]/dl/dd[1]/div').get_attribute('innerHTML') #내용 중 HTML 태그 삭제 필요\n",
    "    description = re.sub('<.+?>', '', description, re.I|re.S)\n",
    "    #synonym은 없을 수 있다.\n",
    "    return word, synonym, description"
   ]
  },
  {
   "cell_type": "code",
   "execution_count": 63,
   "metadata": {},
   "outputs": [
    {
     "output_type": "execute_result",
     "data": {
      "text/plain": [
       "'이미 알려진 바이러스를 부트 섹터, 메모리, 디스크의 마스터 부트, 파일 등에서 검색하는 바이러스 방역 기본 프로그램. 바이러스 검색기라고 불린다. 바이러스 정보를 보관하고 있는 자료 파일에 기록되지 않은 새로운 바이러스나 변종 바이러스는 검색되지 않으므로 정보 파일을 수시로 갱신(update)하여야 한다.'"
      ]
     },
     "metadata": {},
     "execution_count": 63
    }
   ],
   "source": [
    "description = \"\"\"이미 알려진 바이러스를 부트 섹터, 메모리, 디스크의 마스터 부트, 파일 등에서 검색하는 바이러스 방역 기본 프로그램. 바이러스 검색기라고 불린다. 바이러스 정보를 보관하고 있는 <a href=\"/dictionary/dictionaryView.do?subject=%EC%9E%90%EB%A3%8C+%ED%8C%8C%EC%9D%BC\" target=\"iframe\">자료 파일</a>에 기록되지 않은 새로운 바이러스나 변종 바이러스는 검색되지 않으므로 정보 파일을 수시로 갱신(update)하여야 한다.\"\"\"\n",
    "re.sub('<.+?>', '', description, re.I|re.S)"
   ]
  },
  {
   "cell_type": "code",
   "execution_count": 73,
   "metadata": {},
   "outputs": [
    {
     "output_type": "stream",
     "name": "stdout",
     "text": [
      "[INFO]1 접근\n",
      "No Such Element..\n",
      "가간섭성, 可干涉性, coherence, coherency //////  ////// ①전자파(電磁波)가 파장이 같은 가지런한 정현파의 집합인 상태. 통신에 이용하는 전파는 모두 가간섭성 파이지만, 일반의 빛은 그렇지 않다. 특별히 가간섭성 광을 발생시켜 이용하는 것으로는 레이저나 홀로그래피(holography)가 있다. ②시간적으로나 공간적으로 또는 시간적/공간적 양쪽으로 분리된 점에서의 전자계(電磁界) 간의 상관관계. \n",
      "가간섭성 광, 可干涉性光, coherent ray ////// 동의어 : 코히런트 광통신 ////// 복수 광파(光波)의 위상과 주파수가 같아서 공간적으로나 시간적으로 일치할 때의 광파. 통신에 이용되는 광은 가간섭성 광이어야 하나 일반 광은 그렇지 않다. 가간섭성의 발진기를 사용하여 특별히 가간섭성 광을 생성시켜 이용하는 것이 레이저나 홀로그래피(holography)이다. \n",
      "가간섭성 광통신, 可干涉性光通信, coherent optical communication ////// 동의어 : 코히런트 광통신 ////// 빛의 위상 정보를 이용하여 신호를 전송하는 통신 방식. 가간섭성(coherent)이란 단일 주파수 스펙트럼을 가지며, 위상이 동기된 균일한 정현파를 말한다. 초고속이고 대용량인 기가비트 전송에 주로 이용된다. \n",
      "가간섭성 광파 전송, 可干涉性光波傳送, coherent light wave transmission ////// 동의어 : 코히런트 광파 전송 ////// 전자파와 마찬가지로 광파의 가간섭성을 이용하여 빛의 주파수나 위상에 신호를 실어서 전송하는 방식. 이 경우에 가간섭성(코히런트)이란 주파수가 일정하여 위상이 시간적, 공간적으로 일정한 빛의 파, 즉 가간섭성 광파를 정보를 싣는 파로 이용한다는 의미이다. 빛의 강약에 따른 종래의 강도 변조 광섬유 전송 방식보다 고속, 대용량 전송이 가능하다. 광대역 종합 정보 통신망(B-ISDN)이나 가입자의 가정까지 광섬유를 포설하는 광가입자계 시스템인 파이버 투 더 홈(FTTH)의 중요한 기술의 하나이다. \n",
      "No Such Element..\n",
      "가간섭성 길이, 可干涉性-, coherence length //////  ////// 광선이 가간섭성을 가진 상태로 전파되는 길이. 즉 광원의 스펙트럼선 폭이 Δλ이고 중심 파장이 λ0일 때, 굴절률 n의 매질 중에서 가간섭성 길이는 약 λ02/nΔλ이다. \n",
      "No Such Element..\n",
      "가간섭성 단속파, 可干涉性斷續波, coherent interrupted waves //////  ////// 파의 위상이 연속되는 파열(波列) 중에서 유지되고 있는 파열에 생기는 단속 지속파. \n",
      "No Such Element..\n",
      "가간섭성도, 可干涉性度, degree of coherence //////  ////// 광원의 가간섭성 정도. 그 크기는 2개 광선의 간섭 실험에서 간섭 패턴(무늬)의 가시도(可視度) V와 같다.&nbsp;여기서 Imax는 간섭 패턴의 최대점에서의 세기(maximun intensity)이고, Imin은 최소점에서의 세기(minimum intensity)이다. 광은 가간섭성도가 0.88 이상이면 높은 가간섭성을 가지고 있고, 0.88 이하이면 부분적인 가간섭성을 가지고 있으며, 아주 작으면 가간섭성을 가지고 있지 않다고 말한다. \n",
      "No Such Element..\n",
      "가간섭성 면적, 可干涉性面積, coherence area //////  ////// 전파(傳播) 방향에 수직인 평면상에서 빛이 충분히 가간섭성이라고 할 수 있는 면적. 일반적으로 가간섭성 공간은 가간섭성도가 0.88 이상인 공간을 말한다. 이 영역으로부터의 빛은(이 영역에 놓인 2개의 바늘 구멍을 통과하면) 간섭에 의한 명암(明暗)의 패턴(무늬 모양)을 만든다. \n",
      "가간섭성 반송파 회복, 可干涉性搬送波回復, coherent carrier recovery ////// 동의어 : 코히런트 검출 ////// 수신기의 국부 반송파와 수신된 신호의 반송파 사이의 주파수와 위상 차이를 보정하는 것. 코히런트 검출이라고도 한다. 단위 대역폭, 단위 시간당 비트 수를 높이도록 설계된 모뎀은 코히런트 검출을 사용할 때가 많다. 이 경우 수신 모뎀에서는 수신 신호에 대하여 정확한 위상 관계를 가지고 있는 기준 반송파를 발생시킬 필요가 있다(수신 신호는 전송 도중에 주파수의 오프셋을 할 가능성이 있다). AM계에서는 수신 측에서 변조로 사용한 반송파 일부를 전송하고 수신기가 이것을 협대역 필터 또는 위상 고정 루프(PLL)로 검출하는 것이 가장 보편적인 방법이다. \n",
      "가간섭성 발진기, -發振器, coherent oscillator ////// 동의어 : 코히런트 발진기 ////// 중간 주파수(IF: intermediate frequency)에 고정되어 있는 안정적인 주파수 발진기. 레이더에서 이동 물체에 의한 반사파를 식별하기 위한 기준 위상을 제공하는데 사용한다. \n",
      "[INFO]2 접근\n",
      "가간섭성 방사, 可干涉性放射, coherent radiation ////// 동의어 : 코히런트 방사 ////// 방사되는 광파가 공간적, 시간적으로 일정한 위상 관계가 있는 방사. 반도체 레이저에는 가간섭성 파(coherent wave)를 생성할 수 있는 발진기가 있어서 주파수와 파장이 일정하여 위상이 연속적인 광파를 방사한다. &nbsp; \n",
      "가간섭성 방식, 可干涉性方式, coherent system ////// 동의어 : 코히런트 방식 ////// 복조 신호로 송신 신호의 위상 정보를 인출하여 사용하는 방식. 송신 신호와 일정한 위상 관계에 있는 국부 발진 신호(local oscillation signal)를 수신 신호에 가해서 복조하면 복조 신호와 송신 신호 간에 일정한 위상 관계가 있다. 이를 이용하여 송신 신호의 위상 정보를 인출한다. \n",
      "No Such Element..\n",
      "가간섭성 시간, 可干涉性時間, coherence time //////  ////// 전파되는 광선이 가간섭성을 가지고 있는 시간. 가간섭성 시간은 가간섭성 길이를 매질 중의 빛의 위상 속도(PV:phase velocity)로 나눈 값, 즉 λ02/cΔλ와 대략 일치한다. 여기에서 λ0는 중심 파장, Δλ는 스펙트럼선 폭, c는 진공 중에서의 빛의 속도이다. \n",
      "가간섭성 이동 목표물 표시, 可干涉性移動目標物標示, coherent Moving Target Indicator, coherent MTI ////// 동의어 : 코히런트 MTI ////// 레이더에서 가간섭성 발진기(coherent oscillator)를 사용하여 이동 목표물을 표시하는 장치.가간섭성 발진기(coherent oscillator)를 사용하여 일정하게 유지되고 있는 기준 국부 발진 주파수와 반사 신호의 도플러 주파수(도플러 효과에 의한 진동수로서 Hz로 표시한다)를 비교함으로써 이동 목표물을 표시한다. \n",
      "가간섭성 이동 목표물 표시, 可干涉性移動目標物標示, coherent Moving Target Indicator, coherent MTI ////// 동의어 : 코히런트 웨이브 ////// 파장이 일정하여 위상이 연속적인 파. 이와 반대로 파장이 일정하지 않고 위상도 연속적이지 않은 파를 비간섭성 파(incoherent wave)라고 한다. 가간섭성 파를 시간축상에서 관찰하면 주파수가 일정한(따라서 파장이 일정한) 연속적인 정현파가 되는 데 비해 비간섭성 파는 위상이나 진폭이 불연속적인 파가 된다. 또한 가간섭성 파를 파장축상에서 관찰하면 1개 선의 스펙트럼이 되는 데 비해 비간섭성 파는 폭이 있는 스펙트럼이 된다. 가간섭성 파를 사용하면 AM, FM, PM 등 고도의 변조 방식이 이용될 수 있으므로 통신에 이용하는 전파는 모두 가간섭성 파이다. 그러나 일반 광은 그렇지 않기 때문에 광통신 시스템의 광원으로 사용하는 레이저에서는 가간섭성 발진기(coherent oscillator)를 사용하여 가간섭성 파를 생성한다. \n",
      "No Such Element..\n",
      "가간섭성 펄스 동작, 可干涉性-動作, coherent pulse operation //////  ////// 하나의 펄스에서 다음 펄스까지 위상 관계를 일정하게 유지하는 펄스 동작 방법. \n",
      "No Such Element..\n",
      "가격 견적 요청서, 價格見積要請書, Request for Price Quotation, RPQ //////  ////// 하드웨어, 소프트웨어, 서비스 등에 관한 가격을 제시하도록 요구하는 문서. 가격 견적을 얻기 위해 소비자가 작성하여 제조업체에 보낸다. \n",
      "No Such Element..\n",
      "가격 대 성능비, 價格對性能比, cost performance //////  ////// 어떤 시스템이나 하드웨어에 대해 그것의 가격과 성능을 대비하여 평가한 것. 즉 어떤 시스템의 성능을 평가한 지수를 그것의 가격으로 나눈 것으로, 이것이 높을수록 성능이 좋고 값이 싼 시스템이 된다. \n",
      "No Such Element..\n",
      "가격 상한 규제, 價格上限規制, price cap regulation //////  ////// 규제 기관에서 물가 상승률을 감안하여 서비스 요금 인상률의 상한선을 정해 놓고 그 범위 내에서 사업자가 자유로이 결정할 수 있게 하는 공공 서비스 요금 결정 방식. 가격 상한 규제하에서 서비스 제공자는 신기술의 도입에 의한 인원 감축이나 경영 합리화를 통한 비용 절감 등 이익을 증대시키기 위한 노력이 가속된다. 이에 반해 이익 상한 규제(profit cap regulation)는 서비스의 독점권을 부여하는 대신 이익률 상한선을 정해 놓고 그 상한선을 초과만큼 요금을 인하하도록 하는 방식으로, 최대의 이익을 내려는 노력이 미흡한 단점이 있다. 가격 상한 규제는 주로 미국의 지역 전화 사업자인 LEC(local exchange carrier)를 비롯한 독점적, 비경쟁적 통신 서비스 사업자에게 적용되고 있다. \n",
      "No Such Element..\n",
      "가격 표시 시스템, 價格標示-, Price Digital Display System, PDDS //////  ////// 진열대의 상품 단가를 액정 패널로 표시하는 시스템. 온라인으로 판매 시점 관리(POS)와 연동하여 최신의 단가가 수시로 개정되어 표시되므로 진열대의 정리나 레이블의 재교체 작업이 불필요하다. \n"
     ]
    }
   ],
   "source": [
    "for page in range(1, 3) : #page\n",
    "    browser.execute_script(f'javascript:fnNavigate({page});')\n",
    "    print(f'[INFO]{page} 접근')\n",
    "    time.sleep(1)\n",
    "    elements = browser.find_elements_by_name('first_seq')\n",
    "    for element in elements :\n",
    "        word, synonym, description = find_word(element)\n",
    "        print(f\"{word} ////// {synonym} ////// {description} \")\n",
    "        #word 핸들링\n",
    "\n",
    "#수집된 데이터 DataFrame으로 만든 후 CSV 파일에 저장"
   ]
  },
  {
   "cell_type": "code",
   "execution_count": 74,
   "metadata": {},
   "outputs": [],
   "source": [
    "browser.close()"
   ]
  },
  {
   "cell_type": "code",
   "execution_count": null,
   "metadata": {},
   "outputs": [],
   "source": [
    "def prepare_download() :\n",
    "    print(\"[INFO] 사이트 이동\")\n",
    "    browser.get(URL)\n",
    "\n",
    "    #페이지 로드될 때까지 기다림 \n",
    "    chrome_wait(wait, EC.presence_of_element_located((By.CLASS_NAME, 'menu')))\n",
    "\n",
    "    #로그인 버튼 클릭\n",
    "    print(\"[INFO] 용어목록 클릭\")\n",
    "    browser.execute_script(\"fn_firstWord('ㄱ')\")\n",
    "\n",
    "  \n",
    "#---------------------------------------------------------------------------------\n",
    "    \n",
    "    #ID 입력\n",
    "    idTag = browser.find_element_by_id('id01')\n",
    "    idTag.clear()\n",
    "    idTag.send_keys(USER)\n",
    "\n",
    "    #패스워드 입력 후 엔터\n",
    "    pwTag = browser.find_element_by_id('id02')\n",
    "    pwTag.clear()\n",
    "    pwTag.send_keys(PASSWD)\n",
    "    pwTag.send_keys(Keys.RETURN)\n",
    "\n",
    "    print(\"[INFO] 로그인 정보 입력 후 로그인 시작\")\n",
    "\n",
    "    #페이지 로드될 때까지 기다림 \n",
    "    chrome_wait(wait, EC.element_to_be_clickable((By.CSS_SELECTOR, 'button.btnSearch')))\n",
    "\n",
    "\n",
    "    #검색조건 입력 후 검색버튼 클릭\n",
    "    print(\"[INFO] 검색시작\")\n",
    "    search = browser.find_element_by_id('query')\n",
    "    search.clear()\n",
    "    search.send_keys(SEARCH_WORD)\n",
    "    search.send_keys(Keys.RETURN)\n",
    "\n",
    "    #페이지 로드될 때까지 기다림 \n",
    "    chrome_wait(wait, EC.element_to_be_clickable((By.XPATH, '//li[@class=\"tabM1 \" or @class=\"tabM1 on\"]/a')))\n",
    "\n",
    "    print(\"[INFO] 국내학술논문 클릭\")\n",
    "    #국내학술논문 클릭\n",
    "    browser.find_element_by_xpath('//li[@class=\"tabM1 \" or @class=\"tabM1 on\"]/a').click()\n",
    "\n",
    "    print(\"[INFO] 100개씩 출력으로 조회\")\n",
    "    chrome_wait(wait, EC.presence_of_element_located((By.ID, 'sortSelect2_top')))\n",
    "    #100개씩 출력 선택 및 조회버튼 클릭\n",
    "    browser.find_element_by_xpath('//label[@for=\"sortSelect2_top\"]').click()\n",
    "    browser.find_element_by_xpath('//div[@class=\"optList on\"]/ul/li/a[text()=\"100개씩 출력\"]').click()\n",
    "    browser.find_element_by_css_selector('button.listSearch').click()\n",
    "\n",
    "    print(\"[INFO] 작성언어 한국어 선택 및 실행\")\n",
    "    chrome_wait(wait, EC.presence_of_element_located((By.ID, 're_a_kor70')))\n",
    "    browser.find_element_by_xpath('//label[@for=\"re_a_kor70\"]').click()\n",
    "    time.sleep(0.5)\n",
    "    browser.find_element_by_class_name(\"btnAction\").click()"
   ]
  },
  {
   "cell_type": "code",
   "execution_count": null,
   "metadata": {},
   "outputs": [],
   "source": [
    "#파일 다운로드 함수\n",
    "def download_abstract(pageIndex, wait) : \n",
    "\n",
    "    print(\"[INFO] --전체목록 선택\")\n",
    "    chrome_wait(wait, EC.element_to_be_clickable((By.XPATH, '//div[@class=\"resultTop1\"]/ul/li[1]/a')))\n",
    "\n",
    "    #전체항목 선택\n",
    "    browser.find_element_by_xpath('//label[@for=\"allchk3\"]/span').click()\n",
    "\n",
    "    print(\"[INFO] --내보내기 버튼 클릭\")\n",
    "    #내보내기 버튼 클릭\n",
    "    browser.find_element_by_xpath('//div[@class=\"resultTop1\"]/ul/li[1]/a').click()\n",
    "\n",
    "    #내보내기 팝업으로 포커스를 이동\n",
    "    for handler in browser.window_handles:\n",
    "        if handler != browser.current_window_handle :\n",
    "            browser.switch_to_window(handler)\n",
    "            break\n",
    "\n",
    "    #페이지 로드될 때까지 기다림 \n",
    "    print(\"[INFO] --다운로드 조건 선택\")\n",
    "    chrome_wait(wait, EC.element_to_be_clickable((By.CLASS_NAME, \"btnType1\")))\n",
    "\n",
    "    #다운로드 조건 선택\n",
    "    browser.find_element_by_xpath('//label[@for=\"radio-3\"]').click()\n",
    "    browser.find_element_by_xpath('//label[@for=\"radio-8\"]').click()\n",
    "    browser.find_element_by_xpath('//label[@for=\"radio-12\"]').click()\n",
    "\n",
    "    #다운로드 버튼 클릭\n",
    "    print(\"[INFO] --다운로드 시작\")\n",
    "    browser.execute_script(\"javascript:f_submit();\")\n",
    "\n",
    "    #다운로드가 완료되었는지 기다림\n",
    "    fileName = os.path.join(DOWNLOAD_DIR, \"myCabinetExcelData.xls\")\n",
    "    accumulateTime = 1;\n",
    "    while not os.path.exists(fileName) :\n",
    "        time.sleep(1)\n",
    "\n",
    "    #파일이 존재하는지 확인하고 파일명 변경\n",
    "    newFileName = os.path.join(DOWNLOAD_DIR, f\"excel\\\\abstract_{pageIndex + 1}.xls\")\n",
    "    if(os.path.isfile(fileName) and os.path.getsize(fileName) > 0) :\n",
    "        os.rename(fileName, newFileName)\n",
    "        print(\"[INFO] --다운로드 파일 확인 완료\")\n",
    "\n",
    "        #xls to csv 파일 변경\n",
    "        header = False\n",
    "        if pageIndex == 0 : \n",
    "            header = True\n",
    "        csvFilename = os.path.join(DOWNLOAD_DIR, f\"csv\\\\abstract_{pageIndex + 1}.csv\")\n",
    "        read_file = pd.read_excel(newFileName)\n",
    "        read_file.to_csv(csvFilename, index = None, header = header)\n",
    "        print(\"[INFO] --CSV 파일 변환 완료\")\n",
    "\n",
    "    else :\n",
    "        print(f\"[INFO] --다운로드 파일 확인 실패 [{newFileName}]\")\n",
    "    \n",
    "    #팝업 닫기\n",
    "    browser.close()\n",
    "    #원래 페이지로 포커스 이동\n",
    "    browser.switch_to_window(browser.window_handles[0]) \n",
    "    \n",
    "    time.sleep(1)\n",
    "    #전체 선택 해제\n",
    "    browser.find_element_by_xpath('//label[@for=\"allchk3\"]/span').click()"
   ]
  },
  {
   "cell_type": "code",
   "execution_count": null,
   "metadata": {},
   "outputs": [],
   "source": [
    "browser = create_chrome(download_path=DOWNLOAD_DIR)\n",
    "wait = WebDriverWait(browser, TIMEOUT)"
   ]
  },
  {
   "cell_type": "code",
   "execution_count": null,
   "metadata": {},
   "outputs": [],
   "source": [
    "prepare_download()"
   ]
  },
  {
   "cell_type": "code",
   "execution_count": null,
   "metadata": {
    "tags": [
     "outputPrepend"
    ]
   },
   "outputs": [],
   "source": [
    "## 페이지별로 다운로드 반복 구간\n",
    "#한페이지: 100개\n",
    "#전체자료수: 50,614개\n",
    "\n",
    "cntPerPage = 100\n",
    "totalCnt = 50614 #한국어 논문 개수\n",
    "pageCnt = totalCnt // cntPerPage + 1\n",
    "\n",
    "print(f\"총 자료: {totalCnt}\")\n",
    "print(f\"총 페이지: {pageCnt}\")\n",
    "\n",
    "#브라우저 생성 및 사이트 이동\n",
    "browser = create_chrome(download_path=DOWNLOAD_DIR)\n",
    "wait = WebDriverWait(browser, TIMEOUT)\n",
    "\n",
    "prepare_download()\n",
    "#page는 0부터 시작함\n",
    "for pageIndex in range(62, pageCnt):\n",
    "    startCnt = pageIndex * 100\n",
    "    print(f'[INFO] {pageIndex + 1} page 수집합니다( goPage({startCnt}) )')\n",
    "    if startCnt != 0 :\n",
    "        browser.execute_script(f'goPage({startCnt})')\n",
    "    download_abstract(pageIndex, wait)\n",
    "\n",
    "#브라우저 종료\n",
    "browser.close()"
   ]
  },
  {
   "cell_type": "code",
   "execution_count": null,
   "metadata": {},
   "outputs": [],
   "source": [
    "#csv 파일을 Merge \n",
    "list_of_files = [file for file in glob(f'{DOWNLOAD_DIR}\\\\csv\\\\*.csv', recursive=False)]\n",
    "result = pd.concat([pd.read_csv(file) for file in list_of_files])\n",
    "\n",
    "oneCsvFileName = os.path.join(DOWNLOAD_DIR, \"abstracts.csv\")\n",
    "result.to_csv(oneCsvFileName, index=True)\n",
    "\n",
    "#총 50,614 개"
   ]
  },
  {
   "cell_type": "code",
   "execution_count": null,
   "metadata": {},
   "outputs": [],
   "source": [
    "list_of_files = [file for file in glob(f'{DOWNLOAD_DIR}\\\\csv\\\\*.csv', recursive=False)]\n",
    "len(list_of_files)"
   ]
  },
  {
   "cell_type": "code",
   "execution_count": null,
   "metadata": {},
   "outputs": [],
   "source": []
  },
  {
   "cell_type": "code",
   "execution_count": null,
   "metadata": {},
   "outputs": [],
   "source": []
  }
 ]
}