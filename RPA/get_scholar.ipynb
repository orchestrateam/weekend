{
 "metadata": {
  "language_info": {
   "codemirror_mode": {
    "name": "ipython",
    "version": 3
   },
   "file_extension": ".py",
   "mimetype": "text/x-python",
   "name": "python",
   "nbconvert_exporter": "python",
   "pygments_lexer": "ipython3",
   "version": "3.8.5-final"
  },
  "orig_nbformat": 2,
  "kernelspec": {
   "name": "python3",
   "display_name": "Python 3",
   "language": "python"
  }
 },
 "nbformat": 4,
 "nbformat_minor": 2,
 "cells": [
  {
   "cell_type": "code",
   "execution_count": 1,
   "metadata": {},
   "outputs": [],
   "source": [
    "# 필수 라이브러리 선언\n",
    "import selenium.webdriver\n",
    "from selenium.webdriver import Chrome\n",
    "from selenium.webdriver import ChromeOptions\n",
    "from selenium.webdriver.common.keys import Keys\n",
    "from selenium.webdriver.support.ui import WebDriverWait\n",
    "from selenium.webdriver.support import expected_conditions as EC\n",
    "from selenium.webdriver.common.by import By\n",
    "from selenium.common.exceptions import TimeoutException\n",
    "\n",
    "import time\n",
    "import atexit\n",
    "import os"
   ]
  },
  {
   "cell_type": "code",
   "execution_count": 2,
   "metadata": {},
   "outputs": [],
   "source": [
    "options = ChromeOptions()\n",
    "browser = Chrome(chrome_options = options)\n",
    "browser.get(\"https://scholar.google.co.kr/schhp?hl=ko\")"
   ]
  },
  {
   "cell_type": "code",
   "execution_count": 6,
   "metadata": {},
   "outputs": [
    {
     "output_type": "stream",
     "name": "stdout",
     "text": [
      "\n   element1 = <selenium.webdriver.remote.webelement.WebElement (session=\"3697d73d0b32cabcb4af43a84f856bcc\", element=\"62b74cbf-e40e-4954-8256-9f05942fd75b\")>\n   element2 = <selenium.webdriver.remote.webelement.WebElement (session=\"3697d73d0b32cabcb4af43a84f856bcc\", element=\"62b74cbf-e40e-4954-8256-9f05942fd75b\")>\n   element3 = <selenium.webdriver.remote.webelement.WebElement (session=\"3697d73d0b32cabcb4af43a84f856bcc\", element=\"62b74cbf-e40e-4954-8256-9f05942fd75b\")>\n   element4 = <selenium.webdriver.remote.webelement.WebElement (session=\"3697d73d0b32cabcb4af43a84f856bcc\", element=\"62b74cbf-e40e-4954-8256-9f05942fd75b\")>\n   element5 = <selenium.webdriver.remote.webelement.WebElement (session=\"3697d73d0b32cabcb4af43a84f856bcc\", element=\"d15e4cb4-5bd7-4cb7-9019-bd7d0552d090\")>\n \n"
     ]
    }
   ],
   "source": [
    "#개발자 도구의 copy를 이용하자~\n",
    "\n",
    "element1 = browser.find_element_by_id(\"gs_hdr_tsi\")\n",
    "element2 = browser.find_element_by_css_selector(\"#gs_hdr_tsi\")\n",
    "element3 = browser.find_element_by_name(\"q\")\n",
    "element4 = browser.find_element_by_xpath(\"//div/input[@id='gs_hdr_tsi']\")\n",
    "\n",
    "element5 = browser.find_element_by_tag_name(\"input\")\n",
    "\n",
    "print(f\"\"\"\n",
    "   element1 = {element1}\n",
    "   element2 = {element2}\n",
    "   element3 = {element3}\n",
    "   element4 = {element4}\n",
    "   element5 = {element5}\n",
    " \"\"\")\n"
   ]
  },
  {
   "cell_type": "code",
   "execution_count": 9,
   "metadata": {},
   "outputs": [],
   "source": [
    "query = browser.find_element_by_name(\"q\")\n",
    "query.clear()\n",
    "query.send_keys(\"코로나19\")\n",
    "query.send_keys(Keys.RETURN)"
   ]
  },
  {
   "cell_type": "code",
   "execution_count": 19,
   "metadata": {},
   "outputs": [
    {
     "output_type": "stream",
     "name": "stdout",
     "text": [
      "[<selenium.webdriver.remote.webelement.WebElement (session=\"3697d73d0b32cabcb4af43a84f856bcc\", element=\"6ffa2c14-63d5-41c8-855b-8d7a64b209a8\")>, <selenium.webdriver.remote.webelement.WebElement (session=\"3697d73d0b32cabcb4af43a84f856bcc\", element=\"5a398196-b3ef-4454-a69b-c393c483ecb8\")>, <selenium.webdriver.remote.webelement.WebElement (session=\"3697d73d0b32cabcb4af43a84f856bcc\", element=\"dc881a5e-e83c-4e1a-ab38-0efef313e04e\")>, <selenium.webdriver.remote.webelement.WebElement (session=\"3697d73d0b32cabcb4af43a84f856bcc\", element=\"21cfc3c3-08d0-4783-9791-edec293e754f\")>, <selenium.webdriver.remote.webelement.WebElement (session=\"3697d73d0b32cabcb4af43a84f856bcc\", element=\"5c0b7233-44d8-482f-9674-95041e9cf1d7\")>, <selenium.webdriver.remote.webelement.WebElement (session=\"3697d73d0b32cabcb4af43a84f856bcc\", element=\"e715e260-8c72-42ec-afd6-9f76ff384746\")>, <selenium.webdriver.remote.webelement.WebElement (session=\"3697d73d0b32cabcb4af43a84f856bcc\", element=\"3d4015fb-c7f8-4f8f-87d1-80674b65c244\")>, <selenium.webdriver.remote.webelement.WebElement (session=\"3697d73d0b32cabcb4af43a84f856bcc\", element=\"999dd2e6-7239-44c1-b4c6-ba43863bd59d\")>, <selenium.webdriver.remote.webelement.WebElement (session=\"3697d73d0b32cabcb4af43a84f856bcc\", element=\"0660f1e6-c270-48b9-a8fd-3980a7f066e1\")>, <selenium.webdriver.remote.webelement.WebElement (session=\"3697d73d0b32cabcb4af43a84f856bcc\", element=\"b08ff872-e156-4fd5-8cb3-59e80ca7fa59\")>]\n-------------------------------------------------------------------------\n코로나 19 확산에 대한 국내 잠재 관광객의 감정 반응 연구: 의미론적 네트워크 분석의 활용\n코로나 19 관련 온라인 교육에 관한 국내 언론보도기사 분석\n코로나바이러스감염증-19 와 미래 질병 대응을 위한 과제\n[시론] 지역사회와 함께 하는 코로나 19 (COVID-19) 극복\n코로나 19 대응 관련 한국의 출입국 제한조치 및 국제법적 평가\n코로나-19 국면 하의 중국 일대일로 분석\n코로나 19 와 국제보건규칙의 대응: 그 한계와 문제점을 중심으로\n중국공산당의 위기관리 정치:'코로나 19'대응의 정치적 논리\n코로나 19, 여행의 미래를 바꾸다\n코로나바이러스감염증-19 사태가 회계정보 품질에 끼치는 영향에 대한 고찰\n"
     ]
    }
   ],
   "source": [
    "import re\r\n",
    "\r\n",
    "titles = browser.find_elements_by_xpath('//h3[@class=\"gs_rt\"]/a')\r\n",
    "print(titles)\r\n",
    "print('-------------------------------------------------------------------------')\r\n",
    "\r\n",
    "for title in titles:\r\n",
    "    title = title.get_attribute('innerHTML')\r\n",
    "    title = re.sub('<.+?>', '', title, re.I|re.S)\r\n",
    "\r\n",
    "    print(title)"
   ]
  },
  {
   "cell_type": "code",
   "execution_count": null,
   "metadata": {},
   "outputs": [],
   "source": []
  }
 ]
}