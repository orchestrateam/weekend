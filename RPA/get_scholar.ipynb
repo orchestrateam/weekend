{
 "metadata": {
  "language_info": {
   "codemirror_mode": {
    "name": "ipython",
    "version": 3
   },
   "file_extension": ".py",
   "mimetype": "text/x-python",
   "name": "python",
   "nbconvert_exporter": "python",
   "pygments_lexer": "ipython3",
   "version": "3.8.5-final"
  },
  "orig_nbformat": 2,
  "kernelspec": {
   "name": "python3",
   "display_name": "Python 3",
   "language": "python"
  }
 },
 "nbformat": 4,
 "nbformat_minor": 2,
 "cells": [
  {
   "cell_type": "code",
   "execution_count": 3,
   "metadata": {},
   "outputs": [],
   "source": [
    "# 필수 라이브러리 선언\n",
    "import selenium.webdriver\n",
    "from selenium.webdriver import Chrome\n",
    "from selenium.webdriver import ChromeOptions\n",
    "from selenium.webdriver.common.keys import Keys\n",
    "from selenium.webdriver.support.ui import WebDriverWait\n",
    "from selenium.webdriver.support import expected_conditions as EC\n",
    "from selenium.webdriver.common.by import By\n",
    "from selenium.common.exceptions import TimeoutException\n",
    "\n",
    "import time\n",
    "import atexit\n",
    "import os\n",
    "\n",
    "import pandas as pd"
   ]
  },
  {
   "cell_type": "code",
   "execution_count": 4,
   "metadata": {},
   "outputs": [],
   "source": [
    "options = ChromeOptions()\n",
    "browser = Chrome()\n",
    "browser.get(\"https://scholar.google.co.kr/schhp?hl=ko\")"
   ]
  },
  {
   "cell_type": "code",
   "execution_count": 5,
   "metadata": {},
   "outputs": [
    {
     "output_type": "stream",
     "name": "stdout",
     "text": [
      "\n   element1 = <selenium.webdriver.remote.webelement.WebElement (session=\"f8ffb03e2337411a60b30969f30f1c07\", element=\"c03ded6d-4045-403b-9022-eda371d75063\")>\n   element2 = <selenium.webdriver.remote.webelement.WebElement (session=\"f8ffb03e2337411a60b30969f30f1c07\", element=\"c03ded6d-4045-403b-9022-eda371d75063\")>\n   element3 = <selenium.webdriver.remote.webelement.WebElement (session=\"f8ffb03e2337411a60b30969f30f1c07\", element=\"c03ded6d-4045-403b-9022-eda371d75063\")>\n   element4 = <selenium.webdriver.remote.webelement.WebElement (session=\"f8ffb03e2337411a60b30969f30f1c07\", element=\"c03ded6d-4045-403b-9022-eda371d75063\")>\n   element5 = <selenium.webdriver.remote.webelement.WebElement (session=\"f8ffb03e2337411a60b30969f30f1c07\", element=\"4eba6b82-807b-4b43-9584-11c9af2654d4\")>\n \n"
     ]
    }
   ],
   "source": [
    "#개발자 도구의 copy를 이용하자~\n",
    "\n",
    "element1 = browser.find_element_by_id(\"gs_hdr_tsi\")\n",
    "element2 = browser.find_element_by_css_selector(\"#gs_hdr_tsi\")\n",
    "element3 = browser.find_element_by_name(\"q\")\n",
    "element4 = browser.find_element_by_xpath(\"//div/input[@id='gs_hdr_tsi']\")\n",
    "\n",
    "element5 = browser.find_element_by_tag_name(\"input\")\n",
    "\n",
    "'#gs_hdr_tsi'\n",
    "\n",
    "print(f\"\"\"\n",
    "   element1 = {element1}\n",
    "   element2 = {element2}\n",
    "   element3 = {element3}\n",
    "   element4 = {element4}\n",
    "   element5 = {element5}\n",
    " \"\"\")\n"
   ]
  },
  {
   "cell_type": "code",
   "execution_count": 6,
   "metadata": {},
   "outputs": [],
   "source": [
    "query = browser.find_element_by_name(\"q\")\n",
    "query.clear()\n",
    "query.send_keys(\"코로나19\")\n",
    "query.send_keys(Keys.RETURN)"
   ]
  },
  {
   "cell_type": "code",
   "execution_count": null,
   "metadata": {},
   "outputs": [],
   "source": [
    "import re\r\n",
    "\r\n",
    "titles = browser.find_elements_by_xpath('//h3[@class=\"gs_rt\"]/a')\r\n",
    "print(titles)\r\n",
    "print('-------------------------------------------------------------------------')\r\n",
    "\r\n",
    "for title in titles:\r\n",
    "    title = title.get_attribute('innerHTML')\r\n",
    "    title = re.sub('<.+?>', '', title, re.I|re.S)\r\n",
    "\r\n",
    "    print(title)"
   ]
  },
  {
   "cell_type": "code",
   "execution_count": null,
   "metadata": {},
   "outputs": [],
   "source": [
    "#배재대학교 \n",
    "expression_kor = \"<.*[ㄱ-ㅎㅏ-ㅣ가-힣]+.*>\"; #한글이 포함된 태그 찾는 정규식 , 문제는 태그 안에 태그가 있으면 안에 있는 태그를 선택한다는 것~\n",
    "expression_eng = \"<.*>.*[a-zA-Z]+.*<\\/.*>\""
   ]
  }
 ]
}