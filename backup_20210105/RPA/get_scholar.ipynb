{
 "metadata": {
  "language_info": {
   "codemirror_mode": {
    "name": "ipython",
    "version": 3
   },
   "file_extension": ".py",
   "mimetype": "text/x-python",
   "name": "python",
   "nbconvert_exporter": "python",
   "pygments_lexer": "ipython3",
   "version": "3.8.5-final"
  },
  "orig_nbformat": 2,
  "kernelspec": {
   "name": "python3",
   "display_name": "Python 3",
   "language": "python"
  }
 },
 "nbformat": 4,
 "nbformat_minor": 2,
 "cells": [
  {
   "cell_type": "code",
   "execution_count": 3,
   "metadata": {},
   "outputs": [],
   "source": [
    "# 필수 라이브러리 선언\n",
    "import selenium.webdriver\n",
    "from selenium.webdriver import Chrome\n",
    "from selenium.webdriver import ChromeOptions\n",
    "from selenium.webdriver.common.keys import Keys\n",
    "from selenium.webdriver.support.ui import WebDriverWait\n",
    "from selenium.webdriver.support import expected_conditions as EC\n",
    "from selenium.webdriver.common.by import By\n",
    "from selenium.common.exceptions import TimeoutException\n",
    "\n",
    "import time\n",
    "import atexit\n",
    "import os\n",
    "\n",
    "import pandas as pd"
   ]
  },
  {
   "cell_type": "code",
   "execution_count": 4,
   "metadata": {},
   "outputs": [],
   "source": [
    "options = ChromeOptions()\n",
    "browser = Chrome()\n",
    "browser.get(\"https://scholar.google.co.kr/schhp?hl=ko\")"
   ]
  },
  {
   "cell_type": "code",
   "execution_count": 5,
   "metadata": {},
   "outputs": [
    {
     "output_type": "stream",
     "name": "stdout",
     "text": [
<<<<<<< HEAD
      "\n   element1 = <selenium.webdriver.remote.webelement.WebElement (session=\"58365f2e6b06d82695425f17aa6d24bc\", element=\"f067c5ec-78f8-4555-bbde-91477a05c77e\")>\n   element2 = <selenium.webdriver.remote.webelement.WebElement (session=\"58365f2e6b06d82695425f17aa6d24bc\", element=\"f067c5ec-78f8-4555-bbde-91477a05c77e\")>\n   element3 = <selenium.webdriver.remote.webelement.WebElement (session=\"58365f2e6b06d82695425f17aa6d24bc\", element=\"f067c5ec-78f8-4555-bbde-91477a05c77e\")>\n   element4 = <selenium.webdriver.remote.webelement.WebElement (session=\"58365f2e6b06d82695425f17aa6d24bc\", element=\"f067c5ec-78f8-4555-bbde-91477a05c77e\")>\n   element5 = <selenium.webdriver.remote.webelement.WebElement (session=\"58365f2e6b06d82695425f17aa6d24bc\", element=\"8ce20bfd-8eea-4553-810b-8f92fec727ad\")>\n \n"
=======
      "\n   element1 = <selenium.webdriver.remote.webelement.WebElement (session=\"f8ffb03e2337411a60b30969f30f1c07\", element=\"c03ded6d-4045-403b-9022-eda371d75063\")>\n   element2 = <selenium.webdriver.remote.webelement.WebElement (session=\"f8ffb03e2337411a60b30969f30f1c07\", element=\"c03ded6d-4045-403b-9022-eda371d75063\")>\n   element3 = <selenium.webdriver.remote.webelement.WebElement (session=\"f8ffb03e2337411a60b30969f30f1c07\", element=\"c03ded6d-4045-403b-9022-eda371d75063\")>\n   element4 = <selenium.webdriver.remote.webelement.WebElement (session=\"f8ffb03e2337411a60b30969f30f1c07\", element=\"c03ded6d-4045-403b-9022-eda371d75063\")>\n   element5 = <selenium.webdriver.remote.webelement.WebElement (session=\"f8ffb03e2337411a60b30969f30f1c07\", element=\"4eba6b82-807b-4b43-9584-11c9af2654d4\")>\n \n"
>>>>>>> 5063525b1b704613107b74f1f4047b2cf83f3bbd
     ]
    }
   ],
   "source": [
    "#개발자 도구의 copy를 이용하자~\n",
    "\n",
    "element1 = browser.find_element_by_id(\"gs_hdr_tsi\")\n",
    "element2 = browser.find_element_by_css_selector(\"#gs_hdr_tsi\")\n",
    "element3 = browser.find_element_by_name(\"q\")\n",
    "element4 = browser.find_element_by_xpath(\"//div/input[@id='gs_hdr_tsi']\")\n",
    "\n",
    "element5 = browser.find_element_by_tag_name(\"input\")\n",
    "\n",
    "'#gs_hdr_tsi'\n",
    "\n",
    "print(f\"\"\"\n",
    "   element1 = {element1}\n",
    "   element2 = {element2}\n",
    "   element3 = {element3}\n",
    "   element4 = {element4}\n",
    "   element5 = {element5}\n",
    " \"\"\")\n"
   ]
  },
  {
   "cell_type": "code",
   "execution_count": 6,
   "metadata": {},
   "outputs": [],
   "source": [
    "query = browser.find_element_by_name(\"q\")\n",
    "query.clear()\n",
    "query.send_keys(\"코로나19\")\n",
    "query.send_keys(Keys.RETURN)"
   ]
  },
  {
   "cell_type": "code",
<<<<<<< HEAD
   "execution_count": 7,
   "metadata": {},
   "outputs": [
    {
     "output_type": "stream",
     "name": "stdout",
     "text": [
      "[<selenium.webdriver.remote.webelement.WebElement (session=\"58365f2e6b06d82695425f17aa6d24bc\", element=\"b0b23fd4-4afd-4faf-ae5d-a358b22c09a2\")>, <selenium.webdriver.remote.webelement.WebElement (session=\"58365f2e6b06d82695425f17aa6d24bc\", element=\"507c1435-7519-4743-af6d-68c2b5d99434\")>, <selenium.webdriver.remote.webelement.WebElement (session=\"58365f2e6b06d82695425f17aa6d24bc\", element=\"696011bb-fca3-4dbd-a884-4e2d2cc95b77\")>, <selenium.webdriver.remote.webelement.WebElement (session=\"58365f2e6b06d82695425f17aa6d24bc\", element=\"9a0086c7-8666-47a7-8681-32a1c2d700d0\")>, <selenium.webdriver.remote.webelement.WebElement (session=\"58365f2e6b06d82695425f17aa6d24bc\", element=\"60e32ea1-db15-46d0-9d90-ddac85558fc3\")>, <selenium.webdriver.remote.webelement.WebElement (session=\"58365f2e6b06d82695425f17aa6d24bc\", element=\"8d59687b-a93f-4503-8aea-a8298ae7be12\")>, <selenium.webdriver.remote.webelement.WebElement (session=\"58365f2e6b06d82695425f17aa6d24bc\", element=\"5851917a-984f-42d0-ab86-6b3adbd16184\")>, <selenium.webdriver.remote.webelement.WebElement (session=\"58365f2e6b06d82695425f17aa6d24bc\", element=\"2f755071-02ce-47e3-a42f-e09434ff93df\")>, <selenium.webdriver.remote.webelement.WebElement (session=\"58365f2e6b06d82695425f17aa6d24bc\", element=\"9a8fda7c-1542-4dba-a7b9-c1f0b54996ab\")>, <selenium.webdriver.remote.webelement.WebElement (session=\"58365f2e6b06d82695425f17aa6d24bc\", element=\"287a386f-fccf-49ae-9564-80e1ba27c237\")>]\n",
      "-------------------------------------------------------------------------\n",
      "코로나 19 확산에 대한 국내 잠재 관광객의 감정 반응 연구: 의미론적 네트워크 분석의 활용\n",
      "코로나 19 관련 온라인 교육에 관한 국내 언론보도기사 분석\n",
      "[시론] 지역사회와 함께 하는 코로나 19 (COVID-19) 극복\n",
      "코로나 19 대응 관련 한국의 출입국 제한조치 및 국제법적 평가\n",
      "코로나-19 국면 하의 중국 일대일로 분석\n",
      "코로나 19 와 국제보건규칙의 대응: 그 한계와 문제점을 중심으로\n",
      "중국공산당의 위기관리 정치:'코로나 19'대응의 정치적 논리\n",
      "코로나 19, 여행의 미래를 바꾸다\n",
      "코로나바이러스감염증-19 사태가 회계정보 품질에 끼치는 영향에 대한 고찰\n",
      "코로나 19 팬데믹 (pandemic) 과 복지국가의 정치경제학: 위기 이후 복지국가의 길 '들'\n"
     ]
    }
   ],
=======
   "execution_count": null,
   "metadata": {},
   "outputs": [],
>>>>>>> 5063525b1b704613107b74f1f4047b2cf83f3bbd
   "source": [
    "import re\r\n",
    "\r\n",
    "titles = browser.find_elements_by_xpath('//h3[@class=\"gs_rt\"]/a')\r\n",
    "print(titles)\r\n",
    "print('-------------------------------------------------------------------------')\r\n",
    "\r\n",
    "for title in titles:\r\n",
    "    title = title.get_attribute('innerHTML')\r\n",
    "    title = re.sub('<.+?>', '', title, re.I|re.S)\r\n",
    "\r\n",
    "    print(title)"
   ]
  },
  {
   "cell_type": "code",
   "execution_count": null,
   "metadata": {},
   "outputs": [],
   "source": [
    "#배재대학교 \n",
    "expression_kor = \"<.*[ㄱ-ㅎㅏ-ㅣ가-힣]+.*>\"; #한글이 포함된 태그 찾는 정규식 , 문제는 태그 안에 태그가 있으면 안에 있는 태그를 선택한다는 것~\n",
    "expression_eng = \"<.*>.*[a-zA-Z]+.*<\\/.*>\""
   ]
  }
 ]
}