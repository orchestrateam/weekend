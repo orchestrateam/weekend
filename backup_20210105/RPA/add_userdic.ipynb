{
 "metadata": {
  "language_info": {
   "codemirror_mode": {
    "name": "ipython",
    "version": 3
   },
   "file_extension": ".py",
   "mimetype": "text/x-python",
   "name": "python",
   "nbconvert_exporter": "python",
   "pygments_lexer": "ipython3",
   "version": "3.8.5-final"
  },
  "orig_nbformat": 2,
  "kernelspec": {
   "name": "python3",
   "display_name": "Python 3",
   "language": "python"
  }
 },
 "nbformat": 4,
 "nbformat_minor": 2,
 "cells": [
  {
   "cell_type": "code",
   "execution_count": 1,
   "metadata": {},
   "outputs": [],
   "source": [
    "import os\n",
    "import pandas as pd\n",
    "import numpy as np\n",
    "import re"
   ]
  },
  {
   "cell_type": "code",
   "execution_count": 2,
   "metadata": {},
   "outputs": [],
   "source": [
    "#tta = pd.read_csv(\"./dictionary/tta_dictionary.csv\")\n",
    "tta = pd.read_csv(\"../dataset/keyword_2.csv\")"
   ]
  },
  {
   "cell_type": "code",
   "execution_count": 3,
   "metadata": {},
   "outputs": [
    {
     "output_type": "stream",
     "name": "stdout",
     "text": [
      "<class 'pandas.core.frame.DataFrame'>\nRangeIndex: 105685 entries, 0 to 105684\nData columns (total 1 columns):\n #   Column   Non-Null Count   Dtype \n---  ------   --------------   ----- \n 0   keyword  105685 non-null  object\ndtypes: object(1)\nmemory usage: 825.8+ KB\n"
     ]
    }
   ],
   "source": [
    "tta.info()"
   ]
  },
  {
   "cell_type": "code",
   "execution_count": 182,
   "metadata": {},
   "outputs": [
    {
     "output_type": "stream",
     "name": "stdout",
     "text": [
      "<re.Match object; span=(0, 14), match='한글 키워드 서비스 J#,'>\n"
     ]
    }
   ],
   "source": [
    "x = \"한글 키워드 서비스 J#,\"\n",
    "p = re.compile(\".*[ㄱ-ㅎㅏ-ㅣ가-힣]+[+|#]{0,2},|.*[ㄱ-ㅎㅏ-ㅣ가-힣]+[\\s|-]?\\w{0,5}[.|-]?\\w{0,5}[+|#]{0,2},|.*[(]?[ㄱ-ㅎㅏ-ㅣ가-힣|\\w]+\\s?[)]?[\\s|-]?\\w{0,5}[.|-]?\\w{0,5}[+|#]{0,2},\")\n",
    "\n",
    "# .*[ㄱ-ㅎㅏ-ㅣ가-힣]+[+|#]{0,2},|\n",
    "# .*[ㄱ-ㅎㅏ-ㅣ가-힣]+\\s?[-]?\\w{0,5}[.]?[-]?\\w{0,5}[+]{0,2}[+|#]{0,2},|\n",
    "# .*[(]?[ㄱ-ㅎㅏ-ㅣ가-힣]+\\s?[)]?[-]?\\w{0,5}[.]?[-]?\\w{0,5}[+|#]{0,2},\n",
    "\n",
    "# .*[ㄱ-ㅎㅏ-ㅣ가-힣]+,|\n",
    "# .*[ㄱ-ㅎㅏ-ㅣ가-힣]+[\\s|-]?\\w{0,5}[.|-]?\\w{0,5},|\n",
    "# .*[(]?[ㄱ-ㅎㅏ-ㅣ가-힣|\\w]+\\s?[)]?[\\s|-]?\\w{0,5}[.|-]?\\w{0,5},\n",
    "\n",
    "\n",
    "print(p.search(x))"
   ]
  },
  {
   "cell_type": "code",
   "execution_count": 183,
   "metadata": {},
   "outputs": [
    {
     "output_type": "execute_result",
     "data": {
      "text/plain": [
       "'항성 회전 주기(공간 물체의), 恒星回轉週期(空間物體-'"
      ]
     },
     "metadata": {},
     "execution_count": 183
    }
   ],
   "source": [
    "match = '항성 회전 주기(공간 물체의), 恒星回轉週期(空間物體-)'\r\n",
    "match[:-1]"
   ]
  },
  {
   "cell_type": "code",
   "execution_count": 218,
   "metadata": {},
   "outputs": [],
   "source": [
    "def search_word(x) :\n",
    "    p = re.compile(\".*[ㄱ-ㅎㅏ-ㅣ가-힣]+[+|#]{0,2},|.*[ㄱ-ㅎㅏ-ㅣ가-힣]+[\\s|-]?\\w{0,5}[.|-]?\\w{0,5}[+|#]{0,2},|.*[(]?[ㄱ-ㅎㅏ-ㅣ가-힣|\\w]+\\s?[)]?[\\s|-]?\\w{0,5}[.|-]?\\w{0,5}[+|#]{0,2},\")\n",
    "    match = p.search(x)\n",
    "    if match != None :\n",
    "        word = match.group()\n",
    "        return word[:-1]\n",
    "    else :\n",
    "        return None\n"
   ]
  },
  {
   "cell_type": "code",
   "execution_count": 223,
   "metadata": {},
   "outputs": [],
   "source": [
    "tta['한글용어'] = tta['용어'].apply(lambda x : search_word(x))"
   ]
  },
  {
   "cell_type": "code",
   "execution_count": 236,
   "metadata": {},
   "outputs": [],
   "source": [
    "korean = tta.loc[:, ['한글용어']]\n",
    "korean.to_csv('./dictionary/words.csv', index=False, encoding=\"utf-8\")"
   ]
  },
  {
   "cell_type": "code",
   "execution_count": 4,
   "metadata": {},
   "outputs": [
    {
     "output_type": "execute_result",
     "data": {
      "text/plain": [
       "       keyword\n",
       "0         내연기관\n",
       "1          에너지\n",
       "2           환경\n",
       "3         오염물질\n",
       "4  수소 연료전지 자동차"
      ],
      "text/html": "<div>\n<style scoped>\n    .dataframe tbody tr th:only-of-type {\n        vertical-align: middle;\n    }\n\n    .dataframe tbody tr th {\n        vertical-align: top;\n    }\n\n    .dataframe thead th {\n        text-align: right;\n    }\n</style>\n<table border=\"1\" class=\"dataframe\">\n  <thead>\n    <tr style=\"text-align: right;\">\n      <th></th>\n      <th>keyword</th>\n    </tr>\n  </thead>\n  <tbody>\n    <tr>\n      <th>0</th>\n      <td>내연기관</td>\n    </tr>\n    <tr>\n      <th>1</th>\n      <td>에너지</td>\n    </tr>\n    <tr>\n      <th>2</th>\n      <td>환경</td>\n    </tr>\n    <tr>\n      <th>3</th>\n      <td>오염물질</td>\n    </tr>\n    <tr>\n      <th>4</th>\n      <td>수소 연료전지 자동차</td>\n    </tr>\n  </tbody>\n</table>\n</div>"
     },
     "metadata": {},
     "execution_count": 4
    }
   ],
   "source": [
    "tta.head()"
   ]
  },
  {
   "cell_type": "code",
   "execution_count": 5,
   "metadata": {
    "tags": []
   },
   "outputs": [],
   "source": [
    "words = pd.read_csv('./dictionary/words.csv', )"
   ]
  },
  {
   "cell_type": "code",
   "execution_count": 5,
   "metadata": {},
   "outputs": [],
   "source": [
    "#마지막 문자의 마침을 가지고 있는지 여부\n",
    "def checkTrait(c):\n",
    "    return (int((ord(c) - 0xAC00) % 28) != 0)"
   ]
  },
  {
   "cell_type": "code",
   "execution_count": 6,
   "metadata": {},
   "outputs": [],
   "source": [
    "tags = []\n",
    "#for word in words['한글용어'].tolist() :\n",
    "for word in tta['keyword'].tolist() :\n",
    "    #구글,,,,NNP,*,T,구글,*,*,*,*,*\n",
    "    line  = [word, '', '', '', 'NNG', '*', checkTrait(word[-1]) and 'T' or 'F', word, '*', '*', '*', '*', '*']\n",
    "    tags.append(line) "
   ]
  },
  {
   "cell_type": "code",
   "execution_count": 7,
   "metadata": {},
   "outputs": [],
   "source": [
    "df = pd.DataFrame(tags)\n",
    "df.head()\n",
    "df.to_csv('./dictionary/nnp_keyword.csv', encoding='utf-8', index=False)"
   ]
  },
  {
   "cell_type": "code",
   "execution_count": 214,
   "metadata": {},
   "outputs": [
    {
     "output_type": "execute_result",
     "data": {
      "text/plain": [
       "True"
      ]
     },
     "metadata": {},
     "execution_count": 214
    }
   ],
   "source": [
    "checkTrait(\"우\")"
   ]
  },
  {
   "cell_type": "code",
   "execution_count": null,
   "metadata": {},
   "outputs": [],
   "source": [
    "글"
   ]
  },
  {
   "cell_type": "code",
   "execution_count": null,
   "metadata": {},
   "outputs": [],
   "source": []
  }
 ]
}